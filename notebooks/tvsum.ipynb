{
 "cells": [
  {
   "cell_type": "code",
   "execution_count": 1,
   "metadata": {},
   "outputs": [
    {
     "name": "stdout",
     "output_type": "stream",
     "text": [
      "80\n"
     ]
    }
   ],
   "source": [
    "!pip3 freeze | wc -l"
   ]
  },
  {
   "cell_type": "code",
   "execution_count": 2,
   "metadata": {},
   "outputs": [],
   "source": [
    "import pandas as pd"
   ]
  },
  {
   "cell_type": "code",
   "execution_count": 3,
   "metadata": {},
   "outputs": [],
   "source": [
    "path_info = \"/data/shuaman/video_summarization/datasets/raw_datasets/TVsum/ydata-tvsum50-v1_1/data/ydata-tvsum50-info.tsv\"\n",
    "path_ant = \"/data/shuaman/video_summarization/datasets/raw_datasets/TVsum/ydata-tvsum50-v1_1/data/ydata-tvsum50-anno.tsv\""
   ]
  },
  {
   "cell_type": "code",
   "execution_count": 4,
   "metadata": {},
   "outputs": [],
   "source": [
    "df_ant = pd.read_csv(path_ant, sep='\\t', names=[\"video_id\", \"category\", \"score\"])"
   ]
  },
  {
   "cell_type": "code",
   "execution_count": 5,
   "metadata": {},
   "outputs": [
    {
     "data": {
      "text/plain": [
       "(1000, 3)"
      ]
     },
     "execution_count": 5,
     "metadata": {},
     "output_type": "execute_result"
    }
   ],
   "source": [
    "df_ant.shape"
   ]
  },
  {
   "cell_type": "code",
   "execution_count": 6,
   "metadata": {},
   "outputs": [
    {
     "data": {
      "text/html": [
       "<div>\n",
       "<style scoped>\n",
       "    .dataframe tbody tr th:only-of-type {\n",
       "        vertical-align: middle;\n",
       "    }\n",
       "\n",
       "    .dataframe tbody tr th {\n",
       "        vertical-align: top;\n",
       "    }\n",
       "\n",
       "    .dataframe thead th {\n",
       "        text-align: right;\n",
       "    }\n",
       "</style>\n",
       "<table border=\"1\" class=\"dataframe\">\n",
       "  <thead>\n",
       "    <tr style=\"text-align: right;\">\n",
       "      <th></th>\n",
       "      <th>video_id</th>\n",
       "      <th>category</th>\n",
       "      <th>score</th>\n",
       "    </tr>\n",
       "  </thead>\n",
       "  <tbody>\n",
       "    <tr>\n",
       "      <th>0</th>\n",
       "      <td>AwmHb44_ouw</td>\n",
       "      <td>VT</td>\n",
       "      <td>4,4,4,4,4,4,4,4,4,4,4,4,4,4,4,4,4,4,4,4,4,4,4,...</td>\n",
       "    </tr>\n",
       "    <tr>\n",
       "      <th>1</th>\n",
       "      <td>AwmHb44_ouw</td>\n",
       "      <td>VT</td>\n",
       "      <td>2,2,2,2,2,2,2,2,2,2,2,2,2,2,2,2,2,2,2,2,2,2,2,...</td>\n",
       "    </tr>\n",
       "    <tr>\n",
       "      <th>2</th>\n",
       "      <td>AwmHb44_ouw</td>\n",
       "      <td>VT</td>\n",
       "      <td>3,3,3,3,3,3,3,3,3,3,3,3,3,3,3,3,3,3,3,3,3,3,3,...</td>\n",
       "    </tr>\n",
       "    <tr>\n",
       "      <th>3</th>\n",
       "      <td>AwmHb44_ouw</td>\n",
       "      <td>VT</td>\n",
       "      <td>4,4,4,4,4,4,4,4,4,4,4,4,4,4,4,4,4,4,4,4,4,4,4,...</td>\n",
       "    </tr>\n",
       "    <tr>\n",
       "      <th>4</th>\n",
       "      <td>AwmHb44_ouw</td>\n",
       "      <td>VT</td>\n",
       "      <td>2,2,2,2,2,2,2,2,2,2,2,2,2,2,2,2,2,2,2,2,2,2,2,...</td>\n",
       "    </tr>\n",
       "  </tbody>\n",
       "</table>\n",
       "</div>"
      ],
      "text/plain": [
       "      video_id category                                              score\n",
       "0  AwmHb44_ouw       VT  4,4,4,4,4,4,4,4,4,4,4,4,4,4,4,4,4,4,4,4,4,4,4,...\n",
       "1  AwmHb44_ouw       VT  2,2,2,2,2,2,2,2,2,2,2,2,2,2,2,2,2,2,2,2,2,2,2,...\n",
       "2  AwmHb44_ouw       VT  3,3,3,3,3,3,3,3,3,3,3,3,3,3,3,3,3,3,3,3,3,3,3,...\n",
       "3  AwmHb44_ouw       VT  4,4,4,4,4,4,4,4,4,4,4,4,4,4,4,4,4,4,4,4,4,4,4,...\n",
       "4  AwmHb44_ouw       VT  2,2,2,2,2,2,2,2,2,2,2,2,2,2,2,2,2,2,2,2,2,2,2,..."
      ]
     },
     "execution_count": 6,
     "metadata": {},
     "output_type": "execute_result"
    }
   ],
   "source": [
    "df_ant.head(5)"
   ]
  },
  {
   "cell_type": "code",
   "execution_count": 7,
   "metadata": {},
   "outputs": [],
   "source": [
    "df_info = pd.read_csv(path_info, sep='\\t')"
   ]
  },
  {
   "cell_type": "code",
   "execution_count": 8,
   "metadata": {},
   "outputs": [
    {
     "data": {
      "text/plain": [
       "(50, 5)"
      ]
     },
     "execution_count": 8,
     "metadata": {},
     "output_type": "execute_result"
    }
   ],
   "source": [
    "df_info.shape"
   ]
  },
  {
   "cell_type": "code",
   "execution_count": 9,
   "metadata": {},
   "outputs": [
    {
     "data": {
      "text/html": [
       "<div>\n",
       "<style scoped>\n",
       "    .dataframe tbody tr th:only-of-type {\n",
       "        vertical-align: middle;\n",
       "    }\n",
       "\n",
       "    .dataframe tbody tr th {\n",
       "        vertical-align: top;\n",
       "    }\n",
       "\n",
       "    .dataframe thead th {\n",
       "        text-align: right;\n",
       "    }\n",
       "</style>\n",
       "<table border=\"1\" class=\"dataframe\">\n",
       "  <thead>\n",
       "    <tr style=\"text-align: right;\">\n",
       "      <th></th>\n",
       "      <th>category</th>\n",
       "      <th>video_id</th>\n",
       "      <th>title</th>\n",
       "      <th>url</th>\n",
       "      <th>length</th>\n",
       "    </tr>\n",
       "  </thead>\n",
       "  <tbody>\n",
       "    <tr>\n",
       "      <th>0</th>\n",
       "      <td>VT</td>\n",
       "      <td>AwmHb44_ouw</td>\n",
       "      <td>#1306 How to change tires for off road vehicle...</td>\n",
       "      <td>https://www.youtube.com/watch?v=AwmHb44_ouw</td>\n",
       "      <td>5:54</td>\n",
       "    </tr>\n",
       "    <tr>\n",
       "      <th>1</th>\n",
       "      <td>VT</td>\n",
       "      <td>98MoyGZKHXc</td>\n",
       "      <td>How to use a tyre repair kit - Which? guide</td>\n",
       "      <td>https://www.youtube.com/watch?v=98MoyGZKHXc</td>\n",
       "      <td>3:07</td>\n",
       "    </tr>\n",
       "    <tr>\n",
       "      <th>2</th>\n",
       "      <td>VT</td>\n",
       "      <td>J0nA4VgnoCo</td>\n",
       "      <td>#0001: FLAT TIRE</td>\n",
       "      <td>https://www.youtube.com/watch?v=J0nA4VgnoCo</td>\n",
       "      <td>9:44</td>\n",
       "    </tr>\n",
       "    <tr>\n",
       "      <th>3</th>\n",
       "      <td>VT</td>\n",
       "      <td>gzDbaEs1Rlg</td>\n",
       "      <td>ŠKODA Tips How to Repair Your Tyre</td>\n",
       "      <td>https://www.youtube.com/watch?v=gzDbaEs1Rlg</td>\n",
       "      <td>4:48</td>\n",
       "    </tr>\n",
       "    <tr>\n",
       "      <th>4</th>\n",
       "      <td>VT</td>\n",
       "      <td>XzYM3PfTM4w</td>\n",
       "      <td>When to Replace Your Tires GMC</td>\n",
       "      <td>https://www.youtube.com/watch?v=XzYM3PfTM4w</td>\n",
       "      <td>1:51</td>\n",
       "    </tr>\n",
       "  </tbody>\n",
       "</table>\n",
       "</div>"
      ],
      "text/plain": [
       "  category     video_id                                              title  \\\n",
       "0       VT  AwmHb44_ouw  #1306 How to change tires for off road vehicle...   \n",
       "1       VT  98MoyGZKHXc        How to use a tyre repair kit - Which? guide   \n",
       "2       VT  J0nA4VgnoCo                                   #0001: FLAT TIRE   \n",
       "3       VT  gzDbaEs1Rlg                 ŠKODA Tips How to Repair Your Tyre   \n",
       "4       VT  XzYM3PfTM4w                     When to Replace Your Tires GMC   \n",
       "\n",
       "                                           url length  \n",
       "0  https://www.youtube.com/watch?v=AwmHb44_ouw   5:54  \n",
       "1  https://www.youtube.com/watch?v=98MoyGZKHXc   3:07  \n",
       "2  https://www.youtube.com/watch?v=J0nA4VgnoCo   9:44  \n",
       "3  https://www.youtube.com/watch?v=gzDbaEs1Rlg   4:48  \n",
       "4  https://www.youtube.com/watch?v=XzYM3PfTM4w   1:51  "
      ]
     },
     "execution_count": 9,
     "metadata": {},
     "output_type": "execute_result"
    }
   ],
   "source": [
    "df_info.head(5)"
   ]
  },
  {
   "cell_type": "code",
   "execution_count": 10,
   "metadata": {},
   "outputs": [],
   "source": [
    "import h5py"
   ]
  },
  {
   "cell_type": "code",
   "execution_count": 11,
   "metadata": {},
   "outputs": [],
   "source": [
    "import scipy.io"
   ]
  },
  {
   "cell_type": "code",
   "execution_count": 12,
   "metadata": {},
   "outputs": [],
   "source": [
    "# path_just_generated = \"/home/shuaman/video_sm/video_summarization/src/eccv16_dataset_tvsum_google_pool5.h5\"\n",
    "path_just_generated = \"/home/shuaman/video_sm/video_summarization/src/dataset_tvsum_processed.h5\""
   ]
  },
  {
   "cell_type": "code",
   "execution_count": 13,
   "metadata": {},
   "outputs": [],
   "source": [
    "#Air_Force_One_data = h5py.File(path_just_generated, 'r')['video_1']\n",
    "data_all_tvsum_mine = h5py.File(path_just_generated, 'r')"
   ]
  },
  {
   "cell_type": "code",
   "execution_count": 14,
   "metadata": {},
   "outputs": [],
   "source": [
    "#path_data_preprocessd = \"/data/shuaman/video_summarization/datasets/dsnet/datasets/eccv16_dataset_summe_google_pool5.h5\"\n",
    "path_data_preprocessd = \"/data/shuaman/video_summarization/datasets/object_features/eccv16_dataset_tvsum_google_pool5.h5\""
   ]
  },
  {
   "cell_type": "code",
   "execution_count": 15,
   "metadata": {},
   "outputs": [],
   "source": [
    "data_all_tvsum = h5py.File(path_data_preprocessd, 'r')"
   ]
  },
  {
   "cell_type": "code",
   "execution_count": 16,
   "metadata": {},
   "outputs": [
    {
     "name": "stdout",
     "output_type": "stream",
     "text": [
      "video 1 comparison\n",
      "video name mine b'AwmHb44_ouw'\n",
      "Everything is perfect\n",
      "\n",
      "video 2 comparison\n",
      "video name mine b'98MoyGZKHXc'\n",
      "Everything is perfect\n",
      "\n",
      "video 3 comparison\n",
      "video name mine b'J0nA4VgnoCo'\n",
      "Everything is perfect\n",
      "\n",
      "video 4 comparison\n",
      "video name mine b'gzDbaEs1Rlg'\n",
      "Everything is perfect\n",
      "\n",
      "video 5 comparison\n",
      "video name mine b'XzYM3PfTM4w'\n",
      "Everything is perfect\n",
      "\n",
      "video 6 comparison\n",
      "video name mine b'HT5vyqe0Xaw'\n",
      "Everything is perfect\n",
      "\n",
      "video 7 comparison\n",
      "video name mine b'sTEELN-vY30'\n",
      "Everything is perfect\n",
      "\n",
      "video 8 comparison\n",
      "video name mine b'vdmoEJ5YbrQ'\n",
      "Everything is perfect\n",
      "\n",
      "video 9 comparison\n",
      "video name mine b'xwqBXPGE9pQ'\n",
      "Everything is perfect\n",
      "\n",
      "video 10 comparison\n",
      "video name mine b'akI8YFjEmUw'\n",
      "Everything is perfect\n",
      "\n",
      "video 11 comparison\n",
      "video name mine b'i3wAGJaaktw'\n",
      "Everything is perfect\n",
      "\n",
      "video 12 comparison\n",
      "video name mine b'Bhxk-O1Y7Ho'\n",
      "Everything is perfect\n",
      "\n",
      "video 13 comparison\n",
      "video name mine b'0tmA_C6XwfM'\n",
      "Everything is perfect\n",
      "\n",
      "video 14 comparison\n",
      "video name mine b'3eYKfiOEJNs'\n",
      "Everything is perfect\n",
      "\n",
      "video 15 comparison\n",
      "video name mine b'xxdtq8mxegs'\n",
      "Everything is perfect\n",
      "\n",
      "video 16 comparison\n",
      "video name mine b'WG0MBPpPC6I'\n",
      "Everything is perfect\n",
      "\n",
      "video 17 comparison\n",
      "video name mine b'Hl-__g2gn_A'\n",
      "Everything is perfect\n",
      "\n",
      "video 18 comparison\n",
      "video name mine b'Yi4Ij2NM7U4'\n",
      "Everything is perfect\n",
      "\n",
      "video 19 comparison\n",
      "video name mine b'37rzWOQsNIw'\n",
      "Everything is perfect\n",
      "\n",
      "video 20 comparison\n",
      "video name mine b'LRw_obCPUt0'\n",
      "Everything is perfect\n",
      "\n",
      "video 21 comparison\n",
      "video name mine b'cjibtmSLxQ4'\n",
      "Everything is perfect\n",
      "\n",
      "video 22 comparison\n",
      "video name mine b'b626MiF1ew4'\n",
      "Everything is perfect\n",
      "\n",
      "video 23 comparison\n",
      "video name mine b'XkqCExn6_Us'\n",
      "Everything is perfect\n",
      "\n",
      "video 24 comparison\n",
      "video name mine b'GsAD1KT1xo8'\n",
      "Everything is perfect\n",
      "\n",
      "video 25 comparison\n",
      "video name mine b'PJrm840pAUI'\n",
      "Everything is perfect\n",
      "\n",
      "video 26 comparison\n",
      "video name mine b'91IHQYk1IQM'\n",
      "Everything is perfect\n",
      "\n",
      "video 27 comparison\n",
      "video name mine b'RBCABdttQmI'\n",
      "Everything is perfect\n",
      "\n",
      "video 28 comparison\n",
      "video name mine b'z_6gVvQb2d0'\n",
      "Everything is perfect\n",
      "\n",
      "video 29 comparison\n",
      "video name mine b'fWutDQy1nnY'\n",
      "Everything is perfect\n",
      "\n",
      "video 30 comparison\n",
      "video name mine b'4wU_LUjG5Ic'\n",
      "Everything is perfect\n",
      "\n",
      "video 31 comparison\n",
      "video name mine b'VuWGsYPqAX8'\n",
      "Everything is perfect\n",
      "\n",
      "video 32 comparison\n",
      "video name mine b'JKpqYvAdIsw'\n",
      "Everything is perfect\n",
      "\n",
      "video 33 comparison\n",
      "video name mine b'xmEERLqJ2kU'\n",
      "Everything is perfect\n",
      "\n",
      "video 34 comparison\n",
      "video name mine b'byxOvuiIJV0'\n",
      "Everything is perfect\n",
      "\n",
      "video 35 comparison\n",
      "video name mine b'_xMr-HKMfVA'\n",
      "Everything is perfect\n",
      "\n",
      "video 36 comparison\n",
      "video name mine b'WxtbjNsCQ8A'\n",
      "Everything is perfect\n",
      "\n",
      "video 37 comparison\n",
      "video name mine b'uGu_10sucQo'\n",
      "Everything is perfect\n",
      "\n",
      "video 38 comparison\n",
      "video name mine b'EE-bNr36nyA'\n",
      "Everything is perfect\n",
      "\n",
      "video 39 comparison\n",
      "video name mine b'Se3oxnaPsz0'\n",
      "Everything is perfect\n",
      "\n",
      "video 40 comparison\n",
      "video name mine b'oDXZc0tZe04'\n",
      "Everything is perfect\n",
      "\n",
      "video 41 comparison\n",
      "video name mine b'qqR6AEXwxoQ'\n",
      "Everything is perfect\n",
      "\n",
      "video 42 comparison\n",
      "video name mine b'EYqVtI9YWJA'\n",
      "Everything is perfect\n",
      "\n",
      "video 43 comparison\n",
      "video name mine b'eQu1rNs0an0'\n",
      "Everything is perfect\n",
      "\n",
      "video 44 comparison\n",
      "video name mine b'JgHubY5Vw3Y'\n",
      "Everything is perfect\n",
      "\n",
      "video 45 comparison\n",
      "video name mine b'iVt07TCkFM0'\n",
      "Everything is perfect\n",
      "\n",
      "video 46 comparison\n",
      "video name mine b'E11zDS9XGzg'\n",
      "Everything is perfect\n",
      "\n",
      "video 47 comparison\n",
      "video name mine b'NyBmCxDoHJU'\n",
      "Everything is perfect\n",
      "\n",
      "video 48 comparison\n",
      "video name mine b'kLxoNp-UchI'\n",
      "Everything is perfect\n",
      "\n",
      "video 49 comparison\n",
      "video name mine b'jcoYJXDG9sw'\n",
      "Everything is perfect\n",
      "\n",
      "video 50 comparison\n",
      "video name mine b'-esJrBWj2d8'\n",
      "Everything is perfect\n",
      "\n"
     ]
    }
   ],
   "source": [
    "for i in range(0,50):\n",
    "    video_gt = data_all_tvsum[\"video_\" + str(i+1)]\n",
    "    video_mine = data_all_tvsum_mine[\"video_\" + str(i+1)]\n",
    "    \n",
    "    perfect = True\n",
    "    \n",
    "    print(f'video {i+1} comparison')\n",
    "    if video_gt['features'][...].shape != video_mine['features'][...].shape:\n",
    "        perfect = False\n",
    "        print(\"features gt\", video_gt['features'][...].shape)\n",
    "        print(\"features mine\", video_mine['features'][...].shape)\n",
    "        print()\n",
    "        \n",
    "    if video_gt['gtscore'][...].shape != video_mine['gtscore'][...].shape:\n",
    "        perfect = False\n",
    "        print(\"gtscore gt\", video_gt['gtscore'][...].shape)\n",
    "        print(\"gtscore mine\", video_mine['gtscore'][...].shape)\n",
    "        print()\n",
    "        \n",
    "#     print(\"video name gt\", video_gt['video_name'][...])\n",
    "    print(\"video name mine\", video_mine['video_name'][...])\n",
    "    \n",
    "    if video_gt['user_summary'][...].shape != video_mine['user_summary'][...].shape:\n",
    "        perfect = False\n",
    "        print(\"user summary gt\", video_gt['user_summary'][...].shape)\n",
    "        print(\"user summary mine\", video_mine['user_summary'][...].shape)\n",
    "        print()\n",
    "        \n",
    "    if video_gt['n_frames'][...] != video_mine['n_frames'][...]:\n",
    "        perfect = False\n",
    "        print(\"n frames gt\", video_gt['n_frames'][...])\n",
    "        print(\"n frames mine\", video_mine['n_frames'][...])\n",
    "        print()\n",
    "    if video_gt['change_points'][...].shape != video_mine['change_points'][...].shape:  \n",
    "        perfect = False\n",
    "        print(\"change points gt\", video_gt['change_points'][...].shape)\n",
    "        print(\"change points mine\", video_mine['change_points'][...].shape)\n",
    "        print()\n",
    "        \n",
    "    if video_gt['n_frame_per_seg'][...].shape != video_mine['n_frame_per_seg'][...].shape: \n",
    "        perfect = False\n",
    "        print(\"n frame per seg gt\", video_gt['n_frame_per_seg'][...].shape)\n",
    "        print(\"n frame per seg mine\", video_mine['n_frame_per_seg'][...].shape)\n",
    "        print()\n",
    "    \n",
    "    if video_gt['picks'][...].shape != video_mine['picks'][...].shape:\n",
    "        perfect = False\n",
    "        print(\"picks gt\", video_gt['picks'][...].shape)\n",
    "        print(\"picks mine\", video_mine['picks'][...].shape)\n",
    "        print()\n",
    "        \n",
    "    if video_gt['n_steps'][...] != video_mine['n_steps'][...]:\n",
    "        perfect = False\n",
    "        print(\"n steps gt\", video_gt['n_steps'][...])\n",
    "        print(\"n steps mine\", video_mine['n_steps'][...])\n",
    "        \n",
    "    if perfect: \n",
    "        print(\"Everything is perfect\")\n",
    "        print()"
   ]
  },
  {
   "cell_type": "markdown",
   "metadata": {},
   "source": [
    "# Evaluating a random video"
   ]
  },
  {
   "cell_type": "code",
   "execution_count": 17,
   "metadata": {},
   "outputs": [],
   "source": [
    "#video 1\n",
    "i = 49\n",
    "video_gt = data_all_tvsum[\"video_\" + str(i+1)]\n",
    "video_mine = data_all_tvsum_mine[\"video_\" + str(i+1)]"
   ]
  },
  {
   "cell_type": "markdown",
   "metadata": {},
   "source": [
    "### Nombre"
   ]
  },
  {
   "cell_type": "code",
   "execution_count": 18,
   "metadata": {},
   "outputs": [
    {
     "name": "stdout",
     "output_type": "stream",
     "text": [
      "video name mine b'-esJrBWj2d8'\n",
      "\n"
     ]
    }
   ],
   "source": [
    "# print(\"video name gt\", video_gt['video_name'][...])\n",
    "print(\"video name mine\", video_mine['video_name'][...])\n",
    "print()\n"
   ]
  },
  {
   "cell_type": "markdown",
   "metadata": {},
   "source": [
    "### Features"
   ]
  },
  {
   "cell_type": "code",
   "execution_count": 19,
   "metadata": {},
   "outputs": [
    {
     "name": "stdout",
     "output_type": "stream",
     "text": [
      "features gt (461, 1024)\n"
     ]
    },
    {
     "data": {
      "text/plain": [
       "array([[0.01285232, 0.00488994, 0.04408618, ..., 0.        , 0.00697408,\n",
       "        0.00288286],\n",
       "       [0.02696492, 0.00210219, 0.03573826, ..., 0.        , 0.03454432,\n",
       "        0.03622464],\n",
       "       [0.03760021, 0.00563098, 0.02105253, ..., 0.        , 0.0626611 ,\n",
       "        0.04046915],\n",
       "       ...,\n",
       "       [0.00503324, 0.00791355, 0.01199674, ..., 0.0537166 , 0.        ,\n",
       "        0.        ],\n",
       "       [0.00829969, 0.00368446, 0.00224579, ..., 0.        , 0.        ,\n",
       "        0.        ],\n",
       "       [0.0090147 , 0.00311135, 0.01036933, ..., 0.01561159, 0.        ,\n",
       "        0.        ]], dtype=float32)"
      ]
     },
     "execution_count": 19,
     "metadata": {},
     "output_type": "execute_result"
    }
   ],
   "source": [
    "print(\"features gt\", video_gt['features'][...].shape)\n",
    "video_gt['features'][...]"
   ]
  },
  {
   "cell_type": "code",
   "execution_count": 20,
   "metadata": {},
   "outputs": [
    {
     "name": "stdout",
     "output_type": "stream",
     "text": [
      "features mine (461, 1024)\n"
     ]
    },
    {
     "data": {
      "text/plain": [
       "array([[0.13085064, 0.60873055, 0.06406087, ..., 0.22821002, 0.08300549,\n",
       "        0.10198153],\n",
       "       [0.07641925, 0.50116944, 0.17399107, ..., 0.14351621, 0.18004933,\n",
       "        0.1639709 ],\n",
       "       [0.10422586, 0.6885829 , 0.11321306, ..., 0.15749964, 0.13512695,\n",
       "        0.15454163],\n",
       "       ...,\n",
       "       [1.2246431 , 0.36337605, 0.13238919, ..., 0.35105696, 0.10140699,\n",
       "        0.06510092],\n",
       "       [0.9280688 , 0.4847278 , 0.16260758, ..., 0.13488597, 0.05993122,\n",
       "        0.18613036],\n",
       "       [0.8867561 , 0.5061773 , 0.11004424, ..., 0.46669558, 0.0886733 ,\n",
       "        0.28357637]], dtype=float32)"
      ]
     },
     "execution_count": 20,
     "metadata": {},
     "output_type": "execute_result"
    }
   ],
   "source": [
    "print(\"features mine\", video_mine['features'][...].shape)\n",
    "video_mine['features'][...]"
   ]
  },
  {
   "cell_type": "markdown",
   "metadata": {},
   "source": [
    "### GTScore"
   ]
  },
  {
   "cell_type": "code",
   "execution_count": 21,
   "metadata": {},
   "outputs": [
    {
     "name": "stdout",
     "output_type": "stream",
     "text": [
      "gtscore gt (461,)\n"
     ]
    },
    {
     "data": {
      "text/plain": [
       "array([0.2375, 0.2375, 0.2375, 0.2375, 0.2375, 0.25  , 0.25  , 0.25  ,\n",
       "       0.25  , 0.35  , 0.35  , 0.35  , 0.35  , 0.2125, 0.2125, 0.2125,\n",
       "       0.2125, 0.2   , 0.2   , 0.2   , 0.2   , 0.1   , 0.1   , 0.1   ,\n",
       "       0.1   , 0.1125, 0.1125, 0.1125, 0.1125, 0.275 , 0.275 , 0.275 ,\n",
       "       0.275 , 0.275 , 0.275 , 0.275 , 0.275 , 0.3875, 0.3875, 0.3875,\n",
       "       0.3875, 0.2   , 0.2   , 0.2   , 0.2   , 0.2   , 0.2   , 0.2   ,\n",
       "       0.2   , 0.225 , 0.225 , 0.225 , 0.225 , 0.2625, 0.2625, 0.2625,\n",
       "       0.2625, 0.1   , 0.1   , 0.1   , 0.1   , 0.1625, 0.1625, 0.1625,\n",
       "       0.1625, 0.225 , 0.225 , 0.225 , 0.225 , 0.25  , 0.25  , 0.25  ,\n",
       "       0.25  , 0.3125, 0.3125, 0.3125, 0.3125, 0.2875, 0.2875, 0.2875,\n",
       "       0.2875, 0.2625, 0.2625, 0.2625, 0.2625, 0.45  , 0.45  , 0.45  ,\n",
       "       0.45  , 0.4875, 0.4875, 0.4875, 0.4875, 0.375 , 0.375 , 0.375 ,\n",
       "       0.375 , 0.5   , 0.5   , 0.5   , 0.5   , 0.425 , 0.425 , 0.425 ,\n",
       "       0.425 , 0.3875, 0.3875, 0.3875, 0.3875, 0.35  , 0.35  , 0.35  ,\n",
       "       0.35  , 0.4125, 0.4125, 0.4125, 0.4125, 0.325 , 0.325 , 0.325 ,\n",
       "       0.325 , 0.275 , 0.275 , 0.275 , 0.275 , 0.325 , 0.325 , 0.325 ,\n",
       "       0.325 , 0.3625, 0.3625, 0.3625, 0.3625, 0.4625, 0.4625, 0.4625,\n",
       "       0.4625, 0.5875, 0.5875, 0.5875, 0.5875, 0.525 , 0.525 , 0.525 ,\n",
       "       0.525 , 0.525 , 0.525 , 0.525 , 0.525 , 0.525 , 0.525 , 0.525 ,\n",
       "       0.525 , 0.5125, 0.5125, 0.5125, 0.5125, 0.3625, 0.3625, 0.3625,\n",
       "       0.3625, 0.2375, 0.2375, 0.2375, 0.2375, 0.1875, 0.1875, 0.1875,\n",
       "       0.1875, 0.2375, 0.2375, 0.2375, 0.2375, 0.1625, 0.1625, 0.1625,\n",
       "       0.1625, 0.3125, 0.3125, 0.3125, 0.3125, 0.175 , 0.175 , 0.175 ,\n",
       "       0.175 , 0.2375, 0.2375, 0.2375, 0.2375, 0.2   , 0.2   , 0.2   ,\n",
       "       0.2   , 0.2125, 0.2125, 0.2125, 0.2125, 0.2   , 0.2   , 0.2   ,\n",
       "       0.2   , 0.2375, 0.2375, 0.2375, 0.2375, 0.275 , 0.275 , 0.275 ,\n",
       "       0.275 , 0.2   , 0.2   , 0.2   , 0.2   , 0.2375, 0.2375, 0.2375,\n",
       "       0.2375, 0.325 , 0.325 , 0.325 , 0.325 , 0.3625, 0.3625, 0.3625,\n",
       "       0.3625, 0.5125, 0.5125, 0.5125, 0.5125, 0.35  , 0.35  , 0.35  ,\n",
       "       0.35  , 0.425 , 0.425 , 0.425 , 0.425 , 0.35  , 0.35  , 0.35  ,\n",
       "       0.35  , 0.325 , 0.325 , 0.325 , 0.325 , 0.2875, 0.2875, 0.2875,\n",
       "       0.2875, 0.275 , 0.275 , 0.275 , 0.275 , 0.4   , 0.4   , 0.4   ,\n",
       "       0.4   , 0.1625, 0.1625, 0.1625, 0.1625, 0.1   , 0.1   , 0.1   ,\n",
       "       0.1   , 0.1375, 0.1375, 0.1375, 0.1375, 0.1375, 0.1375, 0.1375,\n",
       "       0.1375, 0.125 , 0.125 , 0.125 , 0.125 , 0.1625, 0.1625, 0.1625,\n",
       "       0.1625, 0.175 , 0.175 , 0.175 , 0.175 , 0.1375, 0.1375, 0.1375,\n",
       "       0.1375, 0.1375, 0.1375, 0.1375, 0.1375, 0.25  , 0.25  , 0.25  ,\n",
       "       0.25  , 0.1125, 0.1125, 0.1125, 0.1125, 0.1375, 0.1375, 0.1375,\n",
       "       0.1375, 0.15  , 0.15  , 0.15  , 0.15  , 0.15  , 0.15  , 0.15  ,\n",
       "       0.15  , 0.2625, 0.2625, 0.2625, 0.2625, 0.2625, 0.2625, 0.2625,\n",
       "       0.2625, 0.075 , 0.075 , 0.075 , 0.075 , 0.0875, 0.0875, 0.0875,\n",
       "       0.0875, 0.1   , 0.1   , 0.1   , 0.1   , 0.125 , 0.125 , 0.125 ,\n",
       "       0.125 , 0.1125, 0.1125, 0.1125, 0.1125, 0.1125, 0.1125, 0.1125,\n",
       "       0.1125, 0.075 , 0.075 , 0.075 , 0.075 , 0.125 , 0.125 , 0.125 ,\n",
       "       0.125 , 0.1375, 0.1375, 0.1375, 0.1375, 0.075 , 0.075 , 0.075 ,\n",
       "       0.075 , 0.1125, 0.1125, 0.1125, 0.1125, 0.0625, 0.0625, 0.0625,\n",
       "       0.0625, 0.0875, 0.0875, 0.0875, 0.0875, 0.15  , 0.15  , 0.15  ,\n",
       "       0.15  , 0.175 , 0.175 , 0.175 , 0.175 , 0.075 , 0.075 , 0.075 ,\n",
       "       0.075 , 0.1   , 0.1   , 0.1   , 0.1   , 0.175 , 0.175 , 0.175 ,\n",
       "       0.175 , 0.15  , 0.15  , 0.15  , 0.15  , 0.175 , 0.175 , 0.175 ,\n",
       "       0.175 , 0.2875, 0.2875, 0.2875, 0.2875, 0.25  , 0.25  , 0.25  ,\n",
       "       0.25  , 0.275 , 0.275 , 0.275 , 0.275 , 0.3125, 0.3125, 0.3125,\n",
       "       0.3125, 0.2625, 0.2625, 0.2625, 0.2625, 0.2875, 0.2875, 0.2875,\n",
       "       0.2875, 0.275 , 0.275 , 0.275 , 0.275 , 0.35  , 0.35  , 0.35  ,\n",
       "       0.35  , 0.2625, 0.2625, 0.2625, 0.2625, 0.1875, 0.1875, 0.1875,\n",
       "       0.1875, 0.1125, 0.1125, 0.1125, 0.1125, 0.1   , 0.1   , 0.1   ,\n",
       "       0.1   , 0.125 , 0.125 , 0.125 , 0.125 , 0.1125, 0.1125, 0.1125,\n",
       "       0.1125, 0.125 , 0.125 , 0.125 , 0.125 ], dtype=float32)"
      ]
     },
     "execution_count": 21,
     "metadata": {},
     "output_type": "execute_result"
    }
   ],
   "source": [
    "print(\"gtscore gt\", video_gt['gtscore'][...].shape)\n",
    "video_gt['gtscore'][...]"
   ]
  },
  {
   "cell_type": "code",
   "execution_count": 22,
   "metadata": {},
   "outputs": [
    {
     "name": "stdout",
     "output_type": "stream",
     "text": [
      "gtscore mine (461,)\n"
     ]
    },
    {
     "data": {
      "text/plain": [
       "array([0.55, 0.55, 0.55, 0.55, 0.55, 0.55, 0.55, 0.55, 0.55, 0.6 , 0.6 ,\n",
       "       0.6 , 0.6 , 0.5 , 0.5 , 0.5 , 0.5 , 0.45, 0.45, 0.45, 0.45, 0.3 ,\n",
       "       0.3 , 0.3 , 0.3 , 0.35, 0.35, 0.35, 0.35, 0.5 , 0.5 , 0.5 , 0.5 ,\n",
       "       0.55, 0.55, 0.55, 0.55, 0.6 , 0.6 , 0.6 , 0.6 , 0.4 , 0.4 , 0.4 ,\n",
       "       0.4 , 0.4 , 0.4 , 0.4 , 0.4 , 0.45, 0.45, 0.45, 0.45, 0.5 , 0.5 ,\n",
       "       0.5 , 0.5 , 0.3 , 0.3 , 0.3 , 0.3 , 0.45, 0.45, 0.45, 0.45, 0.7 ,\n",
       "       0.7 , 0.7 , 0.7 , 0.75, 0.75, 0.75, 0.75, 0.85, 0.85, 0.85, 0.85,\n",
       "       0.8 , 0.8 , 0.8 , 0.8 , 0.75, 0.75, 0.75, 0.75, 0.8 , 0.8 , 0.8 ,\n",
       "       0.8 , 0.75, 0.75, 0.75, 0.75, 0.7 , 0.7 , 0.7 , 0.7 , 0.75, 0.75,\n",
       "       0.75, 0.75, 0.9 , 0.9 , 0.9 , 0.9 , 0.85, 0.85, 0.85, 0.85, 0.85,\n",
       "       0.85, 0.85, 0.85, 0.9 , 0.9 , 0.9 , 0.9 , 0.8 , 0.8 , 0.8 , 0.8 ,\n",
       "       0.75, 0.75, 0.75, 0.75, 0.9 , 0.9 , 0.9 , 0.9 , 0.9 , 0.9 , 0.9 ,\n",
       "       0.9 , 0.85, 0.85, 0.85, 0.85, 0.8 , 0.8 , 0.8 , 0.8 , 0.8 , 0.8 ,\n",
       "       0.8 , 0.8 , 0.8 , 0.8 , 0.8 , 0.8 , 0.75, 0.75, 0.75, 0.75, 0.8 ,\n",
       "       0.8 , 0.8 , 0.8 , 0.8 , 0.8 , 0.8 , 0.8 , 0.65, 0.65, 0.65, 0.65,\n",
       "       0.55, 0.55, 0.55, 0.55, 0.65, 0.65, 0.65, 0.65, 0.5 , 0.5 , 0.5 ,\n",
       "       0.5 , 0.75, 0.75, 0.75, 0.75, 0.55, 0.55, 0.55, 0.55, 0.6 , 0.6 ,\n",
       "       0.6 , 0.6 , 0.6 , 0.6 , 0.6 , 0.6 , 0.55, 0.55, 0.55, 0.55, 0.55,\n",
       "       0.55, 0.55, 0.55, 0.65, 0.65, 0.65, 0.65, 0.7 , 0.7 , 0.7 , 0.7 ,\n",
       "       0.55, 0.55, 0.55, 0.55, 0.65, 0.65, 0.65, 0.65, 0.65, 0.65, 0.65,\n",
       "       0.65, 0.75, 0.75, 0.75, 0.75, 0.85, 0.85, 0.85, 0.85, 0.75, 0.75,\n",
       "       0.75, 0.75, 0.8 , 0.8 , 0.8 , 0.8 , 0.7 , 0.7 , 0.7 , 0.7 , 0.75,\n",
       "       0.75, 0.75, 0.75, 0.75, 0.75, 0.75, 0.75, 0.8 , 0.8 , 0.8 , 0.8 ,\n",
       "       0.7 , 0.7 , 0.7 , 0.7 , 0.45, 0.45, 0.45, 0.45, 0.25, 0.25, 0.25,\n",
       "       0.25, 0.35, 0.35, 0.35, 0.35, 0.4 , 0.4 , 0.4 , 0.4 , 0.35, 0.35,\n",
       "       0.35, 0.35, 0.4 , 0.4 , 0.4 , 0.4 , 0.45, 0.45, 0.45, 0.45, 0.35,\n",
       "       0.35, 0.35, 0.35, 0.35, 0.35, 0.35, 0.35, 0.55, 0.55, 0.55, 0.55,\n",
       "       0.3 , 0.3 , 0.3 , 0.3 , 0.35, 0.35, 0.35, 0.35, 0.4 , 0.4 , 0.4 ,\n",
       "       0.4 , 0.45, 0.45, 0.45, 0.45, 0.65, 0.65, 0.65, 0.65, 0.6 , 0.6 ,\n",
       "       0.6 , 0.6 , 0.25, 0.25, 0.25, 0.25, 0.25, 0.25, 0.25, 0.25, 0.3 ,\n",
       "       0.3 , 0.3 , 0.3 , 0.35, 0.35, 0.35, 0.35, 0.35, 0.35, 0.35, 0.35,\n",
       "       0.3 , 0.3 , 0.3 , 0.3 , 0.25, 0.25, 0.25, 0.25, 0.35, 0.35, 0.35,\n",
       "       0.35, 0.35, 0.35, 0.35, 0.35, 0.2 , 0.2 , 0.2 , 0.2 , 0.35, 0.35,\n",
       "       0.35, 0.35, 0.25, 0.25, 0.25, 0.25, 0.3 , 0.3 , 0.3 , 0.3 , 0.4 ,\n",
       "       0.4 , 0.4 , 0.4 , 0.45, 0.45, 0.45, 0.45, 0.3 , 0.3 , 0.3 , 0.3 ,\n",
       "       0.3 , 0.3 , 0.3 , 0.3 , 0.45, 0.45, 0.45, 0.45, 0.45, 0.45, 0.45,\n",
       "       0.45, 0.4 , 0.4 , 0.4 , 0.4 , 0.55, 0.55, 0.55, 0.55, 0.5 , 0.5 ,\n",
       "       0.5 , 0.5 , 0.6 , 0.6 , 0.6 , 0.6 , 0.65, 0.65, 0.65, 0.65, 0.55,\n",
       "       0.55, 0.55, 0.55, 0.6 , 0.6 , 0.6 , 0.6 , 0.6 , 0.6 , 0.6 , 0.6 ,\n",
       "       0.65, 0.65, 0.65, 0.65, 0.5 , 0.5 , 0.5 , 0.5 , 0.35, 0.35, 0.35,\n",
       "       0.35, 0.35, 0.35, 0.35, 0.35, 0.35, 0.35, 0.35, 0.35, 0.35, 0.35,\n",
       "       0.35, 0.35, 0.3 , 0.3 , 0.3 , 0.3 , 0.3 , 0.3 , 0.3 , 0.3 ],\n",
       "      dtype=float32)"
      ]
     },
     "execution_count": 22,
     "metadata": {},
     "output_type": "execute_result"
    }
   ],
   "source": [
    "print(\"gtscore mine\", video_mine['gtscore'][...].shape)\n",
    "video_mine['gtscore'][...]"
   ]
  },
  {
   "cell_type": "markdown",
   "metadata": {},
   "source": [
    "### User summary"
   ]
  },
  {
   "cell_type": "code",
   "execution_count": 23,
   "metadata": {},
   "outputs": [
    {
     "name": "stdout",
     "output_type": "stream",
     "text": [
      "user summary gt (20, 6912)\n"
     ]
    },
    {
     "data": {
      "text/plain": [
       "array([[0., 0., 0., ..., 0., 0., 0.],\n",
       "       [0., 0., 0., ..., 0., 0., 0.],\n",
       "       [0., 0., 0., ..., 0., 0., 0.],\n",
       "       ...,\n",
       "       [0., 0., 0., ..., 0., 0., 0.],\n",
       "       [0., 0., 0., ..., 0., 0., 0.],\n",
       "       [0., 0., 0., ..., 0., 0., 0.]], dtype=float32)"
      ]
     },
     "execution_count": 23,
     "metadata": {},
     "output_type": "execute_result"
    }
   ],
   "source": [
    "print(\"user summary gt\", video_gt['user_summary'][...].shape)\n",
    "video_gt['user_summary'][...]"
   ]
  },
  {
   "cell_type": "code",
   "execution_count": 24,
   "metadata": {},
   "outputs": [
    {
     "name": "stdout",
     "output_type": "stream",
     "text": [
      "user summary mine (20, 6912)\n"
     ]
    },
    {
     "data": {
      "text/plain": [
       "array([[0., 0., 0., ..., 0., 0., 0.],\n",
       "       [1., 1., 1., ..., 0., 0., 0.],\n",
       "       [1., 1., 1., ..., 0., 0., 0.],\n",
       "       ...,\n",
       "       [1., 1., 1., ..., 1., 1., 1.],\n",
       "       [0., 0., 0., ..., 1., 1., 1.],\n",
       "       [1., 1., 1., ..., 0., 0., 0.]], dtype=float32)"
      ]
     },
     "execution_count": 24,
     "metadata": {},
     "output_type": "execute_result"
    }
   ],
   "source": [
    "print(\"user summary mine\", video_mine['user_summary'][...].shape)\n",
    "video_mine['user_summary'][...]"
   ]
  },
  {
   "cell_type": "code",
   "execution_count": 25,
   "metadata": {},
   "outputs": [],
   "source": [
    "xd = [5,10,12,15]"
   ]
  },
  {
   "cell_type": "code",
   "execution_count": 27,
   "metadata": {},
   "outputs": [],
   "source": [
    "# np.hstack((0, xd, 20))"
   ]
  },
  {
   "cell_type": "markdown",
   "metadata": {},
   "source": [
    "### N frames"
   ]
  },
  {
   "cell_type": "code",
   "execution_count": 28,
   "metadata": {},
   "outputs": [
    {
     "name": "stdout",
     "output_type": "stream",
     "text": [
      "n frames gt 6912\n"
     ]
    }
   ],
   "source": [
    "print(\"n frames gt\", video_gt['n_frames'][...])"
   ]
  },
  {
   "cell_type": "code",
   "execution_count": 29,
   "metadata": {},
   "outputs": [
    {
     "name": "stdout",
     "output_type": "stream",
     "text": [
      "n frames mine 6912\n"
     ]
    }
   ],
   "source": [
    "print(\"n frames mine\", video_mine['n_frames'][...])"
   ]
  },
  {
   "cell_type": "markdown",
   "metadata": {},
   "source": [
    "### Change points"
   ]
  },
  {
   "cell_type": "code",
   "execution_count": 30,
   "metadata": {},
   "outputs": [
    {
     "name": "stdout",
     "output_type": "stream",
     "text": [
      "change points gt (47, 2)\n"
     ]
    },
    {
     "data": {
      "text/plain": [
       "array([[   0,  304],\n",
       "       [ 305,  406],\n",
       "       [ 407,  539],\n",
       "       [ 540,  591],\n",
       "       [ 592,  804],\n",
       "       [ 805,  834],\n",
       "       [ 835,  906],\n",
       "       [ 907,  968],\n",
       "       [ 969, 1064],\n",
       "       [1065, 1269],\n",
       "       [1270, 1516],\n",
       "       [1517, 1611],\n",
       "       [1612, 1750],\n",
       "       [1751, 1934],\n",
       "       [1935, 2001],\n",
       "       [2002, 2259],\n",
       "       [2260, 2365],\n",
       "       [2366, 2610],\n",
       "       [2611, 2994],\n",
       "       [2995, 3126],\n",
       "       [3127, 3259],\n",
       "       [3260, 3452],\n",
       "       [3453, 3597],\n",
       "       [3598, 3668],\n",
       "       [3669, 3750],\n",
       "       [3751, 3851],\n",
       "       [3852, 4119],\n",
       "       [4120, 4172],\n",
       "       [4173, 4293],\n",
       "       [4294, 4430],\n",
       "       [4431, 4598],\n",
       "       [4599, 4675],\n",
       "       [4676, 4791],\n",
       "       [4792, 4890],\n",
       "       [4891, 5030],\n",
       "       [5031, 5119],\n",
       "       [5120, 5174],\n",
       "       [5175, 5333],\n",
       "       [5334, 5367],\n",
       "       [5368, 5794],\n",
       "       [5795, 6005],\n",
       "       [6006, 6442],\n",
       "       [6443, 6481],\n",
       "       [6482, 6583],\n",
       "       [6584, 6647],\n",
       "       [6648, 6744],\n",
       "       [6745, 6911]])"
      ]
     },
     "execution_count": 30,
     "metadata": {},
     "output_type": "execute_result"
    }
   ],
   "source": [
    "print(\"change points gt\", video_gt['change_points'][...].shape)\n",
    "video_gt['change_points'][...]"
   ]
  },
  {
   "cell_type": "code",
   "execution_count": 31,
   "metadata": {},
   "outputs": [
    {
     "name": "stdout",
     "output_type": "stream",
     "text": [
      "change points mine (47, 2)\n"
     ]
    },
    {
     "data": {
      "text/plain": [
       "array([[   0,  119],\n",
       "       [ 120,  179],\n",
       "       [ 180,  269],\n",
       "       [ 270,  419],\n",
       "       [ 420,  539],\n",
       "       [ 540,  599],\n",
       "       [ 600,  809],\n",
       "       [ 810,  839],\n",
       "       [ 840,  899],\n",
       "       [ 900,  974],\n",
       "       [ 975, 1274],\n",
       "       [1275, 1529],\n",
       "       [1530, 1619],\n",
       "       [1620, 1754],\n",
       "       [1755, 1934],\n",
       "       [1935, 2009],\n",
       "       [2010, 2369],\n",
       "       [2370, 2444],\n",
       "       [2445, 2639],\n",
       "       [2640, 2999],\n",
       "       [3000, 3269],\n",
       "       [3270, 3464],\n",
       "       [3465, 3599],\n",
       "       [3600, 3674],\n",
       "       [3675, 3719],\n",
       "       [3720, 3809],\n",
       "       [3810, 3854],\n",
       "       [3855, 4004],\n",
       "       [4005, 4049],\n",
       "       [4050, 4139],\n",
       "       [4140, 4319],\n",
       "       [4320, 4439],\n",
       "       [4440, 4619],\n",
       "       [4620, 4679],\n",
       "       [4680, 4799],\n",
       "       [4800, 4904],\n",
       "       [4905, 5129],\n",
       "       [5130, 5309],\n",
       "       [5310, 5384],\n",
       "       [5385, 5804],\n",
       "       [5805, 5969],\n",
       "       [5970, 6014],\n",
       "       [6015, 6449],\n",
       "       [6450, 6494],\n",
       "       [6495, 6614],\n",
       "       [6615, 6749],\n",
       "       [6750, 6911]])"
      ]
     },
     "execution_count": 31,
     "metadata": {},
     "output_type": "execute_result"
    }
   ],
   "source": [
    "\n",
    "\n",
    "print(\"change points mine\", video_mine['change_points'][...].shape)\n",
    "video_mine['change_points'][...]"
   ]
  },
  {
   "cell_type": "markdown",
   "metadata": {},
   "source": [
    "### N frames por segmenot"
   ]
  },
  {
   "cell_type": "code",
   "execution_count": 32,
   "metadata": {},
   "outputs": [
    {
     "name": "stdout",
     "output_type": "stream",
     "text": [
      "n frame per seg gt (47,)\n"
     ]
    },
    {
     "data": {
      "text/plain": [
       "array([305, 102, 133,  52, 213,  30,  72,  62,  96, 205, 247,  95, 139,\n",
       "       184,  67, 258, 106, 245, 384, 132, 133, 193, 145,  71,  82, 101,\n",
       "       268,  53, 121, 137, 168,  77, 116,  99, 140,  89,  55, 159,  34,\n",
       "       427, 211, 437,  39, 102,  64,  97, 167])"
      ]
     },
     "execution_count": 32,
     "metadata": {},
     "output_type": "execute_result"
    }
   ],
   "source": [
    "print(\"n frame per seg gt\", video_gt['n_frame_per_seg'][...].shape)\n",
    "video_gt['n_frame_per_seg'][...]"
   ]
  },
  {
   "cell_type": "code",
   "execution_count": 33,
   "metadata": {},
   "outputs": [
    {
     "data": {
      "text/plain": [
       "147.06382978723406"
      ]
     },
     "execution_count": 33,
     "metadata": {},
     "output_type": "execute_result"
    }
   ],
   "source": [
    "video_gt['n_frame_per_seg'][...].mean()"
   ]
  },
  {
   "cell_type": "code",
   "execution_count": 34,
   "metadata": {},
   "outputs": [
    {
     "name": "stdout",
     "output_type": "stream",
     "text": [
      "n frame per seg mine (47,)\n"
     ]
    },
    {
     "data": {
      "text/plain": [
       "array([120,  60,  90, 150, 120,  60, 210,  30,  60,  75, 300, 255,  90,\n",
       "       135, 180,  75, 360,  75, 195, 360, 270, 195, 135,  75,  45,  90,\n",
       "        45, 150,  45,  90, 180, 120, 180,  60, 120, 105, 225, 180,  75,\n",
       "       420, 165,  45, 435,  45, 120, 135, 162])"
      ]
     },
     "execution_count": 34,
     "metadata": {},
     "output_type": "execute_result"
    }
   ],
   "source": [
    "print(\"n frame per seg mine\", video_mine['n_frame_per_seg'][...].shape)\n",
    "video_mine['n_frame_per_seg'][...]"
   ]
  },
  {
   "cell_type": "markdown",
   "metadata": {},
   "source": [
    "### Picks"
   ]
  },
  {
   "cell_type": "code",
   "execution_count": 35,
   "metadata": {},
   "outputs": [
    {
     "name": "stdout",
     "output_type": "stream",
     "text": [
      "picks gt (461,)\n"
     ]
    },
    {
     "data": {
      "text/plain": [
       "array([   0,   15,   30,   45,   60,   75,   90,  105,  120,  135,  150,\n",
       "        165,  180,  195,  210,  225,  240,  255,  270,  285,  300,  315,\n",
       "        330,  345,  360,  375,  390,  405,  420,  435,  450,  465,  480,\n",
       "        495,  510,  525,  540,  555,  570,  585,  600,  615,  630,  645,\n",
       "        660,  675,  690,  705,  720,  735,  750,  765,  780,  795,  810,\n",
       "        825,  840,  855,  870,  885,  900,  915,  930,  945,  960,  975,\n",
       "        990, 1005, 1020, 1035, 1050, 1065, 1080, 1095, 1110, 1125, 1140,\n",
       "       1155, 1170, 1185, 1200, 1215, 1230, 1245, 1260, 1275, 1290, 1305,\n",
       "       1320, 1335, 1350, 1365, 1380, 1395, 1410, 1425, 1440, 1455, 1470,\n",
       "       1485, 1500, 1515, 1530, 1545, 1560, 1575, 1590, 1605, 1620, 1635,\n",
       "       1650, 1665, 1680, 1695, 1710, 1725, 1740, 1755, 1770, 1785, 1800,\n",
       "       1815, 1830, 1845, 1860, 1875, 1890, 1905, 1920, 1935, 1950, 1965,\n",
       "       1980, 1995, 2010, 2025, 2040, 2055, 2070, 2085, 2100, 2115, 2130,\n",
       "       2145, 2160, 2175, 2190, 2205, 2220, 2235, 2250, 2265, 2280, 2295,\n",
       "       2310, 2325, 2340, 2355, 2370, 2385, 2400, 2415, 2430, 2445, 2460,\n",
       "       2475, 2490, 2505, 2520, 2535, 2550, 2565, 2580, 2595, 2610, 2625,\n",
       "       2640, 2655, 2670, 2685, 2700, 2715, 2730, 2745, 2760, 2775, 2790,\n",
       "       2805, 2820, 2835, 2850, 2865, 2880, 2895, 2910, 2925, 2940, 2955,\n",
       "       2970, 2985, 3000, 3015, 3030, 3045, 3060, 3075, 3090, 3105, 3120,\n",
       "       3135, 3150, 3165, 3180, 3195, 3210, 3225, 3240, 3255, 3270, 3285,\n",
       "       3300, 3315, 3330, 3345, 3360, 3375, 3390, 3405, 3420, 3435, 3450,\n",
       "       3465, 3480, 3495, 3510, 3525, 3540, 3555, 3570, 3585, 3600, 3615,\n",
       "       3630, 3645, 3660, 3675, 3690, 3705, 3720, 3735, 3750, 3765, 3780,\n",
       "       3795, 3810, 3825, 3840, 3855, 3870, 3885, 3900, 3915, 3930, 3945,\n",
       "       3960, 3975, 3990, 4005, 4020, 4035, 4050, 4065, 4080, 4095, 4110,\n",
       "       4125, 4140, 4155, 4170, 4185, 4200, 4215, 4230, 4245, 4260, 4275,\n",
       "       4290, 4305, 4320, 4335, 4350, 4365, 4380, 4395, 4410, 4425, 4440,\n",
       "       4455, 4470, 4485, 4500, 4515, 4530, 4545, 4560, 4575, 4590, 4605,\n",
       "       4620, 4635, 4650, 4665, 4680, 4695, 4710, 4725, 4740, 4755, 4770,\n",
       "       4785, 4800, 4815, 4830, 4845, 4860, 4875, 4890, 4905, 4920, 4935,\n",
       "       4950, 4965, 4980, 4995, 5010, 5025, 5040, 5055, 5070, 5085, 5100,\n",
       "       5115, 5130, 5145, 5160, 5175, 5190, 5205, 5220, 5235, 5250, 5265,\n",
       "       5280, 5295, 5310, 5325, 5340, 5355, 5370, 5385, 5400, 5415, 5430,\n",
       "       5445, 5460, 5475, 5490, 5505, 5520, 5535, 5550, 5565, 5580, 5595,\n",
       "       5610, 5625, 5640, 5655, 5670, 5685, 5700, 5715, 5730, 5745, 5760,\n",
       "       5775, 5790, 5805, 5820, 5835, 5850, 5865, 5880, 5895, 5910, 5925,\n",
       "       5940, 5955, 5970, 5985, 6000, 6015, 6030, 6045, 6060, 6075, 6090,\n",
       "       6105, 6120, 6135, 6150, 6165, 6180, 6195, 6210, 6225, 6240, 6255,\n",
       "       6270, 6285, 6300, 6315, 6330, 6345, 6360, 6375, 6390, 6405, 6420,\n",
       "       6435, 6450, 6465, 6480, 6495, 6510, 6525, 6540, 6555, 6570, 6585,\n",
       "       6600, 6615, 6630, 6645, 6660, 6675, 6690, 6705, 6720, 6735, 6750,\n",
       "       6765, 6780, 6795, 6810, 6825, 6840, 6855, 6870, 6885, 6900])"
      ]
     },
     "execution_count": 35,
     "metadata": {},
     "output_type": "execute_result"
    }
   ],
   "source": [
    "print(\"picks gt\", video_gt['picks'][...].shape)\n",
    "video_gt['picks'][...]"
   ]
  },
  {
   "cell_type": "code",
   "execution_count": 36,
   "metadata": {},
   "outputs": [
    {
     "name": "stdout",
     "output_type": "stream",
     "text": [
      "picks mine (461,)\n"
     ]
    },
    {
     "data": {
      "text/plain": [
       "array([   0,   15,   30,   45,   60,   75,   90,  105,  120,  135,  150,\n",
       "        165,  180,  195,  210,  225,  240,  255,  270,  285,  300,  315,\n",
       "        330,  345,  360,  375,  390,  405,  420,  435,  450,  465,  480,\n",
       "        495,  510,  525,  540,  555,  570,  585,  600,  615,  630,  645,\n",
       "        660,  675,  690,  705,  720,  735,  750,  765,  780,  795,  810,\n",
       "        825,  840,  855,  870,  885,  900,  915,  930,  945,  960,  975,\n",
       "        990, 1005, 1020, 1035, 1050, 1065, 1080, 1095, 1110, 1125, 1140,\n",
       "       1155, 1170, 1185, 1200, 1215, 1230, 1245, 1260, 1275, 1290, 1305,\n",
       "       1320, 1335, 1350, 1365, 1380, 1395, 1410, 1425, 1440, 1455, 1470,\n",
       "       1485, 1500, 1515, 1530, 1545, 1560, 1575, 1590, 1605, 1620, 1635,\n",
       "       1650, 1665, 1680, 1695, 1710, 1725, 1740, 1755, 1770, 1785, 1800,\n",
       "       1815, 1830, 1845, 1860, 1875, 1890, 1905, 1920, 1935, 1950, 1965,\n",
       "       1980, 1995, 2010, 2025, 2040, 2055, 2070, 2085, 2100, 2115, 2130,\n",
       "       2145, 2160, 2175, 2190, 2205, 2220, 2235, 2250, 2265, 2280, 2295,\n",
       "       2310, 2325, 2340, 2355, 2370, 2385, 2400, 2415, 2430, 2445, 2460,\n",
       "       2475, 2490, 2505, 2520, 2535, 2550, 2565, 2580, 2595, 2610, 2625,\n",
       "       2640, 2655, 2670, 2685, 2700, 2715, 2730, 2745, 2760, 2775, 2790,\n",
       "       2805, 2820, 2835, 2850, 2865, 2880, 2895, 2910, 2925, 2940, 2955,\n",
       "       2970, 2985, 3000, 3015, 3030, 3045, 3060, 3075, 3090, 3105, 3120,\n",
       "       3135, 3150, 3165, 3180, 3195, 3210, 3225, 3240, 3255, 3270, 3285,\n",
       "       3300, 3315, 3330, 3345, 3360, 3375, 3390, 3405, 3420, 3435, 3450,\n",
       "       3465, 3480, 3495, 3510, 3525, 3540, 3555, 3570, 3585, 3600, 3615,\n",
       "       3630, 3645, 3660, 3675, 3690, 3705, 3720, 3735, 3750, 3765, 3780,\n",
       "       3795, 3810, 3825, 3840, 3855, 3870, 3885, 3900, 3915, 3930, 3945,\n",
       "       3960, 3975, 3990, 4005, 4020, 4035, 4050, 4065, 4080, 4095, 4110,\n",
       "       4125, 4140, 4155, 4170, 4185, 4200, 4215, 4230, 4245, 4260, 4275,\n",
       "       4290, 4305, 4320, 4335, 4350, 4365, 4380, 4395, 4410, 4425, 4440,\n",
       "       4455, 4470, 4485, 4500, 4515, 4530, 4545, 4560, 4575, 4590, 4605,\n",
       "       4620, 4635, 4650, 4665, 4680, 4695, 4710, 4725, 4740, 4755, 4770,\n",
       "       4785, 4800, 4815, 4830, 4845, 4860, 4875, 4890, 4905, 4920, 4935,\n",
       "       4950, 4965, 4980, 4995, 5010, 5025, 5040, 5055, 5070, 5085, 5100,\n",
       "       5115, 5130, 5145, 5160, 5175, 5190, 5205, 5220, 5235, 5250, 5265,\n",
       "       5280, 5295, 5310, 5325, 5340, 5355, 5370, 5385, 5400, 5415, 5430,\n",
       "       5445, 5460, 5475, 5490, 5505, 5520, 5535, 5550, 5565, 5580, 5595,\n",
       "       5610, 5625, 5640, 5655, 5670, 5685, 5700, 5715, 5730, 5745, 5760,\n",
       "       5775, 5790, 5805, 5820, 5835, 5850, 5865, 5880, 5895, 5910, 5925,\n",
       "       5940, 5955, 5970, 5985, 6000, 6015, 6030, 6045, 6060, 6075, 6090,\n",
       "       6105, 6120, 6135, 6150, 6165, 6180, 6195, 6210, 6225, 6240, 6255,\n",
       "       6270, 6285, 6300, 6315, 6330, 6345, 6360, 6375, 6390, 6405, 6420,\n",
       "       6435, 6450, 6465, 6480, 6495, 6510, 6525, 6540, 6555, 6570, 6585,\n",
       "       6600, 6615, 6630, 6645, 6660, 6675, 6690, 6705, 6720, 6735, 6750,\n",
       "       6765, 6780, 6795, 6810, 6825, 6840, 6855, 6870, 6885, 6900])"
      ]
     },
     "execution_count": 36,
     "metadata": {},
     "output_type": "execute_result"
    }
   ],
   "source": [
    "print(\"picks mine\", video_mine['picks'][...].shape)\n",
    "video_mine['picks'][...]"
   ]
  },
  {
   "cell_type": "markdown",
   "metadata": {},
   "source": [
    "### Steps"
   ]
  },
  {
   "cell_type": "code",
   "execution_count": 37,
   "metadata": {},
   "outputs": [
    {
     "name": "stdout",
     "output_type": "stream",
     "text": [
      "n steps gt 461\n"
     ]
    },
    {
     "data": {
      "text/plain": [
       "array(461)"
      ]
     },
     "execution_count": 37,
     "metadata": {},
     "output_type": "execute_result"
    }
   ],
   "source": [
    "print(\"n steps gt\", video_gt['n_steps'][...])\n",
    "video_gt['n_steps'][...]"
   ]
  },
  {
   "cell_type": "code",
   "execution_count": 38,
   "metadata": {},
   "outputs": [
    {
     "name": "stdout",
     "output_type": "stream",
     "text": [
      "n steps mine 461\n"
     ]
    },
    {
     "data": {
      "text/plain": [
       "array(461)"
      ]
     },
     "execution_count": 38,
     "metadata": {},
     "output_type": "execute_result"
    }
   ],
   "source": [
    "print(\"n steps mine\", video_mine['n_steps'][...])\n",
    "video_mine['n_steps'][...]"
   ]
  },
  {
   "cell_type": "markdown",
   "metadata": {},
   "source": [
    "### Features rn"
   ]
  },
  {
   "cell_type": "code",
   "execution_count": 39,
   "metadata": {},
   "outputs": [
    {
     "name": "stdout",
     "output_type": "stream",
     "text": [
      "features_rn (461, 2048)\n"
     ]
    },
    {
     "data": {
      "text/plain": [
       "array([[0.87798846, 0.22199322, 0.55177367, ..., 0.31372505, 0.43906105,\n",
       "        0.65014255],\n",
       "       [0.9314491 , 0.21080258, 0.6839014 , ..., 0.13023528, 0.03431432,\n",
       "        0.7315979 ],\n",
       "       [0.64173263, 0.16436134, 0.6298357 , ..., 0.26557612, 0.01073799,\n",
       "        0.6683708 ],\n",
       "       ...,\n",
       "       [0.8821565 , 0.34333536, 0.2969471 , ..., 0.04182025, 0.17499894,\n",
       "        0.2992565 ],\n",
       "       [0.80012155, 0.37181324, 0.0958932 , ..., 0.04103221, 0.31764236,\n",
       "        0.4341777 ],\n",
       "       [1.0444565 , 0.4723627 , 0.04858677, ..., 0.21349585, 0.19562171,\n",
       "        0.5905717 ]], dtype=float32)"
      ]
     },
     "execution_count": 39,
     "metadata": {},
     "output_type": "execute_result"
    }
   ],
   "source": [
    "print(\"features_rn\", video_mine['features_rn'][...].shape)\n",
    "video_mine['features_rn'][...]"
   ]
  },
  {
   "cell_type": "markdown",
   "metadata": {},
   "source": [
    "### Features iv3"
   ]
  },
  {
   "cell_type": "code",
   "execution_count": 40,
   "metadata": {},
   "outputs": [
    {
     "name": "stdout",
     "output_type": "stream",
     "text": [
      "features_iv3 (461, 2048)\n"
     ]
    },
    {
     "data": {
      "text/plain": [
       "array([[0.61301464, 0.30155516, 0.50708514, ..., 0.4487037 , 0.19814734,\n",
       "        0.31819656],\n",
       "       [0.43448606, 0.11932111, 0.38996327, ..., 0.612785  , 0.5186714 ,\n",
       "        0.3164252 ],\n",
       "       [0.5204556 , 0.10606392, 0.57971793, ..., 0.5242026 , 0.39393207,\n",
       "        0.23739387],\n",
       "       ...,\n",
       "       [0.08150798, 0.3429116 , 0.1767145 , ..., 0.5381805 , 0.605054  ,\n",
       "        0.6422535 ],\n",
       "       [0.12211886, 0.14735039, 0.20191309, ..., 0.4853199 , 0.3078195 ,\n",
       "        0.6518928 ],\n",
       "       [0.12104721, 0.12737635, 0.22601843, ..., 0.317763  , 0.2029368 ,\n",
       "        0.31154668]], dtype=float32)"
      ]
     },
     "execution_count": 40,
     "metadata": {},
     "output_type": "execute_result"
    }
   ],
   "source": [
    "print(\"features_iv3\", video_mine['features_iv3'][...].shape)\n",
    "video_mine['features_iv3'][...]"
   ]
  },
  {
   "cell_type": "markdown",
   "metadata": {},
   "source": [
    "### Features RGB"
   ]
  },
  {
   "cell_type": "code",
   "execution_count": 41,
   "metadata": {},
   "outputs": [
    {
     "name": "stdout",
     "output_type": "stream",
     "text": [
      "features_rgb (445, 1024)\n"
     ]
    },
    {
     "data": {
      "text/plain": [
       "array([[0.23402876, 0.21374507, 0.39551735, ..., 0.30458966, 0.0807713 ,\n",
       "        0.27116126],\n",
       "       [0.26839814, 0.3402351 , 0.4670905 , ..., 0.28692707, 0.03042341,\n",
       "        0.26434436],\n",
       "       [0.20560595, 0.29681405, 0.39957196, ..., 0.21474776, 0.05739497,\n",
       "        0.23012652],\n",
       "       ...,\n",
       "       [0.03722261, 0.7759331 , 0.07860638, ..., 0.6040825 , 0.0568152 ,\n",
       "        0.21517739],\n",
       "       [0.11172504, 0.7819399 , 0.18716133, ..., 0.47377235, 0.0528559 ,\n",
       "        0.21992624],\n",
       "       [0.0640984 , 0.9512487 , 0.09873799, ..., 0.42324436, 0.08293297,\n",
       "        0.17310448]], dtype=float32)"
      ]
     },
     "execution_count": 41,
     "metadata": {},
     "output_type": "execute_result"
    }
   ],
   "source": [
    "print(\"features_rgb\", video_mine['features_rgb'][...].shape)\n",
    "video_mine['features_rgb'][...]"
   ]
  },
  {
   "cell_type": "markdown",
   "metadata": {},
   "source": [
    "### Features flow"
   ]
  },
  {
   "cell_type": "code",
   "execution_count": 42,
   "metadata": {},
   "outputs": [
    {
     "name": "stdout",
     "output_type": "stream",
     "text": [
      "features_flow (444, 1024)\n"
     ]
    },
    {
     "data": {
      "text/plain": [
       "array([[0.02302182, 0.        , 0.18741386, ..., 0.00407231, 0.05224702,\n",
       "        0.        ],\n",
       "       [0.0170913 , 0.        , 0.18599677, ..., 0.00914398, 0.06138529,\n",
       "        0.        ],\n",
       "       [0.01772095, 0.        , 0.18002847, ..., 0.00118027, 0.06716105,\n",
       "        0.        ],\n",
       "       ...,\n",
       "       [0.02005116, 0.        , 0.13682742, ..., 0.01545963, 0.15975195,\n",
       "        0.01391683],\n",
       "       [0.01762183, 0.        , 0.14329757, ..., 0.        , 0.18505754,\n",
       "        0.0030712 ],\n",
       "       [0.02251031, 0.        , 0.12631072, ..., 0.        , 0.21212408,\n",
       "        0.00259195]], dtype=float32)"
      ]
     },
     "execution_count": 42,
     "metadata": {},
     "output_type": "execute_result"
    }
   ],
   "source": [
    "print(\"features_flow\", video_mine['features_flow'][...].shape)\n",
    "video_mine['features_flow'][...]"
   ]
  },
  {
   "cell_type": "markdown",
   "metadata": {},
   "source": [
    "### Features 3D"
   ]
  },
  {
   "cell_type": "code",
   "execution_count": 43,
   "metadata": {},
   "outputs": [
    {
     "name": "stdout",
     "output_type": "stream",
     "text": [
      "features_3D (445, 2048)\n"
     ]
    },
    {
     "data": {
      "text/plain": [
       "array([[2.33934410e-02, 6.04046345e-01, 1.33911669e-01, ...,\n",
       "        1.37832150e-01, 2.49313310e-01, 2.60762542e-01],\n",
       "       [1.21976502e-01, 7.27870226e-01, 1.07403815e-01, ...,\n",
       "        9.01327729e-02, 4.12911385e-01, 1.04337260e-01],\n",
       "       [2.07496986e-01, 7.85300016e-01, 1.22035183e-01, ...,\n",
       "        9.35364366e-02, 4.35545802e-01, 7.82976747e-02],\n",
       "       ...,\n",
       "       [5.42541027e-01, 1.69420049e-01, 2.87856702e-02, ...,\n",
       "        3.79524082e-01, 6.14455529e-02, 4.29075547e-02],\n",
       "       [3.97866368e-01, 1.83645695e-01, 1.37923975e-02, ...,\n",
       "        4.84709322e-01, 8.70130509e-02, 1.77490860e-02],\n",
       "       [3.92477572e-01, 1.53314516e-01, 5.06889522e-02, ...,\n",
       "        5.02738655e-01, 9.93559510e-02, 2.31915707e-04]], dtype=float32)"
      ]
     },
     "execution_count": 43,
     "metadata": {},
     "output_type": "execute_result"
    }
   ],
   "source": [
    "print(\"features_3D\", video_mine['features_3D'][...].shape)\n",
    "video_mine['features_3D'][...]"
   ]
  },
  {
   "cell_type": "code",
   "execution_count": null,
   "metadata": {},
   "outputs": [],
   "source": []
  },
  {
   "cell_type": "markdown",
   "metadata": {},
   "source": [
    "SumMe: video name is stored in video_i/video_name.\n",
    "TVSum: video1-50 corresponds to the same order in ydata-tvsum50.mat, which is the original matlab file provided by TVSum."
   ]
  },
  {
   "cell_type": "code",
   "execution_count": 37,
   "metadata": {},
   "outputs": [],
   "source": [
    "import numpy as np"
   ]
  },
  {
   "cell_type": "code",
   "execution_count": 38,
   "metadata": {},
   "outputs": [],
   "source": [
    "path_data = \"/data/shuaman/video_summarization/datasets/raw_datasets/TvSum/ydata-tvsum50-v1_1/matlab/ydata-tvsum50.mat\""
   ]
  },
  {
   "cell_type": "code",
   "execution_count": 39,
   "metadata": {},
   "outputs": [],
   "source": [
    "import os"
   ]
  },
  {
   "cell_type": "code",
   "execution_count": 40,
   "metadata": {},
   "outputs": [
    {
     "data": {
      "text/plain": [
       "'ydata-tvsum50.mat'"
      ]
     },
     "execution_count": 40,
     "metadata": {},
     "output_type": "execute_result"
    }
   ],
   "source": [
    "os.path.basename(path_data)"
   ]
  },
  {
   "cell_type": "code",
   "execution_count": 41,
   "metadata": {},
   "outputs": [
    {
     "data": {
      "text/plain": [
       "'/data/shuaman/video_summarization/datasets/raw_datasets/TvSum/ydata-tvsum50-v1_1/matlab'"
      ]
     },
     "execution_count": 41,
     "metadata": {},
     "output_type": "execute_result"
    }
   ],
   "source": [
    "\"/\".join(path_data.split(\"/\")[:-1])"
   ]
  },
  {
   "cell_type": "code",
   "execution_count": 42,
   "metadata": {},
   "outputs": [
    {
     "name": "stdout",
     "output_type": "stream",
     "text": [
      "48\n"
     ]
    }
   ],
   "source": [
    "!pip3 freeze | wc -l"
   ]
  },
  {
   "cell_type": "code",
   "execution_count": 44,
   "metadata": {},
   "outputs": [
    {
     "name": "stdout",
     "output_type": "stream",
     "text": [
      "ERROR! Session/line number was not unique in database. History logging moved to new session 242\n"
     ]
    }
   ],
   "source": [
    "all_mat = h5py.File(path_data,'r')"
   ]
  },
  {
   "cell_type": "code",
   "execution_count": 40,
   "metadata": {},
   "outputs": [],
   "source": [
    "all_mat.close()"
   ]
  },
  {
   "cell_type": "code",
   "execution_count": 220,
   "metadata": {},
   "outputs": [
    {
     "data": {
      "text/plain": [
       "<HDF5 file \"ydata-tvsum50.mat\" (mode r+)>"
      ]
     },
     "execution_count": 220,
     "metadata": {},
     "output_type": "execute_result"
    }
   ],
   "source": [
    "all_mat"
   ]
  },
  {
   "cell_type": "code",
   "execution_count": 221,
   "metadata": {},
   "outputs": [
    {
     "data": {
      "text/plain": [
       "['#refs#', 'tvsum50']"
      ]
     },
     "execution_count": 221,
     "metadata": {},
     "output_type": "execute_result"
    }
   ],
   "source": [
    "list(all_mat.keys())"
   ]
  },
  {
   "cell_type": "code",
   "execution_count": 301,
   "metadata": {},
   "outputs": [
    {
     "data": {
      "text/plain": [
       "['category', 'gt_score', 'length', 'nframes', 'title', 'user_anno', 'video']"
      ]
     },
     "execution_count": 301,
     "metadata": {},
     "output_type": "execute_result"
    }
   ],
   "source": [
    "list(all_mat['tvsum50'].keys())"
   ]
  },
  {
   "cell_type": "code",
   "execution_count": 303,
   "metadata": {},
   "outputs": [],
   "source": [
    "xdxddd = ['category', 'gt_score', 'length', 'nframes', 'title', 'user_anno', 'video']"
   ]
  },
  {
   "cell_type": "code",
   "execution_count": 304,
   "metadata": {},
   "outputs": [
    {
     "data": {
      "text/plain": [
       "6"
      ]
     },
     "execution_count": 304,
     "metadata": {},
     "output_type": "execute_result"
    }
   ],
   "source": [
    "xdxddd.index('video')"
   ]
  },
  {
   "cell_type": "code",
   "execution_count": 302,
   "metadata": {},
   "outputs": [
    {
     "data": {
      "text/plain": [
       "3"
      ]
     },
     "execution_count": 302,
     "metadata": {},
     "output_type": "execute_result"
    }
   ],
   "source": [
    "list(all_mat['tvsum50'].keys()).index('nframes')"
   ]
  },
  {
   "cell_type": "code",
   "execution_count": 265,
   "metadata": {},
   "outputs": [
    {
     "data": {
      "text/plain": [
       "7"
      ]
     },
     "execution_count": 265,
     "metadata": {},
     "output_type": "execute_result"
    }
   ],
   "source": [
    "len(all_mat['tvsum50'])"
   ]
  },
  {
   "cell_type": "code",
   "execution_count": 264,
   "metadata": {},
   "outputs": [
    {
     "data": {
      "text/plain": [
       "50"
      ]
     },
     "execution_count": 264,
     "metadata": {},
     "output_type": "execute_result"
    }
   ],
   "source": [
    "len(all_mat['tvsum50']['video'])"
   ]
  },
  {
   "cell_type": "code",
   "execution_count": 224,
   "metadata": {},
   "outputs": [
    {
     "data": {
      "text/plain": [
       "<HDF5 dataset \"title\": shape (50, 1), type \"|O\">"
      ]
     },
     "execution_count": 224,
     "metadata": {},
     "output_type": "execute_result"
    }
   ],
   "source": [
    "all_mat['tvsum50']['title']"
   ]
  },
  {
   "cell_type": "code",
   "execution_count": 225,
   "metadata": {},
   "outputs": [
    {
     "data": {
      "text/plain": [
       "<HDF5 object reference>"
      ]
     },
     "execution_count": 225,
     "metadata": {},
     "output_type": "execute_result"
    }
   ],
   "source": [
    "all_mat['tvsum50']['title'][0][0]"
   ]
  },
  {
   "cell_type": "code",
   "execution_count": 305,
   "metadata": {},
   "outputs": [],
   "source": [
    "xd = all_mat['tvsum50']['user_anno'][0][0]"
   ]
  },
  {
   "cell_type": "code",
   "execution_count": 307,
   "metadata": {},
   "outputs": [
    {
     "data": {
      "text/plain": [
       "(20, 10597)"
      ]
     },
     "execution_count": 307,
     "metadata": {},
     "output_type": "execute_result"
    }
   ],
   "source": [
    "np.array(all_mat[xd]).T.T.shape"
   ]
  },
  {
   "cell_type": "code",
   "execution_count": 299,
   "metadata": {},
   "outputs": [
    {
     "data": {
      "text/plain": [
       "(707,)"
      ]
     },
     "execution_count": 299,
     "metadata": {},
     "output_type": "execute_result"
    }
   ],
   "source": [
    "np.mean(np.array(all_mat[xd])[:,::15], axis=0).shape"
   ]
  },
  {
   "cell_type": "code",
   "execution_count": 286,
   "metadata": {},
   "outputs": [
    {
     "data": {
      "text/plain": [
       "(1, 10597)"
      ]
     },
     "execution_count": 286,
     "metadata": {},
     "output_type": "execute_result"
    }
   ],
   "source": [
    "np.array(all_mat[xd]).shape"
   ]
  },
  {
   "cell_type": "code",
   "execution_count": 285,
   "metadata": {},
   "outputs": [
    {
     "data": {
      "text/plain": [
       "array([[2.9, 2.9, 2.9, ..., 1.3, 1.3, 1.3]])"
      ]
     },
     "execution_count": 285,
     "metadata": {},
     "output_type": "execute_result"
    }
   ],
   "source": [
    "np.array(all_mat[xd])"
   ]
  },
  {
   "cell_type": "code",
   "execution_count": null,
   "metadata": {},
   "outputs": [],
   "source": [
    "['a','b'].join"
   ]
  },
  {
   "cell_type": "code",
   "execution_count": 253,
   "metadata": {},
   "outputs": [],
   "source": [
    "def array_to_id(number_array):\n",
    "    number_array = number_array.squeeze()\n",
    "    chr_array = [chr(x) for x in number_array] \n",
    "    string_array = ''.join(chr_array)\n",
    "    \n",
    "    return string_array"
   ]
  },
  {
   "cell_type": "code",
   "execution_count": 254,
   "metadata": {},
   "outputs": [
    {
     "data": {
      "text/plain": [
       "'AwmHb44_ouw'"
      ]
     },
     "execution_count": 254,
     "metadata": {},
     "output_type": "execute_result"
    }
   ],
   "source": [
    "array_to_id(np.array(all_mat[xd]))"
   ]
  },
  {
   "cell_type": "code",
   "execution_count": 50,
   "metadata": {},
   "outputs": [
    {
     "ename": "KeyError",
     "evalue": "\"Unable to open object (object 'video_1' doesn't exist)\"",
     "output_type": "error",
     "traceback": [
      "\u001b[0;31m---------------------------------------------------------------------------\u001b[0m",
      "\u001b[0;31mKeyError\u001b[0m                                  Traceback (most recent call last)",
      "\u001b[0;32m<ipython-input-50-7ccc97465fdc>\u001b[0m in \u001b[0;36m<module>\u001b[0;34m\u001b[0m\n\u001b[0;32m----> 1\u001b[0;31m \u001b[0mmat\u001b[0m \u001b[0;34m=\u001b[0m \u001b[0mall_mat\u001b[0m\u001b[0;34m[\u001b[0m\u001b[0;34m'video_1'\u001b[0m\u001b[0;34m]\u001b[0m\u001b[0;34m\u001b[0m\u001b[0;34m\u001b[0m\u001b[0m\n\u001b[0m",
      "\u001b[0;32mh5py/_objects.pyx\u001b[0m in \u001b[0;36mh5py._objects.with_phil.wrapper (/build/h5py-qzs83i/h5py-2.7.1/h5py/_objects.c:2847)\u001b[0;34m()\u001b[0m\n",
      "\u001b[0;32mh5py/_objects.pyx\u001b[0m in \u001b[0;36mh5py._objects.with_phil.wrapper (/build/h5py-qzs83i/h5py-2.7.1/h5py/_objects.c:2805)\u001b[0;34m()\u001b[0m\n",
      "\u001b[0;32m/usr/lib/python3/dist-packages/h5py/_hl/group.py\u001b[0m in \u001b[0;36m__getitem__\u001b[0;34m(self, name)\u001b[0m\n\u001b[1;32m    165\u001b[0m                 \u001b[0;32mraise\u001b[0m \u001b[0mValueError\u001b[0m\u001b[0;34m(\u001b[0m\u001b[0;34m\"Invalid HDF5 object reference\"\u001b[0m\u001b[0;34m)\u001b[0m\u001b[0;34m\u001b[0m\u001b[0;34m\u001b[0m\u001b[0m\n\u001b[1;32m    166\u001b[0m         \u001b[0;32melse\u001b[0m\u001b[0;34m:\u001b[0m\u001b[0;34m\u001b[0m\u001b[0;34m\u001b[0m\u001b[0m\n\u001b[0;32m--> 167\u001b[0;31m             \u001b[0moid\u001b[0m \u001b[0;34m=\u001b[0m \u001b[0mh5o\u001b[0m\u001b[0;34m.\u001b[0m\u001b[0mopen\u001b[0m\u001b[0;34m(\u001b[0m\u001b[0mself\u001b[0m\u001b[0;34m.\u001b[0m\u001b[0mid\u001b[0m\u001b[0;34m,\u001b[0m \u001b[0mself\u001b[0m\u001b[0;34m.\u001b[0m\u001b[0m_e\u001b[0m\u001b[0;34m(\u001b[0m\u001b[0mname\u001b[0m\u001b[0;34m)\u001b[0m\u001b[0;34m,\u001b[0m \u001b[0mlapl\u001b[0m\u001b[0;34m=\u001b[0m\u001b[0mself\u001b[0m\u001b[0;34m.\u001b[0m\u001b[0m_lapl\u001b[0m\u001b[0;34m)\u001b[0m\u001b[0;34m\u001b[0m\u001b[0;34m\u001b[0m\u001b[0m\n\u001b[0m\u001b[1;32m    168\u001b[0m \u001b[0;34m\u001b[0m\u001b[0m\n\u001b[1;32m    169\u001b[0m         \u001b[0motype\u001b[0m \u001b[0;34m=\u001b[0m \u001b[0mh5i\u001b[0m\u001b[0;34m.\u001b[0m\u001b[0mget_type\u001b[0m\u001b[0;34m(\u001b[0m\u001b[0moid\u001b[0m\u001b[0;34m)\u001b[0m\u001b[0;34m\u001b[0m\u001b[0;34m\u001b[0m\u001b[0m\n",
      "\u001b[0;32mh5py/_objects.pyx\u001b[0m in \u001b[0;36mh5py._objects.with_phil.wrapper (/build/h5py-qzs83i/h5py-2.7.1/h5py/_objects.c:2847)\u001b[0;34m()\u001b[0m\n",
      "\u001b[0;32mh5py/_objects.pyx\u001b[0m in \u001b[0;36mh5py._objects.with_phil.wrapper (/build/h5py-qzs83i/h5py-2.7.1/h5py/_objects.c:2805)\u001b[0;34m()\u001b[0m\n",
      "\u001b[0;32mh5py/h5o.pyx\u001b[0m in \u001b[0;36mh5py.h5o.open (/build/h5py-qzs83i/h5py-2.7.1/h5py/h5o.c:3738)\u001b[0;34m()\u001b[0m\n",
      "\u001b[0;31mKeyError\u001b[0m: \"Unable to open object (object 'video_1' doesn't exist)\""
     ]
    }
   ],
   "source": [
    "mat = all_mat['video_1']"
   ]
  },
  {
   "cell_type": "code",
   "execution_count": 654,
   "metadata": {},
   "outputs": [
    {
     "data": {
      "text/plain": [
       "array([[25]], dtype=uint8)"
      ]
     },
     "execution_count": 654,
     "metadata": {},
     "output_type": "execute_result"
    }
   ],
   "source": [
    "mat[\"FPS\"]"
   ]
  },
  {
   "cell_type": "code",
   "execution_count": 655,
   "metadata": {},
   "outputs": [
    {
     "data": {
      "text/plain": [
       "array([[25]], dtype=uint8)"
      ]
     },
     "execution_count": 655,
     "metadata": {},
     "output_type": "execute_result"
    }
   ],
   "source": [
    "mat[\"FPS\"]"
   ]
  },
  {
   "cell_type": "code",
   "execution_count": 656,
   "metadata": {},
   "outputs": [
    {
     "data": {
      "text/plain": [
       "array([[179.772]])"
      ]
     },
     "execution_count": 656,
     "metadata": {},
     "output_type": "execute_result"
    }
   ],
   "source": [
    "mat[\"video_duration\"]"
   ]
  },
  {
   "cell_type": "code",
   "execution_count": 657,
   "metadata": {},
   "outputs": [
    {
     "data": {
      "text/plain": [
       "array([[0.],\n",
       "       [0.],\n",
       "       [0.],\n",
       "       [0.],\n",
       "       [0.],\n",
       "       [0.],\n",
       "       [0.],\n",
       "       [0.],\n",
       "       [0.],\n",
       "       [0.],\n",
       "       [0.],\n",
       "       [0.],\n",
       "       [0.],\n",
       "       [0.],\n",
       "       [0.],\n",
       "       [0.],\n",
       "       [0.],\n",
       "       [0.],\n",
       "       [0.],\n",
       "       [0.]])"
      ]
     },
     "execution_count": 657,
     "metadata": {},
     "output_type": "execute_result"
    }
   ],
   "source": [
    "#the averaged score\n",
    "mat[\"gt_score\"][:20]"
   ]
  },
  {
   "cell_type": "code",
   "execution_count": 658,
   "metadata": {},
   "outputs": [
    {
     "data": {
      "text/plain": [
       "(4494, 15)"
      ]
     },
     "execution_count": 658,
     "metadata": {},
     "output_type": "execute_result"
    }
   ],
   "source": [
    "mat[\"user_score\"][:,].shape"
   ]
  },
  {
   "cell_type": "code",
   "execution_count": 659,
   "metadata": {},
   "outputs": [],
   "source": [
    "goundt = mat[\"user_score\"].T"
   ]
  },
  {
   "cell_type": "code",
   "execution_count": 660,
   "metadata": {},
   "outputs": [
    {
     "data": {
      "text/plain": [
       "(15, 4494)"
      ]
     },
     "execution_count": 660,
     "metadata": {},
     "output_type": "execute_result"
    }
   ],
   "source": [
    "goundt.shape"
   ]
  },
  {
   "cell_type": "code",
   "execution_count": 661,
   "metadata": {},
   "outputs": [
    {
     "data": {
      "text/plain": [
       "2.75"
      ]
     },
     "execution_count": 661,
     "metadata": {},
     "output_type": "execute_result"
    }
   ],
   "source": [
    "((goundt - 0)/4).max()"
   ]
  },
  {
   "cell_type": "code",
   "execution_count": 662,
   "metadata": {},
   "outputs": [
    {
     "data": {
      "text/plain": [
       "2.933333333333333"
      ]
     },
     "execution_count": 662,
     "metadata": {},
     "output_type": "execute_result"
    }
   ],
   "source": [
    "np.mean(goundt[:,::15], axis=0).max()"
   ]
  },
  {
   "cell_type": "code",
   "execution_count": 663,
   "metadata": {},
   "outputs": [],
   "source": [
    "xd = np.mean(goundt[:,::15], axis=0)"
   ]
  },
  {
   "cell_type": "code",
   "execution_count": 664,
   "metadata": {},
   "outputs": [
    {
     "data": {
      "text/plain": [
       "1.0"
      ]
     },
     "execution_count": 664,
     "metadata": {},
     "output_type": "execute_result"
    }
   ],
   "source": [
    "((xd - xd.min()) / (xd.max()-xd.min())).max()\n"
   ]
  },
  {
   "cell_type": "code",
   "execution_count": 665,
   "metadata": {},
   "outputs": [
    {
     "data": {
      "text/plain": [
       "array([[4494]], dtype=uint16)"
      ]
     },
     "execution_count": 665,
     "metadata": {},
     "output_type": "execute_result"
    }
   ],
   "source": [
    "mat[\"nFrames\"]"
   ]
  },
  {
   "cell_type": "code",
   "execution_count": 666,
   "metadata": {},
   "outputs": [
    {
     "data": {
      "text/plain": [
       "(1, 15)"
      ]
     },
     "execution_count": 666,
     "metadata": {},
     "output_type": "execute_result"
    }
   ],
   "source": [
    "mat['segments'].shape"
   ]
  },
  {
   "cell_type": "code",
   "execution_count": 667,
   "metadata": {},
   "outputs": [],
   "source": [
    "# user_score = user_summary"
   ]
  },
  {
   "cell_type": "code",
   "execution_count": 40,
   "metadata": {},
   "outputs": [],
   "source": [
    "# nFrames = n_frames"
   ]
  },
  {
   "cell_type": "code",
   "execution_count": 73,
   "metadata": {},
   "outputs": [],
   "source": [
    "la = [1,2,3,4]"
   ]
  },
  {
   "cell_type": "code",
   "execution_count": 71,
   "metadata": {},
   "outputs": [],
   "source": [
    "lb = [\"a\",\"v\",\"c\",\"d\"]"
   ]
  },
  {
   "cell_type": "code",
   "execution_count": 81,
   "metadata": {},
   "outputs": [
    {
     "data": {
      "text/plain": [
       "<enumerate at 0x7f744c348e10>"
      ]
     },
     "execution_count": 81,
     "metadata": {},
     "output_type": "execute_result"
    }
   ],
   "source": [
    "enumerate((la, lb))"
   ]
  },
  {
   "cell_type": "code",
   "execution_count": 84,
   "metadata": {},
   "outputs": [
    {
     "name": "stdout",
     "output_type": "stream",
     "text": [
      "0 (1, 'a')\n",
      "1 (2, 'v')\n",
      "2 (3, 'c')\n",
      "3 (4, 'd')\n"
     ]
    }
   ],
   "source": [
    "for idx, a_b in enumerate(zip(la, lb)):\n",
    "    print(idx, a_b)"
   ]
  },
  {
   "cell_type": "code",
   "execution_count": null,
   "metadata": {},
   "outputs": [],
   "source": [
    "a = np.array([[1, 0],\n",
    "                 []\n",
    "              [0, 1]])"
   ]
  }
 ],
 "metadata": {
  "kernelspec": {
   "display_name": "vsm_kernel",
   "language": "python",
   "name": "vsm_kernel"
  },
  "language_info": {
   "codemirror_mode": {
    "name": "ipython",
    "version": 3
   },
   "file_extension": ".py",
   "mimetype": "text/x-python",
   "name": "python",
   "nbconvert_exporter": "python",
   "pygments_lexer": "ipython3",
   "version": "3.8.11"
  }
 },
 "nbformat": 4,
 "nbformat_minor": 4
}
