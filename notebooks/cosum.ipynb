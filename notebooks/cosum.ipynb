{
 "cells": [
  {
   "cell_type": "code",
   "execution_count": 276,
   "metadata": {},
   "outputs": [
    {
     "name": "stdout",
     "output_type": "stream",
     "text": [
      "51\n"
     ]
    }
   ],
   "source": [
    "!pip3 freeze | wc -l"
   ]
  },
  {
   "cell_type": "code",
   "execution_count": 277,
   "metadata": {},
   "outputs": [],
   "source": [
    "import h5py"
   ]
  },
  {
   "cell_type": "code",
   "execution_count": 278,
   "metadata": {},
   "outputs": [],
   "source": [
    "import os"
   ]
  },
  {
   "cell_type": "code",
   "execution_count": 279,
   "metadata": {},
   "outputs": [],
   "source": [
    "import scipy.io"
   ]
  },
  {
   "cell_type": "code",
   "execution_count": 280,
   "metadata": {},
   "outputs": [],
   "source": [
    "import numpy as np"
   ]
  },
  {
   "cell_type": "code",
   "execution_count": 281,
   "metadata": {},
   "outputs": [],
   "source": [
    "path_just_generated = \"/home/shuaman/video_sm/video_summarization/src/eccv16_dataset_cosum_google_pool5.h5\"\n",
    "# path_just_generated = \"/home/shuaman/video_sm/DSNet/src/custom_dataset.h5\""
   ]
  },
  {
   "cell_type": "code",
   "execution_count": 282,
   "metadata": {},
   "outputs": [],
   "source": [
    "#Air_Force_One_data = h5py.File(path_just_generated, 'r')['video_1']\n",
    "data_all_cosum_mine = h5py.File(path_just_generated, 'r')"
   ]
  },
  {
   "cell_type": "code",
   "execution_count": 283,
   "metadata": {},
   "outputs": [],
   "source": [
    "#path_data_preprocessd = \"/data/shuaman/video_summarization/datasets/dsnet/datasets/eccv16_dataset_summe_google_pool5.h5\"\n",
    "# path_data_preprocessd = \"/data/shuaman/video_summarization/datasets/object_features/eccv16_dataset_summe_google_pool5.h5\""
   ]
  },
  {
   "cell_type": "code",
   "execution_count": 284,
   "metadata": {},
   "outputs": [],
   "source": [
    "# data_all_summe = h5py.File(path_data_preprocessd, 'r')"
   ]
  },
  {
   "cell_type": "code",
   "execution_count": 285,
   "metadata": {},
   "outputs": [],
   "source": [
    "# list(data_all_summe)"
   ]
  },
  {
   "cell_type": "code",
   "execution_count": 286,
   "metadata": {},
   "outputs": [
    {
     "name": "stdout",
     "output_type": "stream",
     "text": [
      "video 1 comparison\n",
      "features mine (566, 1024)\n",
      "\n",
      "gtscore mine (566,)\n",
      "\n",
      "video name mine b'Alana Blanchard Aloha Kauai - Alana Surfer Girl Ep 101'\n",
      "user summary mine (3, 8479)\n",
      "\n",
      "n frames mine 8479\n",
      "\n",
      "change points mine (57, 2)\n",
      "\n",
      "n frame per seg mine (57,)\n",
      "\n",
      "picks mine (566,)\n",
      "\n",
      "n steps mine 566\n",
      "\n",
      "video 2 comparison\n",
      "features mine (335, 1024)\n",
      "\n",
      "gtscore mine (335,)\n",
      "\n",
      "video name mine b'BKRW bikepolo TOURNAMENT x NIKE IAM1 PARIS Video'\n",
      "user summary mine (3, 5017)\n",
      "\n",
      "n frames mine 5017\n",
      "\n",
      "change points mine (34, 2)\n",
      "\n",
      "n frame per seg mine (34,)\n",
      "\n",
      "picks mine (335,)\n",
      "\n",
      "n steps mine 335\n",
      "\n",
      "video 3 comparison\n",
      "features mine (386, 1024)\n",
      "\n",
      "gtscore mine (386,)\n",
      "\n",
      "video name mine b\"BUSTED by the Police, BASE Jumping in Benidorm Jokke Sommer's Barely Legal, Ep. 2\"\n",
      "user summary mine (3, 5777)\n",
      "\n",
      "n frames mine 5777\n",
      "\n",
      "change points mine (39, 2)\n",
      "\n",
      "n frame per seg mine (39,)\n",
      "\n",
      "picks mine (386,)\n",
      "\n",
      "n steps mine 386\n",
      "\n",
      "video 4 comparison\n",
      "features mine (197, 1024)\n",
      "\n",
      "gtscore mine (197,)\n",
      "\n",
      "video name mine b'Bike Polo Part 1 Donnie'\n",
      "user summary mine (3, 2944)\n",
      "\n",
      "n frames mine 2944\n",
      "\n",
      "change points mine (20, 2)\n",
      "\n",
      "n frame per seg mine (20,)\n",
      "\n",
      "picks mine (197,)\n",
      "\n",
      "n steps mine 197\n",
      "\n",
      "video 5 comparison\n",
      "features mine (171, 1024)\n",
      "\n",
      "gtscore mine (171,)\n",
      "\n",
      "video name mine b'Burj Khalifa Pinnacle BASE Jump - 4K'\n",
      "user summary mine (3, 2551)\n",
      "\n",
      "n frames mine 2551\n",
      "\n",
      "change points mine (18, 2)\n",
      "\n",
      "n frame per seg mine (18,)\n",
      "\n",
      "picks mine (171,)\n",
      "\n",
      "n steps mine 171\n",
      "\n",
      "video 6 comparison\n",
      "features mine (227, 1024)\n",
      "\n",
      "gtscore mine (227,)\n",
      "\n",
      "video name mine b'Eiffel Tower Time Lapse'\n",
      "user summary mine (3, 3395)\n",
      "\n",
      "n frames mine 3395\n",
      "\n",
      "change points mine (23, 2)\n",
      "\n",
      "n frame per seg mine (23,)\n",
      "\n",
      "picks mine (227,)\n",
      "\n",
      "n steps mine 227\n",
      "\n",
      "video 7 comparison\n",
      "features mine (1491, 1024)\n",
      "\n",
      "gtscore mine (1491,)\n",
      "\n",
      "video name mine b'Eiffel Tower'\n",
      "user summary mine (3, 22356)\n",
      "\n",
      "n frames mine 22356\n",
      "\n",
      "change points mine (150, 2)\n",
      "\n",
      "n frame per seg mine (150,)\n",
      "\n",
      "picks mine (1491,)\n",
      "\n",
      "n steps mine 1491\n",
      "\n",
      "video 8 comparison\n",
      "features mine (214, 1024)\n",
      "\n",
      "gtscore mine (214,)\n",
      "\n",
      "video name mine b'Excavator Extravaganza How to cross river with two excavators'\n",
      "user summary mine (3, 3198)\n",
      "\n",
      "n frames mine 3198\n",
      "\n",
      "change points mine (22, 2)\n",
      "\n",
      "n frame per seg mine (22,)\n",
      "\n",
      "picks mine (214,)\n",
      "\n",
      "n steps mine 214\n",
      "\n",
      "video 9 comparison\n",
      "features mine (367, 1024)\n",
      "\n",
      "gtscore mine (367,)\n",
      "\n",
      "video name mine b'Freak Scene Bike Polo Part 1 The Gear'\n",
      "user summary mine (3, 5501)\n",
      "\n",
      "n frames mine 5501\n",
      "\n",
      "change points mine (37, 2)\n",
      "\n",
      "n frame per seg mine (37,)\n",
      "\n",
      "picks mine (367,)\n",
      "\n",
      "n steps mine 367\n",
      "\n",
      "video 10 comparison\n",
      "features mine (237, 1024)\n",
      "\n",
      "gtscore mine (237,)\n",
      "\n",
      "video name mine b'Go Pro Surfing Sexy Girl Compilation'\n",
      "user summary mine (3, 3550)\n",
      "\n",
      "n frames mine 3550\n",
      "\n",
      "change points mine (24, 2)\n",
      "\n",
      "n frame per seg mine (24,)\n",
      "\n",
      "picks mine (237,)\n",
      "\n",
      "n steps mine 237\n",
      "\n",
      "video 11 comparison\n",
      "features mine (317, 1024)\n",
      "\n",
      "gtscore mine (317,)\n",
      "\n",
      "video name mine b'How was the Eiffel Tower built I Head Squeeze'\n",
      "user summary mine (3, 4755)\n",
      "\n",
      "n frames mine 4755\n",
      "\n",
      "change points mine (32, 2)\n",
      "\n",
      "n frame per seg mine (32,)\n",
      "\n",
      "picks mine (317,)\n",
      "\n",
      "n steps mine 317\n",
      "\n",
      "video 12 comparison\n",
      "features mine (176, 1024)\n",
      "\n",
      "gtscore mine (176,)\n",
      "\n",
      "video name mine b'Ichiro slugs his first homer of the season in 2014'\n",
      "user summary mine (3, 2638)\n",
      "\n",
      "n frames mine 2638\n",
      "\n",
      "change points mine (18, 2)\n",
      "\n",
      "n frame per seg mine (18,)\n",
      "\n",
      "picks mine (176,)\n",
      "\n",
      "n steps mine 176\n",
      "\n",
      "video 13 comparison\n",
      "features mine (64, 1024)\n",
      "\n",
      "gtscore mine (64,)\n",
      "\n",
      "video name mine b'Kids Playing with Leaves'\n",
      "user summary mine (3, 955)\n",
      "\n",
      "n frames mine 955\n",
      "\n",
      "change points mine (7, 2)\n",
      "\n",
      "n frame per seg mine (7,)\n",
      "\n",
      "picks mine (64,)\n",
      "\n",
      "n steps mine 64\n",
      "\n",
      "video 14 comparison\n",
      "features mine (783, 1024)\n",
      "\n",
      "gtscore mine (783,)\n",
      "\n",
      "video name mine b'Kids playing in leaves'\n",
      "user summary mine (3, 11733)\n",
      "\n",
      "n frames mine 11733\n",
      "\n",
      "change points mine (79, 2)\n",
      "\n",
      "n frame per seg mine (79,)\n",
      "\n",
      "picks mine (783,)\n",
      "\n",
      "n steps mine 783\n",
      "\n",
      "video 15 comparison\n",
      "features mine (381, 1024)\n",
      "\n",
      "gtscore mine (381,)\n",
      "\n",
      "video name mine b'Mat Zo feat. Linnea Schossow - The Sky (OFFICIAL MUSIC VIDEO)'\n",
      "user summary mine (3, 5703)\n",
      "\n",
      "n frames mine 5703\n",
      "\n",
      "change points mine (39, 2)\n",
      "\n",
      "n frame per seg mine (39,)\n",
      "\n",
      "picks mine (381,)\n",
      "\n",
      "n steps mine 381\n",
      "\n",
      "video 16 comparison\n",
      "features mine (183, 1024)\n",
      "\n",
      "gtscore mine (183,)\n",
      "\n",
      "video name mine b\"Mother's Day MLB News Story\"\n",
      "user summary mine (3, 2743)\n",
      "\n",
      "n frames mine 2743\n",
      "\n",
      "change points mine (19, 2)\n",
      "\n",
      "n frame per seg mine (19,)\n",
      "\n",
      "picks mine (183,)\n",
      "\n",
      "n steps mine 183\n",
      "\n",
      "video 17 comparison\n",
      "features mine (220, 1024)\n",
      "\n",
      "gtscore mine (220,)\n",
      "\n",
      "video name mine b'NYC-Bike Polo'\n",
      "user summary mine (3, 3300)\n",
      "\n",
      "n frames mine 3300\n",
      "\n",
      "change points mine (22, 2)\n",
      "\n",
      "n frame per seg mine (22,)\n",
      "\n",
      "picks mine (220,)\n",
      "\n",
      "n steps mine 220\n",
      "\n",
      "video 18 comparison\n",
      "features mine (355, 1024)\n",
      "\n",
      "gtscore mine (355,)\n",
      "\n",
      "video name mine b\"New York City's Statue of Liberty - 2 Minute Tour\"\n",
      "user summary mine (3, 5319)\n",
      "\n",
      "n frames mine 5319\n",
      "\n",
      "change points mine (36, 2)\n",
      "\n",
      "n frame per seg mine (36,)\n",
      "\n",
      "picks mine (355,)\n",
      "\n",
      "n steps mine 355\n",
      "\n",
      "video 19 comparison\n",
      "features mine (536, 1024)\n",
      "\n",
      "gtscore mine (536,)\n",
      "\n",
      "video name mine b'Notre Dame Football 2014-15 Pump Up'\n",
      "user summary mine (3, 8036)\n",
      "\n",
      "n frames mine 8036\n",
      "\n",
      "change points mine (54, 2)\n",
      "\n",
      "n frame per seg mine (54,)\n",
      "\n",
      "picks mine (536,)\n",
      "\n",
      "n steps mine 536\n",
      "\n",
      "video 20 comparison\n",
      "features mine (584, 1024)\n",
      "\n",
      "gtscore mine (584,)\n",
      "\n",
      "video name mine b'Notre Dame Football 2014'\n",
      "user summary mine (3, 8755)\n",
      "\n",
      "n frames mine 8755\n",
      "\n",
      "change points mine (59, 2)\n",
      "\n",
      "n frame per seg mine (59,)\n",
      "\n",
      "picks mine (584,)\n",
      "\n",
      "n steps mine 584\n",
      "\n",
      "video 21 comparison\n",
      "features mine (382, 1024)\n",
      "\n",
      "gtscore mine (382,)\n",
      "\n",
      "video name mine b'Orlando Bike Polo'\n",
      "user summary mine (3, 5727)\n",
      "\n",
      "n frames mine 5727\n",
      "\n",
      "change points mine (39, 2)\n",
      "\n",
      "n frame per seg mine (39,)\n",
      "\n",
      "picks mine (382,)\n",
      "\n",
      "n steps mine 382\n",
      "\n",
      "video 22 comparison\n",
      "features mine (160, 1024)\n",
      "\n",
      "gtscore mine (160,)\n",
      "\n",
      "video name mine b'Paper Model of the Statue of Liberty'\n",
      "user summary mine (3, 2399)\n",
      "\n",
      "n frames mine 2399\n",
      "\n",
      "change points mine (16, 2)\n",
      "\n",
      "n frame per seg mine (16,)\n",
      "\n",
      "picks mine (160,)\n",
      "\n",
      "n steps mine 160\n",
      "\n",
      "video 23 comparison\n",
      "features mine (468, 1024)\n",
      "\n",
      "gtscore mine (468,)\n",
      "\n",
      "video name mine b\"Paris Trip Day 4 Notre Dame & D'orsay\"\n",
      "user summary mine (3, 7013)\n",
      "\n",
      "n frames mine 7013\n",
      "\n",
      "change points mine (47, 2)\n",
      "\n",
      "n frame per seg mine (47,)\n",
      "\n",
      "picks mine (468,)\n",
      "\n",
      "n steps mine 468\n",
      "\n",
      "video 24 comparison\n",
      "features mine (528, 1024)\n",
      "\n",
      "gtscore mine (528,)\n",
      "\n",
      "video name mine b'Playing in the Leaves - 2011'\n",
      "user summary mine (3, 7915)\n",
      "\n",
      "n frames mine 7915\n",
      "\n",
      "change points mine (53, 2)\n",
      "\n",
      "n frame per seg mine (53,)\n",
      "\n",
      "picks mine (528,)\n",
      "\n",
      "n steps mine 528\n",
      "\n",
      "video 25 comparison\n",
      "features mine (370, 1024)\n",
      "\n",
      "gtscore mine (370,)\n",
      "\n",
      "video name mine b\"Pro Surfer Carissa Moore's Journey to two ASP World Championships\"\n",
      "user summary mine (3, 5545)\n",
      "\n",
      "n frames mine 5545\n",
      "\n",
      "change points mine (37, 2)\n",
      "\n",
      "n frame per seg mine (37,)\n",
      "\n",
      "picks mine (370,)\n",
      "\n",
      "n steps mine 370\n",
      "\n",
      "video 26 comparison\n",
      "features mine (277, 1024)\n",
      "\n",
      "gtscore mine (277,)\n",
      "\n",
      "video name mine b'Statue of Liberty 20 foot tall Foam Sculpture for Governors Ball Music Festival'\n",
      "user summary mine (3, 4151)\n",
      "\n",
      "n frames mine 4151\n",
      "\n",
      "change points mine (28, 2)\n",
      "\n",
      "n frame per seg mine (28,)\n",
      "\n",
      "picks mine (277,)\n",
      "\n",
      "n steps mine 277\n",
      "\n",
      "video 27 comparison\n",
      "features mine (201, 1024)\n",
      "\n",
      "gtscore mine (201,)\n",
      "\n",
      "video name mine b'Statue of Liberty for Kids'\n",
      "user summary mine (3, 3015)\n",
      "\n",
      "n frames mine 3015\n",
      "\n",
      "change points mine (21, 2)\n",
      "\n",
      "n frame per seg mine (21,)\n",
      "\n",
      "picks mine (201,)\n",
      "\n",
      "n steps mine 201\n",
      "\n",
      "video 28 comparison\n",
      "features mine (491, 1024)\n",
      "\n",
      "gtscore mine (491,)\n",
      "\n",
      "video name mine b'Surfing With Alana Blanchard & Her Boyfriend Jack Freestone Ep. 305'\n",
      "user summary mine (3, 7363)\n",
      "\n",
      "n frames mine 7363\n",
      "\n",
      "change points mine (50, 2)\n",
      "\n",
      "n frame per seg mine (50,)\n",
      "\n",
      "picks mine (491,)\n",
      "\n",
      "n steps mine 491\n",
      "\n",
      "video 29 comparison\n",
      "features mine (302, 1024)\n",
      "\n",
      "gtscore mine (302,)\n",
      "\n",
      "video name mine b'The Beach Boys ~ Surfer Girl'\n",
      "user summary mine (3, 4516)\n",
      "\n",
      "n frames mine 4516\n",
      "\n",
      "change points mine (31, 2)\n",
      "\n",
      "n frame per seg mine (31,)\n",
      "\n",
      "picks mine (302,)\n",
      "\n",
      "n steps mine 302\n",
      "\n",
      "video 30 comparison\n",
      "features mine (91, 1024)\n",
      "\n",
      "gtscore mine (91,)\n",
      "\n",
      "video name mine b'The Lauraville Kids Play in The Leaves'\n",
      "user summary mine (3, 1351)\n",
      "\n",
      "n frames mine 1351\n",
      "\n",
      "change points mine (10, 2)\n",
      "\n",
      "n frame per seg mine (10,)\n",
      "\n",
      "picks mine (91,)\n",
      "\n",
      "n steps mine 91\n",
      "\n",
      "video 31 comparison\n",
      "features mine (614, 1024)\n",
      "\n",
      "gtscore mine (614,)\n",
      "\n",
      "video name mine b'The Vast Waters Fresh Surfing in Costa Rica'\n",
      "user summary mine (3, 9208)\n",
      "\n",
      "n frames mine 9208\n",
      "\n",
      "change points mine (62, 2)\n",
      "\n",
      "n frame per seg mine (62,)\n",
      "\n",
      "picks mine (614,)\n",
      "\n",
      "n steps mine 614\n",
      "\n",
      "video 32 comparison\n",
      "features mine (243, 1024)\n",
      "\n",
      "gtscore mine (243,)\n",
      "\n",
      "video name mine b'Travel Paris Eiffel Tower - A Different Way Up'\n",
      "user summary mine (3, 3642)\n",
      "\n",
      "n frames mine 3642\n",
      "\n",
      "change points mine (25, 2)\n",
      "\n",
      "n frame per seg mine (25,)\n",
      "\n",
      "picks mine (243,)\n",
      "\n",
      "n steps mine 243\n",
      "\n",
      "video 33 comparison\n",
      "features mine (256, 1024)\n",
      "\n",
      "gtscore mine (256,)\n",
      "\n",
      "video name mine b\"Travel Paris Notre Dame's Locals Only Secret Garden\"\n",
      "user summary mine (3, 3834)\n",
      "\n",
      "n frames mine 3834\n",
      "\n",
      "change points mine (26, 2)\n",
      "\n",
      "n frame per seg mine (26,)\n",
      "\n",
      "picks mine (256,)\n",
      "\n",
      "n steps mine 256\n",
      "\n",
      "video 34 comparison\n",
      "features mine (154, 1024)\n",
      "\n",
      "gtscore mine (154,)\n",
      "\n",
      "video name mine b'Visiting the Notre Dame Cathedral Paris Travel'\n",
      "user summary mine (3, 2309)\n",
      "\n",
      "n frames mine 2309\n",
      "\n",
      "change points mine (16, 2)\n",
      "\n",
      "n frame per seg mine (16,)\n",
      "\n",
      "picks mine (154,)\n",
      "\n",
      "n steps mine 154\n",
      "\n",
      "video 35 comparison\n",
      "features mine (93, 1024)\n",
      "\n",
      "gtscore mine (93,)\n",
      "\n",
      "video name mine b\"World's First Wingsuit BASE Jumping Dog\"\n",
      "user summary mine (3, 1386)\n",
      "\n",
      "n frames mine 1386\n",
      "\n",
      "change points mine (10, 2)\n",
      "\n",
      "n frame per seg mine (10,)\n",
      "\n",
      "picks mine (93,)\n",
      "\n",
      "n steps mine 93\n",
      "\n",
      "video 36 comparison\n",
      "features mine (144, 1024)\n",
      "\n",
      "gtscore mine (144,)\n",
      "\n",
      "video name mine b\"World's Highest BASE Jump - Flying from Mt. Everest\"\n",
      "user summary mine (3, 2159)\n",
      "\n",
      "n frames mine 2159\n",
      "\n",
      "change points mine (15, 2)\n",
      "\n",
      "n frame per seg mine (15,)\n",
      "\n",
      "picks mine (144,)\n",
      "\n",
      "n steps mine 144\n",
      "\n",
      "video 37 comparison\n",
      "features mine (218, 1024)\n",
      "\n",
      "gtscore mine (218,)\n",
      "\n",
      "video name mine b'baseball play 1'\n",
      "user summary mine (3, 3263)\n",
      "\n",
      "n frames mine 3263\n",
      "\n",
      "change points mine (22, 2)\n",
      "\n",
      "n frame per seg mine (22,)\n",
      "\n",
      "picks mine (218,)\n",
      "\n",
      "n steps mine 218\n",
      "\n",
      "video 38 comparison\n",
      "features mine (214, 1024)\n",
      "\n",
      "gtscore mine (214,)\n",
      "\n",
      "video name mine b'baseball play 2'\n",
      "user summary mine (3, 3204)\n",
      "\n",
      "n frames mine 3204\n",
      "\n",
      "change points mine (22, 2)\n",
      "\n",
      "n frame per seg mine (22,)\n",
      "\n",
      "picks mine (214,)\n",
      "\n",
      "n steps mine 214\n",
      "\n",
      "video 39 comparison\n",
      "features mine (438, 1024)\n",
      "\n",
      "gtscore mine (438,)\n",
      "\n",
      "video name mine b'baseball play 6'\n",
      "user summary mine (3, 6560)\n",
      "\n",
      "n frames mine 6560\n",
      "\n",
      "change points mine (44, 2)\n",
      "\n",
      "n frame per seg mine (44,)\n",
      "\n",
      "picks mine (438,)\n",
      "\n",
      "n steps mine 438\n",
      "\n",
      "video 40 comparison\n",
      "features mine (318, 1024)\n",
      "\n",
      "gtscore mine (318,)\n",
      "\n",
      "video name mine b'kids playing in leaves 10212013'\n",
      "user summary mine (3, 4764)\n",
      "\n",
      "n frames mine 4764\n",
      "\n",
      "change points mine (32, 2)\n",
      "\n",
      "n frame per seg mine (32,)\n",
      "\n",
      "picks mine (318,)\n",
      "\n",
      "n steps mine 318\n",
      "\n",
      "video 41 comparison\n",
      "features mine (426, 1024)\n",
      "\n",
      "gtscore mine (426,)\n",
      "\n",
      "video name mine b'nfl3'\n",
      "user summary mine (3, 6388)\n",
      "\n",
      "n frames mine 6388\n",
      "\n",
      "change points mine (43, 2)\n",
      "\n",
      "n frame per seg mine (43,)\n",
      "\n",
      "picks mine (426,)\n",
      "\n",
      "n steps mine 426\n",
      "\n"
     ]
    }
   ],
   "source": [
    "for i in range(0,41):\n",
    "#     video_gt = data_all_summe[\"video_\" + str(i+1)]\n",
    "    video_mine = data_all_cosum_mine[\"video_\" + str(i+1)]\n",
    "    \n",
    "    perfect = True\n",
    "    \n",
    "    print(f'video {i+1} comparison')\n",
    "    #if video_gt['features'][...].shape != video_mine['features'][...].shape:\n",
    "     #   perfect = False\n",
    "      #  print(\"features gt\", video_gt['features'][...].shape)\n",
    "    print(\"features mine\", video_mine['features'][...].shape)\n",
    "    print()\n",
    "        \n",
    "    #if video_gt['gtscore'][...].shape != video_mine['gtscore'][...].shape:\n",
    "     #   perfect = False\n",
    "      #  print(\"gtscore gt\", video_gt['gtscore'][...].shape)\n",
    "    print(\"gtscore mine\", video_mine['gtscore'][...].shape)\n",
    "    print()\n",
    "        \n",
    "    #print(\"video name gt\", video_gt['video_name'][...])\n",
    "    print(\"video name mine\", video_mine['video_name'][...])\n",
    "    \n",
    "    #if video_gt['user_summary'][...].shape != video_mine['user_summary'][...].shape:\n",
    "     #   perfect = False\n",
    "      #  print(\"user summary gt\", video_gt['user_summary'][...].shape)\n",
    "    print(\"user summary mine\", video_mine['user_summary'][...].shape)\n",
    "    print()\n",
    "        \n",
    "    #if video_gt['n_frames'][...] != video_mine['n_frames'][...]:\n",
    "     #   perfect = False\n",
    "      #  print(\"n frames gt\", video_gt['n_frames'][...])\n",
    "    print(\"n frames mine\", video_mine['n_frames'][...])\n",
    "    print()\n",
    "    \n",
    "    #if video_gt['change_points'][...].shape != video_mine['change_points'][...].shape:  \n",
    "     #   perfect = False\n",
    "     #   print(\"change points gt\", video_gt['change_points'][...].shape)\n",
    "    print(\"change points mine\", video_mine['change_points'][...].shape)\n",
    "    print()\n",
    "        \n",
    "    #if video_gt['n_frame_per_seg'][...].shape != video_mine['n_frame_per_seg'][...].shape: \n",
    "     #   perfect = False\n",
    "      #  print(\"n frame per seg gt\", video_gt['n_frame_per_seg'][...].shape)\n",
    "    print(\"n frame per seg mine\", video_mine['n_frame_per_seg'][...].shape)\n",
    "    print()\n",
    "    \n",
    "    #if video_gt['picks'][...].shape != video_mine['picks'][...].shape:\n",
    "     #   perfect = False\n",
    "      #  print(\"picks gt\", video_gt['picks'][...].shape)\n",
    "    print(\"picks mine\", video_mine['picks'][...].shape)\n",
    "    print()\n",
    "        \n",
    "    #if video_gt['n_steps'][...] != video_mine['n_steps'][...]:\n",
    "     #   perfect = False\n",
    "      #  print(\"n steps gt\", video_gt['n_steps'][...])\n",
    "    print(\"n steps mine\", video_mine['n_steps'][...])\n",
    "        \n",
    "    #if perfect: \n",
    "     #   print(\"Everything is perfect\")\n",
    "    print()"
   ]
  },
  {
   "cell_type": "markdown",
   "metadata": {},
   "source": [
    "# Evaluating a random video"
   ]
  },
  {
   "cell_type": "code",
   "execution_count": 320,
   "metadata": {},
   "outputs": [],
   "source": [
    "#video 1\n",
    "i = 2\n",
    "#video_gt = data_all_summe[\"video_\" + str(i+1)]\n",
    "video_mine = data_all_cosum_mine[\"video_\" + str(i+1)]"
   ]
  },
  {
   "cell_type": "markdown",
   "metadata": {},
   "source": [
    "### Nombre"
   ]
  },
  {
   "cell_type": "code",
   "execution_count": 321,
   "metadata": {},
   "outputs": [
    {
     "name": "stdout",
     "output_type": "stream",
     "text": [
      "video name mine b\"BUSTED by the Police, BASE Jumping in Benidorm Jokke Sommer's Barely Legal, Ep. 2\"\n",
      "\n"
     ]
    }
   ],
   "source": [
    "#print(\"video name gt\", video_gt['video_name'][...])\n",
    "print(\"video name mine\", video_mine['video_name'][...])\n",
    "print()\n"
   ]
  },
  {
   "cell_type": "code",
   "execution_count": 322,
   "metadata": {},
   "outputs": [
    {
     "data": {
      "text/plain": [
       "'b\"BUSTED by the Police, BASE Jumping in Benidorm Jokke Sommer\\'s Barely Legal, Ep. 2\"dasdas'"
      ]
     },
     "execution_count": 322,
     "metadata": {},
     "output_type": "execute_result"
    }
   ],
   "source": [
    "str(video_mine['video_name'][...]) + \"dasdas\""
   ]
  },
  {
   "cell_type": "markdown",
   "metadata": {},
   "source": [
    "### Features"
   ]
  },
  {
   "cell_type": "code",
   "execution_count": 323,
   "metadata": {},
   "outputs": [],
   "source": [
    "# print(\"features gt\", video_gt['features'][...].shape)\n",
    "# video_gt['features'][...]"
   ]
  },
  {
   "cell_type": "code",
   "execution_count": 324,
   "metadata": {},
   "outputs": [
    {
     "name": "stdout",
     "output_type": "stream",
     "text": [
      "features mine (386, 1024)\n"
     ]
    },
    {
     "data": {
      "text/plain": [
       "array([[0.        , 0.03725114, 0.31602007, ..., 0.        , 0.30105022,\n",
       "        0.15761198],\n",
       "       [0.0213535 , 0.00157479, 0.09606966, ..., 0.55955696, 1.5362637 ,\n",
       "        0.33738583],\n",
       "       [0.73355263, 0.08423016, 0.08643072, ..., 0.00659181, 1.3478322 ,\n",
       "        0.3020863 ],\n",
       "       ...,\n",
       "       [0.22035797, 0.03781144, 0.01072673, ..., 0.26326963, 0.26689318,\n",
       "        0.31510854],\n",
       "       [0.06848811, 0.06972811, 0.        , ..., 0.0620455 , 0.34718555,\n",
       "        0.02095653],\n",
       "       [0.06848811, 0.06972811, 0.        , ..., 0.0620455 , 0.34718555,\n",
       "        0.02095653]], dtype=float32)"
      ]
     },
     "execution_count": 324,
     "metadata": {},
     "output_type": "execute_result"
    }
   ],
   "source": [
    "print(\"features mine\", video_mine['features'][...].shape)\n",
    "video_mine['features'][...]"
   ]
  },
  {
   "cell_type": "markdown",
   "metadata": {},
   "source": [
    "### GTScore"
   ]
  },
  {
   "cell_type": "code",
   "execution_count": 325,
   "metadata": {},
   "outputs": [],
   "source": [
    "# print(\"gtscore gt\", video_gt['gtscore'][...].shape)\n",
    "# video_gt['gtscore'][...]"
   ]
  },
  {
   "cell_type": "code",
   "execution_count": 326,
   "metadata": {},
   "outputs": [
    {
     "name": "stdout",
     "output_type": "stream",
     "text": [
      "gtscore mine (386,)\n"
     ]
    },
    {
     "data": {
      "text/plain": [
       "array([0.        , 0.        , 0.        , 0.        , 0.        ,\n",
       "       0.        , 0.        , 0.        , 0.        , 0.        ,\n",
       "       0.        , 0.        , 0.        , 0.        , 0.        ,\n",
       "       0.        , 0.        , 0.        , 0.        , 0.        ,\n",
       "       0.        , 0.        , 0.        , 0.        , 0.        ,\n",
       "       0.        , 0.        , 0.        , 0.        , 0.        ,\n",
       "       0.        , 0.        , 0.        , 0.        , 0.        ,\n",
       "       0.        , 0.        , 0.        , 0.        , 0.        ,\n",
       "       0.        , 0.        , 0.        , 0.        , 0.        ,\n",
       "       0.        , 0.        , 0.        , 0.        , 0.        ,\n",
       "       0.        , 0.        , 0.        , 0.        , 0.        ,\n",
       "       0.        , 0.        , 0.        , 0.        , 0.        ,\n",
       "       0.        , 0.        , 0.        , 0.        , 0.        ,\n",
       "       0.        , 0.        , 0.        , 0.        , 0.        ,\n",
       "       0.        , 0.        , 0.        , 0.        , 0.        ,\n",
       "       0.        , 0.        , 0.        , 0.        , 0.        ,\n",
       "       0.        , 0.        , 0.        , 0.        , 0.        ,\n",
       "       0.        , 0.        , 0.        , 0.        , 0.        ,\n",
       "       0.        , 0.        , 0.        , 0.        , 0.        ,\n",
       "       0.        , 0.        , 0.        , 0.        , 0.        ,\n",
       "       0.        , 0.        , 0.        , 0.        , 0.        ,\n",
       "       0.        , 0.        , 0.        , 0.        , 0.        ,\n",
       "       0.        , 0.        , 0.        , 0.        , 0.        ,\n",
       "       0.        , 0.        , 0.        , 0.        , 0.        ,\n",
       "       0.        , 0.        , 0.        , 0.        , 0.        ,\n",
       "       0.        , 0.        , 0.        , 0.        , 0.        ,\n",
       "       0.        , 0.        , 0.        , 0.        , 0.        ,\n",
       "       0.        , 0.        , 0.        , 0.        , 0.        ,\n",
       "       0.        , 0.        , 0.        , 0.        , 0.        ,\n",
       "       0.        , 0.        , 0.        , 0.        , 0.        ,\n",
       "       0.        , 0.        , 0.        , 0.        , 0.        ,\n",
       "       0.        , 0.        , 0.        , 0.        , 0.        ,\n",
       "       0.        , 0.        , 0.        , 0.        , 0.        ,\n",
       "       0.        , 0.        , 0.        , 0.        , 0.        ,\n",
       "       0.        , 0.        , 0.        , 0.        , 0.        ,\n",
       "       0.        , 0.        , 0.        , 0.        , 0.        ,\n",
       "       0.        , 0.        , 0.        , 0.        , 0.        ,\n",
       "       0.        , 0.        , 0.        , 0.        , 0.        ,\n",
       "       0.        , 0.        , 0.        , 0.        , 0.        ,\n",
       "       0.        , 0.        , 0.        , 0.        , 0.        ,\n",
       "       0.        , 0.        , 0.        , 0.        , 0.        ,\n",
       "       0.        , 0.        , 0.        , 0.        , 0.        ,\n",
       "       0.        , 0.        , 0.        , 0.        , 0.        ,\n",
       "       0.33333334, 0.33333334, 0.33333334, 0.33333334, 0.33333334,\n",
       "       0.33333334, 0.33333334, 0.        , 0.        , 0.        ,\n",
       "       0.        , 0.        , 0.        , 0.        , 0.        ,\n",
       "       0.        , 0.        , 0.        , 0.        , 0.        ,\n",
       "       0.        , 0.        , 0.        , 0.        , 0.        ,\n",
       "       0.        , 0.        , 0.        , 0.        , 0.        ,\n",
       "       0.        , 0.        , 0.        , 0.        , 0.        ,\n",
       "       0.        , 0.        , 0.        , 0.        , 0.        ,\n",
       "       0.        , 0.        , 0.        , 0.        , 0.        ,\n",
       "       0.        , 0.        , 0.        , 0.        , 0.        ,\n",
       "       0.        , 0.        , 0.        , 0.        , 0.        ,\n",
       "       0.        , 0.        , 0.        , 0.        , 0.        ,\n",
       "       0.        , 0.        , 0.        , 0.        , 0.        ,\n",
       "       0.        , 0.        , 0.        , 0.        , 0.        ,\n",
       "       0.        , 0.        , 0.        , 0.        , 0.        ,\n",
       "       0.        , 0.        , 0.        , 0.        , 0.        ,\n",
       "       0.        , 0.        , 0.        , 0.        , 0.        ,\n",
       "       0.        , 0.        , 0.        , 0.        , 0.        ,\n",
       "       0.        , 0.        , 0.        , 0.        , 0.        ,\n",
       "       0.        , 0.        , 0.        , 0.        , 0.        ,\n",
       "       0.        , 0.        , 0.        , 0.        , 0.        ,\n",
       "       0.        , 0.        , 0.        , 0.        , 0.        ,\n",
       "       0.        , 0.        , 0.        , 0.        , 0.        ,\n",
       "       0.        , 0.        , 0.        , 0.        , 0.        ,\n",
       "       0.        , 0.        , 0.        , 0.        , 0.        ,\n",
       "       0.        , 0.6666667 , 0.6666667 , 0.6666667 , 0.6666667 ,\n",
       "       0.6666667 , 0.6666667 , 0.6666667 , 0.6666667 , 0.        ,\n",
       "       0.        , 0.        , 0.        , 0.        , 0.        ,\n",
       "       0.        , 0.        , 0.        , 0.        , 0.        ,\n",
       "       0.        , 0.        , 0.        , 0.        , 0.        ,\n",
       "       0.        , 0.        , 0.        , 0.        , 0.        ,\n",
       "       0.        , 0.        , 0.        , 0.        , 0.        ,\n",
       "       0.        , 0.        , 0.        , 0.        , 0.        ,\n",
       "       0.        , 0.        , 0.        , 0.        , 0.        ,\n",
       "       0.        ], dtype=float32)"
      ]
     },
     "execution_count": 326,
     "metadata": {},
     "output_type": "execute_result"
    }
   ],
   "source": [
    "print(\"gtscore mine\", video_mine['gtscore'][...].shape)\n",
    "video_mine['gtscore'][...]"
   ]
  },
  {
   "cell_type": "markdown",
   "metadata": {},
   "source": [
    "### User summary"
   ]
  },
  {
   "cell_type": "code",
   "execution_count": 295,
   "metadata": {},
   "outputs": [],
   "source": [
    "# print(\"user summary gt\", video_gt['user_summary'][...].shape)\n",
    "# video_gt['user_summary'][...]"
   ]
  },
  {
   "cell_type": "code",
   "execution_count": 296,
   "metadata": {},
   "outputs": [
    {
     "name": "stdout",
     "output_type": "stream",
     "text": [
      "user summary mine (3, 8479)\n"
     ]
    },
    {
     "data": {
      "text/plain": [
       "array([[0., 0., 0., ..., 1., 1., 0.],\n",
       "       [0., 0., 0., ..., 0., 0., 0.],\n",
       "       [0., 0., 0., ..., 0., 0., 0.]], dtype=float32)"
      ]
     },
     "execution_count": 296,
     "metadata": {},
     "output_type": "execute_result"
    }
   ],
   "source": [
    "print(\"user summary mine\", video_mine['user_summary'][...].shape)\n",
    "video_mine['user_summary'][...]"
   ]
  },
  {
   "cell_type": "markdown",
   "metadata": {},
   "source": [
    "### N frames"
   ]
  },
  {
   "cell_type": "code",
   "execution_count": 297,
   "metadata": {},
   "outputs": [],
   "source": [
    "# print(\"n frames gt\", video_gt['n_frames'][...])"
   ]
  },
  {
   "cell_type": "code",
   "execution_count": 298,
   "metadata": {},
   "outputs": [
    {
     "name": "stdout",
     "output_type": "stream",
     "text": [
      "n frames mine 8479\n"
     ]
    }
   ],
   "source": [
    "print(\"n frames mine\", video_mine['n_frames'][...])"
   ]
  },
  {
   "cell_type": "markdown",
   "metadata": {},
   "source": [
    "### Change points"
   ]
  },
  {
   "cell_type": "code",
   "execution_count": 299,
   "metadata": {},
   "outputs": [],
   "source": [
    "# print(\"change points gt\", video_gt['change_points'][...].shape)\n",
    "# video_gt['change_points'][...]"
   ]
  },
  {
   "cell_type": "code",
   "execution_count": 300,
   "metadata": {},
   "outputs": [
    {
     "name": "stdout",
     "output_type": "stream",
     "text": [
      "change points mine (57, 2)\n"
     ]
    },
    {
     "data": {
      "text/plain": [
       "array([[   0,  149],\n",
       "       [ 150,  374],\n",
       "       [ 375,  509],\n",
       "       [ 510,  614],\n",
       "       [ 615,  704],\n",
       "       [ 705,  854],\n",
       "       [ 855, 1259],\n",
       "       [1260, 1589],\n",
       "       [1590, 1679],\n",
       "       [1680, 1829],\n",
       "       [1830, 2054],\n",
       "       [2055, 2129],\n",
       "       [2130, 2294],\n",
       "       [2295, 2444],\n",
       "       [2445, 2564],\n",
       "       [2565, 2609],\n",
       "       [2610, 2669],\n",
       "       [2670, 2729],\n",
       "       [2730, 2774],\n",
       "       [2775, 2819],\n",
       "       [2820, 2954],\n",
       "       [2955, 3209],\n",
       "       [3210, 3539],\n",
       "       [3540, 3614],\n",
       "       [3615, 3929],\n",
       "       [3930, 4109],\n",
       "       [4110, 4259],\n",
       "       [4260, 4319],\n",
       "       [4320, 4559],\n",
       "       [4560, 4664],\n",
       "       [4665, 4754],\n",
       "       [4755, 4844],\n",
       "       [4845, 5009],\n",
       "       [5010, 5129],\n",
       "       [5130, 5204],\n",
       "       [5205, 5294],\n",
       "       [5295, 5384],\n",
       "       [5385, 5549],\n",
       "       [5550, 5759],\n",
       "       [5760, 5819],\n",
       "       [5820, 5864],\n",
       "       [5865, 5924],\n",
       "       [5925, 6119],\n",
       "       [6120, 6224],\n",
       "       [6225, 6299],\n",
       "       [6300, 6509],\n",
       "       [6510, 6569],\n",
       "       [6570, 6689],\n",
       "       [6690, 7064],\n",
       "       [7065, 7124],\n",
       "       [7125, 7184],\n",
       "       [7185, 7439],\n",
       "       [7440, 7529],\n",
       "       [7530, 7664],\n",
       "       [7665, 7904],\n",
       "       [7905, 8009],\n",
       "       [8010, 8478]])"
      ]
     },
     "execution_count": 300,
     "metadata": {},
     "output_type": "execute_result"
    }
   ],
   "source": [
    "print(\"change points mine\", video_mine['change_points'][...].shape)\n",
    "video_mine['change_points'][...]"
   ]
  },
  {
   "cell_type": "markdown",
   "metadata": {},
   "source": [
    "### N frames por segmenot"
   ]
  },
  {
   "cell_type": "code",
   "execution_count": 301,
   "metadata": {},
   "outputs": [],
   "source": [
    "# print(\"n frame per seg gt\", video_gt['n_frame_per_seg'][...].shape)\n",
    "# video_gt['n_frame_per_seg'][...]"
   ]
  },
  {
   "cell_type": "code",
   "execution_count": 302,
   "metadata": {},
   "outputs": [
    {
     "name": "stdout",
     "output_type": "stream",
     "text": [
      "n frame per seg mine (57,)\n"
     ]
    },
    {
     "data": {
      "text/plain": [
       "array([150, 225, 135, 105,  90, 150, 405, 330,  90, 150, 225,  75, 165,\n",
       "       150, 120,  45,  60,  60,  45,  45, 135, 255, 330,  75, 315, 180,\n",
       "       150,  60, 240, 105,  90,  90, 165, 120,  75,  90,  90, 165, 210,\n",
       "        60,  45,  60, 195, 105,  75, 210,  60, 120, 375,  60,  60, 255,\n",
       "        90, 135, 240, 105, 469])"
      ]
     },
     "execution_count": 302,
     "metadata": {},
     "output_type": "execute_result"
    }
   ],
   "source": [
    "print(\"n frame per seg mine\", video_mine['n_frame_per_seg'][...].shape)\n",
    "video_mine['n_frame_per_seg'][...]"
   ]
  },
  {
   "cell_type": "markdown",
   "metadata": {},
   "source": [
    "### Picks"
   ]
  },
  {
   "cell_type": "code",
   "execution_count": 303,
   "metadata": {},
   "outputs": [],
   "source": [
    "# print(\"picks gt\", video_gt['picks'][...].shape)\n",
    "# video_gt['picks'][...]"
   ]
  },
  {
   "cell_type": "code",
   "execution_count": 304,
   "metadata": {},
   "outputs": [
    {
     "name": "stdout",
     "output_type": "stream",
     "text": [
      "picks mine (566,)\n"
     ]
    },
    {
     "data": {
      "text/plain": [
       "array([   0,   15,   30,   45,   60,   75,   90,  105,  120,  135,  150,\n",
       "        165,  180,  195,  210,  225,  240,  255,  270,  285,  300,  315,\n",
       "        330,  345,  360,  375,  390,  405,  420,  435,  450,  465,  480,\n",
       "        495,  510,  525,  540,  555,  570,  585,  600,  615,  630,  645,\n",
       "        660,  675,  690,  705,  720,  735,  750,  765,  780,  795,  810,\n",
       "        825,  840,  855,  870,  885,  900,  915,  930,  945,  960,  975,\n",
       "        990, 1005, 1020, 1035, 1050, 1065, 1080, 1095, 1110, 1125, 1140,\n",
       "       1155, 1170, 1185, 1200, 1215, 1230, 1245, 1260, 1275, 1290, 1305,\n",
       "       1320, 1335, 1350, 1365, 1380, 1395, 1410, 1425, 1440, 1455, 1470,\n",
       "       1485, 1500, 1515, 1530, 1545, 1560, 1575, 1590, 1605, 1620, 1635,\n",
       "       1650, 1665, 1680, 1695, 1710, 1725, 1740, 1755, 1770, 1785, 1800,\n",
       "       1815, 1830, 1845, 1860, 1875, 1890, 1905, 1920, 1935, 1950, 1965,\n",
       "       1980, 1995, 2010, 2025, 2040, 2055, 2070, 2085, 2100, 2115, 2130,\n",
       "       2145, 2160, 2175, 2190, 2205, 2220, 2235, 2250, 2265, 2280, 2295,\n",
       "       2310, 2325, 2340, 2355, 2370, 2385, 2400, 2415, 2430, 2445, 2460,\n",
       "       2475, 2490, 2505, 2520, 2535, 2550, 2565, 2580, 2595, 2610, 2625,\n",
       "       2640, 2655, 2670, 2685, 2700, 2715, 2730, 2745, 2760, 2775, 2790,\n",
       "       2805, 2820, 2835, 2850, 2865, 2880, 2895, 2910, 2925, 2940, 2955,\n",
       "       2970, 2985, 3000, 3015, 3030, 3045, 3060, 3075, 3090, 3105, 3120,\n",
       "       3135, 3150, 3165, 3180, 3195, 3210, 3225, 3240, 3255, 3270, 3285,\n",
       "       3300, 3315, 3330, 3345, 3360, 3375, 3390, 3405, 3420, 3435, 3450,\n",
       "       3465, 3480, 3495, 3510, 3525, 3540, 3555, 3570, 3585, 3600, 3615,\n",
       "       3630, 3645, 3660, 3675, 3690, 3705, 3720, 3735, 3750, 3765, 3780,\n",
       "       3795, 3810, 3825, 3840, 3855, 3870, 3885, 3900, 3915, 3930, 3945,\n",
       "       3960, 3975, 3990, 4005, 4020, 4035, 4050, 4065, 4080, 4095, 4110,\n",
       "       4125, 4140, 4155, 4170, 4185, 4200, 4215, 4230, 4245, 4260, 4275,\n",
       "       4290, 4305, 4320, 4335, 4350, 4365, 4380, 4395, 4410, 4425, 4440,\n",
       "       4455, 4470, 4485, 4500, 4515, 4530, 4545, 4560, 4575, 4590, 4605,\n",
       "       4620, 4635, 4650, 4665, 4680, 4695, 4710, 4725, 4740, 4755, 4770,\n",
       "       4785, 4800, 4815, 4830, 4845, 4860, 4875, 4890, 4905, 4920, 4935,\n",
       "       4950, 4965, 4980, 4995, 5010, 5025, 5040, 5055, 5070, 5085, 5100,\n",
       "       5115, 5130, 5145, 5160, 5175, 5190, 5205, 5220, 5235, 5250, 5265,\n",
       "       5280, 5295, 5310, 5325, 5340, 5355, 5370, 5385, 5400, 5415, 5430,\n",
       "       5445, 5460, 5475, 5490, 5505, 5520, 5535, 5550, 5565, 5580, 5595,\n",
       "       5610, 5625, 5640, 5655, 5670, 5685, 5700, 5715, 5730, 5745, 5760,\n",
       "       5775, 5790, 5805, 5820, 5835, 5850, 5865, 5880, 5895, 5910, 5925,\n",
       "       5940, 5955, 5970, 5985, 6000, 6015, 6030, 6045, 6060, 6075, 6090,\n",
       "       6105, 6120, 6135, 6150, 6165, 6180, 6195, 6210, 6225, 6240, 6255,\n",
       "       6270, 6285, 6300, 6315, 6330, 6345, 6360, 6375, 6390, 6405, 6420,\n",
       "       6435, 6450, 6465, 6480, 6495, 6510, 6525, 6540, 6555, 6570, 6585,\n",
       "       6600, 6615, 6630, 6645, 6660, 6675, 6690, 6705, 6720, 6735, 6750,\n",
       "       6765, 6780, 6795, 6810, 6825, 6840, 6855, 6870, 6885, 6900, 6915,\n",
       "       6930, 6945, 6960, 6975, 6990, 7005, 7020, 7035, 7050, 7065, 7080,\n",
       "       7095, 7110, 7125, 7140, 7155, 7170, 7185, 7200, 7215, 7230, 7245,\n",
       "       7260, 7275, 7290, 7305, 7320, 7335, 7350, 7365, 7380, 7395, 7410,\n",
       "       7425, 7440, 7455, 7470, 7485, 7500, 7515, 7530, 7545, 7560, 7575,\n",
       "       7590, 7605, 7620, 7635, 7650, 7665, 7680, 7695, 7710, 7725, 7740,\n",
       "       7755, 7770, 7785, 7800, 7815, 7830, 7845, 7860, 7875, 7890, 7905,\n",
       "       7920, 7935, 7950, 7965, 7980, 7995, 8010, 8025, 8040, 8055, 8070,\n",
       "       8085, 8100, 8115, 8130, 8145, 8160, 8175, 8190, 8205, 8220, 8235,\n",
       "       8250, 8265, 8280, 8295, 8310, 8325, 8340, 8355, 8370, 8385, 8400,\n",
       "       8415, 8430, 8445, 8460, 8475])"
      ]
     },
     "execution_count": 304,
     "metadata": {},
     "output_type": "execute_result"
    }
   ],
   "source": [
    "print(\"picks mine\", video_mine['picks'][...].shape)\n",
    "video_mine['picks'][...]"
   ]
  },
  {
   "cell_type": "markdown",
   "metadata": {},
   "source": [
    "### Steps"
   ]
  },
  {
   "cell_type": "code",
   "execution_count": 305,
   "metadata": {},
   "outputs": [],
   "source": [
    "# print(\"n steps gt\", video_gt['n_steps'][...])\n",
    "# video_gt['n_steps'][...]"
   ]
  },
  {
   "cell_type": "code",
   "execution_count": 306,
   "metadata": {},
   "outputs": [
    {
     "name": "stdout",
     "output_type": "stream",
     "text": [
      "n steps mine 566\n"
     ]
    },
    {
     "data": {
      "text/plain": [
       "array(566)"
      ]
     },
     "execution_count": 306,
     "metadata": {},
     "output_type": "execute_result"
    }
   ],
   "source": [
    "print(\"n steps mine\", video_mine['n_steps'][...])\n",
    "video_mine['n_steps'][...]"
   ]
  },
  {
   "cell_type": "code",
   "execution_count": null,
   "metadata": {},
   "outputs": [],
   "source": []
  },
  {
   "cell_type": "code",
   "execution_count": null,
   "metadata": {},
   "outputs": [],
   "source": []
  },
  {
   "cell_type": "code",
   "execution_count": 106,
   "metadata": {},
   "outputs": [],
   "source": [
    "import numpy as np\n",
    "import os\n",
    "import pandas as pd\n",
    "import cv2"
   ]
  },
  {
   "cell_type": "code",
   "execution_count": 115,
   "metadata": {},
   "outputs": [],
   "source": [
    "path_data = \"/data/shuaman/video_summarization/datasets/raw_datasets/CoSum\""
   ]
  },
  {
   "cell_type": "code",
   "execution_count": 116,
   "metadata": {},
   "outputs": [
    {
     "data": {
      "text/plain": [
       "'/data/shuaman/video_summarization/datasets/raw_datasets/CoSum/shots'"
      ]
     },
     "execution_count": 116,
     "metadata": {},
     "output_type": "execute_result"
    }
   ],
   "source": [
    "path_shots = os.path.join(path_data, \"shots\")\n",
    "path_shots"
   ]
  },
  {
   "cell_type": "code",
   "execution_count": 117,
   "metadata": {},
   "outputs": [
    {
     "data": {
      "text/plain": [
       "'/data/shuaman/video_summarization/datasets/raw_datasets/CoSum/annotation'"
      ]
     },
     "execution_count": 117,
     "metadata": {},
     "output_type": "execute_result"
    }
   ],
   "source": [
    "path_annotations = os.path.join(path_data, \"annotation\")\n",
    "path_annotations"
   ]
  },
  {
   "cell_type": "code",
   "execution_count": 118,
   "metadata": {},
   "outputs": [
    {
     "data": {
      "text/plain": [
       "'/data/shuaman/video_summarization/datasets/raw_datasets/CoSum/videos'"
      ]
     },
     "execution_count": 118,
     "metadata": {},
     "output_type": "execute_result"
    }
   ],
   "source": [
    "path_videos = os.path.join(path_data, \"videos\")\n",
    "path_videos"
   ]
  },
  {
   "cell_type": "code",
   "execution_count": 130,
   "metadata": {},
   "outputs": [],
   "source": [
    "dataset = pd.read_excel(path_data+\"/dataset.xlsx\",engine='openpyxl')"
   ]
  },
  {
   "cell_type": "code",
   "execution_count": 131,
   "metadata": {},
   "outputs": [],
   "source": [
    "dataset = dataset.loc[dataset[\"DOWNLOADED\"]==1].reset_index(drop=True)"
   ]
  },
  {
   "cell_type": "code",
   "execution_count": 132,
   "metadata": {},
   "outputs": [
    {
     "data": {
      "text/html": [
       "<div>\n",
       "<style scoped>\n",
       "    .dataframe tbody tr th:only-of-type {\n",
       "        vertical-align: middle;\n",
       "    }\n",
       "\n",
       "    .dataframe tbody tr th {\n",
       "        vertical-align: top;\n",
       "    }\n",
       "\n",
       "    .dataframe thead th {\n",
       "        text-align: right;\n",
       "    }\n",
       "</style>\n",
       "<table border=\"1\" class=\"dataframe\">\n",
       "  <thead>\n",
       "    <tr style=\"text-align: right;\">\n",
       "      <th></th>\n",
       "      <th>ID</th>\n",
       "      <th>VIDEO</th>\n",
       "      <th>VIDEO_URL</th>\n",
       "      <th>VIDEO_CATEGORY</th>\n",
       "      <th>DOWNLOADED</th>\n",
       "      <th>SHORT CATEGORY</th>\n",
       "      <th>VIDEO_ID_IN_CATEGORY</th>\n",
       "    </tr>\n",
       "  </thead>\n",
       "  <tbody>\n",
       "    <tr>\n",
       "      <th>0</th>\n",
       "      <td>1</td>\n",
       "      <td>Burj Khalifa Pinnacle BASE Jump - 4K</td>\n",
       "      <td>https://www.youtube.com/watch?v=iD4qsWnjsNU</td>\n",
       "      <td>01_base_jump</td>\n",
       "      <td>1</td>\n",
       "      <td>base</td>\n",
       "      <td>1</td>\n",
       "    </tr>\n",
       "    <tr>\n",
       "      <th>1</th>\n",
       "      <td>2</td>\n",
       "      <td>Mat Zo feat. Linnea Schossow - The Sky (OFFICI...</td>\n",
       "      <td>https://www.youtube.com/watch?v=iMCcnA9ifqg</td>\n",
       "      <td>01_base_jump</td>\n",
       "      <td>1</td>\n",
       "      <td>base</td>\n",
       "      <td>2</td>\n",
       "    </tr>\n",
       "  </tbody>\n",
       "</table>\n",
       "</div>"
      ],
      "text/plain": [
       "   ID                                              VIDEO  \\\n",
       "0   1               Burj Khalifa Pinnacle BASE Jump - 4K   \n",
       "1   2  Mat Zo feat. Linnea Schossow - The Sky (OFFICI...   \n",
       "\n",
       "                                     VIDEO_URL VIDEO_CATEGORY  DOWNLOADED  \\\n",
       "0  https://www.youtube.com/watch?v=iD4qsWnjsNU   01_base_jump           1   \n",
       "1  https://www.youtube.com/watch?v=iMCcnA9ifqg   01_base_jump           1   \n",
       "\n",
       "  SHORT CATEGORY  VIDEO_ID_IN_CATEGORY  \n",
       "0           base                     1  \n",
       "1           base                     2  "
      ]
     },
     "execution_count": 132,
     "metadata": {},
     "output_type": "execute_result"
    }
   ],
   "source": [
    "dataset.head(2)"
   ]
  },
  {
   "cell_type": "code",
   "execution_count": 240,
   "metadata": {},
   "outputs": [
    {
     "data": {
      "text/plain": [
       "[array(['10_surfing', 'surf', 3,\n",
       "        'Alana Blanchard Aloha Kauai - Alana Surfer Girl Ep 101'],\n",
       "       dtype=object),\n",
       " array(['02_bike_polo', 'bike', 4,\n",
       "        'BKRW bikepolo TOURNAMENT x NIKE IAM1 PARIS Video'], dtype=object),\n",
       " array(['01_base_jump', 'base', 3,\n",
       "        \"BUSTED by the Police, BASE Jumping in Benidorm Jokke Sommer's Barely Legal, Ep. 2\"],\n",
       "       dtype=object),\n",
       " array(['02_bike_polo', 'bike', 5, 'Bike Polo Part 1 Donnie'], dtype=object),\n",
       " array(['01_base_jump', 'base', 1, 'Burj Khalifa Pinnacle BASE Jump - 4K'],\n",
       "       dtype=object),\n",
       " array(['03_eiffel_tower', 'eiffel', 4, 'Eiffel Tower'], dtype=object),\n",
       " array(['03_eiffel_tower', 'eiffel', 3, 'Eiffel Tower Time Lapse'],\n",
       "       dtype=object),\n",
       " array(['04_excavators_river_xing', 'exca', 3,\n",
       "        'Excavator Extravaganza How to cross river with two excavators'],\n",
       "       dtype=object),\n",
       " array(['02_bike_polo', 'bike', 1, 'Freak Scene Bike Polo Part 1 The Gear'],\n",
       "       dtype=object),\n",
       " array(['10_surfing', 'surf', 5, 'Go Pro Surfing Sexy Girl Compilation'],\n",
       "       dtype=object),\n",
       " array(['03_eiffel_tower', 'eiffel', 5,\n",
       "        'How was the Eiffel Tower built I Head Squeeze'], dtype=object),\n",
       " array(['06_mlb', 'mlb', 4,\n",
       "        'Ichiro slugs his first homer of the season in 2014'], dtype=object),\n",
       " array(['05_kids_playing_in_leaves', 'kids', 5, 'Kids Playing with Leaves'],\n",
       "       dtype=object),\n",
       " array(['05_kids_playing_in_leaves', 'kids', 2, 'Kids playing in leaves'],\n",
       "       dtype=object),\n",
       " array(['01_base_jump', 'base', 2,\n",
       "        'Mat Zo feat. Linnea Schossow - The Sky (OFFICIAL MUSIC VIDEO)'],\n",
       "       dtype=object),\n",
       " array(['06_mlb', 'mlb', 5, \"Mother's Day MLB News Story\"], dtype=object),\n",
       " array(['02_bike_polo', 'bike', 2, 'NYC-Bike Polo'], dtype=object),\n",
       " array(['09_statue_of_liberty', 'statue', 2,\n",
       "        \"New York City's Statue of Liberty - 2 Minute Tour\"], dtype=object),\n",
       " array(['07_nfl', 'nfl', 1, 'Notre Dame Football 2014'], dtype=object),\n",
       " array(['07_nfl', 'nfl', 2, 'Notre Dame Football 2014-15 Pump Up'],\n",
       "       dtype=object),\n",
       " array(['02_bike_polo', 'bike', 3, 'Orlando Bike Polo'], dtype=object),\n",
       " array(['09_statue_of_liberty', 'statue', 3,\n",
       "        'Paper Model of the Statue of Liberty'], dtype=object),\n",
       " array(['08_notre_dame_cathedral', 'notre', 4,\n",
       "        \"Paris Trip Day 4 Notre Dame & D'orsay\"], dtype=object),\n",
       " array(['05_kids_playing_in_leaves', 'kids', 6,\n",
       "        'Playing in the Leaves - 2011'], dtype=object),\n",
       " array(['10_surfing', 'surf', 1,\n",
       "        \"Pro Surfer Carissa Moore's Journey to two ASP World Championships\"],\n",
       "       dtype=object),\n",
       " array(['09_statue_of_liberty', 'statue', 5,\n",
       "        'Statue of Liberty 20 foot tall Foam Sculpture for Governors Ball Music Festival'],\n",
       "       dtype=object),\n",
       " array(['09_statue_of_liberty', 'statue', 4, 'Statue of Liberty for Kids'],\n",
       "       dtype=object),\n",
       " array(['10_surfing', 'surf', 2,\n",
       "        'Surfing With Alana Blanchard & Her Boyfriend Jack Freestone Ep. 305'],\n",
       "       dtype=object),\n",
       " array(['10_surfing', 'surf', 4, 'The Beach Boys ~ Surfer Girl'],\n",
       "       dtype=object),\n",
       " array(['05_kids_playing_in_leaves', 'kids', 3,\n",
       "        'The Lauraville Kids Play in The Leaves'], dtype=object),\n",
       " array(['10_surfing', 'surf', 6,\n",
       "        'The Vast Waters Fresh Surfing in Costa Rica'], dtype=object),\n",
       " array(['03_eiffel_tower', 'eiffel', 7,\n",
       "        'Travel Paris Eiffel Tower - A Different Way Up'], dtype=object),\n",
       " array(['08_notre_dame_cathedral', 'notre', 2,\n",
       "        \"Travel Paris Notre Dame's Locals Only Secret Garden\"],\n",
       "       dtype=object),\n",
       " array(['08_notre_dame_cathedral', 'notre', 1,\n",
       "        'Visiting the Notre Dame Cathedral Paris Travel'], dtype=object),\n",
       " array(['01_base_jump', 'base', 4,\n",
       "        \"World's First Wingsuit BASE Jumping Dog\"], dtype=object),\n",
       " array(['01_base_jump', 'base', 5,\n",
       "        \"World's Highest BASE Jump - Flying from Mt. Everest\"],\n",
       "       dtype=object),\n",
       " array(['06_mlb', 'mlb', 1, 'baseball play 1'], dtype=object),\n",
       " array(['06_mlb', 'mlb', 2, 'baseball play 2'], dtype=object),\n",
       " array(['06_mlb', 'mlb', 6, 'baseball play 6'], dtype=object),\n",
       " array(['05_kids_playing_in_leaves', 'kids', 1,\n",
       "        'kids playing in leaves 10212013'], dtype=object),\n",
       " array(['07_nfl', 'nfl', 3, 'nfl3'], dtype=object)]"
      ]
     },
     "execution_count": 240,
     "metadata": {},
     "output_type": "execute_result"
    }
   ],
   "source": [
    "sorted(list(dataset[[\"VIDEO_CATEGORY\",\"SHORT CATEGORY\",\n",
    "                                                    \"VIDEO_ID_IN_CATEGORY\",\"VIDEO\"]].drop_duplicates().values),\n",
    "                                        key=lambda x: x[-1], reverse=False)"
   ]
  },
  {
   "cell_type": "code",
   "execution_count": 267,
   "metadata": {},
   "outputs": [],
   "source": [
    "xdd = sorted(list(dataset[[\"VIDEO_CATEGORY\",\"SHORT CATEGORY\",\"VIDEO_ID_IN_CATEGORY\",\"VIDEO\"]].drop_duplicates().values), key=lambda x: x[-1]+\".mp4\", reverse=False)"
   ]
  },
  {
   "cell_type": "code",
   "execution_count": 268,
   "metadata": {},
   "outputs": [
    {
     "data": {
      "text/plain": [
       "['Alana Blanchard Aloha Kauai - Alana Surfer Girl Ep 101.mp4',\n",
       " 'BKRW bikepolo TOURNAMENT x NIKE IAM1 PARIS Video.mp4',\n",
       " \"BUSTED by the Police, BASE Jumping in Benidorm Jokke Sommer's Barely Legal, Ep. 2.mp4\",\n",
       " 'Bike Polo Part 1 Donnie.mp4',\n",
       " 'Burj Khalifa Pinnacle BASE Jump - 4K.mp4',\n",
       " 'Eiffel Tower Time Lapse.mp4',\n",
       " 'Eiffel Tower.mp4',\n",
       " 'Excavator Extravaganza How to cross river with two excavators.mp4',\n",
       " 'Freak Scene Bike Polo Part 1 The Gear.mp4',\n",
       " 'Go Pro Surfing Sexy Girl Compilation.mp4',\n",
       " 'How was the Eiffel Tower built I Head Squeeze.mp4',\n",
       " 'Ichiro slugs his first homer of the season in 2014.mp4',\n",
       " 'Kids Playing with Leaves.mp4',\n",
       " 'Kids playing in leaves.mp4',\n",
       " 'Mat Zo feat. Linnea Schossow - The Sky (OFFICIAL MUSIC VIDEO).mp4',\n",
       " \"Mother's Day MLB News Story.mp4\",\n",
       " 'NYC-Bike Polo.mp4',\n",
       " \"New York City's Statue of Liberty - 2 Minute Tour.mp4\",\n",
       " 'Notre Dame Football 2014-15 Pump Up.mp4',\n",
       " 'Notre Dame Football 2014.mp4',\n",
       " 'Orlando Bike Polo.mp4',\n",
       " 'Paper Model of the Statue of Liberty.mp4',\n",
       " \"Paris Trip Day 4 Notre Dame & D'orsay.mp4\",\n",
       " 'Playing in the Leaves - 2011.mp4',\n",
       " \"Pro Surfer Carissa Moore's Journey to two ASP World Championships.mp4\",\n",
       " 'Statue of Liberty 20 foot tall Foam Sculpture for Governors Ball Music Festival.mp4',\n",
       " 'Statue of Liberty for Kids.mp4',\n",
       " 'Surfing With Alana Blanchard & Her Boyfriend Jack Freestone Ep. 305.mp4',\n",
       " 'The Beach Boys ~ Surfer Girl.mp4',\n",
       " 'The Lauraville Kids Play in The Leaves.mp4',\n",
       " 'The Vast Waters Fresh Surfing in Costa Rica.mp4',\n",
       " 'Travel Paris Eiffel Tower - A Different Way Up.mp4',\n",
       " \"Travel Paris Notre Dame's Locals Only Secret Garden.mp4\",\n",
       " 'Visiting the Notre Dame Cathedral Paris Travel.mp4',\n",
       " \"World's First Wingsuit BASE Jumping Dog.mp4\",\n",
       " \"World's Highest BASE Jump - Flying from Mt. Everest.mp4\",\n",
       " 'baseball play 1.mp4',\n",
       " 'baseball play 2.mp4',\n",
       " 'baseball play 6.mp4',\n",
       " 'kids playing in leaves 10212013.mp4',\n",
       " 'nfl3.mp4']"
      ]
     },
     "execution_count": 268,
     "metadata": {},
     "output_type": "execute_result"
    }
   ],
   "source": [
    "video_list = [videoname for videoname in os.listdir(\"/data/shuaman/video_summarization/datasets/raw_datasets/CoSum/videos\") if videoname.lower().endswith(\".mp4\")]\n",
    "sorted(video_list, reverse=False)"
   ]
  },
  {
   "cell_type": "code",
   "execution_count": 269,
   "metadata": {},
   "outputs": [
    {
     "data": {
      "text/plain": [
       "[array(['10_surfing', 'surf', 3,\n",
       "        'Alana Blanchard Aloha Kauai - Alana Surfer Girl Ep 101'],\n",
       "       dtype=object),\n",
       " array(['02_bike_polo', 'bike', 4,\n",
       "        'BKRW bikepolo TOURNAMENT x NIKE IAM1 PARIS Video'], dtype=object),\n",
       " array(['01_base_jump', 'base', 3,\n",
       "        \"BUSTED by the Police, BASE Jumping in Benidorm Jokke Sommer's Barely Legal, Ep. 2\"],\n",
       "       dtype=object),\n",
       " array(['02_bike_polo', 'bike', 5, 'Bike Polo Part 1 Donnie'], dtype=object),\n",
       " array(['01_base_jump', 'base', 1, 'Burj Khalifa Pinnacle BASE Jump - 4K'],\n",
       "       dtype=object),\n",
       " array(['03_eiffel_tower', 'eiffel', 3, 'Eiffel Tower Time Lapse'],\n",
       "       dtype=object),\n",
       " array(['03_eiffel_tower', 'eiffel', 4, 'Eiffel Tower'], dtype=object),\n",
       " array(['04_excavators_river_xing', 'exca', 3,\n",
       "        'Excavator Extravaganza How to cross river with two excavators'],\n",
       "       dtype=object),\n",
       " array(['02_bike_polo', 'bike', 1, 'Freak Scene Bike Polo Part 1 The Gear'],\n",
       "       dtype=object),\n",
       " array(['10_surfing', 'surf', 5, 'Go Pro Surfing Sexy Girl Compilation'],\n",
       "       dtype=object),\n",
       " array(['03_eiffel_tower', 'eiffel', 5,\n",
       "        'How was the Eiffel Tower built I Head Squeeze'], dtype=object),\n",
       " array(['06_mlb', 'mlb', 4,\n",
       "        'Ichiro slugs his first homer of the season in 2014'], dtype=object),\n",
       " array(['05_kids_playing_in_leaves', 'kids', 5, 'Kids Playing with Leaves'],\n",
       "       dtype=object),\n",
       " array(['05_kids_playing_in_leaves', 'kids', 2, 'Kids playing in leaves'],\n",
       "       dtype=object),\n",
       " array(['01_base_jump', 'base', 2,\n",
       "        'Mat Zo feat. Linnea Schossow - The Sky (OFFICIAL MUSIC VIDEO)'],\n",
       "       dtype=object),\n",
       " array(['06_mlb', 'mlb', 5, \"Mother's Day MLB News Story\"], dtype=object),\n",
       " array(['02_bike_polo', 'bike', 2, 'NYC-Bike Polo'], dtype=object),\n",
       " array(['09_statue_of_liberty', 'statue', 2,\n",
       "        \"New York City's Statue of Liberty - 2 Minute Tour\"], dtype=object),\n",
       " array(['07_nfl', 'nfl', 2, 'Notre Dame Football 2014-15 Pump Up'],\n",
       "       dtype=object),\n",
       " array(['07_nfl', 'nfl', 1, 'Notre Dame Football 2014'], dtype=object),\n",
       " array(['02_bike_polo', 'bike', 3, 'Orlando Bike Polo'], dtype=object),\n",
       " array(['09_statue_of_liberty', 'statue', 3,\n",
       "        'Paper Model of the Statue of Liberty'], dtype=object),\n",
       " array(['08_notre_dame_cathedral', 'notre', 4,\n",
       "        \"Paris Trip Day 4 Notre Dame & D'orsay\"], dtype=object),\n",
       " array(['05_kids_playing_in_leaves', 'kids', 6,\n",
       "        'Playing in the Leaves - 2011'], dtype=object),\n",
       " array(['10_surfing', 'surf', 1,\n",
       "        \"Pro Surfer Carissa Moore's Journey to two ASP World Championships\"],\n",
       "       dtype=object),\n",
       " array(['09_statue_of_liberty', 'statue', 5,\n",
       "        'Statue of Liberty 20 foot tall Foam Sculpture for Governors Ball Music Festival'],\n",
       "       dtype=object),\n",
       " array(['09_statue_of_liberty', 'statue', 4, 'Statue of Liberty for Kids'],\n",
       "       dtype=object),\n",
       " array(['10_surfing', 'surf', 2,\n",
       "        'Surfing With Alana Blanchard & Her Boyfriend Jack Freestone Ep. 305'],\n",
       "       dtype=object),\n",
       " array(['10_surfing', 'surf', 4, 'The Beach Boys ~ Surfer Girl'],\n",
       "       dtype=object),\n",
       " array(['05_kids_playing_in_leaves', 'kids', 3,\n",
       "        'The Lauraville Kids Play in The Leaves'], dtype=object),\n",
       " array(['10_surfing', 'surf', 6,\n",
       "        'The Vast Waters Fresh Surfing in Costa Rica'], dtype=object),\n",
       " array(['03_eiffel_tower', 'eiffel', 7,\n",
       "        'Travel Paris Eiffel Tower - A Different Way Up'], dtype=object),\n",
       " array(['08_notre_dame_cathedral', 'notre', 2,\n",
       "        \"Travel Paris Notre Dame's Locals Only Secret Garden\"],\n",
       "       dtype=object),\n",
       " array(['08_notre_dame_cathedral', 'notre', 1,\n",
       "        'Visiting the Notre Dame Cathedral Paris Travel'], dtype=object),\n",
       " array(['01_base_jump', 'base', 4,\n",
       "        \"World's First Wingsuit BASE Jumping Dog\"], dtype=object),\n",
       " array(['01_base_jump', 'base', 5,\n",
       "        \"World's Highest BASE Jump - Flying from Mt. Everest\"],\n",
       "       dtype=object),\n",
       " array(['06_mlb', 'mlb', 1, 'baseball play 1'], dtype=object),\n",
       " array(['06_mlb', 'mlb', 2, 'baseball play 2'], dtype=object),\n",
       " array(['06_mlb', 'mlb', 6, 'baseball play 6'], dtype=object),\n",
       " array(['05_kids_playing_in_leaves', 'kids', 1,\n",
       "        'kids playing in leaves 10212013'], dtype=object),\n",
       " array(['07_nfl', 'nfl', 3, 'nfl3'], dtype=object)]"
      ]
     },
     "execution_count": 269,
     "metadata": {},
     "output_type": "execute_result"
    }
   ],
   "source": [
    "xdd"
   ]
  },
  {
   "cell_type": "code",
   "execution_count": 253,
   "metadata": {},
   "outputs": [],
   "source": [
    "a = [\"z\",\"a\"]\n",
    "a.sort()"
   ]
  },
  {
   "cell_type": "code",
   "execution_count": 254,
   "metadata": {},
   "outputs": [
    {
     "data": {
      "text/plain": [
       "['a', 'z']"
      ]
     },
     "execution_count": 254,
     "metadata": {},
     "output_type": "execute_result"
    }
   ],
   "source": [
    "a"
   ]
  },
  {
   "cell_type": "code",
   "execution_count": 230,
   "metadata": {},
   "outputs": [
    {
     "data": {
      "text/plain": [
       "1"
      ]
     },
     "execution_count": 230,
     "metadata": {},
     "output_type": "execute_result"
    }
   ],
   "source": [
    "c"
   ]
  },
  {
   "cell_type": "code",
   "execution_count": 221,
   "metadata": {},
   "outputs": [
    {
     "name": "stdout",
     "output_type": "stream",
     "text": [
      "01_base_jump base 1\n",
      "01_base_jump base 2\n",
      "01_base_jump base 3\n",
      "01_base_jump base 4\n",
      "01_base_jump base 5\n",
      "02_bike_polo bike 1\n",
      "02_bike_polo bike 2\n",
      "02_bike_polo bike 3\n",
      "02_bike_polo bike 4\n",
      "02_bike_polo bike 5\n",
      "03_eiffel_tower eiffel 3\n",
      "03_eiffel_tower eiffel 4\n",
      "03_eiffel_tower eiffel 5\n",
      "03_eiffel_tower eiffel 7\n",
      "04_excavators_river_xing exca 3\n",
      "05_kids_playing_in_leaves kids 1\n",
      "05_kids_playing_in_leaves kids 2\n",
      "05_kids_playing_in_leaves kids 3\n",
      "05_kids_playing_in_leaves kids 5\n",
      "05_kids_playing_in_leaves kids 6\n",
      "06_mlb mlb 1\n",
      "06_mlb mlb 2\n",
      "06_mlb mlb 4\n",
      "06_mlb mlb 5\n",
      "06_mlb mlb 6\n",
      "07_nfl nfl 1\n",
      "07_nfl nfl 2\n",
      "07_nfl nfl 3\n",
      "08_notre_dame_cathedral notre 1\n",
      "08_notre_dame_cathedral notre 2\n",
      "08_notre_dame_cathedral notre 4\n",
      "09_statue_of_liberty statue 2\n",
      "09_statue_of_liberty statue 3\n",
      "09_statue_of_liberty statue 4\n",
      "09_statue_of_liberty statue 5\n",
      "10_surfing surf 1\n",
      "10_surfing surf 2\n",
      "10_surfing surf 3\n",
      "10_surfing surf 4\n",
      "10_surfing surf 5\n",
      "10_surfing surf 6\n"
     ]
    }
   ],
   "source": [
    "for x,y,z in dataset[[\"VIDEO_CATEGORY\",\"SHORT CATEGORY\",\"VIDEO_ID_IN_CATEGORY\"]].drop_duplicates().values:\n",
    "    print(x, y,z)"
   ]
  },
  {
   "cell_type": "code",
   "execution_count": 133,
   "metadata": {},
   "outputs": [
    {
     "data": {
      "text/plain": [
       "(41, 7)"
      ]
     },
     "execution_count": 133,
     "metadata": {},
     "output_type": "execute_result"
    }
   ],
   "source": [
    "dataset.shape"
   ]
  },
  {
   "cell_type": "code",
   "execution_count": 134,
   "metadata": {},
   "outputs": [
    {
     "data": {
      "text/plain": [
       "10_surfing                   6\n",
       "01_base_jump                 5\n",
       "05_kids_playing_in_leaves    5\n",
       "02_bike_polo                 5\n",
       "06_mlb                       5\n",
       "09_statue_of_liberty         4\n",
       "03_eiffel_tower              4\n",
       "08_notre_dame_cathedral      3\n",
       "07_nfl                       3\n",
       "04_excavators_river_xing     1\n",
       "Name: VIDEO_CATEGORY, dtype: int64"
      ]
     },
     "execution_count": 134,
     "metadata": {},
     "output_type": "execute_result"
    }
   ],
   "source": [
    "dataset[\"VIDEO_CATEGORY\"].value_counts()"
   ]
  },
  {
   "cell_type": "code",
   "execution_count": 135,
   "metadata": {},
   "outputs": [
    {
     "name": "stdout",
     "output_type": "stream",
     "text": [
      "01_base_jump base\n",
      "02_bike_polo bike\n",
      "03_eiffel_tower eiffel\n",
      "04_excavators_river_xing exca\n",
      "05_kids_playing_in_leaves kids\n",
      "06_mlb mlb\n",
      "07_nfl nfl\n",
      "08_notre_dame_cathedral notre\n",
      "09_statue_of_liberty statue\n",
      "10_surfing surf\n"
     ]
    }
   ],
   "source": [
    "for x,y in dataset[[\"VIDEO_CATEGORY\",\"SHORT CATEGORY\"]].drop_duplicates().values:\n",
    "    print(x, y)"
   ]
  },
  {
   "cell_type": "code",
   "execution_count": 136,
   "metadata": {},
   "outputs": [
    {
     "data": {
      "text/plain": [
       "array([[1, 'Burj Khalifa Pinnacle BASE Jump - 4K'],\n",
       "       [2,\n",
       "        'Mat Zo feat. Linnea Schossow - The Sky (OFFICIAL MUSIC VIDEO)'],\n",
       "       [3,\n",
       "        \"BUSTED by the Police, BASE Jumping in Benidorm Jokke Sommer's Barely Legal, Ep. 2\"],\n",
       "       [4, \"World's First Wingsuit BASE Jumping Dog\"],\n",
       "       [5, \"World's Highest BASE Jump - Flying from Mt. Everest\"]],\n",
       "      dtype=object)"
      ]
     },
     "execution_count": 136,
     "metadata": {},
     "output_type": "execute_result"
    }
   ],
   "source": [
    "dataset.loc[dataset[\"VIDEO_CATEGORY\"]==\"01_base_jump\",[\"VIDEO_ID_IN_CATEGORY\", \"VIDEO\"]].drop_duplicates().values"
   ]
  },
  {
   "cell_type": "code",
   "execution_count": 137,
   "metadata": {},
   "outputs": [
    {
     "ename": "SyntaxError",
     "evalue": "invalid syntax (4242225047.py, line 1)",
     "output_type": "error",
     "traceback": [
      "\u001b[0;36m  File \u001b[0;32m\"/tmp/ipykernel_29136/4242225047.py\"\u001b[0;36m, line \u001b[0;32m1\u001b[0m\n\u001b[0;31m    data/shuaman/video_summarization/datasets/raw_datasets/CoSum/videos/BUSTED(by, the, Police,, BASE, Jumping, in, Benidorm, |, Jokke, Sommer's, Barely, Legal,, Ep., 2.mp4)\u001b[0m\n\u001b[0m                                                                                               ^\u001b[0m\n\u001b[0;31mSyntaxError\u001b[0m\u001b[0;31m:\u001b[0m invalid syntax\n"
     ]
    }
   ],
   "source": [
    "/data/shuaman/video_summarization/datasets/raw_datasets/CoSum/videos/BUSTED by the Police, BASE Jumping in Benidorm | Jokke Sommer's Barely Legal, Ep. 2.mp4"
   ]
  },
  {
   "cell_type": "code",
   "execution_count": 138,
   "metadata": {},
   "outputs": [],
   "source": [
    "xd = cv2.VideoCapture(\"/data/shuaman/video_summarization/datasets/raw_datasets/CoSum/videos/BUSTED by the Police, BASE Jumping in Benidorm Jokke Sommer's Barely Legal, Ep. 2.mp4\")"
   ]
  },
  {
   "cell_type": "code",
   "execution_count": 139,
   "metadata": {},
   "outputs": [
    {
     "data": {
      "text/plain": [
       "5777.0"
      ]
     },
     "execution_count": 139,
     "metadata": {},
     "output_type": "execute_result"
    }
   ],
   "source": [
    "xd.get(cv2.CAP_PROP_FRAME_COUNT)"
   ]
  },
  {
   "cell_type": "code",
   "execution_count": 165,
   "metadata": {},
   "outputs": [
    {
     "data": {
      "text/plain": [
       "[1, 2, 6, 5, 1, 2, 6, 5, 1, 2, 6, 5, 1, 2, 6, 5, 1, 2, 6, 5]"
      ]
     },
     "execution_count": 165,
     "metadata": {},
     "output_type": "execute_result"
    }
   ],
   "source": [
    "[1, 2, 6, 5 ]* 5"
   ]
  },
  {
   "cell_type": "code",
   "execution_count": 216,
   "metadata": {},
   "outputs": [
    {
     "name": "stdout",
     "output_type": "stream",
     "text": [
      "01_base_jump\n",
      "1\n",
      "/data/shuaman/video_summarization/datasets/raw_datasets/CoSum/videos/Burj Khalifa Pinnacle BASE Jump - 4K.mp4\n",
      "2551\n",
      "2551\n",
      "(2551,)\n",
      "1039.0\n",
      "[0. 0. 0. ... 0. 0. 0.]\n",
      "2\n",
      "/data/shuaman/video_summarization/datasets/raw_datasets/CoSum/videos/Mat Zo feat. Linnea Schossow - The Sky (OFFICIAL MUSIC VIDEO).mp4\n",
      "5703\n",
      "5703\n",
      "(5703,)\n",
      "5476.0\n",
      "[1. 1. 1. ... 1. 1. 0.]\n",
      "3\n",
      "/data/shuaman/video_summarization/datasets/raw_datasets/CoSum/videos/BUSTED by the Police, BASE Jumping in Benidorm Jokke Sommer's Barely Legal, Ep. 2.mp4\n",
      "5777\n",
      "5777\n",
      "(5777,)\n",
      "766.0\n",
      "[0. 0. 0. ... 0. 0. 0.]\n",
      "4\n",
      "/data/shuaman/video_summarization/datasets/raw_datasets/CoSum/videos/World's First Wingsuit BASE Jumping Dog.mp4\n",
      "1386\n",
      "1386\n",
      "(1386,)\n",
      "233.0\n",
      "[0. 0. 0. ... 0. 0. 0.]\n",
      "5\n",
      "/data/shuaman/video_summarization/datasets/raw_datasets/CoSum/videos/World's Highest BASE Jump - Flying from Mt. Everest.mp4\n",
      "2159\n",
      "2159\n",
      "(2159,)\n",
      "405.0\n",
      "[0. 0. 0. ... 0. 0. 0.]\n",
      "done\n",
      "\n",
      "02_bike_polo\n",
      "1\n",
      "/data/shuaman/video_summarization/datasets/raw_datasets/CoSum/videos/Freak Scene Bike Polo Part 1 The Gear.mp4\n",
      "5501\n",
      "5501\n",
      "(5501,)\n",
      "2383.0\n",
      "[0. 0. 0. ... 0. 0. 0.]\n",
      "2\n",
      "/data/shuaman/video_summarization/datasets/raw_datasets/CoSum/videos/NYC-Bike Polo.mp4\n",
      "3300\n",
      "3300\n",
      "(3300,)\n",
      "2222.0\n",
      "[0. 0. 0. ... 1. 1. 0.]\n",
      "3\n",
      "/data/shuaman/video_summarization/datasets/raw_datasets/CoSum/videos/Orlando Bike Polo.mp4\n",
      "5727\n",
      "5727\n",
      "(5727,)\n",
      "3248.0\n",
      "[1. 1. 1. ... 0. 0. 0.]\n",
      "4\n",
      "/data/shuaman/video_summarization/datasets/raw_datasets/CoSum/videos/BKRW bikepolo TOURNAMENT x NIKE IAM1 PARIS Video.mp4\n",
      "5017\n",
      "5017\n",
      "(5017,)\n",
      "2038.0\n",
      "[0. 0. 0. ... 0. 0. 0.]\n",
      "5\n",
      "/data/shuaman/video_summarization/datasets/raw_datasets/CoSum/videos/Bike Polo Part 1 Donnie.mp4\n",
      "2944\n",
      "2944\n",
      "(2944,)\n",
      "1025.0\n",
      "[0. 0. 0. ... 1. 1. 0.]\n",
      "done\n",
      "\n",
      "03_eiffel_tower\n",
      "3\n",
      "/data/shuaman/video_summarization/datasets/raw_datasets/CoSum/videos/Eiffel Tower Time Lapse.mp4\n",
      "3395\n",
      "3395\n",
      "(3395,)\n",
      "2577.0\n",
      "[0. 0. 0. ... 1. 1. 0.]\n",
      "4\n",
      "/data/shuaman/video_summarization/datasets/raw_datasets/CoSum/videos/Eiffel Tower.mp4\n",
      "22356\n",
      "22356\n",
      "(22356,)\n",
      "750.0\n",
      "[0. 0. 0. ... 0. 0. 0.]\n",
      "5\n",
      "/data/shuaman/video_summarization/datasets/raw_datasets/CoSum/videos/How was the Eiffel Tower built I Head Squeeze.mp4\n",
      "4755\n",
      "4755\n",
      "(4755,)\n",
      "858.0\n",
      "[0. 0. 0. ... 0. 0. 0.]\n",
      "7\n",
      "/data/shuaman/video_summarization/datasets/raw_datasets/CoSum/videos/Travel Paris Eiffel Tower - A Different Way Up.mp4\n",
      "3642\n",
      "3642\n",
      "(3642,)\n",
      "392.0\n",
      "[0. 0. 0. ... 0. 0. 0.]\n",
      "done\n",
      "\n",
      "04_excavators_river_xing\n",
      "3\n",
      "/data/shuaman/video_summarization/datasets/raw_datasets/CoSum/videos/Excavator Extravaganza How to cross river with two excavators.mp4\n",
      "3198\n",
      "3198\n",
      "(3198,)\n",
      "2135.0\n",
      "[0. 0. 0. ... 0. 0. 0.]\n",
      "done\n",
      "\n",
      "05_kids_playing_in_leaves\n",
      "1\n",
      "/data/shuaman/video_summarization/datasets/raw_datasets/CoSum/videos/kids playing in leaves 10212013.mp4\n",
      "4764\n",
      "4764\n",
      "(4764,)\n",
      "3397.0\n",
      "[0. 0. 0. ... 1. 1. 0.]\n",
      "2\n",
      "/data/shuaman/video_summarization/datasets/raw_datasets/CoSum/videos/Kids playing in leaves.mp4\n",
      "11733\n",
      "11733\n",
      "(11733,)\n",
      "10636.0\n",
      "[1. 1. 1. ... 0. 0. 0.]\n",
      "3\n",
      "/data/shuaman/video_summarization/datasets/raw_datasets/CoSum/videos/The Lauraville Kids Play in The Leaves.mp4\n",
      "1351\n",
      "1351\n",
      "(1351,)\n",
      "1085.0\n",
      "[0. 0. 0. ... 0. 0. 0.]\n",
      "5\n",
      "/data/shuaman/video_summarization/datasets/raw_datasets/CoSum/videos/Kids Playing with Leaves.mp4\n",
      "955\n",
      "955\n",
      "(955,)\n",
      "804.0\n",
      "[1. 1. 1. 1. 1. 1. 1. 1. 1. 1. 1. 1. 1. 1. 1. 1. 1. 1. 1. 1. 1. 1. 1. 1.\n",
      " 1. 1. 1. 1. 1. 1. 1. 1. 1. 1. 1. 1. 1. 1. 1. 1. 1. 1. 1. 1. 1. 1. 1. 1.\n",
      " 1. 1. 1. 1. 1. 1. 1. 1. 1. 1. 1. 1. 1. 1. 1. 1. 1. 1. 1. 1. 1. 1. 1. 1.\n",
      " 1. 1. 1. 1. 1. 1. 1. 1. 1. 1. 1. 1. 1. 1. 1. 1. 1. 1. 1. 1. 1. 1. 1. 1.\n",
      " 1. 1. 1. 1. 1. 1. 1. 1. 1. 1. 1. 1. 1. 1. 1. 1. 1. 1. 1. 1. 1. 1. 1. 1.\n",
      " 1. 1. 1. 1. 1. 1. 1. 1. 1. 1. 1. 1. 1. 1. 1. 1. 1. 1. 1. 1. 1. 1. 1. 1.\n",
      " 1. 1. 1. 1. 1. 1. 1. 1. 1. 1. 1. 1. 1. 1. 1. 1. 1. 1. 1. 1. 1. 1. 1. 1.\n",
      " 1. 1. 1. 1. 1. 1. 1. 1. 1. 1. 1. 1. 1. 1. 1. 1. 1. 1. 1. 1. 1. 1. 1. 1.\n",
      " 1. 1. 1. 1. 1. 1. 1. 1. 1. 1. 1. 1. 1. 1. 1. 1. 1. 1. 1. 1. 1. 1. 1. 1.\n",
      " 1. 1. 1. 1. 1. 1. 1. 1. 1. 1. 1. 1. 1. 1. 1. 1. 1. 1. 1. 1. 1. 1. 1. 1.\n",
      " 1. 1. 1. 1. 1. 1. 1. 1. 1. 1. 1. 1. 1. 1. 1. 1. 1. 1. 1. 1. 1. 1. 1. 1.\n",
      " 1. 1. 1. 1. 1. 1. 1. 1. 1. 1. 1. 1. 1. 1. 1. 1. 1. 1. 1. 1. 1. 1. 1. 1.\n",
      " 1. 1. 1. 1. 1. 1. 1. 1. 1. 1. 1. 1. 1. 1. 1. 1. 1. 1. 1. 1. 1. 1. 1. 1.\n",
      " 1. 1. 1. 1. 1. 1. 1. 1. 1. 1. 1. 1. 1. 1. 1. 1. 1. 1. 1. 1. 1. 1. 1. 1.\n",
      " 1. 1. 1. 1. 1. 1. 1. 1. 1. 1. 1. 1. 1. 1. 1. 1. 1. 1. 1. 1. 1. 1. 1. 1.\n",
      " 1. 1. 1. 1. 1. 1. 1. 1. 1. 1. 1. 1. 1. 1. 1. 1. 1. 1. 1. 1. 1. 1. 1. 1.\n",
      " 1. 1. 1. 1. 1. 1. 1. 1. 1. 1. 1. 1. 1. 1. 1. 1. 1. 1. 1. 1. 1. 1. 1. 1.\n",
      " 1. 1. 1. 1. 1. 1. 1. 1. 1. 1. 1. 1. 1. 1. 1. 1. 1. 1. 1. 1. 1. 1. 1. 1.\n",
      " 1. 1. 1. 1. 1. 1. 1. 1. 1. 1. 1. 1. 1. 1. 1. 1. 1. 1. 1. 1. 1. 1. 1. 1.\n",
      " 1. 1. 1. 1. 1. 1. 1. 1. 1. 1. 1. 1. 1. 1. 1. 1. 1. 1. 1. 1. 1. 1. 1. 1.\n",
      " 1. 1. 1. 1. 1. 1. 1. 1. 1. 1. 1. 1. 1. 1. 1. 1. 1. 1. 1. 1. 1. 1. 1. 1.\n",
      " 1. 1. 1. 1. 1. 1. 1. 1. 1. 1. 1. 1. 1. 1. 1. 1. 1. 1. 1. 1. 1. 1. 1. 1.\n",
      " 1. 1. 1. 1. 1. 1. 1. 1. 1. 1. 1. 1. 1. 1. 1. 1. 1. 1. 1. 1. 1. 1. 1. 1.\n",
      " 1. 1. 1. 1. 1. 1. 1. 1. 1. 1. 1. 1. 1. 1. 1. 1. 1. 1. 1. 1. 1. 1. 1. 1.\n",
      " 1. 1. 1. 1. 1. 1. 1. 1. 1. 1. 1. 1. 1. 1. 1. 1. 1. 1. 1. 1. 1. 1. 1. 1.\n",
      " 1. 1. 1. 1. 1. 1. 1. 1. 1. 1. 1. 1. 1. 1. 1. 1. 1. 1. 1. 1. 1. 1. 1. 1.\n",
      " 1. 1. 1. 1. 1. 1. 1. 1. 1. 1. 1. 1. 1. 1. 1. 1. 1. 1. 1. 1. 1. 1. 1. 1.\n",
      " 1. 1. 1. 1. 1. 1. 1. 1. 1. 1. 1. 1. 1. 1. 1. 1. 1. 1. 1. 1. 1. 1. 1. 1.\n",
      " 1. 1. 1. 1. 1. 1. 1. 1. 1. 1. 1. 1. 1. 1. 1. 1. 1. 1. 1. 1. 1. 1. 1. 1.\n",
      " 1. 1. 1. 1. 1. 1. 1. 1. 1. 1. 1. 1. 1. 1. 1. 1. 1. 1. 1. 1. 1. 1. 1. 1.\n",
      " 1. 1. 1. 1. 1. 1. 1. 1. 1. 1. 1. 1. 1. 1. 1. 1. 1. 1. 1. 1. 1. 1. 1. 1.\n",
      " 1. 1. 1. 1. 1. 1. 0. 0. 0. 0. 0. 0. 0. 0. 0. 0. 0. 0. 0. 0. 0. 0. 0. 0.\n",
      " 0. 0. 0. 0. 0. 0. 0. 0. 0. 0. 0. 0. 0. 0. 0. 0. 0. 0. 0. 0. 0. 0. 0. 0.\n",
      " 0. 0. 0. 0. 0. 0. 0. 0. 0. 0. 0. 0. 0. 0. 0. 0. 0. 0. 0. 0. 0. 0. 0. 0.\n",
      " 0. 0. 0. 0. 0. 0. 0. 0. 0. 0. 0. 0. 0. 0. 0. 0. 0. 0. 0. 0. 0. 0. 0. 0.\n",
      " 0. 0. 0. 0. 0. 0. 0. 0. 0. 0. 0. 0. 0. 0. 0. 0. 0. 0. 0. 0. 0. 0. 0. 0.\n",
      " 0. 0. 0. 0. 0. 0. 0. 0. 0. 0. 0. 0. 0. 0. 0. 0. 0. 0. 0. 0. 0. 0. 0. 0.\n",
      " 0. 0. 0. 0. 0. 0. 0. 0. 0. 0. 0. 0. 1. 1. 1. 1. 1. 1. 1. 1. 1. 1. 1. 1.\n",
      " 1. 1. 1. 1. 1. 1. 1. 1. 1. 1. 1. 1. 1. 1. 1. 1. 1. 1. 1. 1. 1. 1. 1. 1.\n",
      " 1. 1. 1. 1. 1. 1. 1. 1. 1. 1. 1. 1. 1. 1. 1. 1. 1. 1. 0.]\n",
      "6\n",
      "/data/shuaman/video_summarization/datasets/raw_datasets/CoSum/videos/Playing in the Leaves - 2011.mp4\n",
      "7915\n",
      "7915\n",
      "(7915,)\n",
      "6192.0\n",
      "[1. 1. 1. ... 1. 1. 0.]\n",
      "done\n",
      "\n",
      "06_mlb\n",
      "1\n",
      "/data/shuaman/video_summarization/datasets/raw_datasets/CoSum/videos/baseball play 1.mp4\n",
      "3263\n",
      "3263\n",
      "(3263,)\n",
      "2069.0\n",
      "[0. 0. 0. ... 0. 0. 0.]\n",
      "2\n",
      "/data/shuaman/video_summarization/datasets/raw_datasets/CoSum/videos/baseball play 2.mp4\n",
      "3204\n",
      "3204\n",
      "(3204,)\n",
      "1098.0\n",
      "[0. 0. 0. ... 0. 0. 0.]\n",
      "4\n",
      "/data/shuaman/video_summarization/datasets/raw_datasets/CoSum/videos/Ichiro slugs his first homer of the season in 2014.mp4\n",
      "2638\n",
      "2638\n",
      "(2638,)\n",
      "1602.0\n",
      "[1. 1. 1. ... 1. 1. 0.]\n",
      "5\n",
      "/data/shuaman/video_summarization/datasets/raw_datasets/CoSum/videos/Mother's Day MLB News Story.mp4\n",
      "2743\n",
      "2743\n",
      "(2743,)\n",
      "509.0\n",
      "[1. 1. 1. ... 0. 0. 0.]\n",
      "6\n",
      "/data/shuaman/video_summarization/datasets/raw_datasets/CoSum/videos/baseball play 6.mp4\n",
      "6560\n",
      "6560\n",
      "(6560,)\n",
      "2918.0\n",
      "[0. 0. 0. ... 0. 0. 0.]\n",
      "done\n",
      "\n",
      "07_nfl\n",
      "1\n",
      "/data/shuaman/video_summarization/datasets/raw_datasets/CoSum/videos/Notre Dame Football 2014.mp4\n",
      "8755\n",
      "8755\n",
      "(8755,)\n",
      "2923.0\n",
      "[0. 0. 0. ... 0. 0. 0.]\n",
      "2\n",
      "/data/shuaman/video_summarization/datasets/raw_datasets/CoSum/videos/Notre Dame Football 2014-15 Pump Up.mp4\n",
      "8036\n",
      "8036\n",
      "(8036,)\n",
      "7026.0\n",
      "[0. 0. 0. ... 0. 0. 0.]\n",
      "3\n",
      "/data/shuaman/video_summarization/datasets/raw_datasets/CoSum/videos/nfl3.mp4\n",
      "6388\n",
      "6388\n",
      "(6388,)\n",
      "3790.0\n",
      "[0. 0. 0. ... 0. 0. 0.]\n",
      "done\n",
      "\n",
      "08_notre_dame_cathedral\n",
      "1\n",
      "/data/shuaman/video_summarization/datasets/raw_datasets/CoSum/videos/Visiting the Notre Dame Cathedral Paris Travel.mp4\n",
      "2309\n",
      "2309\n",
      "(2309,)\n",
      "1612.0\n",
      "[0. 0. 0. ... 1. 1. 0.]\n",
      "2\n",
      "/data/shuaman/video_summarization/datasets/raw_datasets/CoSum/videos/Travel Paris Notre Dame's Locals Only Secret Garden.mp4\n",
      "3834\n",
      "3834\n",
      "(3834,)\n",
      "788.0\n",
      "[0. 0. 0. ... 0. 0. 0.]\n",
      "4\n",
      "/data/shuaman/video_summarization/datasets/raw_datasets/CoSum/videos/Paris Trip Day 4 Notre Dame & D'orsay.mp4\n",
      "7013\n",
      "7013\n",
      "(7013,)\n",
      "1581.0\n",
      "[0. 0. 0. ... 0. 0. 0.]\n",
      "done\n",
      "\n",
      "09_statue_of_liberty\n",
      "2\n",
      "/data/shuaman/video_summarization/datasets/raw_datasets/CoSum/videos/New York City's Statue of Liberty - 2 Minute Tour.mp4\n",
      "5319\n",
      "5319\n",
      "(5319,)\n",
      "2810.0\n",
      "[1. 1. 1. ... 0. 0. 0.]\n",
      "3\n",
      "/data/shuaman/video_summarization/datasets/raw_datasets/CoSum/videos/Paper Model of the Statue of Liberty.mp4\n",
      "2399\n",
      "2399\n",
      "(2399,)\n",
      "1948.0\n",
      "[0. 0. 0. ... 1. 1. 0.]\n",
      "4\n",
      "/data/shuaman/video_summarization/datasets/raw_datasets/CoSum/videos/Statue of Liberty for Kids.mp4\n",
      "3015\n",
      "3015\n",
      "(3015,)\n",
      "761.0\n",
      "[0. 0. 0. ... 0. 0. 0.]\n",
      "5\n",
      "/data/shuaman/video_summarization/datasets/raw_datasets/CoSum/videos/Statue of Liberty 20 foot tall Foam Sculpture for Governors Ball Music Festival.mp4\n",
      "4151\n",
      "4151\n",
      "(4151,)\n",
      "1350.0\n",
      "[0. 0. 0. ... 0. 0. 0.]\n",
      "done\n",
      "\n",
      "10_surfing\n",
      "1\n",
      "/data/shuaman/video_summarization/datasets/raw_datasets/CoSum/videos/Pro Surfer Carissa Moore's Journey to two ASP World Championships.mp4\n",
      "5545\n",
      "5545\n",
      "(5545,)\n",
      "1736.0\n",
      "[0. 0. 0. ... 0. 0. 0.]\n",
      "2\n",
      "/data/shuaman/video_summarization/datasets/raw_datasets/CoSum/videos/Surfing With Alana Blanchard & Her Boyfriend Jack Freestone Ep. 305.mp4\n",
      "7363\n",
      "7363\n",
      "(7363,)\n",
      "1333.0\n",
      "[0. 0. 0. ... 0. 0. 0.]\n",
      "3\n",
      "/data/shuaman/video_summarization/datasets/raw_datasets/CoSum/videos/Alana Blanchard Aloha Kauai - Alana Surfer Girl Ep 101.mp4\n",
      "8479\n",
      "8479\n",
      "(8479,)\n",
      "1171.0\n",
      "[0. 0. 0. ... 1. 1. 0.]\n",
      "4\n",
      "/data/shuaman/video_summarization/datasets/raw_datasets/CoSum/videos/The Beach Boys ~ Surfer Girl.mp4\n",
      "4516\n",
      "4516\n",
      "(4516,)\n",
      "1251.0\n",
      "[0. 0. 0. ... 0. 0. 0.]\n",
      "5\n",
      "/data/shuaman/video_summarization/datasets/raw_datasets/CoSum/videos/Go Pro Surfing Sexy Girl Compilation.mp4\n",
      "3550\n",
      "3550\n",
      "(3550,)\n",
      "1456.0\n",
      "[0. 0. 0. ... 0. 0. 0.]\n",
      "6\n",
      "/data/shuaman/video_summarization/datasets/raw_datasets/CoSum/videos/The Vast Waters Fresh Surfing in Costa Rica.mp4\n",
      "9208\n",
      "9208\n",
      "(9208,)\n",
      "4632.0\n",
      "[0. 0. 0. ... 0. 0. 0.]\n",
      "done\n",
      "\n"
     ]
    }
   ],
   "source": [
    "for category, short_name in dataset[[\"VIDEO_CATEGORY\",\"SHORT CATEGORY\"]].drop_duplicates().values:\n",
    "    path_ant_category = os.path.join(path_annotations,category)\n",
    "    path_shots_category = os.path.join(path_shots,category)\n",
    "    \n",
    "    list_videos = dataset.loc[dataset[\"VIDEO_CATEGORY\"]==category,[\"VIDEO_ID_IN_CATEGORY\", \"VIDEO\"]].drop_duplicates().values\n",
    "    print(category)\n",
    "    #print(list_videos)\n",
    "    for video_id, video_name in list_videos:\n",
    "        \n",
    "        shots = open(os.path.join(path_shots_category, f'{short_name}{video_id}_shots.txt'),'r')\n",
    "        print(video_id)\n",
    "        print(os.path.join(path_videos, f'{video_name}.mp4'))\n",
    "        video = cv2.VideoCapture(os.path.join(path_videos, f'{video_name}.mp4'))\n",
    "        user1 = scipy.io.loadmat(os.path.join(path_ant_category, f'{video_id}__dualplus.mat'))[\"labels\"][:,0] \n",
    "        user2 = scipy.io.loadmat(os.path.join(path_ant_category, f'{video_id}__kk.mat'))[\"labels\"][:,0]\n",
    "        user3 = scipy.io.loadmat(os.path.join(path_ant_category, f'{video_id}__vv.mat'))[\"labels\"][:,0]\n",
    "        \n",
    "        n_frames = int(video.get(cv2.CAP_PROP_FRAME_COUNT))\n",
    "        new_gt_user_1 = np.zeros(n_frames)\n",
    "        \n",
    "        shots = shots.read().splitlines()\n",
    "        #print(shots)\n",
    "        #shots = [int(shots[0]) if shots[0]=='1' else int(int(shots[0])*n_frames/int(shots[-1]))] + [int(int(nframe)*n_frames/int(shots[-1])) for nframe in shots[1:]]\n",
    "        shots = [int(np.ceil(int(nframe)*n_frames/int(shots[-1]))) for nframe in shots]\n",
    "        \n",
    "        #shots = shots[0] + shots[1:]*(n_frames/shots[-1]) \n",
    "        #print(shots)\n",
    "        print(shots[-1])\n",
    "        print(n_frames)\n",
    "        for indexshot in user1:\n",
    "            #print(indexshot)\n",
    "            if indexshot >= len(shots):\n",
    "                indexshot = len(shots)-1\n",
    "            #print(indexshot)\n",
    "            new_gt_user_1[int(shots[int(indexshot)-1])-1:int(shots[int(indexshot)])-1] = 1\n",
    "        \n",
    "        print(new_gt_user_1.shape)\n",
    "        print(new_gt_user_1.sum())\n",
    "        print(new_gt_user_1)\n",
    "        \n",
    "        \n",
    "        #break\n",
    "    #break\n",
    "    print(\"done\")\n",
    "    print()\n",
    "    #print(os.listdir(path_ant_category))\n",
    "    #print(os.path.join(path_shots,category))"
   ]
  },
  {
   "cell_type": "code",
   "execution_count": 158,
   "metadata": {},
   "outputs": [
    {
     "data": {
      "text/plain": [
       "5545.0"
      ]
     },
     "execution_count": 158,
     "metadata": {},
     "output_type": "execute_result"
    }
   ],
   "source": [
    "722*5545/722"
   ]
  },
  {
   "cell_type": "code",
   "execution_count": 157,
   "metadata": {},
   "outputs": [
    {
     "data": {
      "text/plain": [
       "7.68005540166205"
      ]
     },
     "execution_count": 157,
     "metadata": {},
     "output_type": "execute_result"
    }
   ],
   "source": [
    "5545*1/722"
   ]
  },
  {
   "cell_type": "code",
   "execution_count": 217,
   "metadata": {},
   "outputs": [],
   "source": [
    "mat = scipy.io.loadmat(\"/data/shuaman/video_summarization/datasets/raw_datasets/CoSum/annotation/01_base_jump/2__dualplus.mat\") "
   ]
  },
  {
   "cell_type": "code",
   "execution_count": 218,
   "metadata": {},
   "outputs": [
    {
     "data": {
      "text/plain": [
       "dict_keys(['__header__', '__version__', '__globals__', 'labels'])"
      ]
     },
     "execution_count": 218,
     "metadata": {},
     "output_type": "execute_result"
    }
   ],
   "source": [
    "#SumMe\n",
    "mat.keys()"
   ]
  },
  {
   "cell_type": "code",
   "execution_count": 219,
   "metadata": {},
   "outputs": [
    {
     "data": {
      "text/plain": [
       "array([[ 1,  1],\n",
       "       [ 3,  1],\n",
       "       [ 4,  1],\n",
       "       [ 5,  1],\n",
       "       [ 6,  1],\n",
       "       [ 8,  1],\n",
       "       [10,  1],\n",
       "       [11,  1],\n",
       "       [12,  1],\n",
       "       [13,  1],\n",
       "       [14,  1],\n",
       "       [15,  1],\n",
       "       [16,  1],\n",
       "       [17,  1],\n",
       "       [18,  1],\n",
       "       [19,  1],\n",
       "       [20,  1],\n",
       "       [21,  1],\n",
       "       [23,  1],\n",
       "       [24,  1],\n",
       "       [25,  1],\n",
       "       [26,  1],\n",
       "       [27,  1],\n",
       "       [28,  1],\n",
       "       [29,  1],\n",
       "       [30,  1],\n",
       "       [31,  1],\n",
       "       [32,  1],\n",
       "       [33,  1],\n",
       "       [34,  1],\n",
       "       [35,  1],\n",
       "       [36,  1],\n",
       "       [37,  1],\n",
       "       [38,  1],\n",
       "       [39,  1],\n",
       "       [40,  1],\n",
       "       [41,  1],\n",
       "       [42,  1],\n",
       "       [43,  1],\n",
       "       [44,  1],\n",
       "       [46,  1],\n",
       "       [47,  1],\n",
       "       [48,  1],\n",
       "       [49,  1],\n",
       "       [50,  1],\n",
       "       [51,  1],\n",
       "       [52,  1],\n",
       "       [54,  1],\n",
       "       [55,  1],\n",
       "       [56,  1],\n",
       "       [57,  1],\n",
       "       [58,  1],\n",
       "       [59,  1],\n",
       "       [60,  1],\n",
       "       [61,  1],\n",
       "       [62,  1],\n",
       "       [63,  1],\n",
       "       [64,  1],\n",
       "       [65,  1],\n",
       "       [67,  1],\n",
       "       [68,  1],\n",
       "       [69,  1],\n",
       "       [70,  1],\n",
       "       [71,  1],\n",
       "       [72,  1],\n",
       "       [73,  1]], dtype=uint8)"
      ]
     },
     "execution_count": 219,
     "metadata": {},
     "output_type": "execute_result"
    }
   ],
   "source": [
    "mat[\"labels\"]"
   ]
  },
  {
   "cell_type": "code",
   "execution_count": 179,
   "metadata": {},
   "outputs": [
    {
     "name": "stdout",
     "output_type": "stream",
     "text": [
      "7\n",
      "8\n",
      "12\n",
      "16\n"
     ]
    }
   ],
   "source": [
    "for i in mat[\"labels\"][:,0]:\n",
    "    print(i)"
   ]
  }
 ],
 "metadata": {
  "kernelspec": {
   "display_name": "vsm_kernel",
   "language": "python",
   "name": "vsm_kernel"
  },
  "language_info": {
   "codemirror_mode": {
    "name": "ipython",
    "version": 3
   },
   "file_extension": ".py",
   "mimetype": "text/x-python",
   "name": "python",
   "nbconvert_exporter": "python",
   "pygments_lexer": "ipython3",
   "version": "3.8.11"
  }
 },
 "nbformat": 4,
 "nbformat_minor": 4
}
