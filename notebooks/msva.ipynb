{
 "cells": [
  {
   "cell_type": "code",
   "execution_count": 1,
   "metadata": {},
   "outputs": [],
   "source": [
    "import os\n",
    "import torch"
   ]
  },
  {
   "cell_type": "code",
   "execution_count": null,
   "metadata": {},
   "outputs": [],
   "source": []
  },
  {
   "cell_type": "code",
   "execution_count": 2,
   "metadata": {},
   "outputs": [],
   "source": [
    "os.chdir(\"/home/shuaman/video_sm/video_summarization\")"
   ]
  },
  {
   "cell_type": "code",
   "execution_count": 3,
   "metadata": {},
   "outputs": [
    {
     "name": "stdout",
     "output_type": "stream",
     "text": [
      "/home/shuaman/video_sm/video_summarization\n"
     ]
    }
   ],
   "source": [
    "!pwd"
   ]
  },
  {
   "cell_type": "code",
   "execution_count": 4,
   "metadata": {},
   "outputs": [],
   "source": [
    "from src.models import MSVA\n",
    "from src.utils import VSMDataset, parse_configuration\n",
    "from src.utils.utils_model import *"
   ]
  },
  {
   "cell_type": "code",
   "execution_count": 5,
   "metadata": {},
   "outputs": [],
   "source": [
    "msva = MSVA()"
   ]
  },
  {
   "cell_type": "code",
   "execution_count": 6,
   "metadata": {},
   "outputs": [],
   "source": [
    "path_weights_summe = \"/home/shuaman/video_sm/MSVA/model_weights/summe_random_non_overlap_0.5359.tar.pth\"\n",
    "path_weights_tvsum = \"/home/shuaman/video_sm/MSVA/model_weights/tvsum_random_non_overlap_0.6271.tar.pth\""
   ]
  },
  {
   "cell_type": "code",
   "execution_count": 31,
   "metadata": {},
   "outputs": [
    {
     "data": {
      "text/plain": [
       "<All keys matched successfully>"
      ]
     },
     "execution_count": 31,
     "metadata": {},
     "output_type": "execute_result"
    }
   ],
   "source": [
    "msva.load_state_dict(torch.load(path_weights_summe))"
   ]
  },
  {
   "cell_type": "code",
   "execution_count": 7,
   "metadata": {},
   "outputs": [],
   "source": [
    "dict_paths = {\n",
    "        'path_tvsum':\"/data/shuaman/video_summarization/datasets/processed_datasets/eccv16_dataset_tvsum_google_pool5.h5\",\n",
    "        'path_summe':\"/data/shuaman/video_summarization/datasets/processed_datasets/eccv16_dataset_summe_google_pool5.h5\",\n",
    "        'path_ovp':\"/data/shuaman/video_summarization/datasets/processed_datasets/eccv16_dataset_ovp_google_pool5.h5\",\n",
    "        'path_youtube':\"/data/shuaman/video_summarization/datasets/processed_datasets/eccv16_dataset_youtube_google_pool5.h5\",\n",
    "        'path_cosum':\"/data/shuaman/video_summarization/datasets/processed_datasets/dataset_cosum_processed.h5\",\n",
    "#         'path_tvsum':\"/data/shuaman/video_summarization/datasets/processed_datasets/dataset_tvsum_processed.h5\",\n",
    "#         'path_summe':\"/data/shuaman/video_summarization/datasets/processed_datasets/dataset_summe_processed.h5\",\n",
    "}"
   ]
  },
  {
   "cell_type": "code",
   "execution_count": 8,
   "metadata": {},
   "outputs": [],
   "source": [
    "dict_use_feature = get_flags_features(\"i3d\", \"googlenet\")"
   ]
  },
  {
   "cell_type": "code",
   "execution_count": 9,
   "metadata": {},
   "outputs": [
    {
     "data": {
      "text/plain": [
       "{'googlenet': True,\n",
       " 'resnext': False,\n",
       " 'inceptionv3': False,\n",
       " 'i3d_rgb': True,\n",
       " 'i3d_flow': True,\n",
       " 'resnet3d': False}"
      ]
     },
     "execution_count": 9,
     "metadata": {},
     "output_type": "execute_result"
    }
   ],
   "source": [
    "dict_use_feature"
   ]
  },
  {
   "cell_type": "code",
   "execution_count": 10,
   "metadata": {},
   "outputs": [],
   "source": [
    "params = {\n",
    "        'batch_size': 1,\n",
    "        'num_workers': 4\n",
    "        }\n"
   ]
  },
  {
   "cell_type": "code",
   "execution_count": 11,
   "metadata": {},
   "outputs": [],
   "source": [
    "path_split = \"/home/shuaman/video_sm/video_summarization/splits/vasnet_splits/summe_splits.json\"\n",
    "splits = parse_configuration(path_split)\n",
    "split = splits[0]"
   ]
  },
  {
   "cell_type": "code",
   "execution_count": 12,
   "metadata": {},
   "outputs": [
    {
     "data": {
      "text/plain": [
       "dict_keys(['train_keys', 'test_keys'])"
      ]
     },
     "execution_count": 12,
     "metadata": {},
     "output_type": "execute_result"
    }
   ],
   "source": [
    "split.keys()"
   ]
  },
  {
   "cell_type": "code",
   "execution_count": 13,
   "metadata": {},
   "outputs": [
    {
     "data": {
      "text/plain": [
       "'/data/shuaman/video_summarization/datasets/processed_datasets/eccv16_dataset_summe_google_pool5.h5'"
      ]
     },
     "execution_count": 13,
     "metadata": {},
     "output_type": "execute_result"
    }
   ],
   "source": [
    "dataset_paths = get_paths('summe', 'canonical', **dict_paths)\n",
    "dataset_paths"
   ]
  },
  {
   "cell_type": "code",
   "execution_count": 14,
   "metadata": {},
   "outputs": [],
   "source": [
    "training_generator, test_generator = get_dataloaders(dataset_paths, split, \n",
    "                                                     dict_use_feature, params,\n",
    "                                                    \"/data/shuaman/video_summarization/datasets/processed_datasets/transformations.pk\")"
   ]
  },
  {
   "cell_type": "code",
   "execution_count": 15,
   "metadata": {},
   "outputs": [
    {
     "name": "stdout",
     "output_type": "stream",
     "text": [
      "20\n"
     ]
    }
   ],
   "source": [
    "it = 0\n",
    "for i in training_generator:\n",
    "    it += 1\n",
    "    continue\n",
    "print(it)"
   ]
  },
  {
   "cell_type": "code",
   "execution_count": 16,
   "metadata": {},
   "outputs": [
    {
     "name": "stdout",
     "output_type": "stream",
     "text": [
      "5\n"
     ]
    }
   ],
   "source": [
    "it = 0\n",
    "for i in test_generator:\n",
    "    it += 1\n",
    "    continue\n",
    "print(it)"
   ]
  },
  {
   "cell_type": "code",
   "execution_count": 17,
   "metadata": {},
   "outputs": [],
   "source": [
    "device = torch.device(\"cuda:3\")"
   ]
  },
  {
   "cell_type": "code",
   "execution_count": 18,
   "metadata": {},
   "outputs": [
    {
     "data": {
      "text/plain": [
       "device(type='cuda', index=3)"
      ]
     },
     "execution_count": 18,
     "metadata": {},
     "output_type": "execute_result"
    }
   ],
   "source": [
    "device"
   ]
  },
  {
   "cell_type": "code",
   "execution_count": 19,
   "metadata": {},
   "outputs": [
    {
     "data": {
      "text/plain": [
       "MSELoss()"
      ]
     },
     "execution_count": 19,
     "metadata": {},
     "output_type": "execute_result"
    }
   ],
   "source": [
    "optimizer = init_optimizer(msva, 0.00005, 0.00001)\n",
    "criterion = torch.nn.MSELoss()\n",
    "criterion.to(device)"
   ]
  },
  {
   "cell_type": "code",
   "execution_count": 20,
   "metadata": {},
   "outputs": [],
   "source": [
    "sameCount = 0\n",
    "max_val_fscore = 0\n",
    "maxkt = 0\n",
    "maxsp = 0\n",
    "maxtrl = 0\n",
    "maxtsl = 0\n",
    "max_val_fscoreLs=[]"
   ]
  },
  {
   "cell_type": "code",
   "execution_count": 21,
   "metadata": {},
   "outputs": [],
   "source": [
    "import cv2\n",
    "import numpy as np\n",
    "import sys "
   ]
  },
  {
   "cell_type": "code",
   "execution_count": 22,
   "metadata": {},
   "outputs": [],
   "source": [
    "def train_step(training_generator, criterion, optimizer):\n",
    "    msva.train()\n",
    "\n",
    "    avg_loss = []\n",
    "\n",
    "    for video_info, label in training_generator:\n",
    "        \n",
    "        target = (label['gtscore'].squeeze(0)).cpu().numpy()\n",
    "        features = [(video_info[key].squeeze(0)).cpu().numpy() for key in video_info.keys() if 'features' in  key]\n",
    "\n",
    "        shape_desire = target.shape[0]\n",
    "        features = [cv2.resize(feature, (feature.shape[1],shape_desire), interpolation = cv2.INTER_AREA) for feature in features]\n",
    "\n",
    "        features = [torch.from_numpy(feature).unsqueeze(0) for feature in features]\n",
    "        target =  torch.from_numpy(target).unsqueeze(0)\n",
    "\n",
    "        target -= target.min()\n",
    "        target = np.true_divide(target, target.max())\n",
    "\n",
    "        target = target.float().to(device)\n",
    "        features = [feature.float().to(device) for feature in features]\n",
    "        seq_len = features[0].shape[1]\n",
    "\n",
    "        y, _ = msva(features, seq_len)\n",
    "\n",
    "        loss = criterion(y, target)\n",
    "        optimizer.zero_grad()\n",
    "        loss.backward()\n",
    "        optimizer.step()\n",
    "\n",
    "        avg_loss.append(loss.item())\n",
    "\n",
    "    avg_loss = np.mean(np.array(avg_loss))\n",
    "\n",
    "    return avg_loss"
   ]
  },
  {
   "cell_type": "code",
   "execution_count": 23,
   "metadata": {},
   "outputs": [
    {
     "data": {
      "text/plain": [
       "MSVA(\n",
       "  (att1_3): SelfAttention(\n",
       "    (K): Linear(in_features=1024, out_features=1024, bias=False)\n",
       "    (Q): Linear(in_features=1024, out_features=1024, bias=False)\n",
       "    (V): Linear(in_features=1024, out_features=1024, bias=False)\n",
       "    (output_linear): Linear(in_features=1024, out_features=1024, bias=False)\n",
       "    (dropout): Dropout(p=0.5, inplace=False)\n",
       "  )\n",
       "  (ka1_3): Linear(in_features=1024, out_features=365, bias=True)\n",
       "  (kb): Linear(in_features=365, out_features=365, bias=True)\n",
       "  (kc): Linear(in_features=365, out_features=512, bias=True)\n",
       "  (kd): Linear(in_features=512, out_features=1, bias=True)\n",
       "  (sig): Sigmoid()\n",
       "  (relu): ReLU()\n",
       "  (dropout): Dropout(p=0.5, inplace=False)\n",
       "  (softmax): Softmax(dim=0)\n",
       "  (layer_norm_y_1_3): LayerNorm()\n",
       "  (layer_norm_y_4): LayerNorm()\n",
       "  (layer_norm_kc): LayerNorm()\n",
       "  (layer_norm_kd): LayerNorm()\n",
       ")"
      ]
     },
     "execution_count": 23,
     "metadata": {},
     "output_type": "execute_result"
    }
   ],
   "source": [
    "msva.to(device)"
   ]
  },
  {
   "cell_type": "code",
   "execution_count": 24,
   "metadata": {},
   "outputs": [],
   "source": [
    "from src.utils import generate_summary, evaluate_summary\n",
    "from scipy.stats import kendalltau, spearmanr, rankdata"
   ]
  },
  {
   "cell_type": "code",
   "execution_count": 25,
   "metadata": {},
   "outputs": [],
   "source": [
    "def eval_function(test_generator):\n",
    "    msva.eval()\n",
    "\n",
    "    avg_loss = []\n",
    "    fms = []\n",
    "    kts = []\n",
    "    sps = []\n",
    "\n",
    "    with torch.no_grad():\n",
    "        for video_info, label in test_generator:\n",
    "\n",
    "            target = (label['gtscore'].squeeze(0)).cpu().numpy()\n",
    "            features = [(video_info[key].squeeze(0)).cpu().numpy() for key in video_info.keys() if 'features' in  key]\n",
    "\n",
    "            shape_desire = target.shape[0]\n",
    "            features = [cv2.resize(feature, (feature.shape[1],shape_desire), interpolation = cv2.INTER_AREA) for feature in features]\n",
    "\n",
    "            features = [torch.from_numpy(feature).unsqueeze(0) for feature in features]\n",
    "            target =  torch.from_numpy(target).unsqueeze(0)\n",
    "\n",
    "            target -= target.min()\n",
    "            target = np.true_divide(target, target.max())\n",
    "\n",
    "            target = target.float().to(device)\n",
    "            features = [feature.float().to(device) for feature in features]\n",
    "\n",
    "            y, _ = msva(features, shape_desire)\n",
    "\n",
    "            criterion = torch.nn.MSELoss()\n",
    "            criterion.to(device)\n",
    "\n",
    "            test_loss = criterion(y, target)\n",
    "\n",
    "            avg_loss.append(test_loss.item())\n",
    "            summary = y[0].detach().cpu().numpy()\n",
    "\n",
    "            machine_summary = generate_summary(summary, (video_info[\"change_points\"].squeeze(0)).cpu().numpy(),\n",
    "                                              (video_info[\"n_frames\"].squeeze(0)).cpu().numpy(), (video_info[\"n_frame_per_seg\"].squeeze(0)).cpu().numpy(),\n",
    "                                                (video_info[\"picks\"].squeeze(0)).cpu().numpy())\n",
    "\n",
    "            eval_metric = 'avg' if video_info[\"name_dataset\"][0] == \"tvsum\" else 'max'\n",
    "            fm, _, _ = evaluate_summary(machine_summary, (label[\"user_summary\"].squeeze(0)).cpu().numpy(),\n",
    "                                            eval_metric)\n",
    "\n",
    "            fms.append(fm)\n",
    "            y_pred2 = machine_summary\n",
    "            y_true2 = (label[\"user_summary\"].squeeze(0)).cpu().numpy().mean(axis=0)\n",
    "            pS = spearmanr(y_pred2, y_true2)[0]\n",
    "            kT = kendalltau(rankdata(-np.array(y_true2)), rankdata(-np.array(y_pred2)))[0]\n",
    "            kts.append(kT)\n",
    "            sps.append(pS)\n",
    "\n",
    "\n",
    "    f_score = np.mean(fms)\n",
    "    kt = np.mean(kts)\n",
    "    sp = np.mean(sps)\n",
    "    avg_loss = np.mean(np.array(avg_loss))\n",
    "\n",
    "    return f_score, kt, sp, avg_loss"
   ]
  },
  {
   "cell_type": "code",
   "execution_count": 32,
   "metadata": {},
   "outputs": [],
   "source": [
    "for epoch in range(2):\n",
    "    train_loss = train_step(training_generator, criterion, optimizer)\n",
    "    f_score, kt, sp, test_loss = eval_function(test_generator)"
   ]
  },
  {
   "cell_type": "code",
   "execution_count": 33,
   "metadata": {},
   "outputs": [
    {
     "data": {
      "text/plain": [
       "0.12407581160149403"
      ]
     },
     "execution_count": 33,
     "metadata": {},
     "output_type": "execute_result"
    }
   ],
   "source": [
    "sp"
   ]
  },
  {
   "cell_type": "code",
   "execution_count": 34,
   "metadata": {},
   "outputs": [
    {
     "data": {
      "text/plain": [
       "0.1102586827115101"
      ]
     },
     "execution_count": 34,
     "metadata": {},
     "output_type": "execute_result"
    }
   ],
   "source": [
    "kt"
   ]
  },
  {
   "cell_type": "code",
   "execution_count": 35,
   "metadata": {},
   "outputs": [
    {
     "data": {
      "text/plain": [
       "0.43061976583898265"
      ]
     },
     "execution_count": 35,
     "metadata": {},
     "output_type": "execute_result"
    }
   ],
   "source": [
    "f_score"
   ]
  },
  {
   "cell_type": "code",
   "execution_count": 36,
   "metadata": {},
   "outputs": [
    {
     "data": {
      "text/plain": [
       "0.03655345905572176"
      ]
     },
     "execution_count": 36,
     "metadata": {},
     "output_type": "execute_result"
    }
   ],
   "source": [
    "train_loss"
   ]
  },
  {
   "cell_type": "markdown",
   "metadata": {},
   "source": [
    "# TRAINING WITH SCRIPT"
   ]
  },
  {
   "cell_type": "code",
   "execution_count": 1,
   "metadata": {},
   "outputs": [],
   "source": [
    "import os\n",
    "import sys\n",
    "\n",
    "os.chdir(\"/home/shuaman/video_sm/video_summarization\")"
   ]
  },
  {
   "cell_type": "code",
   "execution_count": null,
   "metadata": {},
   "outputs": [],
   "source": [
    "# !wandb agent --count 10 stevramos/sports_video_summarization/bqfn7u4k"
   ]
  },
  {
   "cell_type": "code",
   "execution_count": 2,
   "metadata": {},
   "outputs": [
    {
     "name": "stdout",
     "output_type": "stream",
     "text": [
      "\u001b[34m\u001b[1mwandb\u001b[0m: Currently logged in as: \u001b[33mstevramos\u001b[0m (use `wandb login --relogin` to force relogin)\n",
      "\u001b[34m\u001b[1mwandb\u001b[0m: Tracking run with wandb version 0.12.4\n",
      "\u001b[34m\u001b[1mwandb\u001b[0m: Syncing run \u001b[33mExp. i3d - inceptionv3\u001b[0m\n",
      "\u001b[34m\u001b[1mwandb\u001b[0m:  View project at \u001b[34m\u001b[4mhttps://wandb.ai/stevramos/sports_video_summarization\u001b[0m\n",
      "\u001b[34m\u001b[1mwandb\u001b[0m:  View run at \u001b[34m\u001b[4mhttps://wandb.ai/stevramos/sports_video_summarization/runs/hek4jblp\u001b[0m\n",
      "\u001b[34m\u001b[1mwandb\u001b[0m: Run data is saved locally in /home/shuaman/video_sm/video_summarization/wandb/run-20211012_031203-hek4jblp\n",
      "\u001b[34m\u001b[1mwandb\u001b[0m: Run `wandb offline` to turn off syncing.\n",
      "\n",
      "Using device cuda:0\n",
      "Split number 1\n",
      "Training in NVIDIA GeForce RTX 2080 Ti\n",
      "  0%|                                                     | 0/2 [00:00<?, ?it/s]/home/shuaman/miniconda3/envs/vsm/lib/python3.8/site-packages/scipy/stats/stats.py:4196: SpearmanRConstantInputWarning: An input array is constant; the correlation coefficent is not defined.\n",
      "  warnings.warn(SpearmanRConstantInputWarning())\n",
      "Losses/Metrics\n",
      "Epoch [1/2], Train loss: 0.0926\n",
      "Epoch [1/2], Test loss: 0.0808\n",
      " 50%|██████████████████████▌                      | 1/2 [00:01<00:01,  1.19s/it]Epoch [1/2], F1 score: 0.2570\n",
      "Epoch [1/2], Spearman s correlation: nan\n",
      "Epoch [1/2], Kendall s correlation: nan\n",
      "Losses/Metrics\n",
      "100%|█████████████████████████████████████████████| 2/2 [00:02<00:00,  1.12s/it]Epoch [2/2], Train loss: 0.0782\n",
      "Epoch [2/2], Test loss: 0.0802\n",
      "Epoch [2/2], F1 score: 0.3456\n",
      "Epoch [2/2], Spearman s correlation: 0.0740\n",
      "Epoch [2/2], Kendall s correlation: 0.0662\n",
      "100%|█████████████████████████████████████████████| 2/2 [00:02<00:00,  1.13s/it]\n",
      "Split number 2\n",
      "Training in NVIDIA GeForce RTX 2080 Ti\n",
      "  0%|                                                     | 0/2 [00:00<?, ?it/s]Losses/Metrics\n",
      "Epoch [1/2], Train loss: 0.1126\n",
      "Epoch [1/2], Test loss: 0.1030\n",
      "Epoch [1/2], F1 score: 0.2513\n",
      " 50%|██████████████████████▌                      | 1/2 [00:01<00:01,  1.20s/it]Epoch [1/2], Spearman s correlation: 0.0454\n",
      "Epoch [1/2], Kendall s correlation: 0.0400\n",
      "Losses/Metrics\n",
      "Epoch [2/2], Train loss: 0.0753\n",
      "Epoch [2/2], Test loss: 0.1031\n",
      "Epoch [2/2], F1 score: 0.0923\n",
      "Epoch [2/2], Spearman s correlation: -0.0435\n",
      "Epoch [2/2], Kendall s correlation: -0.0384\n",
      "100%|█████████████████████████████████████████████| 2/2 [00:02<00:00,  1.17s/it]\n",
      "Split number 3\n",
      "Training in NVIDIA GeForce RTX 2080 Ti\n",
      "  0%|                                                     | 0/2 [00:00<?, ?it/s]/home/shuaman/miniconda3/envs/vsm/lib/python3.8/site-packages/scipy/stats/stats.py:4196: SpearmanRConstantInputWarning: An input array is constant; the correlation coefficent is not defined.\n",
      "  warnings.warn(SpearmanRConstantInputWarning())\n",
      "Losses/Metrics\n",
      "Epoch [1/2], Train loss: 0.1061\n",
      "Epoch [1/2], Test loss: 0.0742\n",
      "Epoch [1/2], F1 score: 0.3419\n",
      "Epoch [1/2], Spearman s correlation: nan\n",
      "Epoch [1/2], Kendall s correlation: nan\n",
      " 50%|██████████████████████▌                      | 1/2 [00:01<00:01,  1.10s/it]Losses/Metrics\n",
      "Epoch [2/2], Train loss: 0.0826\n",
      "Epoch [2/2], Test loss: 0.0746\n",
      "Epoch [2/2], F1 score: 0.2388\n",
      "Epoch [2/2], Spearman s correlation: nan\n",
      "Epoch [2/2], Kendall s correlation: nan\n",
      "100%|█████████████████████████████████████████████| 2/2 [00:02<00:00,  1.14s/it]\n",
      "Split number 4\n",
      "Training in NVIDIA GeForce RTX 2080 Ti\n",
      "  0%|                                                     | 0/2 [00:00<?, ?it/s]Losses/Metrics\n",
      "Epoch [1/2], Train loss: 0.0960\n",
      "Epoch [1/2], Test loss: 0.0835\n",
      "Epoch [1/2], F1 score: 0.3827\n",
      "Epoch [1/2], Spearman s correlation: 0.0747\n",
      "Epoch [1/2], Kendall s correlation: 0.0670\n",
      " 50%|██████████████████████▌                      | 1/2 [00:01<00:01,  1.17s/it]Losses/Metrics\n",
      "Epoch [2/2], Train loss: 0.0792\n",
      "Epoch [2/2], Test loss: 0.0835\n",
      "Epoch [2/2], F1 score: 0.3911\n",
      "Epoch [2/2], Spearman s correlation: 0.1186\n",
      "Epoch [2/2], Kendall s correlation: 0.1065\n",
      "100%|█████████████████████████████████████████████| 2/2 [00:02<00:00,  1.18s/it]\n",
      "Split number 5\n",
      "Training in NVIDIA GeForce RTX 2080 Ti\n",
      "  0%|                                                     | 0/2 [00:00<?, ?it/s]Losses/Metrics\n",
      "Epoch [1/2], Train loss: 0.1218\n",
      "Epoch [1/2], Test loss: 0.0628\n",
      "Epoch [1/2], F1 score: 0.2449\n",
      " 50%|██████████████████████▌                      | 1/2 [00:01<00:01,  1.14s/it]Epoch [1/2], Spearman s correlation: 0.0239\n",
      "Epoch [1/2], Kendall s correlation: 0.0216\n",
      "Losses/Metrics\n",
      "Epoch [2/2], Train loss: 0.0865\n",
      "Epoch [2/2], Test loss: 0.0628\n",
      "Epoch [2/2], F1 score: 0.2046\n",
      "Epoch [2/2], Spearman s correlation: -0.0301\n",
      "Epoch [2/2], Kendall s correlation: -0.0269\n",
      "100%|█████████████████████████████████████████████| 2/2 [00:02<00:00,  1.14s/it]\n",
      "Metrics - cross validation\n",
      "Train loss: 0.0996\n",
      "Test loss: 0.0807\n",
      "F1 score: 0.3150\n",
      "Spearman s correlation: 0.0655\n",
      "Kendall s correlation: 0.0586\n",
      "\n",
      "\u001b[34m\u001b[1mwandb\u001b[0m: Waiting for W&B process to finish, PID 13339... (success).\n",
      "\u001b[34m\u001b[1mwandb\u001b[0m:                                                                                \n",
      "\u001b[34m\u001b[1mwandb\u001b[0m: Run history:\n",
      "\u001b[34m\u001b[1mwandb\u001b[0m:        epoch_split_1 ▁█\n",
      "\u001b[34m\u001b[1mwandb\u001b[0m:        epoch_split_2 ▁█\n",
      "\u001b[34m\u001b[1mwandb\u001b[0m:        epoch_split_3 ▁█\n",
      "\u001b[34m\u001b[1mwandb\u001b[0m:        epoch_split_4 ▁█\n",
      "\u001b[34m\u001b[1mwandb\u001b[0m:        epoch_split_5 ▁█\n",
      "\u001b[34m\u001b[1mwandb\u001b[0m:              f_score ▁\n",
      "\u001b[34m\u001b[1mwandb\u001b[0m:      f_score_split_1 ▁█\n",
      "\u001b[34m\u001b[1mwandb\u001b[0m:      f_score_split_2 █▁\n",
      "\u001b[34m\u001b[1mwandb\u001b[0m:      f_score_split_3 █▁\n",
      "\u001b[34m\u001b[1mwandb\u001b[0m:      f_score_split_4 ▁█\n",
      "\u001b[34m\u001b[1mwandb\u001b[0m:      f_score_split_5 █▁\n",
      "\u001b[34m\u001b[1mwandb\u001b[0m:                   kt ▁\n",
      "\u001b[34m\u001b[1mwandb\u001b[0m:           kt_split_1  ▁\n",
      "\u001b[34m\u001b[1mwandb\u001b[0m:           kt_split_2 █▁\n",
      "\u001b[34m\u001b[1mwandb\u001b[0m:           kt_split_3 \n",
      "\u001b[34m\u001b[1mwandb\u001b[0m:           kt_split_4 ▁█\n",
      "\u001b[34m\u001b[1mwandb\u001b[0m:           kt_split_5 █▁\n",
      "\u001b[34m\u001b[1mwandb\u001b[0m:                   sp ▁\n",
      "\u001b[34m\u001b[1mwandb\u001b[0m:           sp_split_1  ▁\n",
      "\u001b[34m\u001b[1mwandb\u001b[0m:           sp_split_2 █▁\n",
      "\u001b[34m\u001b[1mwandb\u001b[0m:           sp_split_3 \n",
      "\u001b[34m\u001b[1mwandb\u001b[0m:           sp_split_4 ▁█\n",
      "\u001b[34m\u001b[1mwandb\u001b[0m:           sp_split_5 █▁\n",
      "\u001b[34m\u001b[1mwandb\u001b[0m:            test_loss ▁\n",
      "\u001b[34m\u001b[1mwandb\u001b[0m:    test_loss_split_1 █▁\n",
      "\u001b[34m\u001b[1mwandb\u001b[0m:    test_loss_split_2 ▁█\n",
      "\u001b[34m\u001b[1mwandb\u001b[0m:    test_loss_split_3 ▁█\n",
      "\u001b[34m\u001b[1mwandb\u001b[0m:    test_loss_split_4 █▁\n",
      "\u001b[34m\u001b[1mwandb\u001b[0m:    test_loss_split_5 █▁\n",
      "\u001b[34m\u001b[1mwandb\u001b[0m:           train_loss ▁\n",
      "\u001b[34m\u001b[1mwandb\u001b[0m:   train_loss_split_1 █▁\n",
      "\u001b[34m\u001b[1mwandb\u001b[0m:   train_loss_split_2 █▁\n",
      "\u001b[34m\u001b[1mwandb\u001b[0m:   train_loss_split_3 █▁\n",
      "\u001b[34m\u001b[1mwandb\u001b[0m:   train_loss_split_4 █▁\n",
      "\u001b[34m\u001b[1mwandb\u001b[0m:   train_loss_split_5 █▁\n",
      "\u001b[34m\u001b[1mwandb\u001b[0m: \n",
      "\u001b[34m\u001b[1mwandb\u001b[0m: Run summary:\n",
      "\u001b[34m\u001b[1mwandb\u001b[0m:        epoch_split_1 2\n",
      "\u001b[34m\u001b[1mwandb\u001b[0m:        epoch_split_2 2\n",
      "\u001b[34m\u001b[1mwandb\u001b[0m:        epoch_split_3 2\n",
      "\u001b[34m\u001b[1mwandb\u001b[0m:        epoch_split_4 2\n",
      "\u001b[34m\u001b[1mwandb\u001b[0m:        epoch_split_5 2\n",
      "\u001b[34m\u001b[1mwandb\u001b[0m:              f_score 0.31495\n",
      "\u001b[34m\u001b[1mwandb\u001b[0m:      f_score_split_1 0.34562\n",
      "\u001b[34m\u001b[1mwandb\u001b[0m:      f_score_split_2 0.09233\n",
      "\u001b[34m\u001b[1mwandb\u001b[0m:      f_score_split_3 0.23884\n",
      "\u001b[34m\u001b[1mwandb\u001b[0m:      f_score_split_4 0.39105\n",
      "\u001b[34m\u001b[1mwandb\u001b[0m:      f_score_split_5 0.20455\n",
      "\u001b[34m\u001b[1mwandb\u001b[0m:                   kt 0.05857\n",
      "\u001b[34m\u001b[1mwandb\u001b[0m:           kt_split_1 0.0662\n",
      "\u001b[34m\u001b[1mwandb\u001b[0m:           kt_split_2 -0.03843\n",
      "\u001b[34m\u001b[1mwandb\u001b[0m:           kt_split_3 nan\n",
      "\u001b[34m\u001b[1mwandb\u001b[0m:           kt_split_4 0.10648\n",
      "\u001b[34m\u001b[1mwandb\u001b[0m:           kt_split_5 -0.02685\n",
      "\u001b[34m\u001b[1mwandb\u001b[0m:                   sp 0.06548\n",
      "\u001b[34m\u001b[1mwandb\u001b[0m:           sp_split_1 0.07403\n",
      "\u001b[34m\u001b[1mwandb\u001b[0m:           sp_split_2 -0.0435\n",
      "\u001b[34m\u001b[1mwandb\u001b[0m:           sp_split_3 nan\n",
      "\u001b[34m\u001b[1mwandb\u001b[0m:           sp_split_4 0.11862\n",
      "\u001b[34m\u001b[1mwandb\u001b[0m:           sp_split_5 -0.03014\n",
      "\u001b[34m\u001b[1mwandb\u001b[0m:            test_loss 0.08073\n",
      "\u001b[34m\u001b[1mwandb\u001b[0m:    test_loss_split_1 0.08025\n",
      "\u001b[34m\u001b[1mwandb\u001b[0m:    test_loss_split_2 0.10306\n",
      "\u001b[34m\u001b[1mwandb\u001b[0m:    test_loss_split_3 0.07457\n",
      "\u001b[34m\u001b[1mwandb\u001b[0m:    test_loss_split_4 0.08346\n",
      "\u001b[34m\u001b[1mwandb\u001b[0m:    test_loss_split_5 0.06277\n",
      "\u001b[34m\u001b[1mwandb\u001b[0m:           train_loss 0.09958\n",
      "\u001b[34m\u001b[1mwandb\u001b[0m:   train_loss_split_1 0.07819\n",
      "\u001b[34m\u001b[1mwandb\u001b[0m:   train_loss_split_2 0.0753\n",
      "\u001b[34m\u001b[1mwandb\u001b[0m:   train_loss_split_3 0.0826\n",
      "\u001b[34m\u001b[1mwandb\u001b[0m:   train_loss_split_4 0.07917\n",
      "\u001b[34m\u001b[1mwandb\u001b[0m:   train_loss_split_5 0.08654\n",
      "\u001b[34m\u001b[1mwandb\u001b[0m: \n",
      "\u001b[34m\u001b[1mwandb\u001b[0m: Synced 6 W&B file(s), 0 media file(s), 0 artifact file(s) and 2 other file(s)\n",
      "\u001b[34m\u001b[1mwandb\u001b[0m: Synced \u001b[33mExp. i3d - inceptionv3\u001b[0m: \u001b[34mhttps://wandb.ai/stevramos/sports_video_summarization/runs/hek4jblp\u001b[0m\n",
      "\u001b[34m\u001b[1mwandb\u001b[0m: Find logs at: ./wandb/run-20211012_031203-hek4jblp/logs/debug.log\n",
      "\u001b[34m\u001b[1mwandb\u001b[0m: \n"
     ]
    }
   ],
   "source": [
    "!python3 train_cross_val.py --use_sweep --params \"/home/shuaman/video_sm/video_summarization/config.json\""
   ]
  },
  {
   "cell_type": "code",
   "execution_count": null,
   "metadata": {},
   "outputs": [],
   "source": []
  },
  {
   "cell_type": "code",
   "execution_count": 3,
   "metadata": {},
   "outputs": [],
   "source": [
    "from train import train"
   ]
  },
  {
   "cell_type": "code",
   "execution_count": 4,
   "metadata": {},
   "outputs": [],
   "source": [
    "config_file = \"/home/shuaman/video_sm/video_summarization/config.json\""
   ]
  },
  {
   "cell_type": "code",
   "execution_count": 6,
   "metadata": {},
   "outputs": [
    {
     "data": {
      "text/html": [
       "\n",
       "                    Syncing run <strong><a href=\"https://wandb.ai/stevramos/sports_video_summarization/runs/nnaa1n6r\" target=\"_blank\">crimson-oath-49</a></strong> to <a href=\"https://wandb.ai/stevramos/sports_video_summarization\" target=\"_blank\">Weights & Biases</a> (<a href=\"https://docs.wandb.com/integrations/jupyter.html\" target=\"_blank\">docs</a>).<br/>\n",
       "\n",
       "                "
      ],
      "text/plain": [
       "<IPython.core.display.HTML object>"
      ]
     },
     "metadata": {},
     "output_type": "display_data"
    },
    {
     "name": "stdout",
     "output_type": "stream",
     "text": [
      "Using device cuda:0\n",
      "Split number 1\n",
      "Training in NVIDIA GeForce RTX 2080 Ti\n"
     ]
    },
    {
     "name": "stderr",
     "output_type": "stream",
     "text": [
      " 50%|█████     | 1/2 [00:01<00:01,  1.17s/it]"
     ]
    },
    {
     "name": "stdout",
     "output_type": "stream",
     "text": [
      "Losses/Metrics\n",
      "Epoch [1/2], Train loss: 0.0395\n",
      "Epoch [1/2], Test loss: 0.0343\n",
      "Epoch [1/2], F1 score: 0.4336\n",
      "Epoch [1/2], Spearman s correlation: 0.1293\n",
      "Epoch [1/2], Kendall s correlation: 0.1151\n"
     ]
    },
    {
     "name": "stderr",
     "output_type": "stream",
     "text": [
      "100%|██████████| 2/2 [00:02<00:00,  1.23s/it]"
     ]
    },
    {
     "name": "stdout",
     "output_type": "stream",
     "text": [
      "Losses/Metrics\n",
      "Epoch [2/2], Train loss: 0.0378\n",
      "Epoch [2/2], Test loss: 0.0366\n",
      "Epoch [2/2], F1 score: 0.4553\n",
      "Epoch [2/2], Spearman s correlation: 0.1526\n",
      "Epoch [2/2], Kendall s correlation: 0.1358\n",
      "Split number 2\n",
      "Training in NVIDIA GeForce RTX 2080 Ti\n"
     ]
    },
    {
     "name": "stderr",
     "output_type": "stream",
     "text": [
      "\n",
      " 50%|█████     | 1/2 [00:01<00:01,  1.24s/it]"
     ]
    },
    {
     "name": "stdout",
     "output_type": "stream",
     "text": [
      "Losses/Metrics\n",
      "Epoch [1/2], Train loss: 0.0403\n",
      "Epoch [1/2], Test loss: 0.0481\n",
      "Epoch [1/2], F1 score: 0.5423\n",
      "Epoch [1/2], Spearman s correlation: 0.3137\n",
      "Epoch [1/2], Kendall s correlation: 0.2776\n"
     ]
    },
    {
     "name": "stderr",
     "output_type": "stream",
     "text": [
      "100%|██████████| 2/2 [00:02<00:00,  1.26s/it]"
     ]
    },
    {
     "name": "stdout",
     "output_type": "stream",
     "text": [
      "Losses/Metrics\n",
      "Epoch [2/2], Train loss: 0.0372\n",
      "Epoch [2/2], Test loss: 0.0509\n",
      "Epoch [2/2], F1 score: 0.5136\n",
      "Epoch [2/2], Spearman s correlation: 0.3236\n",
      "Epoch [2/2], Kendall s correlation: 0.2866\n",
      "Split number 3\n",
      "Training in NVIDIA GeForce RTX 2080 Ti\n"
     ]
    },
    {
     "name": "stderr",
     "output_type": "stream",
     "text": [
      "\n",
      " 50%|█████     | 1/2 [00:01<00:01,  1.21s/it]"
     ]
    },
    {
     "name": "stdout",
     "output_type": "stream",
     "text": [
      "Losses/Metrics\n",
      "Epoch [1/2], Train loss: 0.0408\n",
      "Epoch [1/2], Test loss: 0.0323\n",
      "Epoch [1/2], F1 score: 0.5600\n",
      "Epoch [1/2], Spearman s correlation: 0.3565\n",
      "Epoch [1/2], Kendall s correlation: 0.3202\n"
     ]
    },
    {
     "name": "stderr",
     "output_type": "stream",
     "text": [
      "100%|██████████| 2/2 [00:02<00:00,  1.25s/it]"
     ]
    },
    {
     "name": "stdout",
     "output_type": "stream",
     "text": [
      "Losses/Metrics\n",
      "Epoch [2/2], Train loss: 0.0392\n",
      "Epoch [2/2], Test loss: 0.0377\n",
      "Epoch [2/2], F1 score: 0.5661\n",
      "Epoch [2/2], Spearman s correlation: 0.3995\n",
      "Epoch [2/2], Kendall s correlation: 0.3593\n",
      "Split number 4\n",
      "Training in NVIDIA GeForce RTX 2080 Ti\n"
     ]
    },
    {
     "name": "stderr",
     "output_type": "stream",
     "text": [
      "\n",
      " 50%|█████     | 1/2 [00:01<00:01,  1.23s/it]"
     ]
    },
    {
     "name": "stdout",
     "output_type": "stream",
     "text": [
      "Losses/Metrics\n",
      "Epoch [1/2], Train loss: 0.0398\n",
      "Epoch [1/2], Test loss: 0.0341\n",
      "Epoch [1/2], F1 score: 0.5396\n",
      "Epoch [1/2], Spearman s correlation: 0.2891\n",
      "Epoch [1/2], Kendall s correlation: 0.2577\n"
     ]
    },
    {
     "name": "stderr",
     "output_type": "stream",
     "text": [
      "100%|██████████| 2/2 [00:02<00:00,  1.23s/it]"
     ]
    },
    {
     "name": "stdout",
     "output_type": "stream",
     "text": [
      "Losses/Metrics\n",
      "Epoch [2/2], Train loss: 0.0370\n",
      "Epoch [2/2], Test loss: 0.0342\n",
      "Epoch [2/2], F1 score: 0.5393\n",
      "Epoch [2/2], Spearman s correlation: 0.3374\n",
      "Epoch [2/2], Kendall s correlation: 0.3012\n",
      "Split number 5\n",
      "Training in NVIDIA GeForce RTX 2080 Ti\n"
     ]
    },
    {
     "name": "stderr",
     "output_type": "stream",
     "text": [
      "\n",
      " 50%|█████     | 1/2 [00:01<00:01,  1.19s/it]"
     ]
    },
    {
     "name": "stdout",
     "output_type": "stream",
     "text": [
      "Losses/Metrics\n",
      "Epoch [1/2], Train loss: 0.0419\n",
      "Epoch [1/2], Test loss: 0.0423\n",
      "Epoch [1/2], F1 score: 0.5248\n",
      "Epoch [1/2], Spearman s correlation: 0.2632\n",
      "Epoch [1/2], Kendall s correlation: 0.2367\n"
     ]
    },
    {
     "name": "stderr",
     "output_type": "stream",
     "text": [
      "100%|██████████| 2/2 [00:02<00:00,  1.22s/it]"
     ]
    },
    {
     "name": "stdout",
     "output_type": "stream",
     "text": [
      "Losses/Metrics\n",
      "Epoch [2/2], Train loss: 0.0369\n",
      "Epoch [2/2], Test loss: 0.0356\n",
      "Epoch [2/2], F1 score: 0.5494\n",
      "Epoch [2/2], Spearman s correlation: 0.3698\n",
      "Epoch [2/2], Kendall s correlation: 0.3321\n",
      "Metrics - cross validation\n",
      "Train loss: 0.0388\n",
      "Test loss: 0.0384\n",
      "F1 score: 0.5305\n",
      "Spearman s correlation: 0.3049\n",
      "Kendall s correlation: 0.2725\n"
     ]
    },
    {
     "name": "stderr",
     "output_type": "stream",
     "text": [
      "\n"
     ]
    },
    {
     "data": {
      "text/html": [
       "<br/>Waiting for W&B process to finish, PID 9945... <strong style=\"color:green\">(success).</strong>"
      ],
      "text/plain": [
       "<IPython.core.display.HTML object>"
      ]
     },
     "metadata": {},
     "output_type": "display_data"
    },
    {
     "data": {
      "application/vnd.jupyter.widget-view+json": {
       "model_id": "f10dd2a6aef943bbad777ceede6a8e50",
       "version_major": 2,
       "version_minor": 0
      },
      "text/plain": [
       "VBox(children=(Label(value=' 18.68MB of 37.36MB uploaded (0.00MB deduped)\\r'), FloatProgress(value=0.500011117…"
      ]
     },
     "metadata": {},
     "output_type": "display_data"
    },
    {
     "data": {
      "text/html": [
       "<style>\n",
       "    table.wandb td:nth-child(1) { padding: 0 10px; text-align: right }\n",
       "    .wandb-row { display: flex; flex-direction: row; flex-wrap: wrap; width: 100% }\n",
       "    .wandb-col { display: flex; flex-direction: column; flex-basis: 100%; flex: 1; padding: 10px; }\n",
       "    </style>\n",
       "<div class=\"wandb-row\"><div class=\"wandb-col\">\n",
       "<h3>Run history:</h3><br/><table class=\"wandb\"><tr><td>epochsplit_2</td><td>▁█</td></tr><tr><td>epochsplit_3</td><td>▁█</td></tr><tr><td>epochsplit_4</td><td>▁█</td></tr><tr><td>epochsplit_5</td><td>▁█</td></tr><tr><td>epochsplit_6</td><td>▁█</td></tr><tr><td>f_score</td><td>▁</td></tr><tr><td>f_scoresplit_2</td><td>▁█</td></tr><tr><td>f_scoresplit_3</td><td>█▁</td></tr><tr><td>f_scoresplit_4</td><td>▁█</td></tr><tr><td>f_scoresplit_5</td><td>█▁</td></tr><tr><td>f_scoresplit_6</td><td>▁█</td></tr><tr><td>kt</td><td>▁</td></tr><tr><td>ktsplit_2</td><td>▁█</td></tr><tr><td>ktsplit_3</td><td>▁█</td></tr><tr><td>ktsplit_4</td><td>▁█</td></tr><tr><td>ktsplit_5</td><td>▁█</td></tr><tr><td>ktsplit_6</td><td>▁█</td></tr><tr><td>sp</td><td>▁</td></tr><tr><td>spsplit_2</td><td>▁█</td></tr><tr><td>spsplit_3</td><td>▁█</td></tr><tr><td>spsplit_4</td><td>▁█</td></tr><tr><td>spsplit_5</td><td>▁█</td></tr><tr><td>spsplit_6</td><td>▁█</td></tr><tr><td>test_loss</td><td>▁</td></tr><tr><td>test_losssplit_2</td><td>▁█</td></tr><tr><td>test_losssplit_3</td><td>▁█</td></tr><tr><td>test_losssplit_4</td><td>▁█</td></tr><tr><td>test_losssplit_5</td><td>▁█</td></tr><tr><td>test_losssplit_6</td><td>█▁</td></tr><tr><td>train_loss</td><td>▁</td></tr><tr><td>train_losssplit_2</td><td>█▁</td></tr><tr><td>train_losssplit_3</td><td>█▁</td></tr><tr><td>train_losssplit_4</td><td>█▁</td></tr><tr><td>train_losssplit_5</td><td>█▁</td></tr><tr><td>train_losssplit_6</td><td>█▁</td></tr></table><br/></div><div class=\"wandb-col\">\n",
       "<h3>Run summary:</h3><br/><table class=\"wandb\"><tr><td>epochsplit_2</td><td>2</td></tr><tr><td>epochsplit_3</td><td>2</td></tr><tr><td>epochsplit_4</td><td>2</td></tr><tr><td>epochsplit_5</td><td>2</td></tr><tr><td>epochsplit_6</td><td>2</td></tr><tr><td>f_score</td><td>0.53054</td></tr><tr><td>f_scoresplit_2</td><td>0.45525</td></tr><tr><td>f_scoresplit_3</td><td>0.51364</td></tr><tr><td>f_scoresplit_4</td><td>0.56613</td></tr><tr><td>f_scoresplit_5</td><td>0.53927</td></tr><tr><td>f_scoresplit_6</td><td>0.54945</td></tr><tr><td>kt</td><td>0.2725</td></tr><tr><td>ktsplit_2</td><td>0.13581</td></tr><tr><td>ktsplit_3</td><td>0.28661</td></tr><tr><td>ktsplit_4</td><td>0.35925</td></tr><tr><td>ktsplit_5</td><td>0.30121</td></tr><tr><td>ktsplit_6</td><td>0.33208</td></tr><tr><td>sp</td><td>0.30494</td></tr><tr><td>spsplit_2</td><td>0.1526</td></tr><tr><td>spsplit_3</td><td>0.32361</td></tr><tr><td>spsplit_4</td><td>0.39952</td></tr><tr><td>spsplit_5</td><td>0.33744</td></tr><tr><td>spsplit_6</td><td>0.36979</td></tr><tr><td>test_loss</td><td>0.03843</td></tr><tr><td>test_losssplit_2</td><td>0.03662</td></tr><tr><td>test_losssplit_3</td><td>0.05094</td></tr><tr><td>test_losssplit_4</td><td>0.03768</td></tr><tr><td>test_losssplit_5</td><td>0.03416</td></tr><tr><td>test_losssplit_6</td><td>0.03559</td></tr><tr><td>train_loss</td><td>0.03879</td></tr><tr><td>train_losssplit_2</td><td>0.03776</td></tr><tr><td>train_losssplit_3</td><td>0.03719</td></tr><tr><td>train_losssplit_4</td><td>0.03919</td></tr><tr><td>train_losssplit_5</td><td>0.03701</td></tr><tr><td>train_losssplit_6</td><td>0.03693</td></tr></table>\n",
       "</div></div>\n",
       "Synced 6 W&B file(s), 0 media file(s), 0 artifact file(s) and 2 other file(s)\n",
       "<br/>Synced <strong style=\"color:#cdcd00\">crimson-oath-49</strong>: <a href=\"https://wandb.ai/stevramos/sports_video_summarization/runs/nnaa1n6r\" target=\"_blank\">https://wandb.ai/stevramos/sports_video_summarization/runs/nnaa1n6r</a><br/>\n",
       "Find logs at: <code>./wandb/run-20211012_015214-nnaa1n6r/logs</code><br/>\n"
      ],
      "text/plain": [
       "<IPython.core.display.HTML object>"
      ]
     },
     "metadata": {},
     "output_type": "display_data"
    }
   ],
   "source": [
    "train(config_file, use_wandb=True, pretrained_model=\"/home/shuaman/video_sm/MSVA/model_weights/summe_random_non_overlap_0.5359.tar.pth\")"
   ]
  },
  {
   "cell_type": "markdown",
   "metadata": {},
   "source": [
    "# Using class VSM"
   ]
  },
  {
   "cell_type": "code",
   "execution_count": 1,
   "metadata": {},
   "outputs": [],
   "source": [
    "import os\n",
    "import sys\n",
    "\n",
    "os.chdir(\"/home/shuaman/video_sm/video_summarization\")\n",
    "\n",
    "import wandb\n",
    "import tqdm\n",
    "from src.utils import parse_arguments_train, set_seed, configure_model, parse_configuration\n",
    "from src.models import VideoSumarizer"
   ]
  },
  {
   "cell_type": "code",
   "execution_count": 2,
   "metadata": {},
   "outputs": [],
   "source": [
    "PROJECT_WANDB = \"sports_video_summarization\""
   ]
  },
  {
   "cell_type": "code",
   "execution_count": 3,
   "metadata": {},
   "outputs": [],
   "source": [
    "use_wandb = True"
   ]
  },
  {
   "cell_type": "code",
   "execution_count": 4,
   "metadata": {},
   "outputs": [],
   "source": [
    "config_file = \"/home/shuaman/video_sm/video_summarization/config.json\""
   ]
  },
  {
   "cell_type": "code",
   "execution_count": 5,
   "metadata": {},
   "outputs": [],
   "source": [
    "path_weights_summe = \"/home/shuaman/video_sm/MSVA/model_weights/summe_random_non_overlap_0.5359.tar.pth\"\n",
    "path_weights_tvsum = \"/home/shuaman/video_sm/MSVA/model_weights/tvsum_random_non_overlap_0.6271.tar.pth\""
   ]
  },
  {
   "cell_type": "code",
   "execution_count": null,
   "metadata": {},
   "outputs": [],
   "source": []
  },
  {
   "cell_type": "code",
   "execution_count": null,
   "metadata": {},
   "outputs": [],
   "source": []
  },
  {
   "cell_type": "code",
   "execution_count": null,
   "metadata": {},
   "outputs": [],
   "source": []
  },
  {
   "cell_type": "code",
   "execution_count": 13,
   "metadata": {
    "collapsed": true,
    "jupyter": {
     "outputs_hidden": true
    }
   },
   "outputs": [
    {
     "data": {
      "text/html": [
       "\n",
       "                    Syncing run <strong><a href=\"https://wandb.ai/stevramos/sports_video_summarization/runs/8i79erou\" target=\"_blank\">xd_1</a></strong> to <a href=\"https://wandb.ai/stevramos/sports_video_summarization\" target=\"_blank\">Weights & Biases</a> (<a href=\"https://docs.wandb.com/integrations/jupyter.html\" target=\"_blank\">docs</a>).<br/>\n",
       "\n",
       "                "
      ],
      "text/plain": [
       "<IPython.core.display.HTML object>"
      ]
     },
     "metadata": {},
     "output_type": "display_data"
    },
    {
     "name": "stdout",
     "output_type": "stream",
     "text": [
      "Using device cuda:0\n",
      "Training in NVIDIA GeForce RTX 2080 Ti\n"
     ]
    },
    {
     "name": "stderr",
     "output_type": "stream",
     "text": [
      " 50%|█████     | 1/2 [00:01<00:01,  1.15s/it]"
     ]
    },
    {
     "name": "stdout",
     "output_type": "stream",
     "text": [
      "Losses/Metrics\n",
      "Epoch [1/2], Train loss: 0.0385\n",
      "Epoch [1/2], Test loss: 0.0456\n",
      "Epoch [1/2], F1 score: 0.4414\n",
      "Epoch [1/2], Spearman s correlation: 0.1387\n",
      "Epoch [1/2], Kendall s correlation: 0.1235\n"
     ]
    },
    {
     "name": "stderr",
     "output_type": "stream",
     "text": [
      "100%|██████████| 2/2 [00:02<00:00,  1.15s/it]"
     ]
    },
    {
     "name": "stdout",
     "output_type": "stream",
     "text": [
      "Losses/Metrics\n",
      "Epoch [2/2], Train loss: 0.0365\n",
      "Epoch [2/2], Test loss: 0.0363\n",
      "Epoch [2/2], F1 score: 0.4953\n",
      "Epoch [2/2], Spearman s correlation: 0.1950\n",
      "Epoch [2/2], Kendall s correlation: 0.1740\n"
     ]
    },
    {
     "name": "stderr",
     "output_type": "stream",
     "text": [
      "\n"
     ]
    },
    {
     "data": {
      "text/html": [
       "<br/>Waiting for W&B process to finish, PID 9395... <strong style=\"color:green\">(success).</strong>"
      ],
      "text/plain": [
       "<IPython.core.display.HTML object>"
      ]
     },
     "metadata": {},
     "output_type": "display_data"
    },
    {
     "data": {
      "application/vnd.jupyter.widget-view+json": {
       "model_id": "e02c5ec0f89549b7b7ca3797149a055a",
       "version_major": 2,
       "version_minor": 0
      },
      "text/plain": [
       "VBox(children=(Label(value=' 0.00MB of 0.00MB uploaded (0.00MB deduped)\\r'), FloatProgress(value=1.0, max=1.0)…"
      ]
     },
     "metadata": {},
     "output_type": "display_data"
    },
    {
     "data": {
      "text/html": [
       "<style>\n",
       "    table.wandb td:nth-child(1) { padding: 0 10px; text-align: right }\n",
       "    .wandb-row { display: flex; flex-direction: row; flex-wrap: wrap; width: 100% }\n",
       "    .wandb-col { display: flex; flex-direction: column; flex-basis: 100%; flex: 1; padding: 10px; }\n",
       "    </style>\n",
       "<div class=\"wandb-row\"><div class=\"wandb-col\">\n",
       "<h3>Run history:</h3><br/><table class=\"wandb\"><tr><td>epoch</td><td>▁█</td></tr><tr><td>f_score</td><td>▁█</td></tr><tr><td>kt</td><td>▁█</td></tr><tr><td>sp</td><td>▁█</td></tr><tr><td>test_loss</td><td>█▁</td></tr><tr><td>train_loss</td><td>█▁</td></tr></table><br/></div><div class=\"wandb-col\">\n",
       "<h3>Run summary:</h3><br/><table class=\"wandb\"><tr><td>epoch</td><td>2</td></tr><tr><td>f_score</td><td>0.49531</td></tr><tr><td>kt</td><td>0.17399</td></tr><tr><td>sp</td><td>0.195</td></tr><tr><td>test_loss</td><td>0.03626</td></tr><tr><td>train_loss</td><td>0.03646</td></tr></table>\n",
       "</div></div>\n",
       "Synced 6 W&B file(s), 0 media file(s), 0 artifact file(s) and 0 other file(s)\n",
       "<br/>Synced <strong style=\"color:#cdcd00\">xd_1</strong>: <a href=\"https://wandb.ai/stevramos/sports_video_summarization/runs/8i79erou\" target=\"_blank\">https://wandb.ai/stevramos/sports_video_summarization/runs/8i79erou</a><br/>\n",
       "Find logs at: <code>./wandb/run-20211011_235738-8i79erou/logs</code><br/>\n"
      ],
      "text/plain": [
       "<IPython.core.display.HTML object>"
      ]
     },
     "metadata": {},
     "output_type": "display_data"
    },
    {
     "name": "stdout",
     "output_type": "stream",
     "text": [
      "\n"
     ]
    },
    {
     "data": {
      "text/html": [
       "\n",
       "                    Syncing run <strong><a href=\"https://wandb.ai/stevramos/sports_video_summarization/runs/3admurdn\" target=\"_blank\">xd_2</a></strong> to <a href=\"https://wandb.ai/stevramos/sports_video_summarization\" target=\"_blank\">Weights & Biases</a> (<a href=\"https://docs.wandb.com/integrations/jupyter.html\" target=\"_blank\">docs</a>).<br/>\n",
       "\n",
       "                "
      ],
      "text/plain": [
       "<IPython.core.display.HTML object>"
      ]
     },
     "metadata": {},
     "output_type": "display_data"
    },
    {
     "name": "stdout",
     "output_type": "stream",
     "text": [
      "Using device cuda:0\n",
      "Training in NVIDIA GeForce RTX 2080 Ti\n"
     ]
    },
    {
     "name": "stderr",
     "output_type": "stream",
     "text": [
      " 50%|█████     | 1/2 [00:01<00:01,  1.18s/it]"
     ]
    },
    {
     "name": "stdout",
     "output_type": "stream",
     "text": [
      "Losses/Metrics\n",
      "Epoch [1/2], Train loss: 0.0388\n",
      "Epoch [1/2], Test loss: 0.0521\n",
      "Epoch [1/2], F1 score: 0.5691\n",
      "Epoch [1/2], Spearman s correlation: 0.3421\n",
      "Epoch [1/2], Kendall s correlation: 0.3031\n"
     ]
    },
    {
     "name": "stderr",
     "output_type": "stream",
     "text": [
      "100%|██████████| 2/2 [00:02<00:00,  1.17s/it]"
     ]
    },
    {
     "name": "stdout",
     "output_type": "stream",
     "text": [
      "Losses/Metrics\n",
      "Epoch [2/2], Train loss: 0.0375\n",
      "Epoch [2/2], Test loss: 0.0542\n",
      "Epoch [2/2], F1 score: 0.5995\n",
      "Epoch [2/2], Spearman s correlation: 0.3666\n",
      "Epoch [2/2], Kendall s correlation: 0.3248\n"
     ]
    },
    {
     "name": "stderr",
     "output_type": "stream",
     "text": [
      "\n"
     ]
    },
    {
     "data": {
      "text/html": [
       "<br/>Waiting for W&B process to finish, PID 9928... <strong style=\"color:green\">(success).</strong>"
      ],
      "text/plain": [
       "<IPython.core.display.HTML object>"
      ]
     },
     "metadata": {},
     "output_type": "display_data"
    },
    {
     "data": {
      "application/vnd.jupyter.widget-view+json": {
       "model_id": "31672784b65e4f12841f6d0a612650c3",
       "version_major": 2,
       "version_minor": 0
      },
      "text/plain": [
       "VBox(children=(Label(value=' 0.00MB of 0.00MB uploaded (0.00MB deduped)\\r'), FloatProgress(value=1.0, max=1.0)…"
      ]
     },
     "metadata": {},
     "output_type": "display_data"
    },
    {
     "data": {
      "text/html": [
       "<style>\n",
       "    table.wandb td:nth-child(1) { padding: 0 10px; text-align: right }\n",
       "    .wandb-row { display: flex; flex-direction: row; flex-wrap: wrap; width: 100% }\n",
       "    .wandb-col { display: flex; flex-direction: column; flex-basis: 100%; flex: 1; padding: 10px; }\n",
       "    </style>\n",
       "<div class=\"wandb-row\"><div class=\"wandb-col\">\n",
       "<h3>Run history:</h3><br/><table class=\"wandb\"><tr><td>epoch</td><td>▁█</td></tr><tr><td>f_score</td><td>▁█</td></tr><tr><td>kt</td><td>▁█</td></tr><tr><td>sp</td><td>▁█</td></tr><tr><td>test_loss</td><td>▁█</td></tr><tr><td>train_loss</td><td>█▁</td></tr></table><br/></div><div class=\"wandb-col\">\n",
       "<h3>Run summary:</h3><br/><table class=\"wandb\"><tr><td>epoch</td><td>2</td></tr><tr><td>f_score</td><td>0.59951</td></tr><tr><td>kt</td><td>0.32478</td></tr><tr><td>sp</td><td>0.3666</td></tr><tr><td>test_loss</td><td>0.05423</td></tr><tr><td>train_loss</td><td>0.03751</td></tr></table>\n",
       "</div></div>\n",
       "Synced 6 W&B file(s), 0 media file(s), 0 artifact file(s) and 0 other file(s)\n",
       "<br/>Synced <strong style=\"color:#cdcd00\">xd_2</strong>: <a href=\"https://wandb.ai/stevramos/sports_video_summarization/runs/3admurdn\" target=\"_blank\">https://wandb.ai/stevramos/sports_video_summarization/runs/3admurdn</a><br/>\n",
       "Find logs at: <code>./wandb/run-20211011_235748-3admurdn/logs</code><br/>\n"
      ],
      "text/plain": [
       "<IPython.core.display.HTML object>"
      ]
     },
     "metadata": {},
     "output_type": "display_data"
    },
    {
     "name": "stdout",
     "output_type": "stream",
     "text": [
      "\n"
     ]
    },
    {
     "data": {
      "text/html": [
       "\n",
       "                    Syncing run <strong><a href=\"https://wandb.ai/stevramos/sports_video_summarization/runs/4g6s1yip\" target=\"_blank\">xd_3</a></strong> to <a href=\"https://wandb.ai/stevramos/sports_video_summarization\" target=\"_blank\">Weights & Biases</a> (<a href=\"https://docs.wandb.com/integrations/jupyter.html\" target=\"_blank\">docs</a>).<br/>\n",
       "\n",
       "                "
      ],
      "text/plain": [
       "<IPython.core.display.HTML object>"
      ]
     },
     "metadata": {},
     "output_type": "display_data"
    },
    {
     "name": "stdout",
     "output_type": "stream",
     "text": [
      "Using device cuda:0\n",
      "Training in NVIDIA GeForce RTX 2080 Ti\n"
     ]
    },
    {
     "name": "stderr",
     "output_type": "stream",
     "text": [
      " 50%|█████     | 1/2 [00:01<00:01,  1.15s/it]"
     ]
    },
    {
     "name": "stdout",
     "output_type": "stream",
     "text": [
      "Losses/Metrics\n",
      "Epoch [1/2], Train loss: 0.0423\n",
      "Epoch [1/2], Test loss: 0.0324\n",
      "Epoch [1/2], F1 score: 0.5515\n",
      "Epoch [1/2], Spearman s correlation: 0.3319\n",
      "Epoch [1/2], Kendall s correlation: 0.2986\n"
     ]
    },
    {
     "name": "stderr",
     "output_type": "stream",
     "text": [
      "100%|██████████| 2/2 [00:02<00:00,  1.15s/it]"
     ]
    },
    {
     "name": "stdout",
     "output_type": "stream",
     "text": [
      "Losses/Metrics\n",
      "Epoch [2/2], Train loss: 0.0377\n",
      "Epoch [2/2], Test loss: 0.0360\n",
      "Epoch [2/2], F1 score: 0.5757\n",
      "Epoch [2/2], Spearman s correlation: 0.3570\n",
      "Epoch [2/2], Kendall s correlation: 0.3218\n"
     ]
    },
    {
     "name": "stderr",
     "output_type": "stream",
     "text": [
      "\n"
     ]
    },
    {
     "data": {
      "text/html": [
       "<br/>Waiting for W&B process to finish, PID 10460... <strong style=\"color:green\">(success).</strong>"
      ],
      "text/plain": [
       "<IPython.core.display.HTML object>"
      ]
     },
     "metadata": {},
     "output_type": "display_data"
    },
    {
     "data": {
      "application/vnd.jupyter.widget-view+json": {
       "model_id": "3096f0fcd4b34abea4a9f757bf4688a2",
       "version_major": 2,
       "version_minor": 0
      },
      "text/plain": [
       "VBox(children=(Label(value=' 0.00MB of 0.00MB uploaded (0.00MB deduped)\\r'), FloatProgress(value=1.0, max=1.0)…"
      ]
     },
     "metadata": {},
     "output_type": "display_data"
    },
    {
     "data": {
      "text/html": [
       "<style>\n",
       "    table.wandb td:nth-child(1) { padding: 0 10px; text-align: right }\n",
       "    .wandb-row { display: flex; flex-direction: row; flex-wrap: wrap; width: 100% }\n",
       "    .wandb-col { display: flex; flex-direction: column; flex-basis: 100%; flex: 1; padding: 10px; }\n",
       "    </style>\n",
       "<div class=\"wandb-row\"><div class=\"wandb-col\">\n",
       "<h3>Run history:</h3><br/><table class=\"wandb\"><tr><td>epoch</td><td>▁█</td></tr><tr><td>f_score</td><td>▁█</td></tr><tr><td>kt</td><td>▁█</td></tr><tr><td>sp</td><td>▁█</td></tr><tr><td>test_loss</td><td>▁█</td></tr><tr><td>train_loss</td><td>█▁</td></tr></table><br/></div><div class=\"wandb-col\">\n",
       "<h3>Run summary:</h3><br/><table class=\"wandb\"><tr><td>epoch</td><td>2</td></tr><tr><td>f_score</td><td>0.57566</td></tr><tr><td>kt</td><td>0.32176</td></tr><tr><td>sp</td><td>0.357</td></tr><tr><td>test_loss</td><td>0.03603</td></tr><tr><td>train_loss</td><td>0.03772</td></tr></table>\n",
       "</div></div>\n",
       "Synced 6 W&B file(s), 0 media file(s), 0 artifact file(s) and 0 other file(s)\n",
       "<br/>Synced <strong style=\"color:#cdcd00\">xd_3</strong>: <a href=\"https://wandb.ai/stevramos/sports_video_summarization/runs/4g6s1yip\" target=\"_blank\">https://wandb.ai/stevramos/sports_video_summarization/runs/4g6s1yip</a><br/>\n",
       "Find logs at: <code>./wandb/run-20211011_235759-4g6s1yip/logs</code><br/>\n"
      ],
      "text/plain": [
       "<IPython.core.display.HTML object>"
      ]
     },
     "metadata": {},
     "output_type": "display_data"
    },
    {
     "name": "stdout",
     "output_type": "stream",
     "text": [
      "\n"
     ]
    },
    {
     "data": {
      "text/html": [
       "\n",
       "                    Syncing run <strong><a href=\"https://wandb.ai/stevramos/sports_video_summarization/runs/1q7z0qt5\" target=\"_blank\">xd_4</a></strong> to <a href=\"https://wandb.ai/stevramos/sports_video_summarization\" target=\"_blank\">Weights & Biases</a> (<a href=\"https://docs.wandb.com/integrations/jupyter.html\" target=\"_blank\">docs</a>).<br/>\n",
       "\n",
       "                "
      ],
      "text/plain": [
       "<IPython.core.display.HTML object>"
      ]
     },
     "metadata": {},
     "output_type": "display_data"
    },
    {
     "name": "stdout",
     "output_type": "stream",
     "text": [
      "Using device cuda:0\n",
      "Training in NVIDIA GeForce RTX 2080 Ti\n"
     ]
    },
    {
     "name": "stderr",
     "output_type": "stream",
     "text": [
      " 50%|█████     | 1/2 [00:01<00:01,  1.14s/it]"
     ]
    },
    {
     "name": "stdout",
     "output_type": "stream",
     "text": [
      "Losses/Metrics\n",
      "Epoch [1/2], Train loss: 0.0396\n",
      "Epoch [1/2], Test loss: 0.0410\n",
      "Epoch [1/2], F1 score: 0.5676\n",
      "Epoch [1/2], Spearman s correlation: 0.3059\n",
      "Epoch [1/2], Kendall s correlation: 0.2733\n"
     ]
    },
    {
     "name": "stderr",
     "output_type": "stream",
     "text": [
      "100%|██████████| 2/2 [00:02<00:00,  1.13s/it]"
     ]
    },
    {
     "name": "stdout",
     "output_type": "stream",
     "text": [
      "Losses/Metrics\n",
      "Epoch [2/2], Train loss: 0.0401\n",
      "Epoch [2/2], Test loss: 0.0438\n",
      "Epoch [2/2], F1 score: 0.5675\n",
      "Epoch [2/2], Spearman s correlation: 0.3219\n",
      "Epoch [2/2], Kendall s correlation: 0.2876\n"
     ]
    },
    {
     "name": "stderr",
     "output_type": "stream",
     "text": [
      "\n"
     ]
    },
    {
     "data": {
      "text/html": [
       "<br/>Waiting for W&B process to finish, PID 11013... <strong style=\"color:green\">(success).</strong>"
      ],
      "text/plain": [
       "<IPython.core.display.HTML object>"
      ]
     },
     "metadata": {},
     "output_type": "display_data"
    },
    {
     "data": {
      "application/vnd.jupyter.widget-view+json": {
       "model_id": "1ec816473a4e4c098fcb9670bad44b0e",
       "version_major": 2,
       "version_minor": 0
      },
      "text/plain": [
       "VBox(children=(Label(value=' 0.00MB of 0.00MB uploaded (0.00MB deduped)\\r'), FloatProgress(value=1.0, max=1.0)…"
      ]
     },
     "metadata": {},
     "output_type": "display_data"
    },
    {
     "data": {
      "text/html": [
       "<style>\n",
       "    table.wandb td:nth-child(1) { padding: 0 10px; text-align: right }\n",
       "    .wandb-row { display: flex; flex-direction: row; flex-wrap: wrap; width: 100% }\n",
       "    .wandb-col { display: flex; flex-direction: column; flex-basis: 100%; flex: 1; padding: 10px; }\n",
       "    </style>\n",
       "<div class=\"wandb-row\"><div class=\"wandb-col\">\n",
       "<h3>Run history:</h3><br/><table class=\"wandb\"><tr><td>epoch</td><td>▁█</td></tr><tr><td>f_score</td><td>█▁</td></tr><tr><td>kt</td><td>▁█</td></tr><tr><td>sp</td><td>▁█</td></tr><tr><td>test_loss</td><td>▁█</td></tr><tr><td>train_loss</td><td>▁█</td></tr></table><br/></div><div class=\"wandb-col\">\n",
       "<h3>Run summary:</h3><br/><table class=\"wandb\"><tr><td>epoch</td><td>2</td></tr><tr><td>f_score</td><td>0.56748</td></tr><tr><td>kt</td><td>0.28758</td></tr><tr><td>sp</td><td>0.32192</td></tr><tr><td>test_loss</td><td>0.04379</td></tr><tr><td>train_loss</td><td>0.04007</td></tr></table>\n",
       "</div></div>\n",
       "Synced 6 W&B file(s), 0 media file(s), 0 artifact file(s) and 0 other file(s)\n",
       "<br/>Synced <strong style=\"color:#cdcd00\">xd_4</strong>: <a href=\"https://wandb.ai/stevramos/sports_video_summarization/runs/1q7z0qt5\" target=\"_blank\">https://wandb.ai/stevramos/sports_video_summarization/runs/1q7z0qt5</a><br/>\n",
       "Find logs at: <code>./wandb/run-20211011_235809-1q7z0qt5/logs</code><br/>\n"
      ],
      "text/plain": [
       "<IPython.core.display.HTML object>"
      ]
     },
     "metadata": {},
     "output_type": "display_data"
    },
    {
     "name": "stdout",
     "output_type": "stream",
     "text": [
      "\n"
     ]
    },
    {
     "data": {
      "text/html": [
       "\n",
       "                    Syncing run <strong><a href=\"https://wandb.ai/stevramos/sports_video_summarization/runs/1jv882o1\" target=\"_blank\">xd_5</a></strong> to <a href=\"https://wandb.ai/stevramos/sports_video_summarization\" target=\"_blank\">Weights & Biases</a> (<a href=\"https://docs.wandb.com/integrations/jupyter.html\" target=\"_blank\">docs</a>).<br/>\n",
       "\n",
       "                "
      ],
      "text/plain": [
       "<IPython.core.display.HTML object>"
      ]
     },
     "metadata": {},
     "output_type": "display_data"
    },
    {
     "name": "stdout",
     "output_type": "stream",
     "text": [
      "Using device cuda:0\n",
      "Training in NVIDIA GeForce RTX 2080 Ti\n"
     ]
    },
    {
     "name": "stderr",
     "output_type": "stream",
     "text": [
      " 50%|█████     | 1/2 [00:01<00:01,  1.10s/it]"
     ]
    },
    {
     "name": "stdout",
     "output_type": "stream",
     "text": [
      "Losses/Metrics\n",
      "Epoch [1/2], Train loss: 0.0385\n",
      "Epoch [1/2], Test loss: 0.0354\n",
      "Epoch [1/2], F1 score: 0.5406\n",
      "Epoch [1/2], Spearman s correlation: 0.3599\n",
      "Epoch [1/2], Kendall s correlation: 0.3234\n"
     ]
    },
    {
     "name": "stderr",
     "output_type": "stream",
     "text": [
      "100%|██████████| 2/2 [00:02<00:00,  1.12s/it]"
     ]
    },
    {
     "name": "stdout",
     "output_type": "stream",
     "text": [
      "Losses/Metrics\n",
      "Epoch [2/2], Train loss: 0.0369\n",
      "Epoch [2/2], Test loss: 0.0368\n",
      "Epoch [2/2], F1 score: 0.5058\n",
      "Epoch [2/2], Spearman s correlation: 0.3562\n",
      "Epoch [2/2], Kendall s correlation: 0.3203\n"
     ]
    },
    {
     "name": "stderr",
     "output_type": "stream",
     "text": [
      "\n"
     ]
    },
    {
     "data": {
      "text/html": [
       "<br/>Waiting for W&B process to finish, PID 11532... <strong style=\"color:green\">(success).</strong>"
      ],
      "text/plain": [
       "<IPython.core.display.HTML object>"
      ]
     },
     "metadata": {},
     "output_type": "display_data"
    },
    {
     "data": {
      "application/vnd.jupyter.widget-view+json": {
       "model_id": "de99d95e5bbe429da6c1ec06c2090c0c",
       "version_major": 2,
       "version_minor": 0
      },
      "text/plain": [
       "VBox(children=(Label(value=' 0.00MB of 0.00MB uploaded (0.00MB deduped)\\r'), FloatProgress(value=1.0, max=1.0)…"
      ]
     },
     "metadata": {},
     "output_type": "display_data"
    },
    {
     "data": {
      "text/html": [
       "<style>\n",
       "    table.wandb td:nth-child(1) { padding: 0 10px; text-align: right }\n",
       "    .wandb-row { display: flex; flex-direction: row; flex-wrap: wrap; width: 100% }\n",
       "    .wandb-col { display: flex; flex-direction: column; flex-basis: 100%; flex: 1; padding: 10px; }\n",
       "    </style>\n",
       "<div class=\"wandb-row\"><div class=\"wandb-col\">\n",
       "<h3>Run history:</h3><br/><table class=\"wandb\"><tr><td>epoch</td><td>▁█</td></tr><tr><td>f_score</td><td>█▁</td></tr><tr><td>kt</td><td>█▁</td></tr><tr><td>sp</td><td>█▁</td></tr><tr><td>test_loss</td><td>▁█</td></tr><tr><td>train_loss</td><td>█▁</td></tr></table><br/></div><div class=\"wandb-col\">\n",
       "<h3>Run summary:</h3><br/><table class=\"wandb\"><tr><td>epoch</td><td>2</td></tr><tr><td>f_score</td><td>0.50577</td></tr><tr><td>kt</td><td>0.3203</td></tr><tr><td>sp</td><td>0.35622</td></tr><tr><td>test_loss</td><td>0.0368</td></tr><tr><td>train_loss</td><td>0.03688</td></tr></table>\n",
       "</div></div>\n",
       "Synced 6 W&B file(s), 0 media file(s), 0 artifact file(s) and 0 other file(s)\n",
       "<br/>Synced <strong style=\"color:#cdcd00\">xd_5</strong>: <a href=\"https://wandb.ai/stevramos/sports_video_summarization/runs/1jv882o1\" target=\"_blank\">https://wandb.ai/stevramos/sports_video_summarization/runs/1jv882o1</a><br/>\n",
       "Find logs at: <code>./wandb/run-20211011_235819-1jv882o1/logs</code><br/>\n"
      ],
      "text/plain": [
       "<IPython.core.display.HTML object>"
      ]
     },
     "metadata": {},
     "output_type": "display_data"
    },
    {
     "name": "stdout",
     "output_type": "stream",
     "text": [
      "\n",
      "f_avg: 0.5557189257213155\n",
      "kt_avg: 0.2834319440237536\n",
      "sp_avg: 0.3168712526714493\n",
      "trl_avg: 0.03797306406311691\n",
      "tsl_avg: 0.040591421052813534\n"
     ]
    }
   ],
   "source": [
    "set_seed(12345)\n",
    "config = configure_model(config_file, use_wandb)\n",
    "\n",
    "#config.type_setting = \"non_overlap_rand\"\n",
    "\n",
    "f_avg = 0\n",
    "kt_avg = 0\n",
    "sp_avg = 0\n",
    "trl_avg = 0\n",
    "tsl_avg = 0\n",
    "\n",
    "# split_name = f'path_split_{config.type_dataset}_{config.type_setting}'\n",
    "# path_split = vars(config)[split_name]\n",
    "\n",
    "split_name = f'path_split_{config[\"type_dataset\"]}_{config[\"type_setting\"]}'\n",
    "path_split = config[split_name]\n",
    "\n",
    "splits = parse_configuration(path_split)\n",
    "\n",
    "for n_split in range(len(splits)):\n",
    "    run_name = f'xd_{n_split+1}'\n",
    "    config = configure_model(config_file, use_wandb)\n",
    "    if use_wandb:\n",
    "        wandb.init(project=PROJECT_WANDB, config=config, \n",
    "                    name=run_name)\n",
    "        config = wandb.config\n",
    "        wandb.watch_called = False\n",
    "        \n",
    "    config.epochs_max = 2\n",
    "    config.num_backups = 2\n",
    "    config.save_weights = False\n",
    "    \n",
    "    vsm = VideoSumarizer(config, use_wandb)\n",
    "    vsm.load_weights(path_weights_summe)\n",
    "\n",
    "    max_val_fscore, maxkt, maxsp, maxtrl, maxtsl = vsm.train(splits[n_split], n_split+1)\n",
    "    f_avg += max_val_fscore\n",
    "    kt_avg += maxkt\n",
    "    sp_avg += maxsp\n",
    "    trl_avg += maxtrl\n",
    "    tsl_avg += maxtsl\n",
    "    print()\n",
    "\n",
    "f_avg = f_avg/len(splits)\n",
    "kt_avg = kt_avg/len(splits)\n",
    "sp_avg = sp_avg/len(splits)\n",
    "trl_avg = trl_avg/len(splits)\n",
    "tsl_avg = tsl_avg/len(splits)\n",
    "\n",
    "print(\"f_avg:\", f_avg)\n",
    "print(\"kt_avg:\", kt_avg)\n",
    "print(\"sp_avg:\",sp_avg)\n",
    "print(\"trl_avg:\",trl_avg)\n",
    "print(\"tsl_avg:\",tsl_avg)"
   ]
  },
  {
   "cell_type": "markdown",
   "metadata": {},
   "source": [
    "# Infer a summary"
   ]
  },
  {
   "cell_type": "code",
   "execution_count": 1,
   "metadata": {},
   "outputs": [],
   "source": [
    "import os\n",
    "import sys\n",
    "\n",
    "os.chdir(\"/home/shuaman/video_sm/video_summarization\")\n",
    "\n",
    "import wandb\n",
    "import tqdm\n",
    "from src.utils import parse_arguments_train, set_seed, configure_model, parse_configuration\n",
    "from src.models import VideoSumarizer\n",
    "import math"
   ]
  },
  {
   "cell_type": "code",
   "execution_count": 2,
   "metadata": {},
   "outputs": [],
   "source": [
    "config_file = \"/home/shuaman/video_sm/video_summarization/configs/config_deployment.json\""
   ]
  },
  {
   "cell_type": "code",
   "execution_count": 3,
   "metadata": {},
   "outputs": [],
   "source": [
    "use_wandb = False"
   ]
  },
  {
   "cell_type": "code",
   "execution_count": 4,
   "metadata": {},
   "outputs": [],
   "source": [
    "path_weights_summe = \"/home/shuaman/video_sm/MSVA/model_weights/summe_random_non_overlap_0.5359.tar.pth\"\n",
    "path_weights_tvsum = \"/home/shuaman/video_sm/MSVA/model_weights/tvsum_random_non_overlap_0.6271.tar.pth\""
   ]
  },
  {
   "cell_type": "code",
   "execution_count": 5,
   "metadata": {},
   "outputs": [],
   "source": [
    "set_seed(12345)"
   ]
  },
  {
   "cell_type": "code",
   "execution_count": 6,
   "metadata": {},
   "outputs": [],
   "source": [
    "config = configure_model(config_file, use_wandb)"
   ]
  },
  {
   "cell_type": "code",
   "execution_count": 7,
   "metadata": {},
   "outputs": [
    {
     "name": "stdout",
     "output_type": "stream",
     "text": [
      "Using device cuda:0\n"
     ]
    }
   ],
   "source": [
    "vsm = VideoSumarizer(config, use_wandb)"
   ]
  },
  {
   "cell_type": "code",
   "execution_count": 8,
   "metadata": {},
   "outputs": [],
   "source": [
    "vsm.load_weights_descriptor_models()"
   ]
  },
  {
   "cell_type": "code",
   "execution_count": 9,
   "metadata": {},
   "outputs": [
    {
     "name": "stdout",
     "output_type": "stream",
     "text": [
      "processing video\n"
     ]
    },
    {
     "name": "stderr",
     "output_type": "stream",
     "text": [
      "/home/shuaman/miniconda3/envs/vsm/lib/python3.8/site-packages/torch/nn/functional.py:718: UserWarning: Named tensors and all their associated APIs are an experimental feature and subject to change. Please do not use them for anything important until they are released as stable. (Triggered internally at  /pytorch/c10/core/TensorImpl.h:1156.)\n",
      "  return torch.max_pool2d(input, kernel_size, stride, padding, dilation, ceil_mode)\n"
     ]
    },
    {
     "name": "stdout",
     "output_type": "stream",
     "text": [
      "flow optical\n",
      "extracting featres of rgb\n",
      "extracting featres of flow\n",
      "calculatin change points\n",
      "forward prop\n",
      "generating summary\n",
      "CPU times: user 5min 17s, sys: 4.13 s, total: 5min 21s\n",
      "Wall time: 1min 58s\n"
     ]
    }
   ],
   "source": [
    "%%time\n",
    "video_name, tam, res_w, res_h, fps, dur_orig, dur_spotlight, n_segments = vsm.infer('/data/shuaman/video_summarization/datasets/raw_datasets/VSUMM/new_database/v71.avi',\n",
    "                                                                                             proportion=0.15)"
   ]
  },
  {
   "cell_type": "code",
   "execution_count": 10,
   "metadata": {},
   "outputs": [
    {
     "data": {
      "text/plain": [
       "('v71.avi',\n",
       " 16553384,\n",
       " 320,\n",
       " 240,\n",
       " 29.916666666666668,\n",
       " 275.0306406685237,\n",
       " 41.1142061281337,\n",
       " 11)"
      ]
     },
     "execution_count": 10,
     "metadata": {},
     "output_type": "execute_result"
    }
   ],
   "source": [
    "video_name, tam, res_w, res_h, fps, dur_orig, dur_spotlight, n_segments"
   ]
  },
  {
   "cell_type": "code",
   "execution_count": 11,
   "metadata": {},
   "outputs": [],
   "source": [
    "import mimetypes"
   ]
  },
  {
   "cell_type": "code",
   "execution_count": 12,
   "metadata": {},
   "outputs": [],
   "source": [
    "mimetypes.init()"
   ]
  },
  {
   "cell_type": "code",
   "execution_count": 24,
   "metadata": {},
   "outputs": [
    {
     "data": {
      "text/plain": [
       "'text/csv'"
      ]
     },
     "execution_count": 24,
     "metadata": {},
     "output_type": "execute_result"
    }
   ],
   "source": [
    "mimetypes.types_map['.csv']"
   ]
  },
  {
   "cell_type": "code",
   "execution_count": 25,
   "metadata": {},
   "outputs": [
    {
     "name": "stdout",
     "output_type": "stream",
     "text": [
      "processing video\n",
      "flow optical\n",
      "extracting featres of rgb\n",
      "extracting featres of flow\n",
      "calculatin change points\n",
      "forward prop\n"
     ]
    }
   ],
   "source": [
    "video_name, tam, res_w, res_h, fps, dur_orig, summary, change_points, n_frames, n_frame_per_seg, picks = vsm.summarize_video('/data/shuaman/video_summarization/datasets/raw_datasets/VSUMM/new_database/v71.avi')"
   ]
  },
  {
   "cell_type": "code",
   "execution_count": 27,
   "metadata": {},
   "outputs": [
    {
     "data": {
      "text/plain": [
       "('v71.avi', 16553384, 320, 240, 29.916666666666668, 275.0306406685237)"
      ]
     },
     "execution_count": 27,
     "metadata": {},
     "output_type": "execute_result"
    }
   ],
   "source": [
    "video_name, tam, res_w, res_h, fps, dur_orig"
   ]
  },
  {
   "cell_type": "code",
   "execution_count": 28,
   "metadata": {},
   "outputs": [
    {
     "name": "stdout",
     "output_type": "stream",
     "text": [
      "generating summary\n"
     ]
    }
   ],
   "source": [
    "dur_spotlight, n_segments = vsm.generate_summary_proportion('/data/shuaman/video_summarization/datasets/raw_datasets/VSUMM/new_database/v71.avi',\n",
    "                                                            summary, change_points, n_frames, n_frame_per_seg, picks, 0.15, \"output.mp4\")"
   ]
  },
  {
   "cell_type": "code",
   "execution_count": 29,
   "metadata": {},
   "outputs": [
    {
     "data": {
      "text/plain": [
       "(41.1142061281337, 11)"
      ]
     },
     "execution_count": 29,
     "metadata": {},
     "output_type": "execute_result"
    }
   ],
   "source": [
    "dur_spotlight, n_segments"
   ]
  },
  {
   "cell_type": "code",
   "execution_count": 10,
   "metadata": {},
   "outputs": [
    {
     "data": {
      "text/plain": [
       "(16553384,\n",
       " 320,\n",
       " 240,\n",
       " 29.916666666666668,\n",
       " 275.0306406685237,\n",
       " 41.1142061281337,\n",
       " 11)"
      ]
     },
     "execution_count": 10,
     "metadata": {},
     "output_type": "execute_result"
    }
   ],
   "source": [
    "tam, res_w, res_h, fps, dur_orig, dur_spotlight, n_segments"
   ]
  },
  {
   "cell_type": "code",
   "execution_count": 13,
   "metadata": {},
   "outputs": [
    {
     "data": {
      "text/plain": [
       "16.6"
      ]
     },
     "execution_count": 13,
     "metadata": {},
     "output_type": "execute_result"
    }
   ],
   "source": [
    "round(tam/1e6,1)"
   ]
  },
  {
   "cell_type": "code",
   "execution_count": 15,
   "metadata": {},
   "outputs": [
    {
     "data": {
      "text/plain": [
       "29.9"
      ]
     },
     "execution_count": 15,
     "metadata": {},
     "output_type": "execute_result"
    }
   ],
   "source": [
    "round(fps,1)"
   ]
  },
  {
   "cell_type": "code",
   "execution_count": 25,
   "metadata": {},
   "outputs": [
    {
     "data": {
      "text/plain": [
       "4"
      ]
     },
     "execution_count": 25,
     "metadata": {},
     "output_type": "execute_result"
    }
   ],
   "source": [
    "math.floor(round(dur_orig,0)/60)"
   ]
  },
  {
   "cell_type": "code",
   "execution_count": 18,
   "metadata": {},
   "outputs": [
    {
     "data": {
      "text/plain": [
       "35.0"
      ]
     },
     "execution_count": 18,
     "metadata": {},
     "output_type": "execute_result"
    }
   ],
   "source": [
    "round(dur_orig,0)%60"
   ]
  },
  {
   "cell_type": "code",
   "execution_count": null,
   "metadata": {},
   "outputs": [],
   "source": [
    "round(fps,1)"
   ]
  },
  {
   "cell_type": "code",
   "execution_count": 10,
   "metadata": {},
   "outputs": [
    {
     "data": {
      "text/plain": [
       "(16553384,\n",
       " 320,\n",
       " 240,\n",
       " 29.916666666666668,\n",
       " 275.0306406685237,\n",
       " 41.1142061281337,\n",
       " 11)"
      ]
     },
     "execution_count": 10,
     "metadata": {},
     "output_type": "execute_result"
    }
   ],
   "source": [
    "tam, res_w, res_h, fps, dur_orig, dur_spotlight, n_segments"
   ]
  },
  {
   "cell_type": "code",
   "execution_count": 13,
   "metadata": {},
   "outputs": [
    {
     "data": {
      "text/plain": [
       "16.553384"
      ]
     },
     "execution_count": 13,
     "metadata": {},
     "output_type": "execute_result"
    }
   ],
   "source": [
    "tam/1e6"
   ]
  },
  {
   "cell_type": "code",
   "execution_count": 11,
   "metadata": {},
   "outputs": [
    {
     "data": {
      "text/plain": [
       "array([0., 0., 0., ..., 0., 0., 0.], dtype=float32)"
      ]
     },
     "execution_count": 11,
     "metadata": {},
     "output_type": "execute_result"
    }
   ],
   "source": [
    "machine_summary"
   ]
  },
  {
   "cell_type": "code",
   "execution_count": 12,
   "metadata": {},
   "outputs": [
    {
     "data": {
      "text/plain": [
       "1230.0"
      ]
     },
     "execution_count": 12,
     "metadata": {},
     "output_type": "execute_result"
    }
   ],
   "source": [
    "machine_summary.sum()"
   ]
  },
  {
   "cell_type": "code",
   "execution_count": 24,
   "metadata": {},
   "outputs": [
    {
     "data": {
      "text/plain": [
       "8228"
      ]
     },
     "execution_count": 24,
     "metadata": {},
     "output_type": "execute_result"
    }
   ],
   "source": [
    "len(machine_summary)"
   ]
  },
  {
   "cell_type": "code",
   "execution_count": 18,
   "metadata": {},
   "outputs": [],
   "source": [
    "from itertools import groupby"
   ]
  },
  {
   "cell_type": "code",
   "execution_count": 19,
   "metadata": {},
   "outputs": [],
   "source": [
    "def groups(l):\n",
    "    return [sum(g) for i, g in groupby(l) if i == 1]"
   ]
  },
  {
   "cell_type": "code",
   "execution_count": 29,
   "metadata": {},
   "outputs": [
    {
     "data": {
      "text/plain": [
       "[30.0, 255.0, 165.0, 120.0, 90.0, 30.0, 45.0, 150.0, 195.0, 90.0, 60.0]"
      ]
     },
     "execution_count": 29,
     "metadata": {},
     "output_type": "execute_result"
    }
   ],
   "source": [
    "groups(machine_summary)"
   ]
  },
  {
   "cell_type": "code",
   "execution_count": 26,
   "metadata": {},
   "outputs": [
    {
     "data": {
      "text/plain": [
       "11"
      ]
     },
     "execution_count": 26,
     "metadata": {},
     "output_type": "execute_result"
    }
   ],
   "source": [
    "len(groups(machine_summary))"
   ]
  },
  {
   "cell_type": "code",
   "execution_count": 14,
   "metadata": {},
   "outputs": [
    {
     "data": {
      "text/plain": [
       "array([0., 0., 0., ..., 0., 0., 0.], dtype=float32)"
      ]
     },
     "execution_count": 14,
     "metadata": {},
     "output_type": "execute_result"
    }
   ],
   "source": [
    "n_segments = 0\n",
    "n_frames_spotlight = 0\n",
    "for frame_idx in range(len(machine_summary)):\n",
    "    if machine_summary[frame_idx]:\n",
    "        n_frames_spotlight += 1\n",
    "        n_segments += 1 if machine_summary[frame_idx]==0 else n_segments\n",
    "    \n",
    "        \n",
    "    "
   ]
  },
  {
   "cell_type": "code",
   "execution_count": null,
   "metadata": {},
   "outputs": [],
   "source": [
    "# video  3 min duration\n",
    "# CPU times: user 5min 22s, sys: 5.13 s, total: 5min 27s\n",
    "# Wall time: 1min 27s"
   ]
  }
 ],
 "metadata": {
  "kernelspec": {
   "display_name": "vsm_kernel",
   "language": "python",
   "name": "vsm_kernel"
  },
  "language_info": {
   "codemirror_mode": {
    "name": "ipython",
    "version": 3
   },
   "file_extension": ".py",
   "mimetype": "text/x-python",
   "name": "python",
   "nbconvert_exporter": "python",
   "pygments_lexer": "ipython3",
   "version": "3.8.11"
  }
 },
 "nbformat": 4,
 "nbformat_minor": 4
}
