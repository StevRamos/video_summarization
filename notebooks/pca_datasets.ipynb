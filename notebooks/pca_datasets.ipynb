{
 "cells": [
  {
   "cell_type": "code",
   "execution_count": 1,
   "metadata": {},
   "outputs": [],
   "source": [
    "import numpy as np\n",
    "import os "
   ]
  },
  {
   "cell_type": "code",
   "execution_count": 2,
   "metadata": {},
   "outputs": [
    {
     "name": "stdout",
     "output_type": "stream",
     "text": [
      "/home/shuaman/video_sm/video_summarization/notebooks\n"
     ]
    }
   ],
   "source": [
    "!pwd"
   ]
  },
  {
   "cell_type": "code",
   "execution_count": 3,
   "metadata": {},
   "outputs": [],
   "source": [
    "os.chdir(\"/home/shuaman/video_sm/video_summarization\")"
   ]
  },
  {
   "cell_type": "code",
   "execution_count": 4,
   "metadata": {},
   "outputs": [],
   "source": [
    "from src.utils.vsm_dataset import VSMDataset"
   ]
  },
  {
   "cell_type": "code",
   "execution_count": 42,
   "metadata": {},
   "outputs": [],
   "source": [
    "paths = [\n",
    "        \"/data/shuaman/video_summarization/datasets/processed_datasets/dataset_ovp_processed.h5\",\n",
    "        \"/data/shuaman/video_summarization/datasets/processed_datasets/dataset_summe_processed.h5\",\n",
    "        \"/data/shuaman/video_summarization/datasets/processed_datasets/dataset_tvsum_processed.h5\",\n",
    "        \"/data/shuaman/video_summarization/datasets/processed_datasets/dataset_youtube_processed.h5\",\n",
    "        \"/data/shuaman/video_summarization/datasets/processed_datasets/dataset_cosum_processed.h5\",\n",
    "        ]"
   ]
  },
  {
   "cell_type": "code",
   "execution_count": 43,
   "metadata": {},
   "outputs": [
    {
     "name": "stdout",
     "output_type": "stream",
     "text": [
      "features_rn\n",
      "features_iv3\n",
      "features_3D\n",
      "features\n",
      "features_rgb\n",
      "features_flow\n"
     ]
    }
   ],
   "source": [
    "features_rn = []\n",
    "features_iv3 = []\n",
    "features_3D = []\n",
    "features= []\n",
    "features_rgb = []\n",
    "features_flow= []\n",
    "\n",
    "for feature in [\"features_rn\", \"features_iv3\", \"features_3D\", \"features\", \"features_rgb\", \"features_flow\"]:\n",
    "    print(feature)\n",
    "    for path in paths:\n",
    "        training_set = VSMDataset(path, googlenet=True, resnext=True, inceptionv3=True,\n",
    "                                 i3d_rgb=True, i3d_flow=True, resnet3d=True)\n",
    "\n",
    "        for i in range(len(training_set)):\n",
    "            feat = training_set.get_feature(i, feature)\n",
    "            \n",
    "            for nframe in range(len(feat)):        \n",
    "                if feature==\"features_rn\":\n",
    "                    features_rn.append(feat[nframe])\n",
    "                elif feature==\"features_iv3\":\n",
    "                    features_iv3.append(feat[nframe])\n",
    "                elif feature==\"features_3D\":\n",
    "                    features_3D.append(feat[nframe])\n",
    "                elif feature==\"features\":\n",
    "                    features.append(feat[nframe])\n",
    "                elif feature==\"features_rgb\":\n",
    "                    features_rgb.append(feat[nframe])\n",
    "                elif feature==\"features_flow\":\n",
    "                    features_flow.append(feat[nframe])\n",
    "                \n",
    "features_rn = np.array(features_rn)    \n",
    "features_iv3 = np.array(features_iv3)    \n",
    "features_3D = np.array(features_3D)    \n",
    "features = np.array(features)    \n",
    "features_rgb = np.array(features_rgb)    \n",
    "features_flow = np.array(features_flow)    "
   ]
  },
  {
   "cell_type": "code",
   "execution_count": 134,
   "metadata": {},
   "outputs": [
    {
     "data": {
      "text/plain": [
       "(350, 1024)"
      ]
     },
     "execution_count": 134,
     "metadata": {},
     "output_type": "execute_result"
    }
   ],
   "source": [
    "feat.shape"
   ]
  },
  {
   "cell_type": "code",
   "execution_count": 135,
   "metadata": {},
   "outputs": [
    {
     "data": {
      "text/plain": [
       "array([[0.01030507, 0.        , 0.17212544, ..., 0.00933762, 0.14797555,\n",
       "        0.        ],\n",
       "       [0.01623172, 0.        , 0.17408632, ..., 0.        , 0.08356722,\n",
       "        0.01061142],\n",
       "       [0.00630657, 0.        , 0.16615345, ..., 0.        , 0.03121687,\n",
       "        0.05343444],\n",
       "       ...,\n",
       "       [0.01119477, 0.        , 0.20672494, ..., 0.        , 0.14872962,\n",
       "        0.00390182],\n",
       "       [0.01037787, 0.        , 0.15833198, ..., 0.        , 0.16371168,\n",
       "        0.00138861],\n",
       "       [0.01265803, 0.        , 0.18552539, ..., 0.        , 0.15395667,\n",
       "        0.        ]], dtype=float32)"
      ]
     },
     "execution_count": 135,
     "metadata": {},
     "output_type": "execute_result"
    }
   ],
   "source": [
    "feat"
   ]
  },
  {
   "cell_type": "code",
   "execution_count": 139,
   "metadata": {},
   "outputs": [
    {
     "data": {
      "text/plain": [
       "(350, 1024)"
      ]
     },
     "execution_count": 139,
     "metadata": {},
     "output_type": "execute_result"
    }
   ],
   "source": [
    "preprocessing.normalize(feat, norm='l2').shape"
   ]
  },
  {
   "cell_type": "code",
   "execution_count": 132,
   "metadata": {},
   "outputs": [
    {
     "data": {
      "text/plain": [
       "(350, 1024)"
      ]
     },
     "execution_count": 132,
     "metadata": {},
     "output_type": "execute_result"
    }
   ],
   "source": []
  },
  {
   "cell_type": "code",
   "execution_count": 140,
   "metadata": {},
   "outputs": [
    {
     "data": {
      "text/plain": [
       "(69676, 1024)"
      ]
     },
     "execution_count": 140,
     "metadata": {},
     "output_type": "execute_result"
    }
   ],
   "source": [
    "features.shape"
   ]
  },
  {
   "cell_type": "code",
   "execution_count": 158,
   "metadata": {},
   "outputs": [
    {
     "data": {
      "text/plain": [
       "12.605319"
      ]
     },
     "execution_count": 158,
     "metadata": {},
     "output_type": "execute_result"
    }
   ],
   "source": [
    "np.linalg.norm(feat[3])"
   ]
  },
  {
   "cell_type": "code",
   "execution_count": 160,
   "metadata": {},
   "outputs": [
    {
     "data": {
      "text/plain": [
       "0.9999999745362396"
      ]
     },
     "execution_count": 160,
     "metadata": {},
     "output_type": "execute_result"
    }
   ],
   "source": [
    "sum((feat[2]/np.linalg.norm(feat[2]))**2)"
   ]
  },
  {
   "cell_type": "code",
   "execution_count": 161,
   "metadata": {},
   "outputs": [
    {
     "data": {
      "text/plain": [
       "array([0.00049218, 0.        , 0.01296701, ..., 0.        , 0.00243624,\n",
       "       0.00417015], dtype=float32)"
      ]
     },
     "execution_count": 161,
     "metadata": {},
     "output_type": "execute_result"
    }
   ],
   "source": [
    "feat[2]/np.linalg.norm(feat[2])"
   ]
  },
  {
   "cell_type": "code",
   "execution_count": 164,
   "metadata": {},
   "outputs": [
    {
     "data": {
      "text/plain": [
       "array([0.00049218, 0.        , 0.01296701, ..., 0.        , 0.00243624,\n",
       "       0.00417015], dtype=float32)"
      ]
     },
     "execution_count": 164,
     "metadata": {},
     "output_type": "execute_result"
    }
   ],
   "source": [
    "preprocessing.normalize(feat, norm='l2')[2]"
   ]
  },
  {
   "cell_type": "code",
   "execution_count": 166,
   "metadata": {},
   "outputs": [
    {
     "data": {
      "text/plain": [
       "1.0"
      ]
     },
     "execution_count": 166,
     "metadata": {},
     "output_type": "execute_result"
    }
   ],
   "source": [
    "np.linalg.norm(preprocessing.normalize(feat, norm='l2')[2])"
   ]
  },
  {
   "cell_type": "code",
   "execution_count": 171,
   "metadata": {},
   "outputs": [],
   "source": [
    "import torch"
   ]
  },
  {
   "cell_type": "code",
   "execution_count": 180,
   "metadata": {},
   "outputs": [
    {
     "data": {
      "text/plain": [
       "torch.Size([1024])"
      ]
     },
     "execution_count": 180,
     "metadata": {},
     "output_type": "execute_result"
    }
   ],
   "source": [
    "torch.tensor(feat[0]).shape"
   ]
  },
  {
   "cell_type": "code",
   "execution_count": 176,
   "metadata": {},
   "outputs": [
    {
     "data": {
      "text/plain": [
       "torch.Size([1024])"
      ]
     },
     "execution_count": 176,
     "metadata": {},
     "output_type": "execute_result"
    }
   ],
   "source": [
    "torch.tensor(feat[0]).squeeze().shape"
   ]
  },
  {
   "cell_type": "code",
   "execution_count": 179,
   "metadata": {},
   "outputs": [
    {
     "data": {
      "text/plain": [
       "torch.Size([1024, 1])"
      ]
     },
     "execution_count": 179,
     "metadata": {},
     "output_type": "execute_result"
    }
   ],
   "source": [
    "torch.tensor(feat[0]).unsqueeze(1).shape"
   ]
  },
  {
   "cell_type": "code",
   "execution_count": 165,
   "metadata": {},
   "outputs": [
    {
     "data": {
      "text/plain": [
       "array([0.00049218, 0.        , 0.01296701, ..., 0.        , 0.00243624,\n",
       "       0.00417015], dtype=float32)"
      ]
     },
     "execution_count": 165,
     "metadata": {},
     "output_type": "execute_result"
    }
   ],
   "source": [
    "preprocessing.normalize(feat, norm='l2')[2]/np.linalg.norm(preprocessing.normalize(feat, norm='l2')[2])"
   ]
  },
  {
   "cell_type": "code",
   "execution_count": 87,
   "metadata": {},
   "outputs": [],
   "source": [
    "for i in features:\n",
    "    if np.sum(i ** 2) <1:\n",
    "        print(\"si\")"
   ]
  },
  {
   "cell_type": "code",
   "execution_count": 94,
   "metadata": {},
   "outputs": [],
   "source": [
    "from sklearn import preprocessing"
   ]
  },
  {
   "cell_type": "code",
   "execution_count": 88,
   "metadata": {},
   "outputs": [
    {
     "data": {
      "text/plain": [
       "262.1891"
      ]
     },
     "execution_count": 88,
     "metadata": {},
     "output_type": "execute_result"
    }
   ],
   "source": [
    "np.sum(features[0] ** 2)"
   ]
  },
  {
   "cell_type": "code",
   "execution_count": 95,
   "metadata": {},
   "outputs": [
    {
     "data": {
      "text/plain": [
       "array([0.22323589, 0.121519  , 0.41137224, ..., 0.29724607, 0.35464266,\n",
       "       0.66032904], dtype=float32)"
      ]
     },
     "execution_count": 95,
     "metadata": {},
     "output_type": "execute_result"
    }
   ],
   "source": [
    "features[0]"
   ]
  },
  {
   "cell_type": "code",
   "execution_count": 115,
   "metadata": {},
   "outputs": [
    {
     "data": {
      "text/plain": [
       "(69676, 1024)"
      ]
     },
     "execution_count": 115,
     "metadata": {},
     "output_type": "execute_result"
    }
   ],
   "source": [
    "features.shape"
   ]
  },
  {
   "cell_type": "code",
   "execution_count": 127,
   "metadata": {},
   "outputs": [
    {
     "data": {
      "text/plain": [
       "array([[0.01378659, 0.00750476, 0.0254055 , ..., 0.0183573 , 0.02190199,\n",
       "        0.04078055],\n",
       "       [0.01057878, 0.00453828, 0.02616318, ..., 0.0102624 , 0.03332447,\n",
       "        0.00807204],\n",
       "       [0.01823394, 0.0132541 , 0.03702414, ..., 0.00984378, 0.02004703,\n",
       "        0.03640542],\n",
       "       ...,\n",
       "       [0.01170601, 0.01111678, 0.04207801, ..., 0.00758443, 0.01619762,\n",
       "        0.00732499],\n",
       "       [0.01538386, 0.00353778, 0.04117977, ..., 0.05245328, 0.04133239,\n",
       "        0.00459293],\n",
       "       [0.01529368, 0.00393989, 0.04138784, ..., 0.05307002, 0.04188594,\n",
       "        0.00431658]], dtype=float32)"
      ]
     },
     "execution_count": 127,
     "metadata": {},
     "output_type": "execute_result"
    }
   ],
   "source": [
    "xd = preprocessing.normalize(features, norm='l2')\n",
    "xd"
   ]
  },
  {
   "cell_type": "code",
   "execution_count": 128,
   "metadata": {},
   "outputs": [
    {
     "data": {
      "text/plain": [
       "array([[0.01378659, 0.00750476, 0.0254055 , ..., 0.0183573 , 0.02190199,\n",
       "        0.04078055],\n",
       "       [0.01057878, 0.00453828, 0.02616318, ..., 0.0102624 , 0.03332448,\n",
       "        0.00807204],\n",
       "       [0.01823394, 0.01325411, 0.03702415, ..., 0.00984378, 0.02004704,\n",
       "        0.03640543],\n",
       "       ...,\n",
       "       [0.01170602, 0.01111678, 0.04207802, ..., 0.00758443, 0.01619763,\n",
       "        0.00732499],\n",
       "       [0.01538386, 0.00353778, 0.04117977, ..., 0.05245327, 0.04133239,\n",
       "        0.00459293],\n",
       "       [0.01529368, 0.00393989, 0.04138784, ..., 0.05307002, 0.04188594,\n",
       "        0.00431658]], dtype=float32)"
      ]
     },
     "execution_count": 128,
     "metadata": {},
     "output_type": "execute_result"
    }
   ],
   "source": [
    "preprocessing.normalize(xd, norm='l2')"
   ]
  },
  {
   "cell_type": "code",
   "execution_count": 156,
   "metadata": {},
   "outputs": [
    {
     "data": {
      "text/plain": [
       "22.35702791296535"
      ]
     },
     "execution_count": 156,
     "metadata": {},
     "output_type": "execute_result"
    }
   ],
   "source": [
    "sum(preprocessing.normalize(xd, norm='l2')[0])"
   ]
  },
  {
   "cell_type": "code",
   "execution_count": 109,
   "metadata": {},
   "outputs": [
    {
     "data": {
      "text/plain": [
       "(1, 1024)"
      ]
     },
     "execution_count": 109,
     "metadata": {},
     "output_type": "execute_result"
    }
   ],
   "source": [
    "features[:1].shape"
   ]
  },
  {
   "cell_type": "code",
   "execution_count": 110,
   "metadata": {},
   "outputs": [
    {
     "data": {
      "text/plain": [
       "array([0.01378659, 0.00750476, 0.0254055 , ..., 0.0183573 , 0.02190199,\n",
       "       0.04078055], dtype=float32)"
      ]
     },
     "execution_count": 110,
     "metadata": {},
     "output_type": "execute_result"
    }
   ],
   "source": [
    "preprocessing.normalize(features[:1], norm='l2')[0]"
   ]
  },
  {
   "cell_type": "code",
   "execution_count": 111,
   "metadata": {},
   "outputs": [],
   "source": [
    "def xdd(xd):\n",
    "    if xd is not None:\n",
    "        print(\"hola\")"
   ]
  },
  {
   "cell_type": "code",
   "execution_count": null,
   "metadata": {},
   "outputs": [],
   "source": [
    "a = None"
   ]
  },
  {
   "cell_type": "code",
   "execution_count": null,
   "metadata": {},
   "outputs": [],
   "source": []
  },
  {
   "cell_type": "code",
   "execution_count": 45,
   "metadata": {},
   "outputs": [
    {
     "data": {
      "text/plain": [
       "(53872, 1024)"
      ]
     },
     "execution_count": 45,
     "metadata": {},
     "output_type": "execute_result"
    }
   ],
   "source": [
    "features_rgb.shape"
   ]
  },
  {
   "cell_type": "code",
   "execution_count": 89,
   "metadata": {},
   "outputs": [
    {
     "data": {
      "text/plain": [
       "178.24483"
      ]
     },
     "execution_count": 89,
     "metadata": {},
     "output_type": "execute_result"
    }
   ],
   "source": [
    "np.sum(features_rgb[0] ** 2)"
   ]
  },
  {
   "cell_type": "code",
   "execution_count": 46,
   "metadata": {},
   "outputs": [
    {
     "data": {
      "text/plain": [
       "(53667, 1024)"
      ]
     },
     "execution_count": 46,
     "metadata": {},
     "output_type": "execute_result"
    }
   ],
   "source": [
    "features_flow.shape"
   ]
  },
  {
   "cell_type": "code",
   "execution_count": 90,
   "metadata": {},
   "outputs": [
    {
     "data": {
      "text/plain": [
       "127.78471"
      ]
     },
     "execution_count": 90,
     "metadata": {},
     "output_type": "execute_result"
    }
   ],
   "source": [
    "np.sum(features_flow[0] ** 2)"
   ]
  },
  {
   "cell_type": "code",
   "execution_count": 47,
   "metadata": {},
   "outputs": [
    {
     "data": {
      "text/plain": [
       "(69676, 2048)"
      ]
     },
     "execution_count": 47,
     "metadata": {},
     "output_type": "execute_result"
    }
   ],
   "source": [
    "features_iv3.shape"
   ]
  },
  {
   "cell_type": "code",
   "execution_count": 91,
   "metadata": {},
   "outputs": [
    {
     "data": {
      "text/plain": [
       "527.78986"
      ]
     },
     "execution_count": 91,
     "metadata": {},
     "output_type": "execute_result"
    }
   ],
   "source": [
    "np.sum(features_iv3[0] ** 2)"
   ]
  },
  {
   "cell_type": "code",
   "execution_count": 48,
   "metadata": {},
   "outputs": [
    {
     "data": {
      "text/plain": [
       "(53872, 2048)"
      ]
     },
     "execution_count": 48,
     "metadata": {},
     "output_type": "execute_result"
    }
   ],
   "source": [
    "features_3D.shape"
   ]
  },
  {
   "cell_type": "code",
   "execution_count": 92,
   "metadata": {},
   "outputs": [
    {
     "data": {
      "text/plain": [
       "717.1603"
      ]
     },
     "execution_count": 92,
     "metadata": {},
     "output_type": "execute_result"
    }
   ],
   "source": [
    "np.sum(features_3D[0] ** 2)"
   ]
  },
  {
   "cell_type": "code",
   "execution_count": 49,
   "metadata": {},
   "outputs": [
    {
     "data": {
      "text/plain": [
       "(69676, 2048)"
      ]
     },
     "execution_count": 49,
     "metadata": {},
     "output_type": "execute_result"
    }
   ],
   "source": [
    "features_rn.shape"
   ]
  },
  {
   "cell_type": "code",
   "execution_count": 93,
   "metadata": {},
   "outputs": [
    {
     "data": {
      "text/plain": [
       "811.7162"
      ]
     },
     "execution_count": 93,
     "metadata": {},
     "output_type": "execute_result"
    }
   ],
   "source": [
    "np.sum(features_rn[0] ** 2)"
   ]
  },
  {
   "cell_type": "code",
   "execution_count": 13,
   "metadata": {},
   "outputs": [],
   "source": [
    "from sklearn.preprocessing import StandardScaler\n",
    "from sklearn.decomposition import PCA"
   ]
  },
  {
   "cell_type": "code",
   "execution_count": 14,
   "metadata": {},
   "outputs": [],
   "source": [
    "def fit_transform_data(descriptors_orig, n_components):\n",
    "    \"\"\"\n",
    "    descriptors_orig: descriptores directamente obtenidos del modelo\n",
    "    n_components: numero de componentes de pca\n",
    "    \"\"\"\n",
    "    normalizer = StandardScaler()\n",
    "    normalizer = normalizer.fit(descriptors_orig)\n",
    "    descriptors = normalizer.transform(descriptors_orig)\n",
    "    pca_transformer = PCA(n_components = n_components, random_state=0)\n",
    "    pca_transformer = pca_transformer.fit(descriptors)\n",
    "    descriptors = pca_transformer.transform(descriptors)\n",
    "    return descriptors, normalizer, pca_transformer"
   ]
  },
  {
   "cell_type": "code",
   "execution_count": 15,
   "metadata": {},
   "outputs": [],
   "source": [
    "def plot_most_imp_feature(features, pca, max_feature_per_comp=1024):\n",
    "    col_last = []\n",
    "    try:\n",
    "        for n_component in range(pca.n_components_):\n",
    "            col_by_eigenvalues=[]\n",
    "            val_by_eigen_values=[]\n",
    "            print(\"Component # {}\".format(n_component+1))\n",
    "            for pos in np.abs(pca.components_)[n_component].argsort()[::-1]:\n",
    "                #print(df_empresas_notna[COL_CLUSTER].columns[pos])\n",
    "                if((np.abs(pca.components_)[n_component][pos]>0.1)):\n",
    "                    col_by_eigenvalues.append(df_empresas_notna[COL_CLUSTER].columns[pos])\n",
    "                    val_by_eigen_values.append(pca.components_[n_component][pos])\n",
    "                    \n",
    "                    col_last = col_last + [i for i in col_by_eigenvalues[:max_feature_per_comp] if i not in col_last]\n",
    "                    \n",
    "                #print(pca.components_[n_component-1][pos])\n",
    "            print()\n",
    "            plt.figure(figsize=(15,10))\n",
    "            plt.title(\"Feature Coefficient value of component {}\".format(n_component+1), fontsize=30)\n",
    "            plt.xlabel(\"Coefficient value\",fontsize=20)\n",
    "            plt.ylabel(\"Feature\",fontsize=20)\n",
    "            sns.barplot(y=col_by_eigenvalues, x=val_by_eigen_values)\n",
    "            plt.savefig('eigenvalues_pca_n_{}.png'.format(n_component+1))\n",
    "            plt.show()\n",
    "    except:\n",
    "        print(\"This number component doesnt exist\")\n",
    "    \n",
    "    return col_last"
   ]
  },
  {
   "cell_type": "code",
   "execution_count": 16,
   "metadata": {},
   "outputs": [],
   "source": [
    "features_iv3_pca, normalizer_iv3, pca_iv3 = fit_transform_data(descriptors_orig=features_iv3, n_components=1024)\n",
    "features_3D_pca, normalizer_3D, pca_3D = fit_transform_data(descriptors_orig=features_3D, n_components=1024)\n",
    "features_rn_pca, normalizer_rn, pca_rn = fit_transform_data(descriptors_orig=features_rn, n_components=1024)\n",
    "\n",
    "_, normalizer_googlenet, _ = fit_transform_data(descriptors_orig=features, n_components=1024)\n",
    "_, normalizer_rgb, _ = fit_transform_data(descriptors_orig=features_rgb, n_components=1024)\n",
    "_, normalizer_flow, _ = fit_transform_data(descriptors_orig=features_flow, n_components=1024)"
   ]
  },
  {
   "cell_type": "code",
   "execution_count": 17,
   "metadata": {},
   "outputs": [
    {
     "data": {
      "text/plain": [
       "0.9658224613377221"
      ]
     },
     "execution_count": 17,
     "metadata": {},
     "output_type": "execute_result"
    }
   ],
   "source": [
    "pca_iv3.explained_variance_ratio_.sum()"
   ]
  },
  {
   "cell_type": "code",
   "execution_count": 18,
   "metadata": {},
   "outputs": [
    {
     "data": {
      "text/plain": [
       "0.98189807"
      ]
     },
     "execution_count": 18,
     "metadata": {},
     "output_type": "execute_result"
    }
   ],
   "source": [
    "pca_3D.explained_variance_ratio_.sum()"
   ]
  },
  {
   "cell_type": "code",
   "execution_count": 19,
   "metadata": {},
   "outputs": [
    {
     "data": {
      "text/plain": [
       "0.9747770811544656"
      ]
     },
     "execution_count": 19,
     "metadata": {},
     "output_type": "execute_result"
    }
   ],
   "source": [
    "pca_rn.explained_variance_ratio_.sum()"
   ]
  },
  {
   "cell_type": "code",
   "execution_count": null,
   "metadata": {},
   "outputs": [],
   "source": []
  },
  {
   "cell_type": "code",
   "execution_count": 20,
   "metadata": {},
   "outputs": [
    {
     "data": {
      "text/plain": [
       "(69676, 1024)"
      ]
     },
     "execution_count": 20,
     "metadata": {},
     "output_type": "execute_result"
    }
   ],
   "source": [
    "features_iv3_pca.shape"
   ]
  },
  {
   "cell_type": "code",
   "execution_count": 21,
   "metadata": {},
   "outputs": [
    {
     "data": {
      "text/plain": [
       "(53872, 1024)"
      ]
     },
     "execution_count": 21,
     "metadata": {},
     "output_type": "execute_result"
    }
   ],
   "source": [
    "features_3D_pca.shape"
   ]
  },
  {
   "cell_type": "code",
   "execution_count": 22,
   "metadata": {},
   "outputs": [
    {
     "data": {
      "text/plain": [
       "(69676, 1024)"
      ]
     },
     "execution_count": 22,
     "metadata": {},
     "output_type": "execute_result"
    }
   ],
   "source": [
    "features_rn_pca.shape"
   ]
  },
  {
   "cell_type": "code",
   "execution_count": 23,
   "metadata": {},
   "outputs": [],
   "source": [
    "import pickle"
   ]
  },
  {
   "cell_type": "code",
   "execution_count": 20,
   "metadata": {},
   "outputs": [],
   "source": [
    "transformations = {\n",
    "    \"normalizer_iv3\": normalizer_iv3,\n",
    "    \"pca_iv3\": pca_iv3,\n",
    "    \"normalizer_3D\": normalizer_3D,\n",
    "    \"pca_3D\": pca_3D,\n",
    "    \"normalizer_rn\": normalizer_rn,\n",
    "    \"pca_rn\": pca_rn,\n",
    "    \"normalizer_googlenet\": normalizer_googlenet,\n",
    "    \"normalizer_rgb\": normalizer_rgb,\n",
    "    \"normalizer_flow\": normalizer_flow\n",
    "}"
   ]
  },
  {
   "cell_type": "code",
   "execution_count": 21,
   "metadata": {},
   "outputs": [],
   "source": [
    "filename = \"transformations.pk\"\n",
    "\n",
    "pickle.dump(transformations, open(filename, 'wb'))"
   ]
  },
  {
   "cell_type": "code",
   "execution_count": 23,
   "metadata": {},
   "outputs": [],
   "source": [
    "loaded_model = pickle.load(open(filename, 'rb'))"
   ]
  },
  {
   "cell_type": "code",
   "execution_count": 24,
   "metadata": {},
   "outputs": [
    {
     "data": {
      "text/plain": [
       "{'normalizer_iv3': StandardScaler(),\n",
       " 'pca_iv3': PCA(n_components=1024, random_state=0),\n",
       " 'normalizer_3D': StandardScaler(),\n",
       " 'pca_3D': PCA(n_components=1024, random_state=0),\n",
       " 'normalizer_rn': StandardScaler(),\n",
       " 'pca_rn': PCA(n_components=1024, random_state=0),\n",
       " 'normalizer_googlenet': StandardScaler(),\n",
       " 'normalizer_rgb': StandardScaler(),\n",
       " 'normalizer_flow': StandardScaler()}"
      ]
     },
     "execution_count": 24,
     "metadata": {},
     "output_type": "execute_result"
    }
   ],
   "source": [
    "loaded_model"
   ]
  },
  {
   "cell_type": "code",
   "execution_count": 29,
   "metadata": {},
   "outputs": [
    {
     "data": {
      "text/plain": [
       "(69676, 2048)"
      ]
     },
     "execution_count": 29,
     "metadata": {},
     "output_type": "execute_result"
    }
   ],
   "source": [
    "features_iv3.shape"
   ]
  },
  {
   "cell_type": "code",
   "execution_count": 32,
   "metadata": {},
   "outputs": [
    {
     "data": {
      "text/plain": [
       "(1, 2048)"
      ]
     },
     "execution_count": 32,
     "metadata": {},
     "output_type": "execute_result"
    }
   ],
   "source": [
    "features_iv3[-1].reshape(1,-1).shape"
   ]
  },
  {
   "cell_type": "code",
   "execution_count": 38,
   "metadata": {},
   "outputs": [
    {
     "data": {
      "text/plain": [
       "(69676, 2048)"
      ]
     },
     "execution_count": 38,
     "metadata": {},
     "output_type": "execute_result"
    }
   ],
   "source": [
    "features_iv3.shape"
   ]
  },
  {
   "cell_type": "code",
   "execution_count": 40,
   "metadata": {},
   "outputs": [
    {
     "data": {
      "text/plain": [
       "(69676, 1024)"
      ]
     },
     "execution_count": 40,
     "metadata": {},
     "output_type": "execute_result"
    }
   ],
   "source": [
    "loaded_model[\"pca_iv3\"].transform(loaded_model[\"normalizer_iv3\"].transform(features_iv3)).shape"
   ]
  },
  {
   "cell_type": "markdown",
   "metadata": {},
   "source": [
    "# Googlenet,RGB and FLOW original features"
   ]
  },
  {
   "cell_type": "code",
   "execution_count": 25,
   "metadata": {},
   "outputs": [],
   "source": [
    "paths_original = [\n",
    "        \"/data/shuaman/video_summarization/datasets/processed_datasets/eccv16_dataset_ovp_google_pool5.h5\",\n",
    "        \"/data/shuaman/video_summarization/datasets/processed_datasets/eccv16_dataset_summe_google_pool5.h5\",\n",
    "        \"/data/shuaman/video_summarization/datasets/processed_datasets/eccv16_dataset_tvsum_google_pool5.h5\",\n",
    "        \"/data/shuaman/video_summarization/datasets/processed_datasets/eccv16_dataset_youtube_google_pool5.h5\",\n",
    "        ]\n",
    "\n",
    "paths_i3d_orig = [\n",
    "        \"/data/shuaman/video_summarization/datasets/processed_datasets/eccv16_dataset_summe_google_pool5.h5\",\n",
    "        \"/data/shuaman/video_summarization/datasets/processed_datasets/eccv16_dataset_tvsum_google_pool5.h5\",\n",
    "        ]\n",
    "\n",
    "\n",
    "paths_gn_orig = [\n",
    "        \"/data/shuaman/video_summarization/datasets/processed_datasets/eccv16_dataset_ovp_google_pool5.h5\",\n",
    "        \"/data/shuaman/video_summarization/datasets/processed_datasets/eccv16_dataset_summe_google_pool5.h5\",\n",
    "        \"/data/shuaman/video_summarization/datasets/processed_datasets/eccv16_dataset_tvsum_google_pool5.h5\",\n",
    "        \"/data/shuaman/video_summarization/datasets/processed_datasets/eccv16_dataset_youtube_google_pool5.h5\",\n",
    "        ]"
   ]
  },
  {
   "cell_type": "code",
   "execution_count": 27,
   "metadata": {},
   "outputs": [],
   "source": [
    "features_gn_orig = []\n",
    "features_rgb_orig = []\n",
    "features_flow_orig = []\n",
    "\n",
    "\n",
    "training_set = VSMDataset(paths_gn_orig, googlenet=True, resnext=False, inceptionv3=False,\n",
    "                         i3d_rgb=False, i3d_flow=False, resnet3d=False)\n",
    "\n",
    "for i in range(len(training_set)):\n",
    "    feat = training_set.get_feature(i, \"features\")\n",
    "\n",
    "    for nframe in range(len(feat)):        \n",
    "        features_gn_orig.append(feat[nframe])\n",
    "                \n",
    "features_gn_orig = np.array(features_gn_orig)\n",
    "\n",
    "\n",
    "\n",
    "training_set = VSMDataset(paths_i3d_orig, googlenet=False, resnext=False, inceptionv3=False,\n",
    "                         i3d_rgb=True, i3d_flow=True, resnet3d=False)\n",
    "\n",
    "for i in range(len(training_set)):\n",
    "    features_rgb_t = training_set.get_feature(i, \"features_rgb\")\n",
    "    features_flow_t = training_set.get_feature(i, \"features_flow\")\n",
    "    for nframe in range(len(features_rgb_t)):        \n",
    "        features_rgb_orig.append(features_rgb_t[nframe])\n",
    "    for nframe in range(len(features_flow_t)):            \n",
    "        features_flow_orig.append(features_flow_t[nframe])\n",
    "                \n",
    "features_rgb_orig = np.array(features_rgb_orig)\n",
    "features_flow_orig = np.array(features_flow_orig)\n",
    "\n",
    "\n",
    "\n"
   ]
  },
  {
   "cell_type": "code",
   "execution_count": 182,
   "metadata": {},
   "outputs": [
    {
     "data": {
      "text/plain": [
       "1.000000150419107"
      ]
     },
     "execution_count": 182,
     "metadata": {},
     "output_type": "execute_result"
    }
   ],
   "source": [
    "np.sum(features_gn_orig[2] ** 2)"
   ]
  },
  {
   "cell_type": "code",
   "execution_count": 183,
   "metadata": {},
   "outputs": [
    {
     "data": {
      "text/plain": [
       "(55522, 1024)"
      ]
     },
     "execution_count": 183,
     "metadata": {},
     "output_type": "execute_result"
    }
   ],
   "source": [
    "features_gn_orig.shape"
   ]
  },
  {
   "cell_type": "code",
   "execution_count": 185,
   "metadata": {},
   "outputs": [
    {
     "data": {
      "text/plain": [
       "2495.5127"
      ]
     },
     "execution_count": 185,
     "metadata": {},
     "output_type": "execute_result"
    }
   ],
   "source": [
    "np.sum(features_rgb_orig[2] ** 2)"
   ]
  },
  {
   "cell_type": "code",
   "execution_count": 29,
   "metadata": {},
   "outputs": [
    {
     "data": {
      "text/plain": [
       "(458079, 1024)"
      ]
     },
     "execution_count": 29,
     "metadata": {},
     "output_type": "execute_result"
    }
   ],
   "source": [
    "features_rgb_orig.shape"
   ]
  },
  {
   "cell_type": "code",
   "execution_count": 186,
   "metadata": {},
   "outputs": [
    {
     "data": {
      "text/plain": [
       "128.57715"
      ]
     },
     "execution_count": 186,
     "metadata": {},
     "output_type": "execute_result"
    }
   ],
   "source": [
    "np.sum(features_flow_orig[2] ** 2)"
   ]
  },
  {
   "cell_type": "code",
   "execution_count": 30,
   "metadata": {},
   "outputs": [
    {
     "data": {
      "text/plain": [
       "(460902, 1024)"
      ]
     },
     "execution_count": 30,
     "metadata": {},
     "output_type": "execute_result"
    }
   ],
   "source": [
    "features_flow_orig.shape"
   ]
  },
  {
   "cell_type": "markdown",
   "metadata": {},
   "source": [
    "# Comparison GNet with others googlenet"
   ]
  },
  {
   "cell_type": "code",
   "execution_count": 31,
   "metadata": {},
   "outputs": [
    {
     "data": {
      "text/plain": [
       "(69676, 1024)"
      ]
     },
     "execution_count": 31,
     "metadata": {},
     "output_type": "execute_result"
    }
   ],
   "source": [
    "features.shape"
   ]
  },
  {
   "cell_type": "code",
   "execution_count": 32,
   "metadata": {},
   "outputs": [
    {
     "data": {
      "text/plain": [
       "(55522, 1024)"
      ]
     },
     "execution_count": 32,
     "metadata": {},
     "output_type": "execute_result"
    }
   ],
   "source": [
    "features_gn_orig.shape"
   ]
  },
  {
   "cell_type": "code",
   "execution_count": 38,
   "metadata": {},
   "outputs": [
    {
     "name": "stdout",
     "output_type": "stream",
     "text": [
      "0.35224712\n",
      "11.704759\n",
      "0.0\n",
      "0.35622993\n"
     ]
    }
   ],
   "source": [
    "print(features.std())\n",
    "print(features.max())\n",
    "print(features.min())\n",
    "print(features.mean())"
   ]
  },
  {
   "cell_type": "code",
   "execution_count": 39,
   "metadata": {},
   "outputs": [
    {
     "name": "stdout",
     "output_type": "stream",
     "text": [
      "0.026327690975322143\n",
      "0.47543802857398987\n",
      "0.0\n",
      "0.016834940797225705\n"
     ]
    }
   ],
   "source": [
    "print(features_gn_orig.std())\n",
    "print(features_gn_orig.max())\n",
    "print(features_gn_orig.min())\n",
    "print(features_gn_orig.mean())"
   ]
  },
  {
   "cell_type": "markdown",
   "metadata": {},
   "source": [
    "# Comparison IV3 with others IV3"
   ]
  },
  {
   "cell_type": "code",
   "execution_count": 51,
   "metadata": {},
   "outputs": [
    {
     "data": {
      "text/plain": [
       "(53872, 1024)"
      ]
     },
     "execution_count": 51,
     "metadata": {},
     "output_type": "execute_result"
    }
   ],
   "source": [
    "features_rgb.shape"
   ]
  },
  {
   "cell_type": "code",
   "execution_count": 50,
   "metadata": {},
   "outputs": [
    {
     "data": {
      "text/plain": [
       "(458079, 1024)"
      ]
     },
     "execution_count": 50,
     "metadata": {},
     "output_type": "execute_result"
    }
   ],
   "source": [
    "features_rgb_orig.shape"
   ]
  },
  {
   "cell_type": "code",
   "execution_count": 52,
   "metadata": {},
   "outputs": [
    {
     "name": "stdout",
     "output_type": "stream",
     "text": [
      "0.2843771\n",
      "10.579835\n",
      "0.0\n",
      "0.23553562\n"
     ]
    }
   ],
   "source": [
    "print(features_rgb.std())\n",
    "print(features_rgb.max())\n",
    "print(features_rgb.min())\n",
    "print(features_rgb.mean())"
   ]
  },
  {
   "cell_type": "code",
   "execution_count": 53,
   "metadata": {},
   "outputs": [
    {
     "name": "stdout",
     "output_type": "stream",
     "text": [
      "73.3974\n",
      "1536.6721\n",
      "-0.26217043\n",
      "43.720673\n"
     ]
    }
   ],
   "source": [
    "print(features_rgb_orig.std())\n",
    "print(features_rgb_orig.max())\n",
    "print(features_rgb_orig.min())\n",
    "print(features_rgb_orig.mean())"
   ]
  },
  {
   "cell_type": "code",
   "execution_count": 54,
   "metadata": {},
   "outputs": [
    {
     "data": {
      "text/plain": [
       "(53667, 1024)"
      ]
     },
     "execution_count": 54,
     "metadata": {},
     "output_type": "execute_result"
    }
   ],
   "source": [
    "features_flow.shape"
   ]
  },
  {
   "cell_type": "code",
   "execution_count": 55,
   "metadata": {},
   "outputs": [
    {
     "data": {
      "text/plain": [
       "(460902, 1024)"
      ]
     },
     "execution_count": 55,
     "metadata": {},
     "output_type": "execute_result"
    }
   ],
   "source": [
    "features_flow_orig.shape"
   ]
  },
  {
   "cell_type": "code",
   "execution_count": 56,
   "metadata": {},
   "outputs": [
    {
     "name": "stdout",
     "output_type": "stream",
     "text": [
      "0.34659687\n",
      "4.6505795\n",
      "0.0\n",
      "0.14466725\n"
     ]
    }
   ],
   "source": [
    "print(features_flow.std())\n",
    "print(features_flow.max())\n",
    "print(features_flow.min())\n",
    "print(features_flow.mean())"
   ]
  },
  {
   "cell_type": "code",
   "execution_count": 57,
   "metadata": {},
   "outputs": [
    {
     "name": "stdout",
     "output_type": "stream",
     "text": [
      "8.415225\n",
      "1272.2615\n",
      "-0.22121702\n",
      "1.3784237\n"
     ]
    }
   ],
   "source": [
    "print(features_flow_orig.std())\n",
    "print(features_flow_orig.max())\n",
    "print(features_flow_orig.min())\n",
    "print(features_flow_orig.mean())"
   ]
  },
  {
   "cell_type": "code",
   "execution_count": 61,
   "metadata": {},
   "outputs": [
    {
     "name": "stdout",
     "output_type": "stream",
     "text": [
      "99\n"
     ]
    }
   ],
   "source": [
    "!pip3 freeze | wc -l"
   ]
  }
 ],
 "metadata": {
  "kernelspec": {
   "display_name": "vsm_kernel",
   "language": "python",
   "name": "vsm_kernel"
  },
  "language_info": {
   "codemirror_mode": {
    "name": "ipython",
    "version": 3
   },
   "file_extension": ".py",
   "mimetype": "text/x-python",
   "name": "python",
   "nbconvert_exporter": "python",
   "pygments_lexer": "ipython3",
   "version": "3.8.11"
  }
 },
 "nbformat": 4,
 "nbformat_minor": 4
}
