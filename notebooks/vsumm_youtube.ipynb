{
 "cells": [
  {
   "cell_type": "code",
   "execution_count": 1,
   "metadata": {},
   "outputs": [],
   "source": [
    "import pandas as pd"
   ]
  },
  {
   "cell_type": "code",
   "execution_count": 2,
   "metadata": {},
   "outputs": [],
   "source": [
    "import h5py"
   ]
  },
  {
   "cell_type": "code",
   "execution_count": 3,
   "metadata": {},
   "outputs": [],
   "source": [
    "import scipy.io"
   ]
  },
  {
   "cell_type": "code",
   "execution_count": 4,
   "metadata": {},
   "outputs": [],
   "source": [
    "# path_just_generated = \"/home/shuaman/video_sm/video_summarization/src/eccv16_dataset_youtube_google_pool5.h5\"\n",
    "path_just_generated = \"/home/shuaman/video_sm/video_summarization/src/dataset_youtube_processed.h5\""
   ]
  },
  {
   "cell_type": "code",
   "execution_count": 5,
   "metadata": {},
   "outputs": [],
   "source": [
    "data_all_yt_mine = h5py.File(path_just_generated, 'r')"
   ]
  },
  {
   "cell_type": "code",
   "execution_count": 6,
   "metadata": {},
   "outputs": [],
   "source": [
    "#path_data_preprocessd = \"/data/shuaman/video_summarization/datasets/dsnet/datasets/eccv16_dataset_summe_google_pool5.h5\"\n",
    "path_data_preprocessd = \"/data/shuaman/video_summarization/datasets/dsnet/datasets/eccv16_dataset_youtube_google_pool5.h5\""
   ]
  },
  {
   "cell_type": "code",
   "execution_count": 7,
   "metadata": {},
   "outputs": [],
   "source": [
    "data_all_yt = h5py.File(path_data_preprocessd, 'r')"
   ]
  },
  {
   "cell_type": "code",
   "execution_count": 8,
   "metadata": {},
   "outputs": [
    {
     "name": "stdout",
     "output_type": "stream",
     "text": [
      "video 1 comparison\n",
      "features gt (548, 1024)\n",
      "features mine (146, 1024)\n",
      "\n",
      "gtscore gt (548,)\n",
      "gtscore mine (146,)\n",
      "\n",
      "video name mine v100\n",
      "user summary mine (5, 2180)\n",
      "\n",
      "n frames gt 8219\n",
      "n frames mine 2180\n",
      "\n",
      "change points gt (52, 2)\n",
      "change points mine (15, 2)\n",
      "\n",
      "n frame per seg gt (52,)\n",
      "n frame per seg mine (15,)\n",
      "\n",
      "picks gt (548,)\n",
      "picks mine (146,)\n",
      "\n",
      "n steps mine 146\n",
      "\n",
      "video 2 comparison\n",
      "features gt (890, 1024)\n",
      "features mine (154, 1024)\n",
      "\n",
      "gtscore gt (890,)\n",
      "gtscore mine (154,)\n",
      "\n",
      "video name mine v101\n",
      "user summary mine (5, 2307)\n",
      "\n",
      "n frames gt 13349\n",
      "n frames mine 2307\n",
      "\n",
      "change points gt (52, 2)\n",
      "change points mine (16, 2)\n",
      "\n",
      "n frame per seg gt (52,)\n",
      "n frame per seg mine (16,)\n",
      "\n",
      "picks gt (890,)\n",
      "picks mine (154,)\n",
      "\n",
      "n steps mine 154\n",
      "\n",
      "video 3 comparison\n",
      "features gt (398, 1024)\n",
      "features mine (356, 1024)\n",
      "\n",
      "gtscore gt (398,)\n",
      "gtscore mine (356,)\n",
      "\n",
      "video name mine v102\n",
      "user summary mine (5, 5337)\n",
      "\n",
      "n frames gt 5969\n",
      "n frames mine 5337\n",
      "\n",
      "change points gt (62, 2)\n",
      "change points mine (36, 2)\n",
      "\n",
      "n frame per seg gt (62,)\n",
      "n frame per seg mine (36,)\n",
      "\n",
      "picks gt (398,)\n",
      "picks mine (356,)\n",
      "\n",
      "n steps mine 356\n",
      "\n",
      "video 4 comparison\n",
      "features gt (581, 1024)\n",
      "features mine (392, 1024)\n",
      "\n",
      "gtscore gt (581,)\n",
      "gtscore mine (392,)\n",
      "\n",
      "video name mine v103\n",
      "user summary mine (5, 5875)\n",
      "\n",
      "n frames gt 8714\n",
      "n frames mine 5875\n",
      "\n",
      "change points gt (65, 2)\n",
      "change points mine (40, 2)\n",
      "\n",
      "n frame per seg gt (65,)\n",
      "n frame per seg mine (40,)\n",
      "\n",
      "picks gt (581,)\n",
      "picks mine (392,)\n",
      "\n",
      "n steps mine 392\n",
      "\n",
      "video 5 comparison\n",
      "features gt (1518, 1024)\n",
      "features mine (554, 1024)\n",
      "\n",
      "gtscore gt (1518,)\n",
      "gtscore mine (554,)\n",
      "\n",
      "video name mine v104\n",
      "user summary mine (5, 8308)\n",
      "\n",
      "n frames gt 22769\n",
      "n frames mine 8308\n",
      "\n",
      "change points gt (48, 2)\n",
      "change points mine (56, 2)\n",
      "\n",
      "n frame per seg gt (48,)\n",
      "n frame per seg mine (56,)\n",
      "\n",
      "picks gt (1518,)\n",
      "picks mine (554,)\n",
      "\n",
      "n steps mine 554\n",
      "\n",
      "video 6 comparison\n",
      "features gt (146, 1024)\n",
      "features mine (562, 1024)\n",
      "\n",
      "gtscore gt (146,)\n",
      "gtscore mine (562,)\n",
      "\n",
      "video name mine v105\n",
      "user summary mine (5, 8422)\n",
      "\n",
      "n frames gt 2189\n",
      "n frames mine 8422\n",
      "\n",
      "change points gt (9, 2)\n",
      "change points mine (57, 2)\n",
      "\n",
      "n frame per seg gt (9,)\n",
      "n frame per seg mine (57,)\n",
      "\n",
      "picks gt (146,)\n",
      "picks mine (562,)\n",
      "\n",
      "n steps mine 562\n",
      "\n",
      "video 7 comparison\n",
      "features gt (277, 1024)\n",
      "features mine (286, 1024)\n",
      "\n",
      "gtscore gt (277,)\n",
      "gtscore mine (286,)\n",
      "\n",
      "video name mine v106\n",
      "user summary mine (5, 4290)\n",
      "\n",
      "n frames gt 4154\n",
      "n frames mine 4290\n",
      "\n",
      "change points gt (22, 2)\n",
      "change points mine (29, 2)\n",
      "\n",
      "n frame per seg gt (22,)\n",
      "n frame per seg mine (29,)\n",
      "\n",
      "picks gt (277,)\n",
      "picks mine (286,)\n",
      "\n",
      "n steps mine 286\n",
      "\n",
      "video 8 comparison\n",
      "features gt (614, 1024)\n",
      "features mine (415, 1024)\n",
      "\n",
      "gtscore gt (614,)\n",
      "gtscore mine (415,)\n",
      "\n",
      "video name mine v107\n",
      "user summary mine (5, 6217)\n",
      "\n",
      "n frames gt 9209\n",
      "n frames mine 6217\n",
      "\n",
      "change points gt (39, 2)\n",
      "change points mine (42, 2)\n",
      "\n",
      "n frame per seg gt (39,)\n",
      "n frame per seg mine (42,)\n",
      "\n",
      "picks gt (614,)\n",
      "picks mine (415,)\n",
      "\n",
      "n steps mine 415\n",
      "\n",
      "video 9 comparison\n",
      "features gt (94, 1024)\n",
      "features mine (81, 1024)\n",
      "\n",
      "gtscore gt (94,)\n",
      "gtscore mine (81,)\n",
      "\n",
      "video name mine v108\n",
      "user summary mine (5, 1206)\n",
      "\n",
      "n frames gt 1409\n",
      "n frames mine 1206\n",
      "\n",
      "change points gt (5, 2)\n",
      "change points mine (9, 2)\n",
      "\n",
      "n frame per seg gt (5,)\n",
      "n frame per seg mine (9,)\n",
      "\n",
      "picks gt (94,)\n",
      "picks mine (81,)\n",
      "\n",
      "n steps mine 81\n",
      "\n",
      "video 10 comparison\n",
      "features gt (313, 1024)\n",
      "features mine (703, 1024)\n",
      "\n",
      "gtscore gt (313,)\n",
      "gtscore mine (703,)\n",
      "\n",
      "video name mine v110\n",
      "user summary mine (5, 10534)\n",
      "\n",
      "n frames gt 4694\n",
      "n frames mine 10534\n",
      "\n",
      "change points gt (26, 2)\n",
      "change points mine (71, 2)\n",
      "\n",
      "n frame per seg gt (26,)\n",
      "n frame per seg mine (71,)\n",
      "\n",
      "picks gt (313,)\n",
      "picks mine (703,)\n",
      "\n",
      "n steps mine 703\n",
      "\n",
      "video 11 comparison\n",
      "features gt (381, 1024)\n",
      "features mine (549, 1024)\n",
      "\n",
      "gtscore gt (381,)\n",
      "gtscore mine (549,)\n",
      "\n",
      "video name mine v71\n",
      "user summary mine (5, 8228)\n",
      "\n",
      "n frames gt 5714\n",
      "n frames mine 8228\n",
      "\n",
      "change points gt (32, 2)\n",
      "change points mine (55, 2)\n",
      "\n",
      "n frame per seg gt (32,)\n",
      "n frame per seg mine (55,)\n",
      "\n",
      "picks gt (381,)\n",
      "picks mine (549,)\n",
      "\n",
      "n steps mine 549\n",
      "\n",
      "video 12 comparison\n",
      "features gt (107, 1024)\n",
      "features mine (891, 1024)\n",
      "\n",
      "gtscore gt (107,)\n",
      "gtscore mine (891,)\n",
      "\n",
      "video name mine v72\n",
      "user summary mine (5, 13351)\n",
      "\n",
      "n frames gt 1604\n",
      "n frames mine 13351\n",
      "\n",
      "change points gt (6, 2)\n",
      "change points mine (90, 2)\n",
      "\n",
      "n frame per seg gt (6,)\n",
      "n frame per seg mine (90,)\n",
      "\n",
      "picks gt (107,)\n",
      "picks mine (891,)\n",
      "\n",
      "n steps mine 891\n",
      "\n",
      "video 13 comparison\n",
      "features gt (173, 1024)\n",
      "features mine (399, 1024)\n",
      "\n",
      "gtscore gt (173,)\n",
      "gtscore mine (399,)\n",
      "\n",
      "video name mine v73\n",
      "user summary mine (5, 5977)\n",
      "\n",
      "n frames gt 2594\n",
      "n frames mine 5977\n",
      "\n",
      "change points gt (15, 2)\n",
      "change points mine (40, 2)\n",
      "\n",
      "n frame per seg gt (15,)\n",
      "n frame per seg mine (40,)\n",
      "\n",
      "picks gt (173,)\n",
      "picks mine (399,)\n",
      "\n",
      "n steps mine 399\n",
      "\n",
      "video 14 comparison\n",
      "features gt (105, 1024)\n",
      "features mine (582, 1024)\n",
      "\n",
      "gtscore gt (105,)\n",
      "gtscore mine (582,)\n",
      "\n",
      "video name mine v74\n",
      "user summary mine (5, 8728)\n",
      "\n",
      "n frames gt 1574\n",
      "n frames mine 8728\n",
      "\n",
      "change points gt (5, 2)\n",
      "change points mine (59, 2)\n",
      "\n",
      "n frame per seg gt (5,)\n",
      "n frame per seg mine (59,)\n",
      "\n",
      "picks gt (105,)\n",
      "picks mine (582,)\n",
      "\n",
      "n steps mine 582\n",
      "\n",
      "video 15 comparison\n",
      "features gt (1045, 1024)\n",
      "features mine (1519, 1024)\n",
      "\n",
      "gtscore gt (1045,)\n",
      "gtscore mine (1519,)\n",
      "\n",
      "video name mine v75\n",
      "user summary mine (5, 22774)\n",
      "\n",
      "n frames gt 15674\n",
      "n frames mine 22774\n",
      "\n",
      "change points gt (103, 2)\n",
      "change points mine (152, 2)\n",
      "\n",
      "n frame per seg gt (103,)\n",
      "n frame per seg mine (152,)\n",
      "\n",
      "picks gt (1045,)\n",
      "picks mine (1519,)\n",
      "\n",
      "n steps mine 1519\n",
      "\n",
      "video 16 comparison\n",
      "features gt (247, 1024)\n",
      "features mine (147, 1024)\n",
      "\n",
      "gtscore gt (247,)\n",
      "gtscore mine (147,)\n",
      "\n",
      "video name mine v76\n",
      "user summary mine (5, 2196)\n",
      "\n",
      "n frames gt 3704\n",
      "n frames mine 2196\n",
      "\n",
      "change points gt (30, 2)\n",
      "change points mine (15, 2)\n",
      "\n",
      "n frame per seg gt (30,)\n",
      "n frame per seg mine (15,)\n",
      "\n",
      "picks gt (247,)\n",
      "picks mine (147,)\n",
      "\n",
      "n steps mine 147\n",
      "\n",
      "video 17 comparison\n",
      "video name mine v77\n",
      "user summary mine (5, 4168)\n",
      "\n",
      "n frames gt 4169\n",
      "n frames mine 4168\n",
      "\n",
      "change points gt (18, 2)\n",
      "change points mine (28, 2)\n",
      "\n",
      "n frame per seg gt (18,)\n",
      "n frame per seg mine (28,)\n",
      "\n",
      "n steps mine 278\n",
      "\n",
      "video 18 comparison\n",
      "features gt (191, 1024)\n",
      "features mine (615, 1024)\n",
      "\n",
      "gtscore gt (191,)\n",
      "gtscore mine (615,)\n",
      "\n",
      "video name mine v78\n",
      "user summary mine (5, 9221)\n",
      "\n",
      "n frames gt 2864\n",
      "n frames mine 9221\n",
      "\n",
      "change points gt (13, 2)\n",
      "change points mine (62, 2)\n",
      "\n",
      "n frame per seg gt (13,)\n",
      "n frame per seg mine (62,)\n",
      "\n",
      "picks gt (191,)\n",
      "picks mine (615,)\n",
      "\n",
      "n steps mine 615\n",
      "\n",
      "video 19 comparison\n",
      "features gt (358, 1024)\n",
      "features mine (94, 1024)\n",
      "\n",
      "gtscore gt (358,)\n",
      "gtscore mine (94,)\n",
      "\n",
      "video name mine v79\n",
      "user summary mine (5, 1410)\n",
      "\n",
      "n frames gt 5369\n",
      "n frames mine 1410\n",
      "\n",
      "change points gt (32, 2)\n",
      "change points mine (10, 2)\n",
      "\n",
      "n frame per seg gt (32,)\n",
      "n frame per seg mine (10,)\n",
      "\n",
      "picks gt (358,)\n",
      "picks mine (94,)\n",
      "\n",
      "n steps mine 94\n",
      "\n",
      "video 20 comparison\n",
      "features gt (202, 1024)\n",
      "features mine (314, 1024)\n",
      "\n",
      "gtscore gt (202,)\n",
      "gtscore mine (314,)\n",
      "\n",
      "video name mine v80\n",
      "user summary mine (5, 4701)\n",
      "\n",
      "n frames gt 3029\n",
      "n frames mine 4701\n",
      "\n",
      "change points gt (22, 2)\n",
      "change points mine (32, 2)\n",
      "\n",
      "n frame per seg gt (22,)\n",
      "n frame per seg mine (32,)\n",
      "\n",
      "picks gt (202,)\n",
      "picks mine (314,)\n",
      "\n",
      "n steps mine 314\n",
      "\n",
      "video 21 comparison\n",
      "features gt (217, 1024)\n",
      "features mine (382, 1024)\n",
      "\n",
      "gtscore gt (217,)\n",
      "gtscore mine (382,)\n",
      "\n",
      "video name mine v81\n",
      "user summary mine (5, 5726)\n",
      "\n",
      "n frames gt 3254\n",
      "n frames mine 5726\n",
      "\n",
      "change points gt (11, 2)\n",
      "change points mine (39, 2)\n",
      "\n",
      "n frame per seg gt (11,)\n",
      "n frame per seg mine (39,)\n",
      "\n",
      "picks gt (217,)\n",
      "picks mine (382,)\n",
      "\n",
      "n steps mine 382\n",
      "\n",
      "video 22 comparison\n",
      "features gt (48, 1024)\n",
      "features mine (1061, 1024)\n",
      "\n",
      "gtscore gt (48,)\n",
      "gtscore mine (1061,)\n",
      "\n",
      "video name mine v82\n",
      "user summary mine (5, 15908)\n",
      "\n",
      "n frames gt 719\n",
      "n frames mine 15908\n",
      "\n",
      "change points gt (5, 2)\n",
      "change points mine (107, 2)\n",
      "\n",
      "n frame per seg gt (5,)\n",
      "n frame per seg mine (107,)\n",
      "\n",
      "picks gt (48,)\n",
      "picks mine (1061,)\n",
      "\n",
      "n steps mine 1061\n",
      "\n",
      "video 23 comparison\n",
      "features gt (660, 1024)\n",
      "features mine (108, 1024)\n",
      "\n",
      "gtscore gt (660,)\n",
      "gtscore mine (108,)\n",
      "\n",
      "video name mine v83\n",
      "user summary mine (5, 1608)\n",
      "\n",
      "n frames gt 9899\n",
      "n frames mine 1608\n",
      "\n",
      "change points gt (10, 2)\n",
      "change points mine (11, 2)\n",
      "\n",
      "n frame per seg gt (10,)\n",
      "n frame per seg mine (11,)\n",
      "\n",
      "picks gt (660,)\n",
      "picks mine (108,)\n",
      "\n",
      "n steps mine 108\n",
      "\n",
      "video 24 comparison\n",
      "features gt (299, 1024)\n",
      "features mine (174, 1024)\n",
      "\n",
      "gtscore gt (299,)\n",
      "gtscore mine (174,)\n",
      "\n",
      "video name mine v84\n",
      "user summary mine (5, 2596)\n",
      "\n",
      "n frames gt 4484\n",
      "n frames mine 2596\n",
      "\n",
      "change points gt (15, 2)\n",
      "change points mine (18, 2)\n",
      "\n",
      "n frame per seg gt (15,)\n",
      "n frame per seg mine (18,)\n",
      "\n",
      "picks gt (299,)\n",
      "picks mine (174,)\n",
      "\n",
      "n steps mine 174\n",
      "\n",
      "video 25 comparison\n",
      "features gt (18, 1024)\n",
      "features mine (106, 1024)\n",
      "\n",
      "gtscore gt (18,)\n",
      "gtscore mine (106,)\n",
      "\n",
      "video name mine v85\n",
      "user summary mine (5, 1577)\n",
      "\n",
      "n frames gt 269\n",
      "n frames mine 1577\n",
      "\n",
      "change points gt (3, 2)\n",
      "change points mine (11, 2)\n",
      "\n",
      "n frame per seg gt (3,)\n",
      "n frame per seg mine (11,)\n",
      "\n",
      "picks gt (18,)\n",
      "picks mine (106,)\n",
      "\n",
      "n steps mine 106\n",
      "\n",
      "video 26 comparison\n",
      "features gt (859, 1024)\n",
      "features mine (1046, 1024)\n",
      "\n",
      "gtscore gt (859,)\n",
      "gtscore mine (1046,)\n",
      "\n",
      "video name mine v86\n",
      "user summary mine (5, 15681)\n",
      "\n",
      "n frames gt 12884\n",
      "n frames mine 15681\n",
      "\n",
      "change points gt (43, 2)\n",
      "change points mine (105, 2)\n",
      "\n",
      "n frame per seg gt (43,)\n",
      "n frame per seg mine (105,)\n",
      "\n",
      "picks gt (859,)\n",
      "picks mine (1046,)\n",
      "\n",
      "n steps mine 1046\n",
      "\n",
      "video 27 comparison\n",
      "features gt (273, 1024)\n",
      "features mine (248, 1024)\n",
      "\n",
      "gtscore gt (273,)\n",
      "gtscore mine (248,)\n",
      "\n",
      "video name mine v87\n",
      "user summary mine (5, 3719)\n",
      "\n",
      "n frames gt 4094\n",
      "n frames mine 3719\n",
      "\n",
      "picks gt (273,)\n",
      "picks mine (248,)\n",
      "\n",
      "n steps mine 248\n",
      "\n",
      "video 28 comparison\n",
      "features gt (215, 1024)\n",
      "features mine (279, 1024)\n",
      "\n",
      "gtscore gt (215,)\n",
      "gtscore mine (279,)\n",
      "\n",
      "video name mine v88\n",
      "user summary mine (5, 4178)\n",
      "\n",
      "n frames gt 3224\n",
      "n frames mine 4178\n",
      "\n",
      "change points gt (6, 2)\n",
      "change points mine (28, 2)\n",
      "\n",
      "n frame per seg gt (6,)\n",
      "n frame per seg mine (28,)\n",
      "\n",
      "picks gt (215,)\n",
      "picks mine (279,)\n",
      "\n",
      "n steps mine 279\n",
      "\n",
      "video 29 comparison\n",
      "features gt (145, 1024)\n",
      "features mine (192, 1024)\n",
      "\n",
      "gtscore gt (145,)\n",
      "gtscore mine (192,)\n",
      "\n",
      "video name mine v89\n",
      "user summary mine (5, 2878)\n",
      "\n",
      "n frames gt 2174\n",
      "n frames mine 2878\n",
      "\n",
      "change points gt (14, 2)\n",
      "change points mine (20, 2)\n",
      "\n",
      "n frame per seg gt (14,)\n",
      "n frame per seg mine (20,)\n",
      "\n",
      "picks gt (145,)\n",
      "picks mine (192,)\n",
      "\n",
      "n steps mine 192\n",
      "\n",
      "video 30 comparison\n",
      "features gt (153, 1024)\n",
      "features mine (358, 1024)\n",
      "\n",
      "gtscore gt (153,)\n",
      "gtscore mine (358,)\n",
      "\n",
      "video name mine v90\n",
      "user summary mine (5, 5370)\n",
      "\n",
      "n frames gt 2294\n",
      "n frames mine 5370\n",
      "\n",
      "change points gt (11, 2)\n",
      "change points mine (36, 2)\n",
      "\n",
      "n frame per seg gt (11,)\n",
      "n frame per seg mine (36,)\n",
      "\n",
      "picks gt (153,)\n",
      "picks mine (358,)\n",
      "\n",
      "n steps mine 358\n",
      "\n",
      "video 31 comparison\n",
      "features gt (355, 1024)\n",
      "features mine (203, 1024)\n",
      "\n",
      "gtscore gt (355,)\n",
      "gtscore mine (203,)\n",
      "\n",
      "video name mine v91\n",
      "user summary mine (5, 3041)\n",
      "\n",
      "n frames gt 5324\n",
      "n frames mine 3041\n",
      "\n",
      "change points gt (46, 2)\n",
      "change points mine (21, 2)\n",
      "\n",
      "n frame per seg gt (46,)\n",
      "n frame per seg mine (21,)\n",
      "\n",
      "picks gt (355,)\n",
      "picks mine (203,)\n",
      "\n",
      "n steps mine 203\n",
      "\n",
      "video 32 comparison\n",
      "features gt (391, 1024)\n",
      "features mine (218, 1024)\n",
      "\n",
      "gtscore gt (391,)\n",
      "gtscore mine (218,)\n",
      "\n",
      "video name mine v92\n",
      "user summary mine (5, 3266)\n",
      "\n",
      "n frames gt 5864\n",
      "n frames mine 3266\n",
      "\n",
      "change points gt (103, 2)\n",
      "change points mine (22, 2)\n",
      "\n",
      "n frame per seg gt (103,)\n",
      "n frame per seg mine (22,)\n",
      "\n",
      "picks gt (391,)\n",
      "picks mine (218,)\n",
      "\n",
      "n steps mine 218\n",
      "\n",
      "video 33 comparison\n",
      "features gt (553, 1024)\n",
      "features mine (49, 1024)\n",
      "\n",
      "gtscore gt (553,)\n",
      "gtscore mine (49,)\n",
      "\n",
      "video name mine v93\n",
      "user summary mine (5, 733)\n",
      "\n",
      "n frames gt 8294\n",
      "n frames mine 733\n",
      "\n",
      "change points gt (75, 2)\n",
      "change points mine (5, 2)\n",
      "\n",
      "n frame per seg gt (75,)\n",
      "n frame per seg mine (5,)\n",
      "\n",
      "picks gt (553,)\n",
      "picks mine (49,)\n",
      "\n",
      "n steps mine 49\n",
      "\n",
      "video 34 comparison\n",
      "features gt (561, 1024)\n",
      "features mine (661, 1024)\n",
      "\n",
      "gtscore gt (561,)\n",
      "gtscore mine (661,)\n",
      "\n",
      "video name mine v94\n",
      "user summary mine (5, 9910)\n",
      "\n",
      "n frames gt 8414\n",
      "n frames mine 9910\n",
      "\n",
      "change points gt (76, 2)\n",
      "change points mine (67, 2)\n",
      "\n",
      "n frame per seg gt (76,)\n",
      "n frame per seg mine (67,)\n",
      "\n",
      "picks gt (561,)\n",
      "picks mine (661,)\n",
      "\n",
      "n steps mine 661\n",
      "\n",
      "video 35 comparison\n",
      "features gt (286, 1024)\n",
      "features mine (300, 1024)\n",
      "\n",
      "gtscore gt (286,)\n",
      "gtscore mine (300,)\n",
      "\n",
      "video name mine v95\n",
      "user summary mine (5, 4492)\n",
      "\n",
      "n frames gt 4289\n",
      "n frames mine 4492\n",
      "\n",
      "change points gt (72, 2)\n",
      "change points mine (30, 2)\n",
      "\n",
      "n frame per seg gt (72,)\n",
      "n frame per seg mine (30,)\n",
      "\n",
      "picks gt (286,)\n",
      "picks mine (300,)\n",
      "\n",
      "n steps mine 300\n",
      "\n",
      "video 36 comparison\n",
      "features gt (414, 1024)\n",
      "features mine (19, 1024)\n",
      "\n",
      "gtscore gt (414,)\n",
      "gtscore mine (19,)\n",
      "\n",
      "video name mine v96\n",
      "user summary mine (5, 282)\n",
      "\n",
      "n frames gt 6209\n",
      "n frames mine 282\n",
      "\n",
      "change points gt (35, 2)\n",
      "change points mine (2, 2)\n",
      "\n",
      "n frame per seg gt (35,)\n",
      "n frame per seg mine (2,)\n",
      "\n",
      "picks gt (414,)\n",
      "picks mine (19,)\n",
      "\n",
      "n steps mine 19\n",
      "\n",
      "video 37 comparison\n",
      "features gt (80, 1024)\n",
      "features mine (860, 1024)\n",
      "\n",
      "gtscore gt (80,)\n",
      "gtscore mine (860,)\n",
      "\n",
      "video name mine v97\n",
      "user summary mine (5, 12890)\n",
      "\n",
      "n frames gt 1199\n",
      "n frames mine 12890\n",
      "\n",
      "change points gt (19, 2)\n",
      "change points mine (86, 2)\n",
      "\n",
      "n frame per seg gt (19,)\n",
      "n frame per seg mine (86,)\n",
      "\n",
      "picks gt (80,)\n",
      "picks mine (860,)\n",
      "\n",
      "n steps mine 860\n",
      "\n",
      "video 38 comparison\n",
      "features gt (60, 1024)\n",
      "features mine (273, 1024)\n",
      "\n",
      "gtscore gt (60,)\n",
      "gtscore mine (273,)\n",
      "\n",
      "video name mine v98\n",
      "user summary mine (5, 4095)\n",
      "\n",
      "n frames gt 899\n",
      "n frames mine 4095\n",
      "\n",
      "change points gt (4, 2)\n",
      "change points mine (28, 2)\n",
      "\n",
      "n frame per seg gt (4,)\n",
      "n frame per seg mine (28,)\n",
      "\n",
      "picks gt (60,)\n",
      "picks mine (273,)\n",
      "\n",
      "n steps mine 273\n",
      "\n",
      "video 39 comparison\n",
      "features gt (702, 1024)\n",
      "features mine (216, 1024)\n",
      "\n",
      "gtscore gt (702,)\n",
      "gtscore mine (216,)\n",
      "\n",
      "video name mine v99\n",
      "user summary mine (5, 3235)\n",
      "\n",
      "n frames gt 10529\n",
      "n frames mine 3235\n",
      "\n",
      "change points gt (32, 2)\n",
      "change points mine (22, 2)\n",
      "\n",
      "n frame per seg gt (32,)\n",
      "n frame per seg mine (22,)\n",
      "\n",
      "picks gt (702,)\n",
      "picks mine (216,)\n",
      "\n",
      "n steps mine 216\n",
      "\n"
     ]
    }
   ],
   "source": [
    "for i in range(0,39):\n",
    "    if i>10:\n",
    "        video_gt = data_all_yt[\"video_\" + str(i+12)]\n",
    "    else:    \n",
    "        video_gt = data_all_yt[\"video_\" + str(i+11)]\n",
    "    video_mine = data_all_yt_mine[\"video_\" + str(i+1)]\n",
    "    \n",
    "    perfect = True\n",
    "    \n",
    "    print(f'video {i+1} comparison')\n",
    "    if video_gt['features'][...].shape != video_mine['features'][...].shape:\n",
    "        perfect = False\n",
    "        print(\"features gt\", video_gt['features'][...].shape)\n",
    "        print(\"features mine\", video_mine['features'][...].shape)\n",
    "        print()\n",
    "        \n",
    "    if video_gt['gtscore'][...].shape != video_mine['gtscore'][...].shape:\n",
    "        perfect = False\n",
    "        print(\"gtscore gt\", video_gt['gtscore'][...].shape)\n",
    "        print(\"gtscore mine\", video_mine['gtscore'][...].shape)\n",
    "        print()\n",
    "        \n",
    "#     print(\"video name gt\", video_gt['video_name'][...])\n",
    "    print(\"video name mine\", video_mine['video_name'][...])\n",
    "    \n",
    "#     if video_gt['user_summary'][...].shape != video_mine['user_summary'][...].shape:\n",
    "#         perfect = False\n",
    "#     print(\"user summary gt\", video_gt['user_summary'][...].shape)\n",
    "    print(\"user summary mine\", video_mine['user_summary'][...].shape)\n",
    "    print()\n",
    "        \n",
    "    if video_gt['n_frames'][...] != video_mine['n_frames'][...]:\n",
    "        perfect = False\n",
    "        print(\"n frames gt\", video_gt['n_frames'][...])\n",
    "        print(\"n frames mine\", video_mine['n_frames'][...])\n",
    "        print()\n",
    "    if video_gt['change_points'][...].shape != video_mine['change_points'][...].shape:  \n",
    "        perfect = False\n",
    "        print(\"change points gt\", video_gt['change_points'][...].shape)\n",
    "        print(\"change points mine\", video_mine['change_points'][...].shape)\n",
    "        print()\n",
    "        \n",
    "    if video_gt['n_frame_per_seg'][...].shape != video_mine['n_frame_per_seg'][...].shape: \n",
    "        perfect = False\n",
    "        print(\"n frame per seg gt\", video_gt['n_frame_per_seg'][...].shape)\n",
    "        print(\"n frame per seg mine\", video_mine['n_frame_per_seg'][...].shape)\n",
    "        print()\n",
    "    \n",
    "    if video_gt['picks'][...].shape != video_mine['picks'][...].shape:\n",
    "        perfect = False\n",
    "        print(\"picks gt\", video_gt['picks'][...].shape)\n",
    "        print(\"picks mine\", video_mine['picks'][...].shape)\n",
    "        print()\n",
    "        \n",
    "#     if video_gt['n_steps'][...] != video_mine['n_steps'][...]:\n",
    "#         perfect = False\n",
    "#     print(\"n steps gt\", video_gt['n_steps'][...])\n",
    "    print(\"n steps mine\", video_mine['n_steps'][...])\n",
    "        \n",
    "    if perfect: \n",
    "        print(\"Everything is perfect\")\n",
    "    print()"
   ]
  },
  {
   "cell_type": "markdown",
   "metadata": {},
   "source": [
    "# Evaluating a random video"
   ]
  },
  {
   "cell_type": "code",
   "execution_count": 9,
   "metadata": {},
   "outputs": [],
   "source": [
    "#video 1\n",
    "i = 0\n",
    "video_gt = data_all_yt[\"video_\" + str(i+11)]\n",
    "video_mine = data_all_yt_mine[\"video_\" + str(i+1)]"
   ]
  },
  {
   "cell_type": "markdown",
   "metadata": {},
   "source": [
    "### Nombre"
   ]
  },
  {
   "cell_type": "code",
   "execution_count": 10,
   "metadata": {},
   "outputs": [
    {
     "name": "stdout",
     "output_type": "stream",
     "text": [
      "video name mine v100\n",
      "\n"
     ]
    }
   ],
   "source": [
    "# print(\"video name gt\", video_gt['video_name'][...])\n",
    "print(\"video name mine\", video_mine['video_name'][...])\n",
    "print()\n"
   ]
  },
  {
   "cell_type": "markdown",
   "metadata": {},
   "source": [
    "### Features"
   ]
  },
  {
   "cell_type": "code",
   "execution_count": 11,
   "metadata": {},
   "outputs": [
    {
     "name": "stdout",
     "output_type": "stream",
     "text": [
      "features gt (548, 1024)\n"
     ]
    },
    {
     "data": {
      "text/plain": [
       "array([[0.00480175, 0.00191541, 0.00144849, ..., 0.00059296, 0.        ,\n",
       "        0.        ],\n",
       "       [0.02278749, 0.        , 0.00032969, ..., 0.03141938, 0.        ,\n",
       "        0.01645034],\n",
       "       [0.00380519, 0.01080663, 0.01013621, ..., 0.00068079, 0.09338888,\n",
       "        0.00776942],\n",
       "       ...,\n",
       "       [0.00054534, 0.        , 0.02558603, ..., 0.00022958, 0.        ,\n",
       "        0.        ],\n",
       "       [0.00093175, 0.        , 0.02311102, ..., 0.        , 0.        ,\n",
       "        0.        ],\n",
       "       [0.        , 0.        , 0.02216335, ..., 0.        , 0.        ,\n",
       "        0.        ]])"
      ]
     },
     "execution_count": 11,
     "metadata": {},
     "output_type": "execute_result"
    }
   ],
   "source": [
    "print(\"features gt\", video_gt['features'][...].shape)\n",
    "video_gt['features'][...]"
   ]
  },
  {
   "cell_type": "code",
   "execution_count": 12,
   "metadata": {},
   "outputs": [
    {
     "name": "stdout",
     "output_type": "stream",
     "text": [
      "features mine (146, 1024)\n"
     ]
    },
    {
     "data": {
      "text/plain": [
       "array([[1.16738141, 0.39022049, 0.22681116, ..., 0.53215802, 0.20395179,\n",
       "        0.26799294],\n",
       "       [1.08243549, 0.37534344, 0.29622772, ..., 0.30814251, 0.04402435,\n",
       "        0.11919551],\n",
       "       [0.99558741, 0.39815995, 0.34530658, ..., 0.53375638, 0.21224354,\n",
       "        0.04542959],\n",
       "       ...,\n",
       "       [0.99729162, 0.20400564, 0.01791004, ..., 0.13528727, 0.37678674,\n",
       "        0.        ],\n",
       "       [1.04785776, 0.24927355, 0.06181312, ..., 0.07754877, 0.28842911,\n",
       "        0.        ],\n",
       "       [1.0213958 , 0.26427928, 0.02285194, ..., 0.08637314, 0.38502634,\n",
       "        0.        ]])"
      ]
     },
     "execution_count": 12,
     "metadata": {},
     "output_type": "execute_result"
    }
   ],
   "source": [
    "print(\"features mine\", video_mine['features'][...].shape)\n",
    "video_mine['features'][...]"
   ]
  },
  {
   "cell_type": "markdown",
   "metadata": {},
   "source": [
    "### GTScore"
   ]
  },
  {
   "cell_type": "code",
   "execution_count": 13,
   "metadata": {},
   "outputs": [
    {
     "name": "stdout",
     "output_type": "stream",
     "text": [
      "gtscore gt (548,)\n"
     ]
    },
    {
     "data": {
      "text/plain": [
       "array([0., 0., 0., 0., 1., 1., 1., 1., 1., 1., 0., 0., 0., 0., 0., 0., 0.,\n",
       "       0., 0., 0., 0., 0., 0., 0., 0., 0., 0., 0., 0., 1., 1., 1., 1., 1.,\n",
       "       1., 1., 0., 0., 0., 0., 0., 0., 0., 0., 0., 0., 0., 0., 0., 0., 0.,\n",
       "       1., 1., 1., 1., 1., 1., 1., 1., 0., 0., 0., 0., 0., 0., 0., 0., 0.,\n",
       "       0., 0., 0., 0., 0., 0., 0., 0., 0., 0., 0., 0., 0., 0., 0., 0., 0.,\n",
       "       0., 0., 1., 1., 1., 1., 1., 1., 1., 1., 1., 0., 0., 0., 0., 0., 0.,\n",
       "       0., 0., 0., 0., 0., 1., 1., 1., 1., 1., 1., 1., 1., 1., 1., 1., 1.,\n",
       "       1., 1., 1., 1., 1., 1., 1., 0., 0., 0., 0., 0., 0., 0., 0., 0., 0.,\n",
       "       0., 0., 0., 1., 1., 1., 0., 0., 0., 0., 0., 0., 0., 0., 0., 0., 0.,\n",
       "       0., 0., 0., 0., 0., 0., 0., 0., 0., 0., 0., 0., 0., 0., 0., 0., 0.,\n",
       "       0., 0., 1., 1., 1., 1., 1., 1., 1., 1., 1., 1., 1., 0., 0., 0., 0.,\n",
       "       0., 0., 0., 0., 0., 0., 0., 0., 0., 0., 0., 1., 1., 1., 1., 1., 1.,\n",
       "       0., 0., 0., 0., 0., 0., 0., 0., 0., 0., 0., 0., 0., 0., 0., 0., 0.,\n",
       "       0., 0., 0., 0., 0., 0., 0., 0., 0., 0., 0., 0., 0., 0., 0., 0., 0.,\n",
       "       0., 0., 0., 0., 0., 0., 0., 0., 0., 0., 0., 0., 0., 0., 0., 0., 0.,\n",
       "       0., 0., 0., 0., 0., 0., 1., 1., 1., 1., 1., 1., 1., 1., 1., 1., 1.,\n",
       "       1., 1., 0., 0., 0., 0., 0., 0., 0., 0., 0., 0., 0., 0., 0., 0., 0.,\n",
       "       0., 0., 0., 0., 0., 0., 0., 0., 0., 0., 0., 0., 0., 0., 0., 0., 0.,\n",
       "       0., 0., 0., 0., 0., 0., 0., 0., 0., 0., 0., 0., 0., 0., 0., 0., 0.,\n",
       "       0., 0., 0., 0., 0., 0., 0., 0., 0., 0., 0., 0., 0., 0., 0., 0., 0.,\n",
       "       0., 0., 0., 0., 0., 0., 0., 0., 0., 0., 0., 0., 0., 0., 0., 0., 0.,\n",
       "       0., 0., 0., 0., 0., 0., 0., 0., 0., 0., 0., 0., 0., 1., 1., 1., 1.,\n",
       "       1., 1., 1., 1., 1., 1., 0., 0., 0., 0., 0., 0., 0., 0., 0., 0., 0.,\n",
       "       0., 0., 0., 0., 0., 0., 0., 0., 0., 0., 0., 0., 0., 0., 0., 0., 0.,\n",
       "       0., 0., 0., 0., 0., 0., 0., 0., 0., 0., 0., 0., 0., 0., 0., 0., 0.,\n",
       "       0., 0., 0., 0., 0., 0., 0., 0., 0., 0., 0., 0., 0., 0., 0., 0., 0.,\n",
       "       0., 0., 0., 0., 1., 1., 1., 1., 0., 0., 0., 0., 1., 1., 1., 0., 0.,\n",
       "       0., 0., 0., 0., 0., 0., 0., 0., 0., 0., 0., 0., 0., 0., 0., 1., 1.,\n",
       "       1., 0., 0., 0., 0., 0., 0., 1., 1., 1., 1., 1., 1., 0., 0., 0., 0.,\n",
       "       0., 0., 0., 0., 0., 1., 1., 1., 1., 1., 0., 0., 0., 0., 0., 0., 0.,\n",
       "       0., 0., 0., 0., 0., 0., 0., 0., 0., 0., 0., 0., 0., 0., 0., 0., 0.,\n",
       "       0., 0., 1., 1., 1., 1., 0., 0., 0., 0., 0., 0., 0., 0., 0., 0., 0.,\n",
       "       0., 0., 0., 0.])"
      ]
     },
     "execution_count": 13,
     "metadata": {},
     "output_type": "execute_result"
    }
   ],
   "source": [
    "print(\"gtscore gt\", video_gt['gtscore'][...].shape)\n",
    "video_gt['gtscore'][...]"
   ]
  },
  {
   "cell_type": "code",
   "execution_count": 14,
   "metadata": {},
   "outputs": [
    {
     "name": "stdout",
     "output_type": "stream",
     "text": [
      "gtscore mine (146,)\n"
     ]
    },
    {
     "data": {
      "text/plain": [
       "array([1.        , 1.        , 1.        , 1.        , 1.        ,\n",
       "       1.        , 1.        , 1.        , 1.        , 1.        ,\n",
       "       1.        , 1.        , 1.        , 1.        , 1.        ,\n",
       "       1.        , 1.        , 1.        , 1.        , 1.        ,\n",
       "       1.        , 1.        , 1.        , 1.        , 1.        ,\n",
       "       0.80000001, 0.80000001, 0.80000001, 0.80000001, 0.80000001,\n",
       "       0.80000001, 0.80000001, 0.80000001, 0.        , 0.        ,\n",
       "       0.        , 0.        , 0.        , 0.        , 0.        ,\n",
       "       0.        , 0.        , 0.        , 0.        , 0.2       ,\n",
       "       0.2       , 0.2       , 0.2       , 0.2       , 0.2       ,\n",
       "       0.2       , 0.2       , 0.40000001, 0.40000001, 0.40000001,\n",
       "       0.40000001, 0.40000001, 0.40000001, 0.40000001, 0.40000001,\n",
       "       0.40000001, 0.40000001, 0.        , 0.        , 0.        ,\n",
       "       0.        , 0.        , 0.        , 0.2       , 0.2       ,\n",
       "       0.2       , 0.2       , 0.2       , 0.2       , 0.2       ,\n",
       "       0.2       , 0.2       , 0.2       , 0.        , 0.        ,\n",
       "       0.        , 0.        , 0.        , 0.        , 0.        ,\n",
       "       0.        , 0.2       , 0.2       , 0.2       , 0.2       ,\n",
       "       0.2       , 0.2       , 0.2       , 0.2       , 1.        ,\n",
       "       1.        , 1.        , 1.        , 0.60000002, 0.60000002,\n",
       "       0.60000002, 0.60000002, 0.        , 0.        , 0.        ,\n",
       "       0.        , 0.2       , 0.2       , 0.40000001, 0.40000001,\n",
       "       0.40000001, 0.40000001, 0.40000001, 0.40000001, 0.60000002,\n",
       "       0.60000002, 0.60000002, 0.60000002, 0.60000002, 0.60000002,\n",
       "       0.60000002, 0.        , 0.        , 0.        , 0.        ,\n",
       "       0.        , 0.        , 0.        , 0.        , 0.        ,\n",
       "       0.        , 0.        , 0.        , 0.        , 0.        ,\n",
       "       0.        , 0.        , 0.        , 0.        , 0.        ,\n",
       "       0.        , 0.        , 0.        , 0.        , 0.        ,\n",
       "       0.        ])"
      ]
     },
     "execution_count": 14,
     "metadata": {},
     "output_type": "execute_result"
    }
   ],
   "source": [
    "print(\"gtscore mine\", video_mine['gtscore'][...].shape)\n",
    "video_mine['gtscore'][...]"
   ]
  },
  {
   "cell_type": "markdown",
   "metadata": {},
   "source": [
    "### User summary"
   ]
  },
  {
   "cell_type": "code",
   "execution_count": 15,
   "metadata": {},
   "outputs": [],
   "source": [
    "# print(\"user summary gt\", video_gt['user_summary'][...].shape)\n",
    "# video_gt['user_summary'][...]"
   ]
  },
  {
   "cell_type": "code",
   "execution_count": 16,
   "metadata": {},
   "outputs": [
    {
     "name": "stdout",
     "output_type": "stream",
     "text": [
      "user summary mine (5, 2180)\n"
     ]
    },
    {
     "data": {
      "text/plain": [
       "array([[1., 1., 1., ..., 0., 0., 0.],\n",
       "       [1., 1., 1., ..., 0., 0., 0.],\n",
       "       [1., 1., 1., ..., 0., 0., 0.],\n",
       "       [1., 1., 1., ..., 0., 0., 0.],\n",
       "       [1., 1., 1., ..., 0., 0., 0.]])"
      ]
     },
     "execution_count": 16,
     "metadata": {},
     "output_type": "execute_result"
    }
   ],
   "source": [
    "print(\"user summary mine\", video_mine['user_summary'][...].shape)\n",
    "video_mine['user_summary'][...]"
   ]
  },
  {
   "cell_type": "code",
   "execution_count": 17,
   "metadata": {},
   "outputs": [
    {
     "data": {
      "text/plain": [
       "750.0"
      ]
     },
     "execution_count": 17,
     "metadata": {},
     "output_type": "execute_result"
    }
   ],
   "source": [
    "video_mine['user_summary'][...][0].sum()"
   ]
  },
  {
   "cell_type": "code",
   "execution_count": 18,
   "metadata": {},
   "outputs": [
    {
     "data": {
      "text/plain": [
       "870.0"
      ]
     },
     "execution_count": 18,
     "metadata": {},
     "output_type": "execute_result"
    }
   ],
   "source": [
    "video_mine['user_summary'][...][1].sum()"
   ]
  },
  {
   "cell_type": "code",
   "execution_count": 19,
   "metadata": {},
   "outputs": [
    {
     "data": {
      "text/plain": [
       "915.0"
      ]
     },
     "execution_count": 19,
     "metadata": {},
     "output_type": "execute_result"
    }
   ],
   "source": [
    "video_mine['user_summary'][...][2].sum()"
   ]
  },
  {
   "cell_type": "markdown",
   "metadata": {},
   "source": [
    "### N frames"
   ]
  },
  {
   "cell_type": "code",
   "execution_count": 20,
   "metadata": {},
   "outputs": [
    {
     "name": "stdout",
     "output_type": "stream",
     "text": [
      "n frames gt 8219\n"
     ]
    }
   ],
   "source": [
    "print(\"n frames gt\", video_gt['n_frames'][...])"
   ]
  },
  {
   "cell_type": "code",
   "execution_count": 21,
   "metadata": {},
   "outputs": [
    {
     "name": "stdout",
     "output_type": "stream",
     "text": [
      "n frames mine 2180\n"
     ]
    }
   ],
   "source": [
    "print(\"n frames mine\", video_mine['n_frames'][...])"
   ]
  },
  {
   "cell_type": "markdown",
   "metadata": {},
   "source": [
    "### Change points"
   ]
  },
  {
   "cell_type": "code",
   "execution_count": 22,
   "metadata": {},
   "outputs": [
    {
     "name": "stdout",
     "output_type": "stream",
     "text": [
      "change points gt (52, 2)\n"
     ]
    },
    {
     "data": {
      "text/plain": [
       "array([[   0,  149],\n",
       "       [ 150,  239],\n",
       "       [ 240,  764],\n",
       "       [ 765,  884],\n",
       "       [ 885,  959],\n",
       "       [ 960, 1019],\n",
       "       [1020, 1229],\n",
       "       [1230, 1439],\n",
       "       [1440, 1529],\n",
       "       [1530, 1769],\n",
       "       [1770, 1889],\n",
       "       [1890, 2129],\n",
       "       [2130, 2219],\n",
       "       [2220, 2414],\n",
       "       [2415, 2444],\n",
       "       [2445, 2579],\n",
       "       [2580, 2744],\n",
       "       [2745, 2789],\n",
       "       [2790, 3179],\n",
       "       [3180, 3329],\n",
       "       [3330, 3419],\n",
       "       [3420, 3614],\n",
       "       [3615, 3764],\n",
       "       [3765, 3899],\n",
       "       [3900, 4109],\n",
       "       [4110, 4634],\n",
       "       [4635, 4829],\n",
       "       [4830, 4934],\n",
       "       [4935, 5069],\n",
       "       [5070, 5174],\n",
       "       [5175, 5279],\n",
       "       [5280, 5384],\n",
       "       [5385, 5549],\n",
       "       [5550, 5684],\n",
       "       [5685, 5774],\n",
       "       [5775, 5879],\n",
       "       [5880, 6029],\n",
       "       [6030, 6299],\n",
       "       [6300, 6569],\n",
       "       [6570, 6749],\n",
       "       [6750, 6809],\n",
       "       [6810, 6944],\n",
       "       [6945, 7034],\n",
       "       [7035, 7244],\n",
       "       [7245, 7334],\n",
       "       [7335, 7544],\n",
       "       [7545, 7619],\n",
       "       [7620, 7844],\n",
       "       [7845, 7949],\n",
       "       [7950, 8084],\n",
       "       [8085, 8159],\n",
       "       [8160, 8218]])"
      ]
     },
     "execution_count": 22,
     "metadata": {},
     "output_type": "execute_result"
    }
   ],
   "source": [
    "print(\"change points gt\", video_gt['change_points'][...].shape)\n",
    "video_gt['change_points'][...]"
   ]
  },
  {
   "cell_type": "code",
   "execution_count": 23,
   "metadata": {},
   "outputs": [
    {
     "name": "stdout",
     "output_type": "stream",
     "text": [
      "change points mine (15, 2)\n"
     ]
    },
    {
     "data": {
      "text/plain": [
       "array([[   0,  374],\n",
       "       [ 375,  494],\n",
       "       [ 495,  554],\n",
       "       [ 555,  614],\n",
       "       [ 615,  779],\n",
       "       [ 780, 1019],\n",
       "       [1020, 1169],\n",
       "       [1170, 1289],\n",
       "       [1290, 1409],\n",
       "       [1410, 1469],\n",
       "       [1470, 1529],\n",
       "       [1530, 1589],\n",
       "       [1590, 1709],\n",
       "       [1710, 1814],\n",
       "       [1815, 2179]])"
      ]
     },
     "execution_count": 23,
     "metadata": {},
     "output_type": "execute_result"
    }
   ],
   "source": [
    "print(\"change points mine\", video_mine['change_points'][...].shape)\n",
    "video_mine['change_points'][...]"
   ]
  },
  {
   "cell_type": "markdown",
   "metadata": {},
   "source": [
    "### N frames por segmenot"
   ]
  },
  {
   "cell_type": "code",
   "execution_count": 24,
   "metadata": {},
   "outputs": [
    {
     "name": "stdout",
     "output_type": "stream",
     "text": [
      "n frame per seg gt (52,)\n"
     ]
    },
    {
     "data": {
      "text/plain": [
       "array([150,  90, 525, 120,  75,  60, 210, 210,  90, 240, 120, 240,  90,\n",
       "       195,  30, 135, 165,  45, 390, 150,  90, 195, 150, 135, 210, 525,\n",
       "       195, 105, 135, 105, 105, 105, 165, 135,  90, 105, 150, 270, 270,\n",
       "       180,  60, 135,  90, 210,  90, 210,  75, 225, 105, 135,  75,  59])"
      ]
     },
     "execution_count": 24,
     "metadata": {},
     "output_type": "execute_result"
    }
   ],
   "source": [
    "print(\"n frame per seg gt\", video_gt['n_frame_per_seg'][...].shape)\n",
    "video_gt['n_frame_per_seg'][...]"
   ]
  },
  {
   "cell_type": "code",
   "execution_count": 25,
   "metadata": {},
   "outputs": [
    {
     "name": "stdout",
     "output_type": "stream",
     "text": [
      "n frame per seg mine (15,)\n"
     ]
    },
    {
     "data": {
      "text/plain": [
       "array([375, 120,  60,  60, 165, 240, 150, 120, 120,  60,  60,  60, 120,\n",
       "       105, 365])"
      ]
     },
     "execution_count": 25,
     "metadata": {},
     "output_type": "execute_result"
    }
   ],
   "source": [
    "print(\"n frame per seg mine\", video_mine['n_frame_per_seg'][...].shape)\n",
    "video_mine['n_frame_per_seg'][...]"
   ]
  },
  {
   "cell_type": "markdown",
   "metadata": {},
   "source": [
    "### Picks"
   ]
  },
  {
   "cell_type": "code",
   "execution_count": 26,
   "metadata": {},
   "outputs": [
    {
     "name": "stdout",
     "output_type": "stream",
     "text": [
      "picks gt (548,)\n"
     ]
    },
    {
     "data": {
      "text/plain": [
       "array([   0,   15,   30,   45,   60,   75,   90,  105,  120,  135,  150,\n",
       "        165,  180,  195,  210,  225,  240,  255,  270,  285,  300,  315,\n",
       "        330,  345,  360,  375,  390,  405,  420,  435,  450,  465,  480,\n",
       "        495,  510,  525,  540,  555,  570,  585,  600,  615,  630,  645,\n",
       "        660,  675,  690,  705,  720,  735,  750,  765,  780,  795,  810,\n",
       "        825,  840,  855,  870,  885,  900,  915,  930,  945,  960,  975,\n",
       "        990, 1005, 1020, 1035, 1050, 1065, 1080, 1095, 1110, 1125, 1140,\n",
       "       1155, 1170, 1185, 1200, 1215, 1230, 1245, 1260, 1275, 1290, 1305,\n",
       "       1320, 1335, 1350, 1365, 1380, 1395, 1410, 1425, 1440, 1455, 1470,\n",
       "       1485, 1500, 1515, 1530, 1545, 1560, 1575, 1590, 1605, 1620, 1635,\n",
       "       1650, 1665, 1680, 1695, 1710, 1725, 1740, 1755, 1770, 1785, 1800,\n",
       "       1815, 1830, 1845, 1860, 1875, 1890, 1905, 1920, 1935, 1950, 1965,\n",
       "       1980, 1995, 2010, 2025, 2040, 2055, 2070, 2085, 2100, 2115, 2130,\n",
       "       2145, 2160, 2175, 2190, 2205, 2220, 2235, 2250, 2265, 2280, 2295,\n",
       "       2310, 2325, 2340, 2355, 2370, 2385, 2400, 2415, 2430, 2445, 2460,\n",
       "       2475, 2490, 2505, 2520, 2535, 2550, 2565, 2580, 2595, 2610, 2625,\n",
       "       2640, 2655, 2670, 2685, 2700, 2715, 2730, 2745, 2760, 2775, 2790,\n",
       "       2805, 2820, 2835, 2850, 2865, 2880, 2895, 2910, 2925, 2940, 2955,\n",
       "       2970, 2985, 3000, 3015, 3030, 3045, 3060, 3075, 3090, 3105, 3120,\n",
       "       3135, 3150, 3165, 3180, 3195, 3210, 3225, 3240, 3255, 3270, 3285,\n",
       "       3300, 3315, 3330, 3345, 3360, 3375, 3390, 3405, 3420, 3435, 3450,\n",
       "       3465, 3480, 3495, 3510, 3525, 3540, 3555, 3570, 3585, 3600, 3615,\n",
       "       3630, 3645, 3660, 3675, 3690, 3705, 3720, 3735, 3750, 3765, 3780,\n",
       "       3795, 3810, 3825, 3840, 3855, 3870, 3885, 3900, 3915, 3930, 3945,\n",
       "       3960, 3975, 3990, 4005, 4020, 4035, 4050, 4065, 4080, 4095, 4110,\n",
       "       4125, 4140, 4155, 4170, 4185, 4200, 4215, 4230, 4245, 4260, 4275,\n",
       "       4290, 4305, 4320, 4335, 4350, 4365, 4380, 4395, 4410, 4425, 4440,\n",
       "       4455, 4470, 4485, 4500, 4515, 4530, 4545, 4560, 4575, 4590, 4605,\n",
       "       4620, 4635, 4650, 4665, 4680, 4695, 4710, 4725, 4740, 4755, 4770,\n",
       "       4785, 4800, 4815, 4830, 4845, 4860, 4875, 4890, 4905, 4920, 4935,\n",
       "       4950, 4965, 4980, 4995, 5010, 5025, 5040, 5055, 5070, 5085, 5100,\n",
       "       5115, 5130, 5145, 5160, 5175, 5190, 5205, 5220, 5235, 5250, 5265,\n",
       "       5280, 5295, 5310, 5325, 5340, 5355, 5370, 5385, 5400, 5415, 5430,\n",
       "       5445, 5460, 5475, 5490, 5505, 5520, 5535, 5550, 5565, 5580, 5595,\n",
       "       5610, 5625, 5640, 5655, 5670, 5685, 5700, 5715, 5730, 5745, 5760,\n",
       "       5775, 5790, 5805, 5820, 5835, 5850, 5865, 5880, 5895, 5910, 5925,\n",
       "       5940, 5955, 5970, 5985, 6000, 6015, 6030, 6045, 6060, 6075, 6090,\n",
       "       6105, 6120, 6135, 6150, 6165, 6180, 6195, 6210, 6225, 6240, 6255,\n",
       "       6270, 6285, 6300, 6315, 6330, 6345, 6360, 6375, 6390, 6405, 6420,\n",
       "       6435, 6450, 6465, 6480, 6495, 6510, 6525, 6540, 6555, 6570, 6585,\n",
       "       6600, 6615, 6630, 6645, 6660, 6675, 6690, 6705, 6720, 6735, 6750,\n",
       "       6765, 6780, 6795, 6810, 6825, 6840, 6855, 6870, 6885, 6900, 6915,\n",
       "       6930, 6945, 6960, 6975, 6990, 7005, 7020, 7035, 7050, 7065, 7080,\n",
       "       7095, 7110, 7125, 7140, 7155, 7170, 7185, 7200, 7215, 7230, 7245,\n",
       "       7260, 7275, 7290, 7305, 7320, 7335, 7350, 7365, 7380, 7395, 7410,\n",
       "       7425, 7440, 7455, 7470, 7485, 7500, 7515, 7530, 7545, 7560, 7575,\n",
       "       7590, 7605, 7620, 7635, 7650, 7665, 7680, 7695, 7710, 7725, 7740,\n",
       "       7755, 7770, 7785, 7800, 7815, 7830, 7845, 7860, 7875, 7890, 7905,\n",
       "       7920, 7935, 7950, 7965, 7980, 7995, 8010, 8025, 8040, 8055, 8070,\n",
       "       8085, 8100, 8115, 8130, 8145, 8160, 8175, 8190, 8205])"
      ]
     },
     "execution_count": 26,
     "metadata": {},
     "output_type": "execute_result"
    }
   ],
   "source": [
    "print(\"picks gt\", video_gt['picks'][...].shape)\n",
    "video_gt['picks'][...]"
   ]
  },
  {
   "cell_type": "code",
   "execution_count": 27,
   "metadata": {},
   "outputs": [
    {
     "name": "stdout",
     "output_type": "stream",
     "text": [
      "picks mine (146,)\n"
     ]
    },
    {
     "data": {
      "text/plain": [
       "array([   0,   15,   30,   45,   60,   75,   90,  105,  120,  135,  150,\n",
       "        165,  180,  195,  210,  225,  240,  255,  270,  285,  300,  315,\n",
       "        330,  345,  360,  375,  390,  405,  420,  435,  450,  465,  480,\n",
       "        495,  510,  525,  540,  555,  570,  585,  600,  615,  630,  645,\n",
       "        660,  675,  690,  705,  720,  735,  750,  765,  780,  795,  810,\n",
       "        825,  840,  855,  870,  885,  900,  915,  930,  945,  960,  975,\n",
       "        990, 1005, 1020, 1035, 1050, 1065, 1080, 1095, 1110, 1125, 1140,\n",
       "       1155, 1170, 1185, 1200, 1215, 1230, 1245, 1260, 1275, 1290, 1305,\n",
       "       1320, 1335, 1350, 1365, 1380, 1395, 1410, 1425, 1440, 1455, 1470,\n",
       "       1485, 1500, 1515, 1530, 1545, 1560, 1575, 1590, 1605, 1620, 1635,\n",
       "       1650, 1665, 1680, 1695, 1710, 1725, 1740, 1755, 1770, 1785, 1800,\n",
       "       1815, 1830, 1845, 1860, 1875, 1890, 1905, 1920, 1935, 1950, 1965,\n",
       "       1980, 1995, 2010, 2025, 2040, 2055, 2070, 2085, 2100, 2115, 2130,\n",
       "       2145, 2160, 2175])"
      ]
     },
     "execution_count": 27,
     "metadata": {},
     "output_type": "execute_result"
    }
   ],
   "source": [
    "print(\"picks mine\", video_mine['picks'][...].shape)\n",
    "video_mine['picks'][...]"
   ]
  },
  {
   "cell_type": "markdown",
   "metadata": {},
   "source": [
    "### Steps"
   ]
  },
  {
   "cell_type": "code",
   "execution_count": 28,
   "metadata": {},
   "outputs": [],
   "source": [
    "# print(\"n steps gt\", video_gt['n_steps'][...])\n",
    "# video_gt['n_steps'][...]"
   ]
  },
  {
   "cell_type": "code",
   "execution_count": 29,
   "metadata": {},
   "outputs": [
    {
     "name": "stdout",
     "output_type": "stream",
     "text": [
      "n steps mine 146\n"
     ]
    },
    {
     "data": {
      "text/plain": [
       "array(146)"
      ]
     },
     "execution_count": 29,
     "metadata": {},
     "output_type": "execute_result"
    }
   ],
   "source": [
    "print(\"n steps mine\", video_mine['n_steps'][...])\n",
    "video_mine['n_steps'][...]"
   ]
  },
  {
   "cell_type": "code",
   "execution_count": null,
   "metadata": {},
   "outputs": [],
   "source": []
  },
  {
   "cell_type": "markdown",
   "metadata": {},
   "source": [
    "### Features rn"
   ]
  },
  {
   "cell_type": "code",
   "execution_count": 30,
   "metadata": {},
   "outputs": [
    {
     "name": "stdout",
     "output_type": "stream",
     "text": [
      "features_rn (146, 2048)\n"
     ]
    },
    {
     "data": {
      "text/plain": [
       "array([[0.71511531, 0.06485288, 0.0638896 , ..., 0.95469522, 0.56251174,\n",
       "        0.57087553],\n",
       "       [0.69789821, 0.06702434, 0.06371719, ..., 1.10917819, 0.32317865,\n",
       "        0.75849539],\n",
       "       [0.78254682, 0.08371394, 0.07986345, ..., 1.14244437, 0.66674906,\n",
       "        0.83435261],\n",
       "       ...,\n",
       "       [0.51331532, 0.04980703, 0.06310081, ..., 0.75368077, 0.2542994 ,\n",
       "        0.50618345],\n",
       "       [0.34196192, 0.07306229, 0.06567524, ..., 0.87150711, 0.29610679,\n",
       "        0.51421213],\n",
       "       [0.31442273, 0.04319201, 0.06076743, ..., 0.8455199 , 0.3720665 ,\n",
       "        0.55019629]])"
      ]
     },
     "execution_count": 30,
     "metadata": {},
     "output_type": "execute_result"
    }
   ],
   "source": [
    "print(\"features_rn\", video_mine['features_rn'][...].shape)\n",
    "video_mine['features_rn'][...]"
   ]
  },
  {
   "cell_type": "markdown",
   "metadata": {},
   "source": [
    "### Features iv3"
   ]
  },
  {
   "cell_type": "code",
   "execution_count": 31,
   "metadata": {},
   "outputs": [
    {
     "name": "stdout",
     "output_type": "stream",
     "text": [
      "features_iv3 (146, 2048)\n"
     ]
    },
    {
     "data": {
      "text/plain": [
       "array([[3.98206353e-01, 2.00700939e-01, 1.84082240e-01, ...,\n",
       "        3.98107022e-02, 6.65887296e-02, 2.85191298e-01],\n",
       "       [3.52928996e-01, 1.78393945e-01, 2.83144414e-01, ...,\n",
       "        5.55645823e-02, 6.18357956e-02, 2.45385945e-01],\n",
       "       [3.64014030e-01, 3.06907594e-01, 2.65186697e-01, ...,\n",
       "        1.12055697e-01, 8.84462520e-02, 2.34728441e-01],\n",
       "       ...,\n",
       "       [1.20676674e-01, 2.20875800e-01, 2.99868695e-02, ...,\n",
       "        1.35919917e-02, 5.48151834e-03, 9.47642028e-02],\n",
       "       [1.29023135e-01, 2.17791170e-01, 2.57652774e-02, ...,\n",
       "        2.04700567e-02, 3.12129239e-04, 5.66731542e-02],\n",
       "       [1.90694690e-01, 1.51397184e-01, 6.90476149e-02, ...,\n",
       "        2.79050656e-02, 1.95663385e-02, 1.23461075e-01]])"
      ]
     },
     "execution_count": 31,
     "metadata": {},
     "output_type": "execute_result"
    }
   ],
   "source": [
    "print(\"features_iv3\", video_mine['features_iv3'][...].shape)\n",
    "video_mine['features_iv3'][...]"
   ]
  },
  {
   "cell_type": "markdown",
   "metadata": {},
   "source": [
    "### Features RGB"
   ]
  },
  {
   "cell_type": "code",
   "execution_count": 32,
   "metadata": {},
   "outputs": [
    {
     "name": "stdout",
     "output_type": "stream",
     "text": [
      "features_rgb (130, 1024)\n"
     ]
    },
    {
     "data": {
      "text/plain": [
       "array([[1.02239144, 0.09475365, 0.36987996, ..., 0.14193138, 0.91781342,\n",
       "        0.43479955],\n",
       "       [0.99051893, 0.1071737 , 0.44474044, ..., 0.18935044, 0.97954434,\n",
       "        0.22186629],\n",
       "       [1.00843334, 0.08791192, 0.46448237, ..., 0.14466675, 0.82539284,\n",
       "        0.26764905],\n",
       "       ...,\n",
       "       [0.26584738, 0.1072012 , 0.21930064, ..., 0.12632759, 0.62150794,\n",
       "        0.50906628],\n",
       "       [0.28775185, 0.12233169, 0.1931383 , ..., 0.24250858, 0.57057983,\n",
       "        0.49617204],\n",
       "       [0.36067691, 0.12579411, 0.20414454, ..., 0.12504935, 0.62676823,\n",
       "        0.35383326]])"
      ]
     },
     "execution_count": 32,
     "metadata": {},
     "output_type": "execute_result"
    }
   ],
   "source": [
    "print(\"features_rgb\", video_mine['features_rgb'][...].shape)\n",
    "video_mine['features_rgb'][...]"
   ]
  },
  {
   "cell_type": "markdown",
   "metadata": {},
   "source": [
    "### Features flow"
   ]
  },
  {
   "cell_type": "code",
   "execution_count": 33,
   "metadata": {},
   "outputs": [
    {
     "name": "stdout",
     "output_type": "stream",
     "text": [
      "features_flow (129, 1024)\n"
     ]
    },
    {
     "data": {
      "text/plain": [
       "array([[1.40366983e-02, 0.00000000e+00, 1.39358625e-01, ...,\n",
       "        0.00000000e+00, 8.99738744e-02, 0.00000000e+00],\n",
       "       [1.61132179e-02, 0.00000000e+00, 1.39573723e-01, ...,\n",
       "        2.60744267e-03, 4.26568240e-02, 0.00000000e+00],\n",
       "       [1.38228899e-02, 0.00000000e+00, 1.33573949e-01, ...,\n",
       "        1.20662933e-03, 7.09191896e-03, 0.00000000e+00],\n",
       "       ...,\n",
       "       [2.60481611e-02, 0.00000000e+00, 1.93053052e-01, ...,\n",
       "        1.15041225e-03, 1.16451256e-01, 7.65278563e-03],\n",
       "       [2.80995108e-02, 0.00000000e+00, 1.95912302e-01, ...,\n",
       "        1.68760045e-04, 1.01454854e-01, 0.00000000e+00],\n",
       "       [1.83466654e-02, 0.00000000e+00, 2.09819525e-01, ...,\n",
       "        9.94437374e-04, 8.57571512e-02, 0.00000000e+00]])"
      ]
     },
     "execution_count": 33,
     "metadata": {},
     "output_type": "execute_result"
    }
   ],
   "source": [
    "print(\"features_flow\", video_mine['features_flow'][...].shape)\n",
    "video_mine['features_flow'][...]"
   ]
  },
  {
   "cell_type": "markdown",
   "metadata": {},
   "source": [
    "### Features 3D"
   ]
  },
  {
   "cell_type": "code",
   "execution_count": 34,
   "metadata": {},
   "outputs": [
    {
     "name": "stdout",
     "output_type": "stream",
     "text": [
      "features_3D (130, 2048)\n"
     ]
    },
    {
     "data": {
      "text/plain": [
       "array([[2.00838232, 0.18817014, 1.08919621, ..., 0.55932772, 0.25873041,\n",
       "        0.40661752],\n",
       "       [2.11291337, 0.18926652, 1.0041064 , ..., 0.55506998, 0.26807085,\n",
       "        0.47319746],\n",
       "       [2.24388933, 0.19824626, 1.0175283 , ..., 0.66117221, 0.23947836,\n",
       "        0.53313738],\n",
       "       ...,\n",
       "       [2.34460402, 1.21669078, 1.27231264, ..., 0.63521028, 0.12973116,\n",
       "        0.06679551],\n",
       "       [2.10488081, 1.00556982, 1.19270277, ..., 0.58880442, 0.10537085,\n",
       "        0.08183762],\n",
       "       [2.07699704, 0.98862058, 0.99974483, ..., 0.58996546, 0.1587577 ,\n",
       "        0.23049015]])"
      ]
     },
     "execution_count": 34,
     "metadata": {},
     "output_type": "execute_result"
    }
   ],
   "source": [
    "print(\"features_3D\", video_mine['features_3D'][...].shape)\n",
    "video_mine['features_3D'][...]"
   ]
  },
  {
   "cell_type": "code",
   "execution_count": null,
   "metadata": {},
   "outputs": [],
   "source": []
  },
  {
   "cell_type": "code",
   "execution_count": null,
   "metadata": {},
   "outputs": [],
   "source": []
  },
  {
   "cell_type": "code",
   "execution_count": null,
   "metadata": {},
   "outputs": [],
   "source": []
  },
  {
   "cell_type": "code",
   "execution_count": null,
   "metadata": {},
   "outputs": [],
   "source": []
  },
  {
   "cell_type": "code",
   "execution_count": null,
   "metadata": {},
   "outputs": [],
   "source": []
  },
  {
   "cell_type": "code",
   "execution_count": null,
   "metadata": {},
   "outputs": [],
   "source": []
  },
  {
   "cell_type": "markdown",
   "metadata": {},
   "source": [
    "SumMe: video name is stored in video_i/video_name.\n",
    "TVSum: video1-50 corresponds to the same order in ydata-tvsum50.mat, which is the original matlab file provided by TVSum."
   ]
  },
  {
   "cell_type": "code",
   "execution_count": 29,
   "metadata": {},
   "outputs": [],
   "source": [
    "#segmentos de 4.5 seg en promedio"
   ]
  },
  {
   "cell_type": "code",
   "execution_count": 30,
   "metadata": {},
   "outputs": [
    {
     "data": {
      "text/plain": [
       "135.0"
      ]
     },
     "execution_count": 30,
     "metadata": {},
     "output_type": "execute_result"
    }
   ],
   "source": [
    "4.5*30"
   ]
  },
  {
   "cell_type": "code",
   "execution_count": null,
   "metadata": {},
   "outputs": [],
   "source": []
  },
  {
   "cell_type": "code",
   "execution_count": 21,
   "metadata": {},
   "outputs": [],
   "source": [
    "import numpy as np"
   ]
  },
  {
   "cell_type": "code",
   "execution_count": 22,
   "metadata": {},
   "outputs": [],
   "source": [
    "import os"
   ]
  },
  {
   "cell_type": "code",
   "execution_count": 23,
   "metadata": {},
   "outputs": [],
   "source": [
    "import cv2"
   ]
  },
  {
   "cell_type": "code",
   "execution_count": 24,
   "metadata": {},
   "outputs": [],
   "source": [
    "path_data = \"/data/shuaman/video_summarization/datasets/raw_datasets/VSUMM/newUserSummary\""
   ]
  },
  {
   "cell_type": "code",
   "execution_count": 129,
   "metadata": {},
   "outputs": [],
   "source": [
    "name_video = \"v71\""
   ]
  },
  {
   "cell_type": "code",
   "execution_count": 130,
   "metadata": {},
   "outputs": [],
   "source": [
    "path_video = f\"/data/shuaman/video_summarization/datasets/raw_datasets/VSUMM/new_database/{name_video}.avi\""
   ]
  },
  {
   "cell_type": "code",
   "execution_count": 131,
   "metadata": {},
   "outputs": [
    {
     "data": {
      "text/plain": [
       "'/data/shuaman/video_summarization/datasets/raw_datasets/VSUMM/new_database/v71.avi'"
      ]
     },
     "execution_count": 131,
     "metadata": {},
     "output_type": "execute_result"
    }
   ],
   "source": [
    "path_video"
   ]
  },
  {
   "cell_type": "code",
   "execution_count": 137,
   "metadata": {},
   "outputs": [],
   "source": [
    "video_capture = cv2.VideoCapture(path_video)"
   ]
  },
  {
   "cell_type": "code",
   "execution_count": 138,
   "metadata": {},
   "outputs": [],
   "source": [
    "fps = video_capture.get(cv2.CAP_PROP_FPS)"
   ]
  },
  {
   "cell_type": "code",
   "execution_count": 139,
   "metadata": {},
   "outputs": [
    {
     "data": {
      "text/plain": [
       "29.916666666666668"
      ]
     },
     "execution_count": 139,
     "metadata": {},
     "output_type": "execute_result"
    }
   ],
   "source": [
    "fps"
   ]
  },
  {
   "cell_type": "code",
   "execution_count": 140,
   "metadata": {},
   "outputs": [],
   "source": [
    "n_frames = int(video_capture.get(cv2.CAP_PROP_FRAME_COUNT))"
   ]
  },
  {
   "cell_type": "code",
   "execution_count": 141,
   "metadata": {},
   "outputs": [
    {
     "data": {
      "text/plain": [
       "8228"
      ]
     },
     "execution_count": 141,
     "metadata": {},
     "output_type": "execute_result"
    }
   ],
   "source": [
    "n_frames"
   ]
  },
  {
   "cell_type": "code",
   "execution_count": null,
   "metadata": {},
   "outputs": [],
   "source": []
  },
  {
   "cell_type": "code",
   "execution_count": 113,
   "metadata": {},
   "outputs": [
    {
     "data": {
      "text/plain": [
       "True"
      ]
     },
     "execution_count": 113,
     "metadata": {},
     "output_type": "execute_result"
    }
   ],
   "source": [
    "\"xd.JPEG\".lower().endswith((\"png\",\"jpeg\",\"jpg\"))"
   ]
  },
  {
   "cell_type": "code",
   "execution_count": 114,
   "metadata": {},
   "outputs": [
    {
     "data": {
      "text/plain": [
       "29.97002997002997"
      ]
     },
     "execution_count": 114,
     "metadata": {},
     "output_type": "execute_result"
    }
   ],
   "source": [
    "fps"
   ]
  },
  {
   "cell_type": "code",
   "execution_count": 115,
   "metadata": {},
   "outputs": [
    {
     "data": {
      "text/plain": [
       "['v92.avi',\n",
       " 'v83.avi',\n",
       " 'v75.avi',\n",
       " 'v105.avi',\n",
       " 'v99.avi',\n",
       " 'v93.avi',\n",
       " 'v86.avi',\n",
       " 'v102.avi',\n",
       " 'v108.avi',\n",
       " 'v100.avi',\n",
       " 'v90.avi',\n",
       " 'v73.avi',\n",
       " 'v103.avi',\n",
       " 'v78.avi',\n",
       " 'v80.avi',\n",
       " 'v98.avi',\n",
       " 'v91.avi',\n",
       " 'Thumbs.db',\n",
       " 'v79.avi',\n",
       " 'v84.avi',\n",
       " 'v76.avi',\n",
       " 'v71.avi',\n",
       " 'v107.avi',\n",
       " 'v87.avi',\n",
       " 'v95.avi',\n",
       " 'v94.avi',\n",
       " 'v89.avi',\n",
       " 'v97.avi',\n",
       " 'v110.avi',\n",
       " 'v104.avi',\n",
       " 'v77.avi',\n",
       " 'v96.avi',\n",
       " 'v82.avi',\n",
       " 'v81.avi',\n",
       " 'v72.avi',\n",
       " 'v101.avi',\n",
       " 'v74.avi',\n",
       " 'v85.avi',\n",
       " 'v88.avi',\n",
       " 'v106.avi']"
      ]
     },
     "execution_count": 115,
     "metadata": {},
     "output_type": "execute_result"
    }
   ],
   "source": [
    "os.listdir(\"/data/shuaman/video_summarization/datasets/raw_datasets/VSUMM/new_database/\")"
   ]
  },
  {
   "cell_type": "code",
   "execution_count": 116,
   "metadata": {},
   "outputs": [
    {
     "data": {
      "text/plain": [
       "['v86',\n",
       " 'v81',\n",
       " 'v91',\n",
       " 'v76',\n",
       " 'v106',\n",
       " 'v72',\n",
       " 'v101',\n",
       " 'v95',\n",
       " 'v87',\n",
       " 'v107',\n",
       " 'v82',\n",
       " 'v99',\n",
       " 'v83',\n",
       " 'v102',\n",
       " 'v104',\n",
       " 'v74',\n",
       " 'v78',\n",
       " 'v85',\n",
       " 'v93',\n",
       " 'v73',\n",
       " 'v75',\n",
       " 'v100',\n",
       " 'v105',\n",
       " 'v108',\n",
       " 'v90',\n",
       " 'v94',\n",
       " 'v71',\n",
       " 'v89',\n",
       " 'v92',\n",
       " 'v84',\n",
       " 'v96',\n",
       " 'v103',\n",
       " 'v88',\n",
       " 'v77',\n",
       " 'v97',\n",
       " 'v98',\n",
       " 'v80',\n",
       " 'v79',\n",
       " 'v110']"
      ]
     },
     "execution_count": 116,
     "metadata": {},
     "output_type": "execute_result"
    }
   ],
   "source": [
    "[gtvideo for gtvideo in os.listdir(path_data) if os.path.isdir(os.path.join(path_data, gtvideo))]"
   ]
  },
  {
   "cell_type": "code",
   "execution_count": 117,
   "metadata": {},
   "outputs": [],
   "source": [
    "user_list = os.listdir(os.path.join(path_data, name_video))"
   ]
  },
  {
   "cell_type": "code",
   "execution_count": 118,
   "metadata": {},
   "outputs": [
    {
     "data": {
      "text/plain": [
       "['user1', 'user3', 'user5', 'user4', 'user2']"
      ]
     },
     "execution_count": 118,
     "metadata": {},
     "output_type": "execute_result"
    }
   ],
   "source": [
    "user_list"
   ]
  }
 ],
 "metadata": {
  "kernelspec": {
   "display_name": "msva_kernel",
   "language": "python",
   "name": "msva_kernel"
  },
  "language_info": {
   "codemirror_mode": {
    "name": "ipython",
    "version": 3
   },
   "file_extension": ".py",
   "mimetype": "text/x-python",
   "name": "python",
   "nbconvert_exporter": "python",
   "pygments_lexer": "ipython3",
   "version": "3.6.9"
  }
 },
 "nbformat": 4,
 "nbformat_minor": 4
}
