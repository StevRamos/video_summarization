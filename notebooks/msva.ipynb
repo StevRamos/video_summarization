{
 "cells": [
  {
   "cell_type": "code",
   "execution_count": null,
   "metadata": {},
   "outputs": [],
   "source": [
    "features_rn = []\n",
    "features_iv3 = []\n",
    "features_3D = []\n",
    "features= []\n",
    "features_rgb = []\n",
    "features_flow= []\n",
    "\n",
    "for feature in [\"features_rn\", \"features_iv3\", \"features_3D\", \"features\", \"features_rgb\", \"features_flow\"]:\n",
    "    for path in paths:\n",
    "        training_set = VSMDataset(path, googlenet=True, resnext=True, inceptionv3=True,\n",
    "                                 i3d_rgb=True, i3d_flow=True, resnet3d=True)\n",
    "\n",
    "        for i in range(len(training_set)):\n",
    "            feat = training_set.get_feature(i, feature)\n",
    "            \n",
    "            for nframe in range(len(feat)):        \n",
    "                if feature==\"features_rn\":\n",
    "                    features_rn.append(feat[nframe])\n",
    "                elif feature==\"features_iv3\":\n",
    "                    features_iv3.append(feat[nframe])\n",
    "                elif feature==\"features_3D\":\n",
    "                    features_3D.append(feat[nframe])\n",
    "                elif feature==\"features\":\n",
    "                    features.append(feat[nframe])\n",
    "                elif feature==\"features_rgb\":\n",
    "                    features_rgb.append(feat[nframe])\n",
    "                elif feature==\"features_flow\":\n",
    "                    features_flow.append(feat[nframe])\n",
    "                \n",
    "features_rn = np.array(features_rn)    \n",
    "features_iv3 = np.array(features_iv3)    \n",
    "features_3D = np.array(features_3D)    \n",
    "features = np.array(features)    \n",
    "features_rgb = np.array(features_rgb)    \n",
    "features_flow = np.array(features_flow)    "
   ]
  }
 ],
 "metadata": {
  "kernelspec": {
   "display_name": "vsm_kernel",
   "language": "python",
   "name": "vsm_kernel"
  },
  "language_info": {
   "codemirror_mode": {
    "name": "ipython",
    "version": 3
   },
   "file_extension": ".py",
   "mimetype": "text/x-python",
   "name": "python",
   "nbconvert_exporter": "python",
   "pygments_lexer": "ipython3",
   "version": "3.8.11"
  }
 },
 "nbformat": 4,
 "nbformat_minor": 4
}
