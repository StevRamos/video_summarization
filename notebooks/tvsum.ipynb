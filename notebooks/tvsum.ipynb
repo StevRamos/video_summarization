{
 "cells": [
  {
   "cell_type": "code",
   "execution_count": 2,
   "metadata": {},
   "outputs": [
    {
     "name": "stdout",
     "output_type": "stream",
     "text": [
      "48\n"
     ]
    }
   ],
   "source": [
    "!pip3 freeze | wc -l"
   ]
  },
  {
   "cell_type": "code",
   "execution_count": 3,
   "metadata": {},
   "outputs": [],
   "source": [
    "import pandas as pd"
   ]
  },
  {
   "cell_type": "code",
   "execution_count": 4,
   "metadata": {},
   "outputs": [],
   "source": [
    "path_info = \"/data/shuaman/video_summarization/datasets/raw_datasets/TVsum/ydata-tvsum50-v1_1/data/ydata-tvsum50-info.tsv\"\n",
    "path_ant = \"/data/shuaman/video_summarization/datasets/raw_datasets/TVsum/ydata-tvsum50-v1_1/data/ydata-tvsum50-anno.tsv\""
   ]
  },
  {
   "cell_type": "code",
   "execution_count": 5,
   "metadata": {},
   "outputs": [],
   "source": [
    "df_ant = pd.read_csv(path_ant, sep='\\t', names=[\"video_id\", \"category\", \"score\"])"
   ]
  },
  {
   "cell_type": "code",
   "execution_count": 6,
   "metadata": {},
   "outputs": [
    {
     "data": {
      "text/plain": [
       "(1000, 3)"
      ]
     },
     "execution_count": 6,
     "metadata": {},
     "output_type": "execute_result"
    }
   ],
   "source": [
    "df_ant.shape"
   ]
  },
  {
   "cell_type": "code",
   "execution_count": 7,
   "metadata": {},
   "outputs": [
    {
     "data": {
      "text/html": [
       "<div>\n",
       "<style scoped>\n",
       "    .dataframe tbody tr th:only-of-type {\n",
       "        vertical-align: middle;\n",
       "    }\n",
       "\n",
       "    .dataframe tbody tr th {\n",
       "        vertical-align: top;\n",
       "    }\n",
       "\n",
       "    .dataframe thead th {\n",
       "        text-align: right;\n",
       "    }\n",
       "</style>\n",
       "<table border=\"1\" class=\"dataframe\">\n",
       "  <thead>\n",
       "    <tr style=\"text-align: right;\">\n",
       "      <th></th>\n",
       "      <th>video_id</th>\n",
       "      <th>category</th>\n",
       "      <th>score</th>\n",
       "    </tr>\n",
       "  </thead>\n",
       "  <tbody>\n",
       "    <tr>\n",
       "      <th>0</th>\n",
       "      <td>AwmHb44_ouw</td>\n",
       "      <td>VT</td>\n",
       "      <td>4,4,4,4,4,4,4,4,4,4,4,4,4,4,4,4,4,4,4,4,4,4,4,...</td>\n",
       "    </tr>\n",
       "    <tr>\n",
       "      <th>1</th>\n",
       "      <td>AwmHb44_ouw</td>\n",
       "      <td>VT</td>\n",
       "      <td>2,2,2,2,2,2,2,2,2,2,2,2,2,2,2,2,2,2,2,2,2,2,2,...</td>\n",
       "    </tr>\n",
       "    <tr>\n",
       "      <th>2</th>\n",
       "      <td>AwmHb44_ouw</td>\n",
       "      <td>VT</td>\n",
       "      <td>3,3,3,3,3,3,3,3,3,3,3,3,3,3,3,3,3,3,3,3,3,3,3,...</td>\n",
       "    </tr>\n",
       "    <tr>\n",
       "      <th>3</th>\n",
       "      <td>AwmHb44_ouw</td>\n",
       "      <td>VT</td>\n",
       "      <td>4,4,4,4,4,4,4,4,4,4,4,4,4,4,4,4,4,4,4,4,4,4,4,...</td>\n",
       "    </tr>\n",
       "    <tr>\n",
       "      <th>4</th>\n",
       "      <td>AwmHb44_ouw</td>\n",
       "      <td>VT</td>\n",
       "      <td>2,2,2,2,2,2,2,2,2,2,2,2,2,2,2,2,2,2,2,2,2,2,2,...</td>\n",
       "    </tr>\n",
       "  </tbody>\n",
       "</table>\n",
       "</div>"
      ],
      "text/plain": [
       "      video_id category                                              score\n",
       "0  AwmHb44_ouw       VT  4,4,4,4,4,4,4,4,4,4,4,4,4,4,4,4,4,4,4,4,4,4,4,...\n",
       "1  AwmHb44_ouw       VT  2,2,2,2,2,2,2,2,2,2,2,2,2,2,2,2,2,2,2,2,2,2,2,...\n",
       "2  AwmHb44_ouw       VT  3,3,3,3,3,3,3,3,3,3,3,3,3,3,3,3,3,3,3,3,3,3,3,...\n",
       "3  AwmHb44_ouw       VT  4,4,4,4,4,4,4,4,4,4,4,4,4,4,4,4,4,4,4,4,4,4,4,...\n",
       "4  AwmHb44_ouw       VT  2,2,2,2,2,2,2,2,2,2,2,2,2,2,2,2,2,2,2,2,2,2,2,..."
      ]
     },
     "execution_count": 7,
     "metadata": {},
     "output_type": "execute_result"
    }
   ],
   "source": [
    "df_ant.head(5)"
   ]
  },
  {
   "cell_type": "code",
   "execution_count": 8,
   "metadata": {},
   "outputs": [],
   "source": [
    "df_info = pd.read_csv(path_info, sep='\\t')"
   ]
  },
  {
   "cell_type": "code",
   "execution_count": 9,
   "metadata": {},
   "outputs": [
    {
     "data": {
      "text/plain": [
       "(50, 5)"
      ]
     },
     "execution_count": 9,
     "metadata": {},
     "output_type": "execute_result"
    }
   ],
   "source": [
    "df_info.shape"
   ]
  },
  {
   "cell_type": "code",
   "execution_count": 10,
   "metadata": {},
   "outputs": [
    {
     "data": {
      "text/html": [
       "<div>\n",
       "<style scoped>\n",
       "    .dataframe tbody tr th:only-of-type {\n",
       "        vertical-align: middle;\n",
       "    }\n",
       "\n",
       "    .dataframe tbody tr th {\n",
       "        vertical-align: top;\n",
       "    }\n",
       "\n",
       "    .dataframe thead th {\n",
       "        text-align: right;\n",
       "    }\n",
       "</style>\n",
       "<table border=\"1\" class=\"dataframe\">\n",
       "  <thead>\n",
       "    <tr style=\"text-align: right;\">\n",
       "      <th></th>\n",
       "      <th>category</th>\n",
       "      <th>video_id</th>\n",
       "      <th>title</th>\n",
       "      <th>url</th>\n",
       "      <th>length</th>\n",
       "    </tr>\n",
       "  </thead>\n",
       "  <tbody>\n",
       "    <tr>\n",
       "      <th>0</th>\n",
       "      <td>VT</td>\n",
       "      <td>AwmHb44_ouw</td>\n",
       "      <td>#1306 How to change tires for off road vehicle...</td>\n",
       "      <td>https://www.youtube.com/watch?v=AwmHb44_ouw</td>\n",
       "      <td>5:54</td>\n",
       "    </tr>\n",
       "    <tr>\n",
       "      <th>1</th>\n",
       "      <td>VT</td>\n",
       "      <td>98MoyGZKHXc</td>\n",
       "      <td>How to use a tyre repair kit - Which? guide</td>\n",
       "      <td>https://www.youtube.com/watch?v=98MoyGZKHXc</td>\n",
       "      <td>3:07</td>\n",
       "    </tr>\n",
       "    <tr>\n",
       "      <th>2</th>\n",
       "      <td>VT</td>\n",
       "      <td>J0nA4VgnoCo</td>\n",
       "      <td>#0001: FLAT TIRE</td>\n",
       "      <td>https://www.youtube.com/watch?v=J0nA4VgnoCo</td>\n",
       "      <td>9:44</td>\n",
       "    </tr>\n",
       "    <tr>\n",
       "      <th>3</th>\n",
       "      <td>VT</td>\n",
       "      <td>gzDbaEs1Rlg</td>\n",
       "      <td>ŠKODA Tips How to Repair Your Tyre</td>\n",
       "      <td>https://www.youtube.com/watch?v=gzDbaEs1Rlg</td>\n",
       "      <td>4:48</td>\n",
       "    </tr>\n",
       "    <tr>\n",
       "      <th>4</th>\n",
       "      <td>VT</td>\n",
       "      <td>XzYM3PfTM4w</td>\n",
       "      <td>When to Replace Your Tires GMC</td>\n",
       "      <td>https://www.youtube.com/watch?v=XzYM3PfTM4w</td>\n",
       "      <td>1:51</td>\n",
       "    </tr>\n",
       "  </tbody>\n",
       "</table>\n",
       "</div>"
      ],
      "text/plain": [
       "  category     video_id                                              title  \\\n",
       "0       VT  AwmHb44_ouw  #1306 How to change tires for off road vehicle...   \n",
       "1       VT  98MoyGZKHXc        How to use a tyre repair kit - Which? guide   \n",
       "2       VT  J0nA4VgnoCo                                   #0001: FLAT TIRE   \n",
       "3       VT  gzDbaEs1Rlg                 ŠKODA Tips How to Repair Your Tyre   \n",
       "4       VT  XzYM3PfTM4w                     When to Replace Your Tires GMC   \n",
       "\n",
       "                                           url length  \n",
       "0  https://www.youtube.com/watch?v=AwmHb44_ouw   5:54  \n",
       "1  https://www.youtube.com/watch?v=98MoyGZKHXc   3:07  \n",
       "2  https://www.youtube.com/watch?v=J0nA4VgnoCo   9:44  \n",
       "3  https://www.youtube.com/watch?v=gzDbaEs1Rlg   4:48  \n",
       "4  https://www.youtube.com/watch?v=XzYM3PfTM4w   1:51  "
      ]
     },
     "execution_count": 10,
     "metadata": {},
     "output_type": "execute_result"
    }
   ],
   "source": [
    "df_info.head(5)"
   ]
  },
  {
   "cell_type": "code",
   "execution_count": 11,
   "metadata": {},
   "outputs": [],
   "source": [
    "import h5py"
   ]
  },
  {
   "cell_type": "code",
   "execution_count": 12,
   "metadata": {},
   "outputs": [],
   "source": [
    "import scipy.io"
   ]
  },
  {
   "cell_type": "code",
   "execution_count": 13,
   "metadata": {},
   "outputs": [],
   "source": [
    "path_just_generated = \"/home/shuaman/video_sm/video_summarization/src/eccv16_dataset_tvsum_google_pool5.h5\"\n",
    "# path_just_generated = \"/home/shuaman/video_sm/DSNet/src/custom_dataset.h5\""
   ]
  },
  {
   "cell_type": "code",
   "execution_count": 14,
   "metadata": {},
   "outputs": [],
   "source": [
    "#Air_Force_One_data = h5py.File(path_just_generated, 'r')['video_1']\n",
    "data_all_tvsum_mine = h5py.File(path_just_generated, 'r')"
   ]
  },
  {
   "cell_type": "code",
   "execution_count": 15,
   "metadata": {},
   "outputs": [],
   "source": [
    "#path_data_preprocessd = \"/data/shuaman/video_summarization/datasets/dsnet/datasets/eccv16_dataset_summe_google_pool5.h5\"\n",
    "path_data_preprocessd = \"/data/shuaman/video_summarization/datasets/object_features/eccv16_dataset_tvsum_google_pool5.h5\""
   ]
  },
  {
   "cell_type": "code",
   "execution_count": 16,
   "metadata": {},
   "outputs": [],
   "source": [
    "data_all_tvsum = h5py.File(path_data_preprocessd, 'r')"
   ]
  },
  {
   "cell_type": "code",
   "execution_count": 17,
   "metadata": {},
   "outputs": [
    {
     "name": "stdout",
     "output_type": "stream",
     "text": [
      "video 1 comparison\n",
      "video name mine b'AwmHb44_ouw'\n",
      "Everything is perfect\n",
      "\n",
      "video 2 comparison\n",
      "video name mine b'98MoyGZKHXc'\n",
      "Everything is perfect\n",
      "\n",
      "video 3 comparison\n",
      "video name mine b'J0nA4VgnoCo'\n",
      "Everything is perfect\n",
      "\n",
      "video 4 comparison\n",
      "video name mine b'gzDbaEs1Rlg'\n",
      "Everything is perfect\n",
      "\n",
      "video 5 comparison\n",
      "video name mine b'XzYM3PfTM4w'\n",
      "Everything is perfect\n",
      "\n",
      "video 6 comparison\n",
      "video name mine b'HT5vyqe0Xaw'\n",
      "Everything is perfect\n",
      "\n",
      "video 7 comparison\n",
      "video name mine b'sTEELN-vY30'\n",
      "Everything is perfect\n",
      "\n",
      "video 8 comparison\n",
      "video name mine b'vdmoEJ5YbrQ'\n",
      "Everything is perfect\n",
      "\n",
      "video 9 comparison\n",
      "video name mine b'xwqBXPGE9pQ'\n",
      "Everything is perfect\n",
      "\n",
      "video 10 comparison\n",
      "video name mine b'akI8YFjEmUw'\n",
      "Everything is perfect\n",
      "\n",
      "video 11 comparison\n",
      "video name mine b'i3wAGJaaktw'\n",
      "Everything is perfect\n",
      "\n",
      "video 12 comparison\n",
      "video name mine b'Bhxk-O1Y7Ho'\n",
      "Everything is perfect\n",
      "\n",
      "video 13 comparison\n",
      "video name mine b'0tmA_C6XwfM'\n",
      "Everything is perfect\n",
      "\n",
      "video 14 comparison\n",
      "video name mine b'3eYKfiOEJNs'\n",
      "Everything is perfect\n",
      "\n",
      "video 15 comparison\n",
      "video name mine b'xxdtq8mxegs'\n",
      "Everything is perfect\n",
      "\n",
      "video 16 comparison\n",
      "video name mine b'WG0MBPpPC6I'\n",
      "Everything is perfect\n",
      "\n",
      "video 17 comparison\n",
      "video name mine b'Hl-__g2gn_A'\n",
      "Everything is perfect\n",
      "\n",
      "video 18 comparison\n",
      "video name mine b'Yi4Ij2NM7U4'\n",
      "Everything is perfect\n",
      "\n",
      "video 19 comparison\n",
      "video name mine b'37rzWOQsNIw'\n",
      "Everything is perfect\n",
      "\n",
      "video 20 comparison\n",
      "video name mine b'LRw_obCPUt0'\n",
      "Everything is perfect\n",
      "\n",
      "video 21 comparison\n",
      "video name mine b'cjibtmSLxQ4'\n",
      "Everything is perfect\n",
      "\n",
      "video 22 comparison\n",
      "video name mine b'b626MiF1ew4'\n",
      "Everything is perfect\n",
      "\n",
      "video 23 comparison\n",
      "video name mine b'XkqCExn6_Us'\n",
      "Everything is perfect\n",
      "\n",
      "video 24 comparison\n",
      "video name mine b'GsAD1KT1xo8'\n",
      "Everything is perfect\n",
      "\n",
      "video 25 comparison\n",
      "video name mine b'PJrm840pAUI'\n",
      "Everything is perfect\n",
      "\n",
      "video 26 comparison\n",
      "video name mine b'91IHQYk1IQM'\n",
      "Everything is perfect\n",
      "\n",
      "video 27 comparison\n",
      "video name mine b'RBCABdttQmI'\n",
      "Everything is perfect\n",
      "\n",
      "video 28 comparison\n",
      "video name mine b'z_6gVvQb2d0'\n",
      "Everything is perfect\n",
      "\n",
      "video 29 comparison\n",
      "video name mine b'fWutDQy1nnY'\n",
      "Everything is perfect\n",
      "\n",
      "video 30 comparison\n",
      "video name mine b'4wU_LUjG5Ic'\n",
      "Everything is perfect\n",
      "\n",
      "video 31 comparison\n",
      "video name mine b'VuWGsYPqAX8'\n",
      "Everything is perfect\n",
      "\n",
      "video 32 comparison\n",
      "video name mine b'JKpqYvAdIsw'\n",
      "Everything is perfect\n",
      "\n",
      "video 33 comparison\n",
      "video name mine b'xmEERLqJ2kU'\n",
      "Everything is perfect\n",
      "\n",
      "video 34 comparison\n",
      "video name mine b'byxOvuiIJV0'\n",
      "Everything is perfect\n",
      "\n",
      "video 35 comparison\n",
      "video name mine b'_xMr-HKMfVA'\n",
      "Everything is perfect\n",
      "\n",
      "video 36 comparison\n",
      "video name mine b'WxtbjNsCQ8A'\n",
      "Everything is perfect\n",
      "\n",
      "video 37 comparison\n",
      "video name mine b'uGu_10sucQo'\n",
      "Everything is perfect\n",
      "\n",
      "video 38 comparison\n",
      "video name mine b'EE-bNr36nyA'\n",
      "Everything is perfect\n",
      "\n",
      "video 39 comparison\n",
      "video name mine b'Se3oxnaPsz0'\n",
      "Everything is perfect\n",
      "\n",
      "video 40 comparison\n",
      "video name mine b'oDXZc0tZe04'\n",
      "Everything is perfect\n",
      "\n",
      "video 41 comparison\n",
      "video name mine b'qqR6AEXwxoQ'\n",
      "Everything is perfect\n",
      "\n",
      "video 42 comparison\n",
      "video name mine b'EYqVtI9YWJA'\n",
      "Everything is perfect\n",
      "\n",
      "video 43 comparison\n",
      "video name mine b'eQu1rNs0an0'\n",
      "Everything is perfect\n",
      "\n",
      "video 44 comparison\n",
      "video name mine b'JgHubY5Vw3Y'\n",
      "Everything is perfect\n",
      "\n",
      "video 45 comparison\n",
      "video name mine b'iVt07TCkFM0'\n",
      "Everything is perfect\n",
      "\n",
      "video 46 comparison\n",
      "video name mine b'E11zDS9XGzg'\n",
      "Everything is perfect\n",
      "\n",
      "video 47 comparison\n",
      "video name mine b'NyBmCxDoHJU'\n",
      "Everything is perfect\n",
      "\n",
      "video 48 comparison\n",
      "video name mine b'kLxoNp-UchI'\n",
      "Everything is perfect\n",
      "\n",
      "video 49 comparison\n",
      "video name mine b'jcoYJXDG9sw'\n",
      "Everything is perfect\n",
      "\n",
      "video 50 comparison\n",
      "video name mine b'-esJrBWj2d8'\n",
      "Everything is perfect\n",
      "\n"
     ]
    }
   ],
   "source": [
    "for i in range(0,50):\n",
    "    video_gt = data_all_tvsum[\"video_\" + str(i+1)]\n",
    "    video_mine = data_all_tvsum_mine[\"video_\" + str(i+1)]\n",
    "    \n",
    "    perfect = True\n",
    "    \n",
    "    print(f'video {i+1} comparison')\n",
    "    if video_gt['features'][...].shape != video_mine['features'][...].shape:\n",
    "        perfect = False\n",
    "        print(\"features gt\", video_gt['features'][...].shape)\n",
    "        print(\"features mine\", video_mine['features'][...].shape)\n",
    "        print()\n",
    "        \n",
    "    if video_gt['gtscore'][...].shape != video_mine['gtscore'][...].shape:\n",
    "        perfect = False\n",
    "        print(\"gtscore gt\", video_gt['gtscore'][...].shape)\n",
    "        print(\"gtscore mine\", video_mine['gtscore'][...].shape)\n",
    "        print()\n",
    "        \n",
    "#     print(\"video name gt\", video_gt['video_name'][...])\n",
    "    print(\"video name mine\", video_mine['video_name'][...])\n",
    "    \n",
    "    if video_gt['user_summary'][...].shape != video_mine['user_summary'][...].shape:\n",
    "        perfect = False\n",
    "        print(\"user summary gt\", video_gt['user_summary'][...].shape)\n",
    "        print(\"user summary mine\", video_mine['user_summary'][...].shape)\n",
    "        print()\n",
    "        \n",
    "    if video_gt['n_frames'][...] != video_mine['n_frames'][...]:\n",
    "        perfect = False\n",
    "        print(\"n frames gt\", video_gt['n_frames'][...])\n",
    "        print(\"n frames mine\", video_mine['n_frames'][...])\n",
    "        print()\n",
    "    if video_gt['change_points'][...].shape != video_mine['change_points'][...].shape:  \n",
    "        perfect = False\n",
    "        print(\"change points gt\", video_gt['change_points'][...].shape)\n",
    "        print(\"change points mine\", video_mine['change_points'][...].shape)\n",
    "        print()\n",
    "        \n",
    "    if video_gt['n_frame_per_seg'][...].shape != video_mine['n_frame_per_seg'][...].shape: \n",
    "        perfect = False\n",
    "        print(\"n frame per seg gt\", video_gt['n_frame_per_seg'][...].shape)\n",
    "        print(\"n frame per seg mine\", video_mine['n_frame_per_seg'][...].shape)\n",
    "        print()\n",
    "    \n",
    "    if video_gt['picks'][...].shape != video_mine['picks'][...].shape:\n",
    "        perfect = False\n",
    "        print(\"picks gt\", video_gt['picks'][...].shape)\n",
    "        print(\"picks mine\", video_mine['picks'][...].shape)\n",
    "        print()\n",
    "        \n",
    "    if video_gt['n_steps'][...] != video_mine['n_steps'][...]:\n",
    "        perfect = False\n",
    "        print(\"n steps gt\", video_gt['n_steps'][...])\n",
    "        print(\"n steps mine\", video_mine['n_steps'][...])\n",
    "        \n",
    "    if perfect: \n",
    "        print(\"Everything is perfect\")\n",
    "        print()"
   ]
  },
  {
   "cell_type": "markdown",
   "metadata": {},
   "source": [
    "# Evaluating a random video"
   ]
  },
  {
   "cell_type": "code",
   "execution_count": 18,
   "metadata": {},
   "outputs": [],
   "source": [
    "#video 1\n",
    "i = 0\n",
    "video_gt = data_all_tvsum[\"video_\" + str(i+1)]\n",
    "video_mine = data_all_tvsum_mine[\"video_\" + str(i+1)]"
   ]
  },
  {
   "cell_type": "markdown",
   "metadata": {},
   "source": [
    "### Nombre"
   ]
  },
  {
   "cell_type": "code",
   "execution_count": 19,
   "metadata": {},
   "outputs": [
    {
     "name": "stdout",
     "output_type": "stream",
     "text": [
      "video name mine b'AwmHb44_ouw'\n",
      "\n"
     ]
    }
   ],
   "source": [
    "# print(\"video name gt\", video_gt['video_name'][...])\n",
    "print(\"video name mine\", video_mine['video_name'][...])\n",
    "print()\n"
   ]
  },
  {
   "cell_type": "markdown",
   "metadata": {},
   "source": [
    "### Features"
   ]
  },
  {
   "cell_type": "code",
   "execution_count": 20,
   "metadata": {},
   "outputs": [
    {
     "name": "stdout",
     "output_type": "stream",
     "text": [
      "features gt (707, 1024)\n"
     ]
    },
    {
     "data": {
      "text/plain": [
       "array([[0.03245889, 0.        , 0.00018815, ..., 0.02178879, 0.00443873,\n",
       "        0.        ],\n",
       "       [0.02346171, 0.        , 0.        , ..., 0.00393682, 0.002956  ,\n",
       "        0.00285526],\n",
       "       [0.01867428, 0.        , 0.        , ..., 0.01959703, 0.00158309,\n",
       "        0.        ],\n",
       "       ...,\n",
       "       [0.01900744, 0.00319129, 0.00368785, ..., 0.0868216 , 0.        ,\n",
       "        0.        ],\n",
       "       [0.00916142, 0.00035935, 0.00784355, ..., 0.09495226, 0.        ,\n",
       "        0.        ],\n",
       "       [0.01148452, 0.0037852 , 0.00210227, ..., 0.09508222, 0.        ,\n",
       "        0.        ]], dtype=float32)"
      ]
     },
     "execution_count": 20,
     "metadata": {},
     "output_type": "execute_result"
    }
   ],
   "source": [
    "print(\"features gt\", video_gt['features'][...].shape)\n",
    "video_gt['features'][...]"
   ]
  },
  {
   "cell_type": "code",
   "execution_count": 21,
   "metadata": {},
   "outputs": [
    {
     "name": "stdout",
     "output_type": "stream",
     "text": [
      "features mine (707, 1024)\n"
     ]
    },
    {
     "data": {
      "text/plain": [
       "array([[0.23513123, 0.13506499, 0.01227892, ..., 1.0164356 , 0.6496388 ,\n",
       "        0.18750992],\n",
       "       [0.17956002, 0.17254634, 0.01718543, ..., 1.0426198 , 0.5458439 ,\n",
       "        0.1575669 ],\n",
       "       [0.33848485, 0.16480982, 0.0112191 , ..., 1.0582062 , 0.58019847,\n",
       "        0.2057359 ],\n",
       "       ...,\n",
       "       [1.304777  , 0.01188094, 1.331769  , ..., 0.40957478, 0.3910504 ,\n",
       "        0.05367673],\n",
       "       [1.1473051 , 0.01278748, 1.4851887 , ..., 0.32753223, 0.35067925,\n",
       "        0.135654  ],\n",
       "       [0.963663  , 0.00448504, 1.3113414 , ..., 0.30876416, 0.43838212,\n",
       "        0.11274412]], dtype=float32)"
      ]
     },
     "execution_count": 21,
     "metadata": {},
     "output_type": "execute_result"
    }
   ],
   "source": [
    "print(\"features mine\", video_mine['features'][...].shape)\n",
    "video_mine['features'][...]"
   ]
  },
  {
   "cell_type": "markdown",
   "metadata": {},
   "source": [
    "### GTScore"
   ]
  },
  {
   "cell_type": "code",
   "execution_count": 22,
   "metadata": {},
   "outputs": [
    {
     "name": "stdout",
     "output_type": "stream",
     "text": [
      "gtscore gt (707,)\n"
     ]
    },
    {
     "data": {
      "text/plain": [
       "array([0.475 , 0.475 , 0.475 , 0.475 , 0.175 , 0.175 , 0.175 , 0.175 ,\n",
       "       0.0625, 0.0625, 0.0625, 0.0625, 0.0875, 0.0875, 0.0875, 0.0875,\n",
       "       0.075 , 0.075 , 0.075 , 0.075 , 0.05  , 0.05  , 0.05  , 0.05  ,\n",
       "       0.1125, 0.1125, 0.1125, 0.1125, 0.0875, 0.0875, 0.0875, 0.0875,\n",
       "       0.0625, 0.0625, 0.0625, 0.0625, 0.0875, 0.0875, 0.0875, 0.0875,\n",
       "       0.375 , 0.375 , 0.375 , 0.375 , 0.1125, 0.1125, 0.1125, 0.1125,\n",
       "       0.15  , 0.15  , 0.15  , 0.15  , 0.2125, 0.2125, 0.2125, 0.2125,\n",
       "       0.1875, 0.1875, 0.1875, 0.1875, 0.15  , 0.15  , 0.15  , 0.15  ,\n",
       "       0.1625, 0.1625, 0.1625, 0.1625, 0.2125, 0.2125, 0.2125, 0.2125,\n",
       "       0.175 , 0.175 , 0.175 , 0.175 , 0.1625, 0.1625, 0.1625, 0.1625,\n",
       "       0.1125, 0.1125, 0.1125, 0.1125, 0.125 , 0.125 , 0.125 , 0.125 ,\n",
       "       0.0375, 0.0375, 0.0375, 0.0375, 0.0875, 0.0875, 0.0875, 0.0875,\n",
       "       0.0625, 0.0625, 0.0625, 0.0625, 0.0625, 0.0625, 0.0625, 0.0625,\n",
       "       0.0625, 0.0625, 0.0625, 0.0625, 0.0375, 0.0375, 0.0375, 0.0375,\n",
       "       0.3375, 0.3375, 0.3375, 0.3375, 0.125 , 0.125 , 0.125 , 0.125 ,\n",
       "       0.2   , 0.2   , 0.2   , 0.2   , 0.075 , 0.075 , 0.075 , 0.075 ,\n",
       "       0.15  , 0.15  , 0.15  , 0.15  , 0.075 , 0.075 , 0.075 , 0.075 ,\n",
       "       0.0625, 0.0625, 0.0625, 0.0625, 0.05  , 0.05  , 0.05  , 0.05  ,\n",
       "       0.    , 0.    , 0.    , 0.    , 0.175 , 0.175 , 0.175 , 0.175 ,\n",
       "       0.25  , 0.25  , 0.25  , 0.25  , 0.2375, 0.2375, 0.2375, 0.2375,\n",
       "       0.2125, 0.2125, 0.2125, 0.2125, 0.2125, 0.2125, 0.2125, 0.2125,\n",
       "       0.225 , 0.225 , 0.225 , 0.225 , 0.1625, 0.1625, 0.1625, 0.1625,\n",
       "       0.2   , 0.2   , 0.2   , 0.2   , 0.3125, 0.3125, 0.3125, 0.3125,\n",
       "       0.2125, 0.2125, 0.2125, 0.2125, 0.45  , 0.45  , 0.45  , 0.45  ,\n",
       "       0.5125, 0.5125, 0.5125, 0.5125, 0.375 , 0.375 , 0.375 , 0.375 ,\n",
       "       0.325 , 0.325 , 0.325 , 0.325 , 0.525 , 0.525 , 0.525 , 0.525 ,\n",
       "       0.4125, 0.4125, 0.4125, 0.4125, 0.425 , 0.425 , 0.425 , 0.425 ,\n",
       "       0.4   , 0.4   , 0.4   , 0.4   , 0.4   , 0.4   , 0.4   , 0.4   ,\n",
       "       0.1625, 0.1625, 0.1625, 0.1625, 0.3   , 0.3   , 0.3   , 0.3   ,\n",
       "       0.1875, 0.1875, 0.1875, 0.1875, 0.275 , 0.275 , 0.275 , 0.275 ,\n",
       "       0.4875, 0.4875, 0.4875, 0.4875, 0.45  , 0.45  , 0.45  , 0.45  ,\n",
       "       0.425 , 0.425 , 0.425 , 0.425 , 0.35  , 0.35  , 0.35  , 0.35  ,\n",
       "       0.3875, 0.3875, 0.3875, 0.3875, 0.35  , 0.35  , 0.35  , 0.35  ,\n",
       "       0.4   , 0.4   , 0.4   , 0.4   , 0.3625, 0.3625, 0.3625, 0.3625,\n",
       "       0.4   , 0.4   , 0.4   , 0.4   , 0.4125, 0.4125, 0.4125, 0.4125,\n",
       "       0.3   , 0.3   , 0.3   , 0.3   , 0.525 , 0.525 , 0.525 , 0.525 ,\n",
       "       0.3375, 0.3375, 0.3375, 0.3375, 0.3125, 0.3125, 0.3125, 0.3125,\n",
       "       0.325 , 0.325 , 0.325 , 0.325 , 0.2625, 0.2625, 0.2625, 0.2625,\n",
       "       0.5   , 0.5   , 0.5   , 0.5   , 0.2375, 0.2375, 0.2375, 0.2375,\n",
       "       0.6875, 0.6875, 0.6875, 0.6875, 0.5   , 0.5   , 0.5   , 0.5   ,\n",
       "       0.2875, 0.2875, 0.2875, 0.2875, 0.35  , 0.35  , 0.35  , 0.35  ,\n",
       "       0.5   , 0.5   , 0.5   , 0.5   , 0.3875, 0.3875, 0.3875, 0.3875,\n",
       "       0.1625, 0.1625, 0.1625, 0.1625, 0.2125, 0.2125, 0.2125, 0.2125,\n",
       "       0.425 , 0.425 , 0.425 , 0.425 , 0.35  , 0.35  , 0.35  , 0.35  ,\n",
       "       0.4   , 0.4   , 0.4   , 0.4   , 0.3625, 0.3625, 0.3625, 0.3625,\n",
       "       0.125 , 0.125 , 0.125 , 0.125 , 0.125 , 0.125 , 0.125 , 0.125 ,\n",
       "       0.1   , 0.1   , 0.1   , 0.1   , 0.1625, 0.1625, 0.1625, 0.1625,\n",
       "       0.7   , 0.7   , 0.7   , 0.7   , 0.4   , 0.4   , 0.4   , 0.4   ,\n",
       "       0.425 , 0.425 , 0.425 , 0.425 , 0.3625, 0.3625, 0.3625, 0.3625,\n",
       "       0.375 , 0.375 , 0.375 , 0.375 , 0.6125, 0.6125, 0.6125, 0.6125,\n",
       "       0.4125, 0.4125, 0.4125, 0.4125, 0.2   , 0.2   , 0.2   , 0.2   ,\n",
       "       0.2   , 0.2   , 0.2   , 0.2   , 0.2125, 0.2125, 0.2125, 0.2125,\n",
       "       0.55  , 0.55  , 0.55  , 0.55  , 0.0875, 0.0875, 0.0875, 0.0875,\n",
       "       0.0875, 0.0875, 0.0875, 0.0875, 0.2625, 0.2625, 0.2625, 0.2625,\n",
       "       0.0875, 0.0875, 0.0875, 0.0875, 0.125 , 0.125 , 0.125 , 0.125 ,\n",
       "       0.225 , 0.225 , 0.225 , 0.225 , 0.4125, 0.4125, 0.4125, 0.4125,\n",
       "       0.2375, 0.2375, 0.2375, 0.2375, 0.275 , 0.275 , 0.275 , 0.275 ,\n",
       "       0.3625, 0.3625, 0.3625, 0.3625, 0.4   , 0.4   , 0.4   , 0.4   ,\n",
       "       0.35  , 0.35  , 0.35  , 0.35  , 0.1125, 0.1125, 0.1125, 0.1125,\n",
       "       0.2125, 0.2125, 0.2125, 0.2125, 0.2   , 0.2   , 0.2   , 0.2   ,\n",
       "       0.0875, 0.0875, 0.0875, 0.0875, 0.1125, 0.1125, 0.1125, 0.1125,\n",
       "       0.225 , 0.225 , 0.225 , 0.225 , 0.225 , 0.225 , 0.225 , 0.225 ,\n",
       "       0.375 , 0.375 , 0.375 , 0.375 , 0.375 , 0.375 , 0.375 , 0.375 ,\n",
       "       0.4   , 0.4   , 0.4   , 0.4   , 0.375 , 0.375 , 0.375 , 0.375 ,\n",
       "       0.45  , 0.45  , 0.45  , 0.45  , 0.3625, 0.3625, 0.3625, 0.3625,\n",
       "       0.425 , 0.425 , 0.425 , 0.425 , 0.3625, 0.3625, 0.3625, 0.3625,\n",
       "       0.3375, 0.3375, 0.3375, 0.3375, 0.25  , 0.25  , 0.25  , 0.25  ,\n",
       "       0.325 , 0.325 , 0.325 , 0.325 , 0.2875, 0.2875, 0.2875, 0.2875,\n",
       "       0.275 , 0.275 , 0.275 , 0.275 , 0.6125, 0.6125, 0.6125, 0.6125,\n",
       "       0.1625, 0.1625, 0.1625, 0.1625, 0.175 , 0.175 , 0.175 , 0.175 ,\n",
       "       0.1875, 0.1875, 0.1875, 0.1875, 0.175 , 0.175 , 0.175 , 0.175 ,\n",
       "       0.4875, 0.4875, 0.4875, 0.4875, 0.225 , 0.225 , 0.225 , 0.225 ,\n",
       "       0.3375, 0.3375, 0.3375, 0.3375, 0.275 , 0.275 , 0.275 , 0.275 ,\n",
       "       0.2   , 0.2   , 0.2   , 0.2   , 0.15  , 0.15  , 0.15  , 0.15  ,\n",
       "       0.1625, 0.1625, 0.1625, 0.1625, 0.2125, 0.2125, 0.2125, 0.2125,\n",
       "       0.425 , 0.425 , 0.425 , 0.425 , 0.2625, 0.2625, 0.2625, 0.2625,\n",
       "       0.2875, 0.2875, 0.2875, 0.2875, 0.2625, 0.2625, 0.2625, 0.2625,\n",
       "       0.25  , 0.25  , 0.25  , 0.25  , 0.1875, 0.1875, 0.1875, 0.1875,\n",
       "       0.0625, 0.0625, 0.0625, 0.0625, 0.05  , 0.05  , 0.05  , 0.05  ,\n",
       "       0.0875, 0.0875, 0.0875, 0.0875, 0.0375, 0.0375, 0.0375, 0.0375,\n",
       "       0.1125, 0.1125, 0.1125, 0.1125, 0.075 , 0.075 , 0.075 , 0.075 ,\n",
       "       0.05  , 0.05  , 0.05  , 0.05  , 0.0875, 0.0875, 0.0875, 0.0875,\n",
       "       0.05  , 0.05  , 0.05  , 0.05  , 0.0375, 0.0375, 0.0375, 0.0375,\n",
       "       0.0625, 0.0625, 0.0625, 0.0625, 0.0875, 0.0875, 0.0875, 0.0875,\n",
       "       0.05  , 0.05  , 0.05  , 0.05  , 0.0625, 0.0625, 0.0625, 0.0625,\n",
       "       0.075 , 0.075 , 0.075 , 0.075 , 0.075 , 0.075 , 0.075 , 0.075 ,\n",
       "       0.0375, 0.0375, 0.0375, 0.0375, 0.05  , 0.05  , 0.05  , 0.05  ,\n",
       "       0.025 , 0.025 , 0.025 , 0.025 , 0.075 , 0.075 , 0.075 , 0.075 ,\n",
       "       0.075 , 0.075 , 0.075 ], dtype=float32)"
      ]
     },
     "execution_count": 22,
     "metadata": {},
     "output_type": "execute_result"
    }
   ],
   "source": [
    "print(\"gtscore gt\", video_gt['gtscore'][...].shape)\n",
    "video_gt['gtscore'][...]"
   ]
  },
  {
   "cell_type": "code",
   "execution_count": 23,
   "metadata": {},
   "outputs": [
    {
     "name": "stdout",
     "output_type": "stream",
     "text": [
      "gtscore mine (707,)\n"
     ]
    },
    {
     "data": {
      "text/plain": [
       "array([0.85, 0.85, 0.85, 0.85, 0.5 , 0.5 , 0.5 , 0.5 , 0.2 , 0.2 , 0.2 ,\n",
       "       0.2 , 0.2 , 0.2 , 0.2 , 0.2 , 0.25, 0.25, 0.25, 0.25, 0.15, 0.15,\n",
       "       0.15, 0.15, 0.25, 0.25, 0.25, 0.25, 0.25, 0.25, 0.25, 0.25, 0.2 ,\n",
       "       0.2 , 0.2 , 0.2 , 0.25, 0.25, 0.25, 0.25, 0.7 , 0.7 , 0.7 , 0.7 ,\n",
       "       0.2 , 0.2 , 0.2 , 0.2 , 0.4 , 0.4 , 0.4 , 0.4 , 0.5 , 0.5 , 0.5 ,\n",
       "       0.5 , 0.4 , 0.4 , 0.4 , 0.4 , 0.4 , 0.4 , 0.4 , 0.4 , 0.4 , 0.4 ,\n",
       "       0.4 , 0.4 , 0.45, 0.45, 0.45, 0.45, 0.35, 0.35, 0.35, 0.35, 0.4 ,\n",
       "       0.4 , 0.4 , 0.4 , 0.25, 0.25, 0.25, 0.25, 0.3 , 0.3 , 0.3 , 0.3 ,\n",
       "       0.15, 0.15, 0.15, 0.15, 0.25, 0.25, 0.25, 0.25, 0.2 , 0.2 , 0.2 ,\n",
       "       0.2 , 0.2 , 0.2 , 0.2 , 0.2 , 0.25, 0.25, 0.25, 0.25, 0.15, 0.15,\n",
       "       0.15, 0.15, 0.7 , 0.7 , 0.7 , 0.7 , 0.4 , 0.4 , 0.4 , 0.4 , 0.35,\n",
       "       0.35, 0.35, 0.35, 0.3 , 0.3 , 0.3 , 0.3 , 0.4 , 0.4 , 0.4 , 0.4 ,\n",
       "       0.25, 0.25, 0.25, 0.25, 0.1 , 0.1 , 0.1 , 0.1 , 0.1 , 0.1 , 0.1 ,\n",
       "       0.1 , 0.  , 0.  , 0.  , 0.  , 0.4 , 0.4 , 0.4 , 0.4 , 0.55, 0.55,\n",
       "       0.55, 0.55, 0.5 , 0.5 , 0.5 , 0.5 , 0.5 , 0.5 , 0.5 , 0.5 , 0.45,\n",
       "       0.45, 0.45, 0.45, 0.6 , 0.6 , 0.6 , 0.6 , 0.45, 0.45, 0.45, 0.45,\n",
       "       0.5 , 0.5 , 0.5 , 0.5 , 0.75, 0.75, 0.75, 0.75, 0.7 , 0.7 , 0.7 ,\n",
       "       0.7 , 0.9 , 0.9 , 0.9 , 0.9 , 0.9 , 0.9 , 0.9 , 0.9 , 0.9 , 0.9 ,\n",
       "       0.9 , 0.9 , 0.75, 0.75, 0.75, 0.75, 0.9 , 0.9 , 0.9 , 0.9 , 0.8 ,\n",
       "       0.8 , 0.8 , 0.8 , 0.95, 0.95, 0.95, 0.95, 0.85, 0.85, 0.85, 0.85,\n",
       "       0.85, 0.85, 0.85, 0.85, 0.55, 0.55, 0.55, 0.55, 0.8 , 0.8 , 0.8 ,\n",
       "       0.8 , 0.65, 0.65, 0.65, 0.65, 0.7 , 0.7 , 0.7 , 0.7 , 0.9 , 0.9 ,\n",
       "       0.9 , 0.9 , 0.9 , 0.9 , 0.9 , 0.9 , 0.95, 0.95, 0.95, 0.95, 0.85,\n",
       "       0.85, 0.85, 0.85, 0.85, 0.85, 0.85, 0.85, 0.9 , 0.9 , 0.9 , 0.9 ,\n",
       "       0.85, 0.85, 0.85, 0.85, 0.8 , 0.8 , 0.8 , 0.8 , 0.85, 0.85, 0.85,\n",
       "       0.85, 0.85, 0.85, 0.85, 0.85, 0.8 , 0.8 , 0.8 , 0.8 , 0.85, 0.85,\n",
       "       0.85, 0.85, 0.85, 0.85, 0.85, 0.85, 0.7 , 0.7 , 0.7 , 0.7 , 0.75,\n",
       "       0.75, 0.75, 0.75, 0.7 , 0.7 , 0.7 , 0.7 , 0.8 , 0.8 , 0.8 , 0.8 ,\n",
       "       0.65, 0.65, 0.65, 0.65, 1.  , 1.  , 1.  , 1.  , 0.75, 0.75, 0.75,\n",
       "       0.75, 0.7 , 0.7 , 0.7 , 0.7 , 0.8 , 0.8 , 0.8 , 0.8 , 0.9 , 0.9 ,\n",
       "       0.9 , 0.9 , 0.7 , 0.7 , 0.7 , 0.7 , 0.5 , 0.5 , 0.5 , 0.5 , 0.55,\n",
       "       0.55, 0.55, 0.55, 0.9 , 0.9 , 0.9 , 0.9 , 0.9 , 0.9 , 0.9 , 0.9 ,\n",
       "       0.8 , 0.8 , 0.8 , 0.8 , 0.7 , 0.7 , 0.7 , 0.7 , 0.5 , 0.5 , 0.5 ,\n",
       "       0.5 , 0.5 , 0.5 , 0.5 , 0.5 , 0.4 , 0.4 , 0.4 , 0.4 , 0.6 , 0.6 ,\n",
       "       0.6 , 0.6 , 0.95, 0.95, 0.95, 0.95, 0.85, 0.85, 0.85, 0.85, 0.9 ,\n",
       "       0.9 , 0.9 , 0.9 , 0.8 , 0.8 , 0.8 , 0.8 , 0.85, 0.85, 0.85, 0.85,\n",
       "       0.95, 0.95, 0.95, 0.95, 0.85, 0.85, 0.85, 0.85, 0.6 , 0.6 , 0.6 ,\n",
       "       0.6 , 0.6 , 0.6 , 0.6 , 0.6 , 0.5 , 0.5 , 0.5 , 0.5 , 0.9 , 0.9 ,\n",
       "       0.9 , 0.9 , 0.3 , 0.3 , 0.3 , 0.3 , 0.25, 0.25, 0.25, 0.25, 0.55,\n",
       "       0.55, 0.55, 0.55, 0.35, 0.35, 0.35, 0.35, 0.3 , 0.3 , 0.3 , 0.3 ,\n",
       "       0.45, 0.45, 0.45, 0.45, 0.8 , 0.8 , 0.8 , 0.8 , 0.5 , 0.5 , 0.5 ,\n",
       "       0.5 , 0.6 , 0.6 , 0.6 , 0.6 , 0.6 , 0.6 , 0.6 , 0.6 , 0.75, 0.75,\n",
       "       0.75, 0.75, 0.65, 0.65, 0.65, 0.65, 0.35, 0.35, 0.35, 0.35, 0.4 ,\n",
       "       0.4 , 0.4 , 0.4 , 0.4 , 0.4 , 0.4 , 0.4 , 0.3 , 0.3 , 0.3 , 0.3 ,\n",
       "       0.35, 0.35, 0.35, 0.35, 0.45, 0.45, 0.45, 0.45, 0.5 , 0.5 , 0.5 ,\n",
       "       0.5 , 0.8 , 0.8 , 0.8 , 0.8 , 0.75, 0.75, 0.75, 0.75, 0.8 , 0.8 ,\n",
       "       0.8 , 0.8 , 0.8 , 0.8 , 0.8 , 0.8 , 0.9 , 0.9 , 0.9 , 0.9 , 0.7 ,\n",
       "       0.7 , 0.7 , 0.7 , 0.8 , 0.8 , 0.8 , 0.8 , 0.75, 0.75, 0.75, 0.75,\n",
       "       0.75, 0.75, 0.75, 0.75, 0.65, 0.65, 0.65, 0.65, 0.65, 0.65, 0.65,\n",
       "       0.65, 0.75, 0.75, 0.75, 0.75, 0.7 , 0.7 , 0.7 , 0.7 , 0.95, 0.95,\n",
       "       0.95, 0.95, 0.4 , 0.4 , 0.4 , 0.4 , 0.45, 0.45, 0.45, 0.45, 0.5 ,\n",
       "       0.5 , 0.5 , 0.5 , 0.6 , 0.6 , 0.6 , 0.6 , 0.8 , 0.8 , 0.8 , 0.8 ,\n",
       "       0.55, 0.55, 0.55, 0.55, 0.7 , 0.7 , 0.7 , 0.7 , 0.6 , 0.6 , 0.6 ,\n",
       "       0.6 , 0.55, 0.55, 0.55, 0.55, 0.4 , 0.4 , 0.4 , 0.4 , 0.4 , 0.4 ,\n",
       "       0.4 , 0.4 , 0.6 , 0.6 , 0.6 , 0.6 , 0.85, 0.85, 0.85, 0.85, 0.6 ,\n",
       "       0.6 , 0.6 , 0.6 , 0.6 , 0.6 , 0.6 , 0.6 , 0.6 , 0.6 , 0.6 , 0.6 ,\n",
       "       0.6 , 0.6 , 0.6 , 0.6 , 0.5 , 0.5 , 0.5 , 0.5 , 0.25, 0.25, 0.25,\n",
       "       0.25, 0.2 , 0.2 , 0.2 , 0.2 , 0.25, 0.25, 0.25, 0.25, 0.15, 0.15,\n",
       "       0.15, 0.15, 0.35, 0.35, 0.35, 0.35, 0.15, 0.15, 0.15, 0.15, 0.2 ,\n",
       "       0.2 , 0.2 , 0.2 , 0.25, 0.25, 0.25, 0.25, 0.2 , 0.2 , 0.2 , 0.2 ,\n",
       "       0.15, 0.15, 0.15, 0.15, 0.15, 0.15, 0.15, 0.15, 0.15, 0.15, 0.15,\n",
       "       0.15, 0.2 , 0.2 , 0.2 , 0.2 , 0.25, 0.25, 0.25, 0.25, 0.25, 0.25,\n",
       "       0.25, 0.25, 0.25, 0.25, 0.25, 0.25, 0.1 , 0.1 , 0.1 , 0.1 , 0.15,\n",
       "       0.15, 0.15, 0.15, 0.1 , 0.1 , 0.1 , 0.1 , 0.2 , 0.2 , 0.2 , 0.2 ,\n",
       "       0.2 , 0.2 , 0.2 ], dtype=float32)"
      ]
     },
     "execution_count": 23,
     "metadata": {},
     "output_type": "execute_result"
    }
   ],
   "source": [
    "print(\"gtscore mine\", video_mine['gtscore'][...].shape)\n",
    "video_mine['gtscore'][...]"
   ]
  },
  {
   "cell_type": "markdown",
   "metadata": {},
   "source": [
    "### User summary"
   ]
  },
  {
   "cell_type": "code",
   "execution_count": 24,
   "metadata": {},
   "outputs": [
    {
     "name": "stdout",
     "output_type": "stream",
     "text": [
      "user summary gt (20, 10597)\n"
     ]
    },
    {
     "data": {
      "text/plain": [
       "array([[1., 1., 1., ..., 0., 0., 0.],\n",
       "       [1., 1., 1., ..., 0., 0., 0.],\n",
       "       [1., 1., 1., ..., 0., 0., 0.],\n",
       "       ...,\n",
       "       [1., 1., 1., ..., 0., 0., 0.],\n",
       "       [1., 1., 1., ..., 0., 0., 0.],\n",
       "       [1., 1., 1., ..., 0., 0., 0.]], dtype=float32)"
      ]
     },
     "execution_count": 24,
     "metadata": {},
     "output_type": "execute_result"
    }
   ],
   "source": [
    "print(\"user summary gt\", video_gt['user_summary'][...].shape)\n",
    "video_gt['user_summary'][...]"
   ]
  },
  {
   "cell_type": "code",
   "execution_count": 25,
   "metadata": {},
   "outputs": [
    {
     "name": "stdout",
     "output_type": "stream",
     "text": [
      "user summary mine (20, 10597)\n"
     ]
    },
    {
     "data": {
      "text/plain": [
       "array([[1., 1., 1., ..., 0., 0., 0.],\n",
       "       [1., 1., 1., ..., 0., 0., 0.],\n",
       "       [1., 1., 1., ..., 0., 0., 0.],\n",
       "       ...,\n",
       "       [1., 1., 1., ..., 0., 0., 0.],\n",
       "       [1., 1., 1., ..., 0., 0., 0.],\n",
       "       [1., 1., 1., ..., 0., 0., 0.]], dtype=float32)"
      ]
     },
     "execution_count": 25,
     "metadata": {},
     "output_type": "execute_result"
    }
   ],
   "source": [
    "print(\"user summary mine\", video_mine['user_summary'][...].shape)\n",
    "video_mine['user_summary'][...]"
   ]
  },
  {
   "cell_type": "markdown",
   "metadata": {},
   "source": [
    "### N frames"
   ]
  },
  {
   "cell_type": "code",
   "execution_count": 26,
   "metadata": {},
   "outputs": [
    {
     "name": "stdout",
     "output_type": "stream",
     "text": [
      "n frames gt 10597\n"
     ]
    }
   ],
   "source": [
    "print(\"n frames gt\", video_gt['n_frames'][...])"
   ]
  },
  {
   "cell_type": "code",
   "execution_count": 27,
   "metadata": {},
   "outputs": [
    {
     "name": "stdout",
     "output_type": "stream",
     "text": [
      "n frames mine 10597\n"
     ]
    }
   ],
   "source": [
    "print(\"n frames mine\", video_mine['n_frames'][...])"
   ]
  },
  {
   "cell_type": "markdown",
   "metadata": {},
   "source": [
    "### Change points"
   ]
  },
  {
   "cell_type": "code",
   "execution_count": 28,
   "metadata": {},
   "outputs": [
    {
     "name": "stdout",
     "output_type": "stream",
     "text": [
      "change points gt (71, 2)\n"
     ]
    },
    {
     "data": {
      "text/plain": [
       "array([[    0,    32],\n",
       "       [   33,    63],\n",
       "       [   64,   101],\n",
       "       [  102,   295],\n",
       "       [  296,   592],\n",
       "       [  593,   685],\n",
       "       [  686,  1229],\n",
       "       [ 1230,  1692],\n",
       "       [ 1693,  1727],\n",
       "       [ 1728,  1758],\n",
       "       [ 1759,  1786],\n",
       "       [ 1787,  1857],\n",
       "       [ 1858,  1982],\n",
       "       [ 1983,  2214],\n",
       "       [ 2215,  2349],\n",
       "       [ 2350,  2461],\n",
       "       [ 2462,  2522],\n",
       "       [ 2523,  2690],\n",
       "       [ 2691,  2841],\n",
       "       [ 2842,  3025],\n",
       "       [ 3026,  3155],\n",
       "       [ 3156,  3258],\n",
       "       [ 3259,  3331],\n",
       "       [ 3332,  3426],\n",
       "       [ 3427,  3466],\n",
       "       [ 3467,  3523],\n",
       "       [ 3524,  3599],\n",
       "       [ 3600,  3923],\n",
       "       [ 3924,  4017],\n",
       "       [ 4018,  4143],\n",
       "       [ 4144,  4213],\n",
       "       [ 4214,  4266],\n",
       "       [ 4267,  4414],\n",
       "       [ 4415,  4539],\n",
       "       [ 4540,  4625],\n",
       "       [ 4626,  4646],\n",
       "       [ 4647,  4773],\n",
       "       [ 4774,  4950],\n",
       "       [ 4951,  5035],\n",
       "       [ 5036,  5169],\n",
       "       [ 5170,  5234],\n",
       "       [ 5235,  5362],\n",
       "       [ 5363,  5604],\n",
       "       [ 5605,  5698],\n",
       "       [ 5699,  5826],\n",
       "       [ 5827,  5916],\n",
       "       [ 5917,  5947],\n",
       "       [ 5948,  6060],\n",
       "       [ 6061,  6278],\n",
       "       [ 6279,  6382],\n",
       "       [ 6383,  6468],\n",
       "       [ 6469,  6639],\n",
       "       [ 6640,  6694],\n",
       "       [ 6695,  6885],\n",
       "       [ 6886,  7035],\n",
       "       [ 7036,  7395],\n",
       "       [ 7396,  7546],\n",
       "       [ 7547,  7721],\n",
       "       [ 7722,  7968],\n",
       "       [ 7969,  8114],\n",
       "       [ 8115,  8184],\n",
       "       [ 8185,  8246],\n",
       "       [ 8247,  8488],\n",
       "       [ 8489,  8552],\n",
       "       [ 8553,  8754],\n",
       "       [ 8755,  8900],\n",
       "       [ 8901,  8972],\n",
       "       [ 8973,  9062],\n",
       "       [ 9063,  9331],\n",
       "       [ 9332,  9599],\n",
       "       [ 9600, 10596]])"
      ]
     },
     "execution_count": 28,
     "metadata": {},
     "output_type": "execute_result"
    }
   ],
   "source": [
    "print(\"change points gt\", video_gt['change_points'][...].shape)\n",
    "video_gt['change_points'][...]"
   ]
  },
  {
   "cell_type": "code",
   "execution_count": 29,
   "metadata": {},
   "outputs": [
    {
     "name": "stdout",
     "output_type": "stream",
     "text": [
      "change points mine (71, 2)\n"
     ]
    },
    {
     "data": {
      "text/plain": [
       "array([[    0,    74],\n",
       "       [   75,   104],\n",
       "       [  105,   284],\n",
       "       [  285,   599],\n",
       "       [  600,   689],\n",
       "       [  690,  1229],\n",
       "       [ 1230,  1694],\n",
       "       [ 1695,  1739],\n",
       "       [ 1740,  1769],\n",
       "       [ 1770,  1799],\n",
       "       [ 1800,  1859],\n",
       "       [ 1860,  1994],\n",
       "       [ 1995,  2219],\n",
       "       [ 2220,  2264],\n",
       "       [ 2265,  2369],\n",
       "       [ 2370,  2474],\n",
       "       [ 2475,  2519],\n",
       "       [ 2520,  2699],\n",
       "       [ 2700,  2849],\n",
       "       [ 2850,  3164],\n",
       "       [ 3165,  3269],\n",
       "       [ 3270,  3344],\n",
       "       [ 3345,  3434],\n",
       "       [ 3435,  3479],\n",
       "       [ 3480,  3524],\n",
       "       [ 3525,  3599],\n",
       "       [ 3600,  3929],\n",
       "       [ 3930,  4019],\n",
       "       [ 4020,  4214],\n",
       "       [ 4215,  4274],\n",
       "       [ 4275,  4424],\n",
       "       [ 4425,  4544],\n",
       "       [ 4545,  4604],\n",
       "       [ 4605,  4634],\n",
       "       [ 4635,  4649],\n",
       "       [ 4650,  4784],\n",
       "       [ 4785,  4889],\n",
       "       [ 4890,  4949],\n",
       "       [ 4950,  5039],\n",
       "       [ 5040,  5204],\n",
       "       [ 5205,  5369],\n",
       "       [ 5370,  5609],\n",
       "       [ 5610,  5699],\n",
       "       [ 5700,  5834],\n",
       "       [ 5835,  5924],\n",
       "       [ 5925,  5954],\n",
       "       [ 5955,  6074],\n",
       "       [ 6075,  6284],\n",
       "       [ 6285,  6389],\n",
       "       [ 6390,  6464],\n",
       "       [ 6465,  6644],\n",
       "       [ 6645,  6899],\n",
       "       [ 6900,  7049],\n",
       "       [ 7050,  7409],\n",
       "       [ 7410,  7559],\n",
       "       [ 7560,  7604],\n",
       "       [ 7605,  7724],\n",
       "       [ 7725,  7994],\n",
       "       [ 7995,  8099],\n",
       "       [ 8100,  8189],\n",
       "       [ 8190,  8249],\n",
       "       [ 8250,  8474],\n",
       "       [ 8475,  8504],\n",
       "       [ 8505,  8534],\n",
       "       [ 8535,  8744],\n",
       "       [ 8745,  8909],\n",
       "       [ 8910,  8984],\n",
       "       [ 8985,  9074],\n",
       "       [ 9075,  9344],\n",
       "       [ 9345, 10094],\n",
       "       [10095, 10596]])"
      ]
     },
     "execution_count": 29,
     "metadata": {},
     "output_type": "execute_result"
    }
   ],
   "source": [
    "\n",
    "\n",
    "print(\"change points mine\", video_mine['change_points'][...].shape)\n",
    "video_mine['change_points'][...]"
   ]
  },
  {
   "cell_type": "markdown",
   "metadata": {},
   "source": [
    "### N frames por segmenot"
   ]
  },
  {
   "cell_type": "code",
   "execution_count": 30,
   "metadata": {},
   "outputs": [
    {
     "name": "stdout",
     "output_type": "stream",
     "text": [
      "n frame per seg gt (71,)\n"
     ]
    },
    {
     "data": {
      "text/plain": [
       "array([ 33,  31,  38, 194, 297,  93, 544, 463,  35,  31,  28,  71, 125,\n",
       "       232, 135, 112,  61, 168, 151, 184, 130, 103,  73,  95,  40,  57,\n",
       "        76, 324,  94, 126,  70,  53, 148, 125,  86,  21, 127, 177,  85,\n",
       "       134,  65, 128, 242,  94, 128,  90,  31, 113, 218, 104,  86, 171,\n",
       "        55, 191, 150, 360, 151, 175, 247, 146,  70,  62, 242,  64, 202,\n",
       "       146,  72,  90, 269, 268, 997])"
      ]
     },
     "execution_count": 30,
     "metadata": {},
     "output_type": "execute_result"
    }
   ],
   "source": [
    "print(\"n frame per seg gt\", video_gt['n_frame_per_seg'][...].shape)\n",
    "video_gt['n_frame_per_seg'][...]"
   ]
  },
  {
   "cell_type": "code",
   "execution_count": 31,
   "metadata": {},
   "outputs": [
    {
     "data": {
      "text/plain": [
       "149.25352112676057"
      ]
     },
     "execution_count": 31,
     "metadata": {},
     "output_type": "execute_result"
    }
   ],
   "source": [
    "video_gt['n_frame_per_seg'][...].mean()"
   ]
  },
  {
   "cell_type": "code",
   "execution_count": 32,
   "metadata": {},
   "outputs": [
    {
     "name": "stdout",
     "output_type": "stream",
     "text": [
      "n frame per seg mine (71,)\n"
     ]
    },
    {
     "data": {
      "text/plain": [
       "array([ 75,  30, 180, 315,  90, 540, 465,  45,  30,  30,  60, 135, 225,\n",
       "        45, 105, 105,  45, 180, 150, 315, 105,  75,  90,  45,  45,  75,\n",
       "       330,  90, 195,  60, 150, 120,  60,  30,  15, 135, 105,  60,  90,\n",
       "       165, 165, 240,  90, 135,  90,  30, 120, 210, 105,  75, 180, 255,\n",
       "       150, 360, 150,  45, 120, 270, 105,  90,  60, 225,  30,  30, 210,\n",
       "       165,  75,  90, 270, 750, 502])"
      ]
     },
     "execution_count": 32,
     "metadata": {},
     "output_type": "execute_result"
    }
   ],
   "source": [
    "print(\"n frame per seg mine\", video_mine['n_frame_per_seg'][...].shape)\n",
    "video_mine['n_frame_per_seg'][...]"
   ]
  },
  {
   "cell_type": "markdown",
   "metadata": {},
   "source": [
    "### Picks"
   ]
  },
  {
   "cell_type": "code",
   "execution_count": 33,
   "metadata": {},
   "outputs": [
    {
     "name": "stdout",
     "output_type": "stream",
     "text": [
      "picks gt (707,)\n"
     ]
    },
    {
     "data": {
      "text/plain": [
       "array([    0,    15,    30,    45,    60,    75,    90,   105,   120,\n",
       "         135,   150,   165,   180,   195,   210,   225,   240,   255,\n",
       "         270,   285,   300,   315,   330,   345,   360,   375,   390,\n",
       "         405,   420,   435,   450,   465,   480,   495,   510,   525,\n",
       "         540,   555,   570,   585,   600,   615,   630,   645,   660,\n",
       "         675,   690,   705,   720,   735,   750,   765,   780,   795,\n",
       "         810,   825,   840,   855,   870,   885,   900,   915,   930,\n",
       "         945,   960,   975,   990,  1005,  1020,  1035,  1050,  1065,\n",
       "        1080,  1095,  1110,  1125,  1140,  1155,  1170,  1185,  1200,\n",
       "        1215,  1230,  1245,  1260,  1275,  1290,  1305,  1320,  1335,\n",
       "        1350,  1365,  1380,  1395,  1410,  1425,  1440,  1455,  1470,\n",
       "        1485,  1500,  1515,  1530,  1545,  1560,  1575,  1590,  1605,\n",
       "        1620,  1635,  1650,  1665,  1680,  1695,  1710,  1725,  1740,\n",
       "        1755,  1770,  1785,  1800,  1815,  1830,  1845,  1860,  1875,\n",
       "        1890,  1905,  1920,  1935,  1950,  1965,  1980,  1995,  2010,\n",
       "        2025,  2040,  2055,  2070,  2085,  2100,  2115,  2130,  2145,\n",
       "        2160,  2175,  2190,  2205,  2220,  2235,  2250,  2265,  2280,\n",
       "        2295,  2310,  2325,  2340,  2355,  2370,  2385,  2400,  2415,\n",
       "        2430,  2445,  2460,  2475,  2490,  2505,  2520,  2535,  2550,\n",
       "        2565,  2580,  2595,  2610,  2625,  2640,  2655,  2670,  2685,\n",
       "        2700,  2715,  2730,  2745,  2760,  2775,  2790,  2805,  2820,\n",
       "        2835,  2850,  2865,  2880,  2895,  2910,  2925,  2940,  2955,\n",
       "        2970,  2985,  3000,  3015,  3030,  3045,  3060,  3075,  3090,\n",
       "        3105,  3120,  3135,  3150,  3165,  3180,  3195,  3210,  3225,\n",
       "        3240,  3255,  3270,  3285,  3300,  3315,  3330,  3345,  3360,\n",
       "        3375,  3390,  3405,  3420,  3435,  3450,  3465,  3480,  3495,\n",
       "        3510,  3525,  3540,  3555,  3570,  3585,  3600,  3615,  3630,\n",
       "        3645,  3660,  3675,  3690,  3705,  3720,  3735,  3750,  3765,\n",
       "        3780,  3795,  3810,  3825,  3840,  3855,  3870,  3885,  3900,\n",
       "        3915,  3930,  3945,  3960,  3975,  3990,  4005,  4020,  4035,\n",
       "        4050,  4065,  4080,  4095,  4110,  4125,  4140,  4155,  4170,\n",
       "        4185,  4200,  4215,  4230,  4245,  4260,  4275,  4290,  4305,\n",
       "        4320,  4335,  4350,  4365,  4380,  4395,  4410,  4425,  4440,\n",
       "        4455,  4470,  4485,  4500,  4515,  4530,  4545,  4560,  4575,\n",
       "        4590,  4605,  4620,  4635,  4650,  4665,  4680,  4695,  4710,\n",
       "        4725,  4740,  4755,  4770,  4785,  4800,  4815,  4830,  4845,\n",
       "        4860,  4875,  4890,  4905,  4920,  4935,  4950,  4965,  4980,\n",
       "        4995,  5010,  5025,  5040,  5055,  5070,  5085,  5100,  5115,\n",
       "        5130,  5145,  5160,  5175,  5190,  5205,  5220,  5235,  5250,\n",
       "        5265,  5280,  5295,  5310,  5325,  5340,  5355,  5370,  5385,\n",
       "        5400,  5415,  5430,  5445,  5460,  5475,  5490,  5505,  5520,\n",
       "        5535,  5550,  5565,  5580,  5595,  5610,  5625,  5640,  5655,\n",
       "        5670,  5685,  5700,  5715,  5730,  5745,  5760,  5775,  5790,\n",
       "        5805,  5820,  5835,  5850,  5865,  5880,  5895,  5910,  5925,\n",
       "        5940,  5955,  5970,  5985,  6000,  6015,  6030,  6045,  6060,\n",
       "        6075,  6090,  6105,  6120,  6135,  6150,  6165,  6180,  6195,\n",
       "        6210,  6225,  6240,  6255,  6270,  6285,  6300,  6315,  6330,\n",
       "        6345,  6360,  6375,  6390,  6405,  6420,  6435,  6450,  6465,\n",
       "        6480,  6495,  6510,  6525,  6540,  6555,  6570,  6585,  6600,\n",
       "        6615,  6630,  6645,  6660,  6675,  6690,  6705,  6720,  6735,\n",
       "        6750,  6765,  6780,  6795,  6810,  6825,  6840,  6855,  6870,\n",
       "        6885,  6900,  6915,  6930,  6945,  6960,  6975,  6990,  7005,\n",
       "        7020,  7035,  7050,  7065,  7080,  7095,  7110,  7125,  7140,\n",
       "        7155,  7170,  7185,  7200,  7215,  7230,  7245,  7260,  7275,\n",
       "        7290,  7305,  7320,  7335,  7350,  7365,  7380,  7395,  7410,\n",
       "        7425,  7440,  7455,  7470,  7485,  7500,  7515,  7530,  7545,\n",
       "        7560,  7575,  7590,  7605,  7620,  7635,  7650,  7665,  7680,\n",
       "        7695,  7710,  7725,  7740,  7755,  7770,  7785,  7800,  7815,\n",
       "        7830,  7845,  7860,  7875,  7890,  7905,  7920,  7935,  7950,\n",
       "        7965,  7980,  7995,  8010,  8025,  8040,  8055,  8070,  8085,\n",
       "        8100,  8115,  8130,  8145,  8160,  8175,  8190,  8205,  8220,\n",
       "        8235,  8250,  8265,  8280,  8295,  8310,  8325,  8340,  8355,\n",
       "        8370,  8385,  8400,  8415,  8430,  8445,  8460,  8475,  8490,\n",
       "        8505,  8520,  8535,  8550,  8565,  8580,  8595,  8610,  8625,\n",
       "        8640,  8655,  8670,  8685,  8700,  8715,  8730,  8745,  8760,\n",
       "        8775,  8790,  8805,  8820,  8835,  8850,  8865,  8880,  8895,\n",
       "        8910,  8925,  8940,  8955,  8970,  8985,  9000,  9015,  9030,\n",
       "        9045,  9060,  9075,  9090,  9105,  9120,  9135,  9150,  9165,\n",
       "        9180,  9195,  9210,  9225,  9240,  9255,  9270,  9285,  9300,\n",
       "        9315,  9330,  9345,  9360,  9375,  9390,  9405,  9420,  9435,\n",
       "        9450,  9465,  9480,  9495,  9510,  9525,  9540,  9555,  9570,\n",
       "        9585,  9600,  9615,  9630,  9645,  9660,  9675,  9690,  9705,\n",
       "        9720,  9735,  9750,  9765,  9780,  9795,  9810,  9825,  9840,\n",
       "        9855,  9870,  9885,  9900,  9915,  9930,  9945,  9960,  9975,\n",
       "        9990, 10005, 10020, 10035, 10050, 10065, 10080, 10095, 10110,\n",
       "       10125, 10140, 10155, 10170, 10185, 10200, 10215, 10230, 10245,\n",
       "       10260, 10275, 10290, 10305, 10320, 10335, 10350, 10365, 10380,\n",
       "       10395, 10410, 10425, 10440, 10455, 10470, 10485, 10500, 10515,\n",
       "       10530, 10545, 10560, 10575, 10590])"
      ]
     },
     "execution_count": 33,
     "metadata": {},
     "output_type": "execute_result"
    }
   ],
   "source": [
    "print(\"picks gt\", video_gt['picks'][...].shape)\n",
    "video_gt['picks'][...]"
   ]
  },
  {
   "cell_type": "code",
   "execution_count": 34,
   "metadata": {},
   "outputs": [
    {
     "name": "stdout",
     "output_type": "stream",
     "text": [
      "picks mine (707,)\n"
     ]
    },
    {
     "data": {
      "text/plain": [
       "array([    0,    15,    30,    45,    60,    75,    90,   105,   120,\n",
       "         135,   150,   165,   180,   195,   210,   225,   240,   255,\n",
       "         270,   285,   300,   315,   330,   345,   360,   375,   390,\n",
       "         405,   420,   435,   450,   465,   480,   495,   510,   525,\n",
       "         540,   555,   570,   585,   600,   615,   630,   645,   660,\n",
       "         675,   690,   705,   720,   735,   750,   765,   780,   795,\n",
       "         810,   825,   840,   855,   870,   885,   900,   915,   930,\n",
       "         945,   960,   975,   990,  1005,  1020,  1035,  1050,  1065,\n",
       "        1080,  1095,  1110,  1125,  1140,  1155,  1170,  1185,  1200,\n",
       "        1215,  1230,  1245,  1260,  1275,  1290,  1305,  1320,  1335,\n",
       "        1350,  1365,  1380,  1395,  1410,  1425,  1440,  1455,  1470,\n",
       "        1485,  1500,  1515,  1530,  1545,  1560,  1575,  1590,  1605,\n",
       "        1620,  1635,  1650,  1665,  1680,  1695,  1710,  1725,  1740,\n",
       "        1755,  1770,  1785,  1800,  1815,  1830,  1845,  1860,  1875,\n",
       "        1890,  1905,  1920,  1935,  1950,  1965,  1980,  1995,  2010,\n",
       "        2025,  2040,  2055,  2070,  2085,  2100,  2115,  2130,  2145,\n",
       "        2160,  2175,  2190,  2205,  2220,  2235,  2250,  2265,  2280,\n",
       "        2295,  2310,  2325,  2340,  2355,  2370,  2385,  2400,  2415,\n",
       "        2430,  2445,  2460,  2475,  2490,  2505,  2520,  2535,  2550,\n",
       "        2565,  2580,  2595,  2610,  2625,  2640,  2655,  2670,  2685,\n",
       "        2700,  2715,  2730,  2745,  2760,  2775,  2790,  2805,  2820,\n",
       "        2835,  2850,  2865,  2880,  2895,  2910,  2925,  2940,  2955,\n",
       "        2970,  2985,  3000,  3015,  3030,  3045,  3060,  3075,  3090,\n",
       "        3105,  3120,  3135,  3150,  3165,  3180,  3195,  3210,  3225,\n",
       "        3240,  3255,  3270,  3285,  3300,  3315,  3330,  3345,  3360,\n",
       "        3375,  3390,  3405,  3420,  3435,  3450,  3465,  3480,  3495,\n",
       "        3510,  3525,  3540,  3555,  3570,  3585,  3600,  3615,  3630,\n",
       "        3645,  3660,  3675,  3690,  3705,  3720,  3735,  3750,  3765,\n",
       "        3780,  3795,  3810,  3825,  3840,  3855,  3870,  3885,  3900,\n",
       "        3915,  3930,  3945,  3960,  3975,  3990,  4005,  4020,  4035,\n",
       "        4050,  4065,  4080,  4095,  4110,  4125,  4140,  4155,  4170,\n",
       "        4185,  4200,  4215,  4230,  4245,  4260,  4275,  4290,  4305,\n",
       "        4320,  4335,  4350,  4365,  4380,  4395,  4410,  4425,  4440,\n",
       "        4455,  4470,  4485,  4500,  4515,  4530,  4545,  4560,  4575,\n",
       "        4590,  4605,  4620,  4635,  4650,  4665,  4680,  4695,  4710,\n",
       "        4725,  4740,  4755,  4770,  4785,  4800,  4815,  4830,  4845,\n",
       "        4860,  4875,  4890,  4905,  4920,  4935,  4950,  4965,  4980,\n",
       "        4995,  5010,  5025,  5040,  5055,  5070,  5085,  5100,  5115,\n",
       "        5130,  5145,  5160,  5175,  5190,  5205,  5220,  5235,  5250,\n",
       "        5265,  5280,  5295,  5310,  5325,  5340,  5355,  5370,  5385,\n",
       "        5400,  5415,  5430,  5445,  5460,  5475,  5490,  5505,  5520,\n",
       "        5535,  5550,  5565,  5580,  5595,  5610,  5625,  5640,  5655,\n",
       "        5670,  5685,  5700,  5715,  5730,  5745,  5760,  5775,  5790,\n",
       "        5805,  5820,  5835,  5850,  5865,  5880,  5895,  5910,  5925,\n",
       "        5940,  5955,  5970,  5985,  6000,  6015,  6030,  6045,  6060,\n",
       "        6075,  6090,  6105,  6120,  6135,  6150,  6165,  6180,  6195,\n",
       "        6210,  6225,  6240,  6255,  6270,  6285,  6300,  6315,  6330,\n",
       "        6345,  6360,  6375,  6390,  6405,  6420,  6435,  6450,  6465,\n",
       "        6480,  6495,  6510,  6525,  6540,  6555,  6570,  6585,  6600,\n",
       "        6615,  6630,  6645,  6660,  6675,  6690,  6705,  6720,  6735,\n",
       "        6750,  6765,  6780,  6795,  6810,  6825,  6840,  6855,  6870,\n",
       "        6885,  6900,  6915,  6930,  6945,  6960,  6975,  6990,  7005,\n",
       "        7020,  7035,  7050,  7065,  7080,  7095,  7110,  7125,  7140,\n",
       "        7155,  7170,  7185,  7200,  7215,  7230,  7245,  7260,  7275,\n",
       "        7290,  7305,  7320,  7335,  7350,  7365,  7380,  7395,  7410,\n",
       "        7425,  7440,  7455,  7470,  7485,  7500,  7515,  7530,  7545,\n",
       "        7560,  7575,  7590,  7605,  7620,  7635,  7650,  7665,  7680,\n",
       "        7695,  7710,  7725,  7740,  7755,  7770,  7785,  7800,  7815,\n",
       "        7830,  7845,  7860,  7875,  7890,  7905,  7920,  7935,  7950,\n",
       "        7965,  7980,  7995,  8010,  8025,  8040,  8055,  8070,  8085,\n",
       "        8100,  8115,  8130,  8145,  8160,  8175,  8190,  8205,  8220,\n",
       "        8235,  8250,  8265,  8280,  8295,  8310,  8325,  8340,  8355,\n",
       "        8370,  8385,  8400,  8415,  8430,  8445,  8460,  8475,  8490,\n",
       "        8505,  8520,  8535,  8550,  8565,  8580,  8595,  8610,  8625,\n",
       "        8640,  8655,  8670,  8685,  8700,  8715,  8730,  8745,  8760,\n",
       "        8775,  8790,  8805,  8820,  8835,  8850,  8865,  8880,  8895,\n",
       "        8910,  8925,  8940,  8955,  8970,  8985,  9000,  9015,  9030,\n",
       "        9045,  9060,  9075,  9090,  9105,  9120,  9135,  9150,  9165,\n",
       "        9180,  9195,  9210,  9225,  9240,  9255,  9270,  9285,  9300,\n",
       "        9315,  9330,  9345,  9360,  9375,  9390,  9405,  9420,  9435,\n",
       "        9450,  9465,  9480,  9495,  9510,  9525,  9540,  9555,  9570,\n",
       "        9585,  9600,  9615,  9630,  9645,  9660,  9675,  9690,  9705,\n",
       "        9720,  9735,  9750,  9765,  9780,  9795,  9810,  9825,  9840,\n",
       "        9855,  9870,  9885,  9900,  9915,  9930,  9945,  9960,  9975,\n",
       "        9990, 10005, 10020, 10035, 10050, 10065, 10080, 10095, 10110,\n",
       "       10125, 10140, 10155, 10170, 10185, 10200, 10215, 10230, 10245,\n",
       "       10260, 10275, 10290, 10305, 10320, 10335, 10350, 10365, 10380,\n",
       "       10395, 10410, 10425, 10440, 10455, 10470, 10485, 10500, 10515,\n",
       "       10530, 10545, 10560, 10575, 10590])"
      ]
     },
     "execution_count": 34,
     "metadata": {},
     "output_type": "execute_result"
    }
   ],
   "source": [
    "print(\"picks mine\", video_mine['picks'][...].shape)\n",
    "video_mine['picks'][...]"
   ]
  },
  {
   "cell_type": "markdown",
   "metadata": {},
   "source": [
    "### Steps"
   ]
  },
  {
   "cell_type": "code",
   "execution_count": 35,
   "metadata": {},
   "outputs": [
    {
     "name": "stdout",
     "output_type": "stream",
     "text": [
      "n steps gt 707\n"
     ]
    },
    {
     "data": {
      "text/plain": [
       "array(707)"
      ]
     },
     "execution_count": 35,
     "metadata": {},
     "output_type": "execute_result"
    }
   ],
   "source": [
    "print(\"n steps gt\", video_gt['n_steps'][...])\n",
    "video_gt['n_steps'][...]"
   ]
  },
  {
   "cell_type": "code",
   "execution_count": 36,
   "metadata": {},
   "outputs": [
    {
     "name": "stdout",
     "output_type": "stream",
     "text": [
      "n steps mine 707\n"
     ]
    },
    {
     "data": {
      "text/plain": [
       "array(707)"
      ]
     },
     "execution_count": 36,
     "metadata": {},
     "output_type": "execute_result"
    }
   ],
   "source": [
    "print(\"n steps mine\", video_mine['n_steps'][...])\n",
    "video_mine['n_steps'][...]"
   ]
  },
  {
   "cell_type": "markdown",
   "metadata": {},
   "source": [
    "SumMe: video name is stored in video_i/video_name.\n",
    "TVSum: video1-50 corresponds to the same order in ydata-tvsum50.mat, which is the original matlab file provided by TVSum."
   ]
  },
  {
   "cell_type": "code",
   "execution_count": 37,
   "metadata": {},
   "outputs": [],
   "source": [
    "import numpy as np"
   ]
  },
  {
   "cell_type": "code",
   "execution_count": 38,
   "metadata": {},
   "outputs": [],
   "source": [
    "path_data = \"/data/shuaman/video_summarization/datasets/raw_datasets/TvSum/ydata-tvsum50-v1_1/matlab/ydata-tvsum50.mat\""
   ]
  },
  {
   "cell_type": "code",
   "execution_count": 39,
   "metadata": {},
   "outputs": [],
   "source": [
    "import os"
   ]
  },
  {
   "cell_type": "code",
   "execution_count": 40,
   "metadata": {},
   "outputs": [
    {
     "data": {
      "text/plain": [
       "'ydata-tvsum50.mat'"
      ]
     },
     "execution_count": 40,
     "metadata": {},
     "output_type": "execute_result"
    }
   ],
   "source": [
    "os.path.basename(path_data)"
   ]
  },
  {
   "cell_type": "code",
   "execution_count": 41,
   "metadata": {},
   "outputs": [
    {
     "data": {
      "text/plain": [
       "'/data/shuaman/video_summarization/datasets/raw_datasets/TvSum/ydata-tvsum50-v1_1/matlab'"
      ]
     },
     "execution_count": 41,
     "metadata": {},
     "output_type": "execute_result"
    }
   ],
   "source": [
    "\"/\".join(path_data.split(\"/\")[:-1])"
   ]
  },
  {
   "cell_type": "code",
   "execution_count": 42,
   "metadata": {},
   "outputs": [
    {
     "name": "stdout",
     "output_type": "stream",
     "text": [
      "48\n"
     ]
    }
   ],
   "source": [
    "!pip3 freeze | wc -l"
   ]
  },
  {
   "cell_type": "code",
   "execution_count": 44,
   "metadata": {},
   "outputs": [
    {
     "name": "stdout",
     "output_type": "stream",
     "text": [
      "ERROR! Session/line number was not unique in database. History logging moved to new session 242\n"
     ]
    }
   ],
   "source": [
    "all_mat = h5py.File(path_data,'r')"
   ]
  },
  {
   "cell_type": "code",
   "execution_count": 40,
   "metadata": {},
   "outputs": [],
   "source": [
    "all_mat.close()"
   ]
  },
  {
   "cell_type": "code",
   "execution_count": 220,
   "metadata": {},
   "outputs": [
    {
     "data": {
      "text/plain": [
       "<HDF5 file \"ydata-tvsum50.mat\" (mode r+)>"
      ]
     },
     "execution_count": 220,
     "metadata": {},
     "output_type": "execute_result"
    }
   ],
   "source": [
    "all_mat"
   ]
  },
  {
   "cell_type": "code",
   "execution_count": 221,
   "metadata": {},
   "outputs": [
    {
     "data": {
      "text/plain": [
       "['#refs#', 'tvsum50']"
      ]
     },
     "execution_count": 221,
     "metadata": {},
     "output_type": "execute_result"
    }
   ],
   "source": [
    "list(all_mat.keys())"
   ]
  },
  {
   "cell_type": "code",
   "execution_count": 301,
   "metadata": {},
   "outputs": [
    {
     "data": {
      "text/plain": [
       "['category', 'gt_score', 'length', 'nframes', 'title', 'user_anno', 'video']"
      ]
     },
     "execution_count": 301,
     "metadata": {},
     "output_type": "execute_result"
    }
   ],
   "source": [
    "list(all_mat['tvsum50'].keys())"
   ]
  },
  {
   "cell_type": "code",
   "execution_count": 303,
   "metadata": {},
   "outputs": [],
   "source": [
    "xdxddd = ['category', 'gt_score', 'length', 'nframes', 'title', 'user_anno', 'video']"
   ]
  },
  {
   "cell_type": "code",
   "execution_count": 304,
   "metadata": {},
   "outputs": [
    {
     "data": {
      "text/plain": [
       "6"
      ]
     },
     "execution_count": 304,
     "metadata": {},
     "output_type": "execute_result"
    }
   ],
   "source": [
    "xdxddd.index('video')"
   ]
  },
  {
   "cell_type": "code",
   "execution_count": 302,
   "metadata": {},
   "outputs": [
    {
     "data": {
      "text/plain": [
       "3"
      ]
     },
     "execution_count": 302,
     "metadata": {},
     "output_type": "execute_result"
    }
   ],
   "source": [
    "list(all_mat['tvsum50'].keys()).index('nframes')"
   ]
  },
  {
   "cell_type": "code",
   "execution_count": 265,
   "metadata": {},
   "outputs": [
    {
     "data": {
      "text/plain": [
       "7"
      ]
     },
     "execution_count": 265,
     "metadata": {},
     "output_type": "execute_result"
    }
   ],
   "source": [
    "len(all_mat['tvsum50'])"
   ]
  },
  {
   "cell_type": "code",
   "execution_count": 264,
   "metadata": {},
   "outputs": [
    {
     "data": {
      "text/plain": [
       "50"
      ]
     },
     "execution_count": 264,
     "metadata": {},
     "output_type": "execute_result"
    }
   ],
   "source": [
    "len(all_mat['tvsum50']['video'])"
   ]
  },
  {
   "cell_type": "code",
   "execution_count": 224,
   "metadata": {},
   "outputs": [
    {
     "data": {
      "text/plain": [
       "<HDF5 dataset \"title\": shape (50, 1), type \"|O\">"
      ]
     },
     "execution_count": 224,
     "metadata": {},
     "output_type": "execute_result"
    }
   ],
   "source": [
    "all_mat['tvsum50']['title']"
   ]
  },
  {
   "cell_type": "code",
   "execution_count": 225,
   "metadata": {},
   "outputs": [
    {
     "data": {
      "text/plain": [
       "<HDF5 object reference>"
      ]
     },
     "execution_count": 225,
     "metadata": {},
     "output_type": "execute_result"
    }
   ],
   "source": [
    "all_mat['tvsum50']['title'][0][0]"
   ]
  },
  {
   "cell_type": "code",
   "execution_count": 305,
   "metadata": {},
   "outputs": [],
   "source": [
    "xd = all_mat['tvsum50']['user_anno'][0][0]"
   ]
  },
  {
   "cell_type": "code",
   "execution_count": 307,
   "metadata": {},
   "outputs": [
    {
     "data": {
      "text/plain": [
       "(20, 10597)"
      ]
     },
     "execution_count": 307,
     "metadata": {},
     "output_type": "execute_result"
    }
   ],
   "source": [
    "np.array(all_mat[xd]).T.T.shape"
   ]
  },
  {
   "cell_type": "code",
   "execution_count": 299,
   "metadata": {},
   "outputs": [
    {
     "data": {
      "text/plain": [
       "(707,)"
      ]
     },
     "execution_count": 299,
     "metadata": {},
     "output_type": "execute_result"
    }
   ],
   "source": [
    "np.mean(np.array(all_mat[xd])[:,::15], axis=0).shape"
   ]
  },
  {
   "cell_type": "code",
   "execution_count": 286,
   "metadata": {},
   "outputs": [
    {
     "data": {
      "text/plain": [
       "(1, 10597)"
      ]
     },
     "execution_count": 286,
     "metadata": {},
     "output_type": "execute_result"
    }
   ],
   "source": [
    "np.array(all_mat[xd]).shape"
   ]
  },
  {
   "cell_type": "code",
   "execution_count": 285,
   "metadata": {},
   "outputs": [
    {
     "data": {
      "text/plain": [
       "array([[2.9, 2.9, 2.9, ..., 1.3, 1.3, 1.3]])"
      ]
     },
     "execution_count": 285,
     "metadata": {},
     "output_type": "execute_result"
    }
   ],
   "source": [
    "np.array(all_mat[xd])"
   ]
  },
  {
   "cell_type": "code",
   "execution_count": null,
   "metadata": {},
   "outputs": [],
   "source": [
    "['a','b'].join"
   ]
  },
  {
   "cell_type": "code",
   "execution_count": 253,
   "metadata": {},
   "outputs": [],
   "source": [
    "def array_to_id(number_array):\n",
    "    number_array = number_array.squeeze()\n",
    "    chr_array = [chr(x) for x in number_array] \n",
    "    string_array = ''.join(chr_array)\n",
    "    \n",
    "    return string_array"
   ]
  },
  {
   "cell_type": "code",
   "execution_count": 254,
   "metadata": {},
   "outputs": [
    {
     "data": {
      "text/plain": [
       "'AwmHb44_ouw'"
      ]
     },
     "execution_count": 254,
     "metadata": {},
     "output_type": "execute_result"
    }
   ],
   "source": [
    "array_to_id(np.array(all_mat[xd]))"
   ]
  },
  {
   "cell_type": "code",
   "execution_count": 50,
   "metadata": {},
   "outputs": [
    {
     "ename": "KeyError",
     "evalue": "\"Unable to open object (object 'video_1' doesn't exist)\"",
     "output_type": "error",
     "traceback": [
      "\u001b[0;31m---------------------------------------------------------------------------\u001b[0m",
      "\u001b[0;31mKeyError\u001b[0m                                  Traceback (most recent call last)",
      "\u001b[0;32m<ipython-input-50-7ccc97465fdc>\u001b[0m in \u001b[0;36m<module>\u001b[0;34m\u001b[0m\n\u001b[0;32m----> 1\u001b[0;31m \u001b[0mmat\u001b[0m \u001b[0;34m=\u001b[0m \u001b[0mall_mat\u001b[0m\u001b[0;34m[\u001b[0m\u001b[0;34m'video_1'\u001b[0m\u001b[0;34m]\u001b[0m\u001b[0;34m\u001b[0m\u001b[0;34m\u001b[0m\u001b[0m\n\u001b[0m",
      "\u001b[0;32mh5py/_objects.pyx\u001b[0m in \u001b[0;36mh5py._objects.with_phil.wrapper (/build/h5py-qzs83i/h5py-2.7.1/h5py/_objects.c:2847)\u001b[0;34m()\u001b[0m\n",
      "\u001b[0;32mh5py/_objects.pyx\u001b[0m in \u001b[0;36mh5py._objects.with_phil.wrapper (/build/h5py-qzs83i/h5py-2.7.1/h5py/_objects.c:2805)\u001b[0;34m()\u001b[0m\n",
      "\u001b[0;32m/usr/lib/python3/dist-packages/h5py/_hl/group.py\u001b[0m in \u001b[0;36m__getitem__\u001b[0;34m(self, name)\u001b[0m\n\u001b[1;32m    165\u001b[0m                 \u001b[0;32mraise\u001b[0m \u001b[0mValueError\u001b[0m\u001b[0;34m(\u001b[0m\u001b[0;34m\"Invalid HDF5 object reference\"\u001b[0m\u001b[0;34m)\u001b[0m\u001b[0;34m\u001b[0m\u001b[0;34m\u001b[0m\u001b[0m\n\u001b[1;32m    166\u001b[0m         \u001b[0;32melse\u001b[0m\u001b[0;34m:\u001b[0m\u001b[0;34m\u001b[0m\u001b[0;34m\u001b[0m\u001b[0m\n\u001b[0;32m--> 167\u001b[0;31m             \u001b[0moid\u001b[0m \u001b[0;34m=\u001b[0m \u001b[0mh5o\u001b[0m\u001b[0;34m.\u001b[0m\u001b[0mopen\u001b[0m\u001b[0;34m(\u001b[0m\u001b[0mself\u001b[0m\u001b[0;34m.\u001b[0m\u001b[0mid\u001b[0m\u001b[0;34m,\u001b[0m \u001b[0mself\u001b[0m\u001b[0;34m.\u001b[0m\u001b[0m_e\u001b[0m\u001b[0;34m(\u001b[0m\u001b[0mname\u001b[0m\u001b[0;34m)\u001b[0m\u001b[0;34m,\u001b[0m \u001b[0mlapl\u001b[0m\u001b[0;34m=\u001b[0m\u001b[0mself\u001b[0m\u001b[0;34m.\u001b[0m\u001b[0m_lapl\u001b[0m\u001b[0;34m)\u001b[0m\u001b[0;34m\u001b[0m\u001b[0;34m\u001b[0m\u001b[0m\n\u001b[0m\u001b[1;32m    168\u001b[0m \u001b[0;34m\u001b[0m\u001b[0m\n\u001b[1;32m    169\u001b[0m         \u001b[0motype\u001b[0m \u001b[0;34m=\u001b[0m \u001b[0mh5i\u001b[0m\u001b[0;34m.\u001b[0m\u001b[0mget_type\u001b[0m\u001b[0;34m(\u001b[0m\u001b[0moid\u001b[0m\u001b[0;34m)\u001b[0m\u001b[0;34m\u001b[0m\u001b[0;34m\u001b[0m\u001b[0m\n",
      "\u001b[0;32mh5py/_objects.pyx\u001b[0m in \u001b[0;36mh5py._objects.with_phil.wrapper (/build/h5py-qzs83i/h5py-2.7.1/h5py/_objects.c:2847)\u001b[0;34m()\u001b[0m\n",
      "\u001b[0;32mh5py/_objects.pyx\u001b[0m in \u001b[0;36mh5py._objects.with_phil.wrapper (/build/h5py-qzs83i/h5py-2.7.1/h5py/_objects.c:2805)\u001b[0;34m()\u001b[0m\n",
      "\u001b[0;32mh5py/h5o.pyx\u001b[0m in \u001b[0;36mh5py.h5o.open (/build/h5py-qzs83i/h5py-2.7.1/h5py/h5o.c:3738)\u001b[0;34m()\u001b[0m\n",
      "\u001b[0;31mKeyError\u001b[0m: \"Unable to open object (object 'video_1' doesn't exist)\""
     ]
    }
   ],
   "source": [
    "mat = all_mat['video_1']"
   ]
  },
  {
   "cell_type": "code",
   "execution_count": 654,
   "metadata": {},
   "outputs": [
    {
     "data": {
      "text/plain": [
       "array([[25]], dtype=uint8)"
      ]
     },
     "execution_count": 654,
     "metadata": {},
     "output_type": "execute_result"
    }
   ],
   "source": [
    "mat[\"FPS\"]"
   ]
  },
  {
   "cell_type": "code",
   "execution_count": 655,
   "metadata": {},
   "outputs": [
    {
     "data": {
      "text/plain": [
       "array([[25]], dtype=uint8)"
      ]
     },
     "execution_count": 655,
     "metadata": {},
     "output_type": "execute_result"
    }
   ],
   "source": [
    "mat[\"FPS\"]"
   ]
  },
  {
   "cell_type": "code",
   "execution_count": 656,
   "metadata": {},
   "outputs": [
    {
     "data": {
      "text/plain": [
       "array([[179.772]])"
      ]
     },
     "execution_count": 656,
     "metadata": {},
     "output_type": "execute_result"
    }
   ],
   "source": [
    "mat[\"video_duration\"]"
   ]
  },
  {
   "cell_type": "code",
   "execution_count": 657,
   "metadata": {},
   "outputs": [
    {
     "data": {
      "text/plain": [
       "array([[0.],\n",
       "       [0.],\n",
       "       [0.],\n",
       "       [0.],\n",
       "       [0.],\n",
       "       [0.],\n",
       "       [0.],\n",
       "       [0.],\n",
       "       [0.],\n",
       "       [0.],\n",
       "       [0.],\n",
       "       [0.],\n",
       "       [0.],\n",
       "       [0.],\n",
       "       [0.],\n",
       "       [0.],\n",
       "       [0.],\n",
       "       [0.],\n",
       "       [0.],\n",
       "       [0.]])"
      ]
     },
     "execution_count": 657,
     "metadata": {},
     "output_type": "execute_result"
    }
   ],
   "source": [
    "#the averaged score\n",
    "mat[\"gt_score\"][:20]"
   ]
  },
  {
   "cell_type": "code",
   "execution_count": 658,
   "metadata": {},
   "outputs": [
    {
     "data": {
      "text/plain": [
       "(4494, 15)"
      ]
     },
     "execution_count": 658,
     "metadata": {},
     "output_type": "execute_result"
    }
   ],
   "source": [
    "mat[\"user_score\"][:,].shape"
   ]
  },
  {
   "cell_type": "code",
   "execution_count": 659,
   "metadata": {},
   "outputs": [],
   "source": [
    "goundt = mat[\"user_score\"].T"
   ]
  },
  {
   "cell_type": "code",
   "execution_count": 660,
   "metadata": {},
   "outputs": [
    {
     "data": {
      "text/plain": [
       "(15, 4494)"
      ]
     },
     "execution_count": 660,
     "metadata": {},
     "output_type": "execute_result"
    }
   ],
   "source": [
    "goundt.shape"
   ]
  },
  {
   "cell_type": "code",
   "execution_count": 661,
   "metadata": {},
   "outputs": [
    {
     "data": {
      "text/plain": [
       "2.75"
      ]
     },
     "execution_count": 661,
     "metadata": {},
     "output_type": "execute_result"
    }
   ],
   "source": [
    "((goundt - 0)/4).max()"
   ]
  },
  {
   "cell_type": "code",
   "execution_count": 662,
   "metadata": {},
   "outputs": [
    {
     "data": {
      "text/plain": [
       "2.933333333333333"
      ]
     },
     "execution_count": 662,
     "metadata": {},
     "output_type": "execute_result"
    }
   ],
   "source": [
    "np.mean(goundt[:,::15], axis=0).max()"
   ]
  },
  {
   "cell_type": "code",
   "execution_count": 663,
   "metadata": {},
   "outputs": [],
   "source": [
    "xd = np.mean(goundt[:,::15], axis=0)"
   ]
  },
  {
   "cell_type": "code",
   "execution_count": 664,
   "metadata": {},
   "outputs": [
    {
     "data": {
      "text/plain": [
       "1.0"
      ]
     },
     "execution_count": 664,
     "metadata": {},
     "output_type": "execute_result"
    }
   ],
   "source": [
    "((xd - xd.min()) / (xd.max()-xd.min())).max()\n"
   ]
  },
  {
   "cell_type": "code",
   "execution_count": 665,
   "metadata": {},
   "outputs": [
    {
     "data": {
      "text/plain": [
       "array([[4494]], dtype=uint16)"
      ]
     },
     "execution_count": 665,
     "metadata": {},
     "output_type": "execute_result"
    }
   ],
   "source": [
    "mat[\"nFrames\"]"
   ]
  },
  {
   "cell_type": "code",
   "execution_count": 666,
   "metadata": {},
   "outputs": [
    {
     "data": {
      "text/plain": [
       "(1, 15)"
      ]
     },
     "execution_count": 666,
     "metadata": {},
     "output_type": "execute_result"
    }
   ],
   "source": [
    "mat['segments'].shape"
   ]
  },
  {
   "cell_type": "code",
   "execution_count": 667,
   "metadata": {},
   "outputs": [],
   "source": [
    "# user_score = user_summary"
   ]
  },
  {
   "cell_type": "code",
   "execution_count": 40,
   "metadata": {},
   "outputs": [],
   "source": [
    "# nFrames = n_frames"
   ]
  },
  {
   "cell_type": "code",
   "execution_count": 73,
   "metadata": {},
   "outputs": [],
   "source": [
    "la = [1,2,3,4]"
   ]
  },
  {
   "cell_type": "code",
   "execution_count": 71,
   "metadata": {},
   "outputs": [],
   "source": [
    "lb = [\"a\",\"v\",\"c\",\"d\"]"
   ]
  },
  {
   "cell_type": "code",
   "execution_count": 81,
   "metadata": {},
   "outputs": [
    {
     "data": {
      "text/plain": [
       "<enumerate at 0x7f744c348e10>"
      ]
     },
     "execution_count": 81,
     "metadata": {},
     "output_type": "execute_result"
    }
   ],
   "source": [
    "enumerate((la, lb))"
   ]
  },
  {
   "cell_type": "code",
   "execution_count": 84,
   "metadata": {},
   "outputs": [
    {
     "name": "stdout",
     "output_type": "stream",
     "text": [
      "0 (1, 'a')\n",
      "1 (2, 'v')\n",
      "2 (3, 'c')\n",
      "3 (4, 'd')\n"
     ]
    }
   ],
   "source": [
    "for idx, a_b in enumerate(zip(la, lb)):\n",
    "    print(idx, a_b)"
   ]
  },
  {
   "cell_type": "code",
   "execution_count": null,
   "metadata": {},
   "outputs": [],
   "source": [
    "a = np.array([[1, 0],\n",
    "                 []\n",
    "              [0, 1]])"
   ]
  }
 ],
 "metadata": {
  "kernelspec": {
   "display_name": "vsm_kernel",
   "language": "python",
   "name": "vsm_kernel"
  },
  "language_info": {
   "codemirror_mode": {
    "name": "ipython",
    "version": 3
   },
   "file_extension": ".py",
   "mimetype": "text/x-python",
   "name": "python",
   "nbconvert_exporter": "python",
   "pygments_lexer": "ipython3",
   "version": "3.8.11"
  }
 },
 "nbformat": 4,
 "nbformat_minor": 4
}
