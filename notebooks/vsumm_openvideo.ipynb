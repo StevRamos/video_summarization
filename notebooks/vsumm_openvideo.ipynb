{
 "cells": [
  {
   "cell_type": "code",
   "execution_count": 1,
   "metadata": {},
   "outputs": [],
   "source": [
    "import pandas as pd"
   ]
  },
  {
   "cell_type": "code",
   "execution_count": 2,
   "metadata": {},
   "outputs": [],
   "source": [
    "import h5py"
   ]
  },
  {
   "cell_type": "code",
   "execution_count": 3,
   "metadata": {},
   "outputs": [],
   "source": [
    "import scipy.io"
   ]
  },
  {
   "cell_type": "code",
   "execution_count": 4,
   "metadata": {},
   "outputs": [],
   "source": [
    "# path_just_generated = \"/home/shuaman/video_sm/video_summarization/src/eccv16_dataset_ovp_google_pool5.h5\"\n",
    "path_just_generated = \"/data/shuaman/video_summarization/datasets/processed_datasets/dataset_ovp_processed.h5\""
   ]
  },
  {
   "cell_type": "code",
   "execution_count": 5,
   "metadata": {},
   "outputs": [],
   "source": [
    "data_all_ovp_mine = h5py.File(path_just_generated, 'r')"
   ]
  },
  {
   "cell_type": "code",
   "execution_count": 6,
   "metadata": {},
   "outputs": [],
   "source": [
    "#path_data_preprocessd = \"/data/shuaman/video_summarization/datasets/dsnet/datasets/eccv16_dataset_summe_google_pool5.h5\"\n",
    "path_data_preprocessd = \"/data/shuaman/video_summarization/datasets/dsnet/datasets/eccv16_dataset_ovp_google_pool5.h5\"\n",
    "\n",
    "# path_data_preprocessd = \"/data/shuaman/video_summarization/datasets/VASNet_datasets/datasets/eccv16_dataset_ovp_google_pool5.h5\""
   ]
  },
  {
   "cell_type": "code",
   "execution_count": 12,
   "metadata": {},
   "outputs": [],
   "source": [
    "data_all_ovp = h5py.File(path_data_preprocessd, 'r')"
   ]
  },
  {
   "cell_type": "code",
   "execution_count": 13,
   "metadata": {},
   "outputs": [
    {
     "name": "stdout",
     "output_type": "stream",
     "text": [
      "video 1 comparison\n",
      "features gt (219, 1024)\n",
      "features mine (220, 1024)\n",
      "\n",
      "gtscore gt (219,)\n",
      "gtscore mine (220,)\n",
      "\n",
      "video name mine b'v21'\n",
      "user summary mine (5, 3291)\n",
      "\n",
      "n frames gt 3284\n",
      "n frames mine 3291\n",
      "\n",
      "change points gt (36, 2)\n",
      "change points mine (22, 2)\n",
      "\n",
      "n frame per seg gt (36,)\n",
      "n frame per seg mine (22,)\n",
      "\n",
      "picks gt (219,)\n",
      "picks mine (220,)\n",
      "\n",
      "n steps mine 220\n",
      "\n",
      "video 2 comparison\n",
      "features gt (141, 1024)\n",
      "features mine (142, 1024)\n",
      "\n",
      "gtscore gt (141,)\n",
      "gtscore mine (142,)\n",
      "\n",
      "video name mine b'v22'\n",
      "user summary mine (5, 2116)\n",
      "\n",
      "n frames gt 2114\n",
      "n frames mine 2116\n",
      "\n",
      "change points gt (5, 2)\n",
      "change points mine (15, 2)\n",
      "\n",
      "n frame per seg gt (5,)\n",
      "n frame per seg mine (15,)\n",
      "\n",
      "picks gt (141,)\n",
      "picks mine (142,)\n",
      "\n",
      "n steps mine 142\n",
      "\n",
      "video 3 comparison\n",
      "features gt (117, 1024)\n",
      "features mine (118, 1024)\n",
      "\n",
      "gtscore gt (117,)\n",
      "gtscore mine (118,)\n",
      "\n",
      "video name mine b'v23'\n",
      "user summary mine (5, 1759)\n",
      "\n",
      "n frames gt 1754\n",
      "n frames mine 1759\n",
      "\n",
      "change points gt (18, 2)\n",
      "change points mine (12, 2)\n",
      "\n",
      "n frame per seg gt (18,)\n",
      "n frame per seg mine (12,)\n",
      "\n",
      "picks gt (117,)\n",
      "picks mine (118,)\n",
      "\n",
      "n steps mine 118\n",
      "\n",
      "video 4 comparison\n",
      "features gt (120, 1024)\n",
      "features mine (121, 1024)\n",
      "\n",
      "gtscore gt (120,)\n",
      "gtscore mine (121,)\n",
      "\n",
      "video name mine b'v24'\n",
      "user summary mine (5, 1815)\n",
      "\n",
      "n frames gt 1799\n",
      "n frames mine 1815\n",
      "\n",
      "change points gt (15, 2)\n",
      "change points mine (13, 2)\n",
      "\n",
      "n frame per seg gt (15,)\n",
      "n frame per seg mine (13,)\n",
      "\n",
      "picks gt (120,)\n",
      "picks mine (121,)\n",
      "\n",
      "n steps mine 121\n",
      "\n",
      "video 5 comparison\n",
      "features gt (119, 1024)\n",
      "features mine (120, 1024)\n",
      "\n",
      "gtscore gt (119,)\n",
      "gtscore mine (120,)\n",
      "\n",
      "video name mine b'v25'\n",
      "user summary mine (5, 1795)\n",
      "\n",
      "n frames gt 1784\n",
      "n frames mine 1795\n",
      "\n",
      "change points gt (14, 2)\n",
      "change points mine (12, 2)\n",
      "\n",
      "n frame per seg gt (14,)\n",
      "n frame per seg mine (12,)\n",
      "\n",
      "picks gt (119,)\n",
      "picks mine (120,)\n",
      "\n",
      "n steps mine 120\n",
      "\n",
      "video 6 comparison\n",
      "features gt (417, 1024)\n",
      "features mine (418, 1024)\n",
      "\n",
      "gtscore gt (417,)\n",
      "gtscore mine (418,)\n",
      "\n",
      "video name mine b'v26'\n",
      "user summary mine (5, 6268)\n",
      "\n",
      "n frames gt 6254\n",
      "n frames mine 6268\n",
      "\n",
      "change points gt (34, 2)\n",
      "change points mine (42, 2)\n",
      "\n",
      "n frame per seg gt (34,)\n",
      "n frame per seg mine (42,)\n",
      "\n",
      "picks gt (417,)\n",
      "picks mine (418,)\n",
      "\n",
      "n steps mine 418\n",
      "\n",
      "video 7 comparison\n",
      "features gt (212, 1024)\n",
      "features mine (213, 1024)\n",
      "\n",
      "gtscore gt (212,)\n",
      "gtscore mine (213,)\n",
      "\n",
      "video name mine b'v27'\n",
      "user summary mine (5, 3190)\n",
      "\n",
      "n frames gt 3179\n",
      "n frames mine 3190\n",
      "\n",
      "change points gt (19, 2)\n",
      "change points mine (22, 2)\n",
      "\n",
      "n frame per seg gt (19,)\n",
      "n frame per seg mine (22,)\n",
      "\n",
      "picks gt (212,)\n",
      "picks mine (213,)\n",
      "\n",
      "n steps mine 213\n",
      "\n",
      "video 8 comparison\n",
      "features gt (237, 1024)\n",
      "features mine (139, 1024)\n",
      "\n",
      "gtscore gt (237,)\n",
      "gtscore mine (139,)\n",
      "\n",
      "video name mine b'v28'\n",
      "user summary mine (5, 2084)\n",
      "\n",
      "n frames gt 3554\n",
      "n frames mine 2084\n",
      "\n",
      "change points gt (27, 2)\n",
      "change points mine (14, 2)\n",
      "\n",
      "n frame per seg gt (27,)\n",
      "n frame per seg mine (14,)\n",
      "\n",
      "picks gt (237,)\n",
      "picks mine (139,)\n",
      "\n",
      "n steps mine 139\n",
      "\n",
      "video 9 comparison\n",
      "features gt (129, 1024)\n",
      "features mine (130, 1024)\n",
      "\n",
      "gtscore gt (129,)\n",
      "gtscore mine (130,)\n",
      "\n",
      "video name mine b'v29'\n",
      "user summary mine (5, 1942)\n",
      "\n",
      "n frames gt 1934\n",
      "n frames mine 1942\n",
      "\n",
      "change points gt (12, 2)\n",
      "change points mine (13, 2)\n",
      "\n",
      "n frame per seg gt (12,)\n",
      "n frame per seg mine (13,)\n",
      "\n",
      "picks gt (129,)\n",
      "picks mine (130,)\n",
      "\n",
      "n steps mine 130\n",
      "\n",
      "video 10 comparison\n",
      "features gt (120, 1024)\n",
      "features mine (111, 1024)\n",
      "\n",
      "gtscore gt (120,)\n",
      "gtscore mine (111,)\n",
      "\n",
      "video name mine b'v30'\n",
      "user summary mine (5, 1665)\n",
      "\n",
      "n frames gt 1799\n",
      "n frames mine 1665\n",
      "\n",
      "picks gt (120,)\n",
      "picks mine (111,)\n",
      "\n",
      "n steps mine 111\n",
      "\n",
      "video 11 comparison\n",
      "features gt (167, 1024)\n",
      "features mine (168, 1024)\n",
      "\n",
      "gtscore gt (167,)\n",
      "gtscore mine (168,)\n",
      "\n",
      "video name mine b'v31'\n",
      "user summary mine (5, 2515)\n",
      "\n",
      "n frames gt 2504\n",
      "n frames mine 2515\n",
      "\n",
      "change points gt (15, 2)\n",
      "change points mine (17, 2)\n",
      "\n",
      "n frame per seg gt (15,)\n",
      "n frame per seg mine (17,)\n",
      "\n",
      "picks gt (167,)\n",
      "picks mine (168,)\n",
      "\n",
      "n steps mine 168\n",
      "\n",
      "video 12 comparison\n",
      "features gt (179, 1024)\n",
      "features mine (180, 1024)\n",
      "\n",
      "gtscore gt (179,)\n",
      "gtscore mine (180,)\n",
      "\n",
      "video name mine b'v32'\n",
      "user summary mine (5, 2689)\n",
      "\n",
      "n frames gt 2684\n",
      "n frames mine 2689\n",
      "\n",
      "picks gt (179,)\n",
      "picks mine (180,)\n",
      "\n",
      "n steps mine 180\n",
      "\n",
      "video 13 comparison\n",
      "features gt (217, 1024)\n",
      "features mine (218, 1024)\n",
      "\n",
      "gtscore gt (217,)\n",
      "gtscore mine (218,)\n",
      "\n",
      "video name mine b'v33'\n",
      "user summary mine (5, 3259)\n",
      "\n",
      "n frames gt 3254\n",
      "n frames mine 3259\n",
      "\n",
      "change points gt (32, 2)\n",
      "change points mine (22, 2)\n",
      "\n",
      "n frame per seg gt (32,)\n",
      "n frame per seg mine (22,)\n",
      "\n",
      "picks gt (217,)\n",
      "picks mine (218,)\n",
      "\n",
      "n steps mine 218\n",
      "\n",
      "video 14 comparison\n",
      "features gt (280, 1024)\n",
      "features mine (281, 1024)\n",
      "\n",
      "gtscore gt (280,)\n",
      "gtscore mine (281,)\n",
      "\n",
      "video name mine b'v34'\n",
      "user summary mine (5, 4205)\n",
      "\n",
      "n frames gt 4199\n",
      "n frames mine 4205\n",
      "\n",
      "change points gt (11, 2)\n",
      "change points mine (29, 2)\n",
      "\n",
      "n frame per seg gt (11,)\n",
      "n frame per seg mine (29,)\n",
      "\n",
      "picks gt (280,)\n",
      "picks mine (281,)\n",
      "\n",
      "n steps mine 281\n",
      "\n",
      "video 15 comparison\n",
      "features gt (155, 1024)\n",
      "features mine (156, 1024)\n",
      "\n",
      "gtscore gt (155,)\n",
      "gtscore mine (156,)\n",
      "\n",
      "video name mine b'v35'\n",
      "user summary mine (5, 2336)\n",
      "\n",
      "n frames gt 2324\n",
      "n frames mine 2336\n",
      "\n",
      "change points gt (19, 2)\n",
      "change points mine (16, 2)\n",
      "\n",
      "n frame per seg gt (19,)\n",
      "n frame per seg mine (16,)\n",
      "\n",
      "picks gt (155,)\n",
      "picks mine (156,)\n",
      "\n",
      "n steps mine 156\n",
      "\n",
      "video 16 comparison\n",
      "features gt (281, 1024)\n",
      "features mine (282, 1024)\n",
      "\n",
      "gtscore gt (281,)\n",
      "gtscore mine (282,)\n",
      "\n",
      "video name mine b'v36'\n",
      "user summary mine (5, 4221)\n",
      "\n",
      "n frames gt 4214\n",
      "n frames mine 4221\n",
      "\n",
      "change points gt (22, 2)\n",
      "change points mine (29, 2)\n",
      "\n",
      "n frame per seg gt (22,)\n",
      "n frame per seg mine (29,)\n",
      "\n",
      "picks gt (281,)\n",
      "picks mine (282,)\n",
      "\n",
      "n steps mine 282\n",
      "\n",
      "video 17 comparison\n",
      "features gt (227, 1024)\n",
      "features mine (228, 1024)\n",
      "\n",
      "gtscore gt (227,)\n",
      "gtscore mine (228,)\n",
      "\n",
      "video name mine b'v37'\n",
      "user summary mine (5, 3411)\n",
      "\n",
      "n frames gt 3404\n",
      "n frames mine 3411\n",
      "\n",
      "change points gt (11, 2)\n",
      "change points mine (23, 2)\n",
      "\n",
      "n frame per seg gt (11,)\n",
      "n frame per seg mine (23,)\n",
      "\n",
      "picks gt (227,)\n",
      "picks mine (228,)\n",
      "\n",
      "n steps mine 228\n",
      "\n",
      "video 18 comparison\n",
      "features gt (304, 1024)\n",
      "features mine (305, 1024)\n",
      "\n",
      "gtscore gt (304,)\n",
      "gtscore mine (305,)\n",
      "\n",
      "video name mine b'v38'\n",
      "user summary mine (5, 4566)\n",
      "\n",
      "n frames gt 4559\n",
      "n frames mine 4566\n",
      "\n",
      "change points gt (23, 2)\n",
      "change points mine (31, 2)\n",
      "\n",
      "n frame per seg gt (23,)\n",
      "n frame per seg mine (31,)\n",
      "\n",
      "picks gt (304,)\n",
      "picks mine (305,)\n",
      "\n",
      "n steps mine 305\n",
      "\n",
      "video 19 comparison\n",
      "features gt (349, 1024)\n",
      "features mine (350, 1024)\n",
      "\n",
      "gtscore gt (349,)\n",
      "gtscore mine (350,)\n",
      "\n",
      "video name mine b'v39'\n",
      "user summary mine (5, 5247)\n",
      "\n",
      "n frames gt 5234\n",
      "n frames mine 5247\n",
      "\n",
      "change points gt (24, 2)\n",
      "change points mine (35, 2)\n",
      "\n",
      "n frame per seg gt (24,)\n",
      "n frame per seg mine (35,)\n",
      "\n",
      "picks gt (349,)\n",
      "picks mine (350,)\n",
      "\n",
      "n steps mine 350\n",
      "\n",
      "video 20 comparison\n",
      "features gt (195, 1024)\n",
      "features mine (196, 1024)\n",
      "\n",
      "gtscore gt (195,)\n",
      "gtscore mine (196,)\n",
      "\n",
      "video name mine b'v40'\n",
      "user summary mine (5, 2940)\n",
      "\n",
      "n frames gt 2924\n",
      "n frames mine 2940\n",
      "\n",
      "change points gt (17, 2)\n",
      "change points mine (20, 2)\n",
      "\n",
      "n frame per seg gt (17,)\n",
      "n frame per seg mine (20,)\n",
      "\n",
      "picks gt (195,)\n",
      "picks mine (196,)\n",
      "\n",
      "n steps mine 196\n",
      "\n",
      "video 21 comparison\n",
      "features gt (184, 1024)\n",
      "features mine (185, 1024)\n",
      "\n",
      "gtscore gt (184,)\n",
      "gtscore mine (185,)\n",
      "\n",
      "video name mine b'v41'\n",
      "user summary mine (5, 2764)\n",
      "\n",
      "n frames gt 2759\n",
      "n frames mine 2764\n",
      "\n",
      "picks gt (184,)\n",
      "picks mine (185,)\n",
      "\n",
      "n steps mine 185\n",
      "\n",
      "video 22 comparison\n",
      "features gt (178, 1024)\n",
      "features mine (179, 1024)\n",
      "\n",
      "gtscore gt (178,)\n",
      "gtscore mine (179,)\n",
      "\n",
      "video name mine b'v42'\n",
      "user summary mine (5, 2674)\n",
      "\n",
      "n frames gt 2669\n",
      "n frames mine 2674\n",
      "\n",
      "change points gt (14, 2)\n",
      "change points mine (18, 2)\n",
      "\n",
      "n frame per seg gt (14,)\n",
      "n frame per seg mine (18,)\n",
      "\n",
      "picks gt (178,)\n",
      "picks mine (179,)\n",
      "\n",
      "n steps mine 179\n",
      "\n",
      "video 23 comparison\n",
      "features gt (319, 1024)\n",
      "features mine (320, 1024)\n",
      "\n",
      "gtscore gt (319,)\n",
      "gtscore mine (320,)\n",
      "\n",
      "video name mine b'v43'\n",
      "user summary mine (5, 4795)\n",
      "\n",
      "n frames gt 4784\n",
      "n frames mine 4795\n",
      "\n",
      "change points gt (25, 2)\n",
      "change points mine (32, 2)\n",
      "\n",
      "n frame per seg gt (25,)\n",
      "n frame per seg mine (32,)\n",
      "\n",
      "picks gt (319,)\n",
      "picks mine (320,)\n",
      "\n",
      "n steps mine 320\n",
      "\n",
      "video 24 comparison\n",
      "features gt (161, 1024)\n",
      "features mine (162, 1024)\n",
      "\n",
      "gtscore gt (161,)\n",
      "gtscore mine (162,)\n",
      "\n",
      "video name mine b'v44'\n",
      "user summary mine (5, 2429)\n",
      "\n",
      "n frames gt 2414\n",
      "n frames mine 2429\n",
      "\n",
      "change points gt (13, 2)\n",
      "change points mine (17, 2)\n",
      "\n",
      "n frame per seg gt (13,)\n",
      "n frame per seg mine (17,)\n",
      "\n",
      "picks gt (161,)\n",
      "picks mine (162,)\n",
      "\n",
      "n steps mine 162\n",
      "\n",
      "video 25 comparison\n",
      "features gt (161, 1024)\n",
      "features mine (162, 1024)\n",
      "\n",
      "gtscore gt (161,)\n",
      "gtscore mine (162,)\n",
      "\n",
      "video name mine b'v45'\n",
      "user summary mine (5, 2428)\n",
      "\n",
      "n frames gt 2414\n",
      "n frames mine 2428\n",
      "\n",
      "change points gt (12, 2)\n",
      "change points mine (17, 2)\n",
      "\n",
      "n frame per seg gt (12,)\n",
      "n frame per seg mine (17,)\n",
      "\n",
      "picks gt (161,)\n",
      "picks mine (162,)\n",
      "\n",
      "n steps mine 162\n",
      "\n",
      "video 26 comparison\n",
      "features gt (239, 1024)\n",
      "features mine (240, 1024)\n",
      "\n",
      "gtscore gt (239,)\n",
      "gtscore mine (240,)\n",
      "\n",
      "video name mine b'v46'\n",
      "user summary mine (5, 3591)\n",
      "\n",
      "n frames gt 3584\n",
      "n frames mine 3591\n",
      "\n",
      "change points gt (20, 2)\n",
      "change points mine (24, 2)\n",
      "\n",
      "n frame per seg gt (20,)\n",
      "n frame per seg mine (24,)\n",
      "\n",
      "picks gt (239,)\n",
      "picks mine (240,)\n",
      "\n",
      "n steps mine 240\n",
      "\n",
      "video 27 comparison\n",
      "features gt (144, 1024)\n",
      "features mine (145, 1024)\n",
      "\n",
      "gtscore gt (144,)\n",
      "gtscore mine (145,)\n",
      "\n",
      "video name mine b'v47'\n",
      "user summary mine (5, 2164)\n",
      "\n",
      "n frames gt 2159\n",
      "n frames mine 2164\n",
      "\n",
      "change points gt (5, 2)\n",
      "change points mine (15, 2)\n",
      "\n",
      "n frame per seg gt (5,)\n",
      "n frame per seg mine (15,)\n",
      "\n",
      "picks gt (144,)\n",
      "picks mine (145,)\n",
      "\n",
      "n steps mine 145\n",
      "\n",
      "video 28 comparison\n",
      "features gt (246, 1024)\n",
      "features mine (247, 1024)\n",
      "\n",
      "gtscore gt (246,)\n",
      "gtscore mine (247,)\n",
      "\n",
      "video name mine b'v48'\n",
      "user summary mine (5, 3703)\n",
      "\n",
      "n frames gt 3689\n",
      "n frames mine 3703\n",
      "\n",
      "change points gt (14, 2)\n",
      "change points mine (25, 2)\n",
      "\n",
      "n frame per seg gt (14,)\n",
      "n frame per seg mine (25,)\n",
      "\n",
      "picks gt (246,)\n",
      "picks mine (247,)\n",
      "\n",
      "n steps mine 247\n",
      "\n",
      "video 29 comparison\n",
      "features gt (240, 1024)\n",
      "features mine (241, 1024)\n",
      "\n",
      "gtscore gt (240,)\n",
      "gtscore mine (241,)\n",
      "\n",
      "video name mine b'v49'\n",
      "user summary mine (5, 3613)\n",
      "\n",
      "n frames gt 3599\n",
      "n frames mine 3613\n",
      "\n",
      "change points gt (22, 2)\n",
      "change points mine (25, 2)\n",
      "\n",
      "n frame per seg gt (22,)\n",
      "n frame per seg mine (25,)\n",
      "\n",
      "picks gt (240,)\n",
      "picks mine (241,)\n",
      "\n",
      "n steps mine 241\n",
      "\n",
      "video 30 comparison\n",
      "features gt (321, 1024)\n",
      "features mine (322, 1024)\n",
      "\n",
      "gtscore gt (321,)\n",
      "gtscore mine (322,)\n",
      "\n",
      "video name mine b'v50'\n",
      "user summary mine (5, 4828)\n",
      "\n",
      "n frames gt 4814\n",
      "n frames mine 4828\n",
      "\n",
      "change points gt (16, 2)\n",
      "change points mine (33, 2)\n",
      "\n",
      "n frame per seg gt (16,)\n",
      "n frame per seg mine (33,)\n",
      "\n",
      "picks gt (321,)\n",
      "picks mine (322,)\n",
      "\n",
      "n steps mine 322\n",
      "\n",
      "video 31 comparison\n",
      "features gt (195, 1024)\n",
      "features mine (196, 1024)\n",
      "\n",
      "gtscore gt (195,)\n",
      "gtscore mine (196,)\n",
      "\n",
      "video name mine b'v51'\n",
      "user summary mine (5, 2932)\n",
      "\n",
      "n frames gt 2924\n",
      "n frames mine 2932\n",
      "\n",
      "change points gt (13, 2)\n",
      "change points mine (20, 2)\n",
      "\n",
      "n frame per seg gt (13,)\n",
      "n frame per seg mine (20,)\n",
      "\n",
      "picks gt (195,)\n",
      "picks mine (196,)\n",
      "\n",
      "n steps mine 196\n",
      "\n",
      "video 32 comparison\n",
      "features gt (240, 1024)\n",
      "features mine (241, 1024)\n",
      "\n",
      "gtscore gt (240,)\n",
      "gtscore mine (241,)\n",
      "\n",
      "video name mine b'v52'\n",
      "user summary mine (5, 3613)\n",
      "\n",
      "n frames gt 3599\n",
      "n frames mine 3613\n",
      "\n",
      "change points gt (10, 2)\n",
      "change points mine (25, 2)\n",
      "\n",
      "n frame per seg gt (10,)\n",
      "n frame per seg mine (25,)\n",
      "\n",
      "picks gt (240,)\n",
      "picks mine (241,)\n",
      "\n",
      "n steps mine 241\n",
      "\n",
      "video 33 comparison\n",
      "features gt (125, 1024)\n",
      "features mine (126, 1024)\n",
      "\n",
      "gtscore gt (125,)\n",
      "gtscore mine (126,)\n",
      "\n",
      "video name mine b'v53'\n",
      "user summary mine (5, 1882)\n",
      "\n",
      "n frames gt 1874\n",
      "n frames mine 1882\n",
      "\n",
      "change points gt (9, 2)\n",
      "change points mine (13, 2)\n",
      "\n",
      "n frame per seg gt (9,)\n",
      "n frame per seg mine (13,)\n",
      "\n",
      "picks gt (125,)\n",
      "picks mine (126,)\n",
      "\n",
      "n steps mine 126\n",
      "\n",
      "video 34 comparison\n",
      "features gt (192, 1024)\n",
      "features mine (193, 1024)\n",
      "\n",
      "gtscore gt (192,)\n",
      "gtscore mine (193,)\n",
      "\n",
      "video name mine b'v54'\n",
      "user summary mine (5, 2884)\n",
      "\n",
      "n frames gt 2879\n",
      "n frames mine 2884\n",
      "\n",
      "change points gt (12, 2)\n",
      "change points mine (20, 2)\n",
      "\n",
      "n frame per seg gt (12,)\n",
      "n frame per seg mine (20,)\n",
      "\n",
      "picks gt (192,)\n",
      "picks mine (193,)\n",
      "\n",
      "n steps mine 193\n",
      "\n",
      "video 35 comparison\n",
      "features gt (115, 1024)\n",
      "features mine (116, 1024)\n",
      "\n",
      "gtscore gt (115,)\n",
      "gtscore mine (116,)\n",
      "\n",
      "video name mine b'v55'\n",
      "user summary mine (5, 1740)\n",
      "\n",
      "n frames gt 1724\n",
      "n frames mine 1740\n",
      "\n",
      "change points gt (9, 2)\n",
      "change points mine (12, 2)\n",
      "\n",
      "n frame per seg gt (9,)\n",
      "n frame per seg mine (12,)\n",
      "\n",
      "picks gt (115,)\n",
      "picks mine (116,)\n",
      "\n",
      "n steps mine 116\n",
      "\n",
      "video 36 comparison\n",
      "features gt (154, 1024)\n",
      "features mine (155, 1024)\n",
      "\n",
      "gtscore gt (154,)\n",
      "gtscore mine (155,)\n",
      "\n",
      "video name mine b'v56'\n",
      "user summary mine (5, 2323)\n",
      "\n",
      "n frames gt 2309\n",
      "n frames mine 2323\n",
      "\n",
      "change points gt (11, 2)\n",
      "change points mine (16, 2)\n",
      "\n",
      "n frame per seg gt (11,)\n",
      "n frame per seg mine (16,)\n",
      "\n",
      "picks gt (154,)\n",
      "picks mine (155,)\n",
      "\n",
      "n steps mine 155\n",
      "\n",
      "video 37 comparison\n",
      "features gt (229, 1024)\n",
      "features mine (230, 1024)\n",
      "\n",
      "gtscore gt (229,)\n",
      "gtscore mine (230,)\n",
      "\n",
      "video name mine b'v57'\n",
      "user summary mine (5, 3448)\n",
      "\n",
      "n frames gt 3434\n",
      "n frames mine 3448\n",
      "\n",
      "change points gt (13, 2)\n",
      "change points mine (23, 2)\n",
      "\n",
      "n frame per seg gt (13,)\n",
      "n frame per seg mine (23,)\n",
      "\n",
      "picks gt (229,)\n",
      "picks mine (230,)\n",
      "\n",
      "n steps mine 230\n",
      "\n",
      "video 38 comparison\n",
      "features gt (212, 1024)\n",
      "features mine (213, 1024)\n",
      "\n",
      "gtscore gt (212,)\n",
      "gtscore mine (213,)\n",
      "\n",
      "video name mine b'v58'\n",
      "user summary mine (5, 3184)\n",
      "\n",
      "n frames gt 3179\n",
      "n frames mine 3184\n",
      "\n",
      "change points gt (19, 2)\n",
      "change points mine (22, 2)\n",
      "\n",
      "n frame per seg gt (19,)\n",
      "n frame per seg mine (22,)\n",
      "\n",
      "picks gt (212,)\n",
      "picks mine (213,)\n",
      "\n",
      "n steps mine 213\n",
      "\n",
      "video 39 comparison\n",
      "features gt (140, 1024)\n",
      "features mine (141, 1024)\n",
      "\n",
      "gtscore gt (140,)\n",
      "gtscore mine (141,)\n",
      "\n",
      "video name mine b'v59'\n",
      "user summary mine (5, 2104)\n",
      "\n",
      "n frames gt 2099\n",
      "n frames mine 2104\n",
      "\n",
      "change points gt (14, 2)\n",
      "change points mine (15, 2)\n",
      "\n",
      "n frame per seg gt (14,)\n",
      "n frame per seg mine (15,)\n",
      "\n",
      "picks gt (140,)\n",
      "picks mine (141,)\n",
      "\n",
      "n steps mine 141\n",
      "\n",
      "video 40 comparison\n",
      "features gt (139, 1024)\n",
      "features mine (140, 1024)\n",
      "\n",
      "gtscore gt (139,)\n",
      "gtscore mine (140,)\n",
      "\n",
      "video name mine b'v60'\n",
      "user summary mine (5, 2092)\n",
      "\n",
      "n frames gt 2084\n",
      "n frames mine 2092\n",
      "\n",
      "change points gt (15, 2)\n",
      "change points mine (14, 2)\n",
      "\n",
      "n frame per seg gt (15,)\n",
      "n frame per seg mine (14,)\n",
      "\n",
      "picks gt (139,)\n",
      "picks mine (140,)\n",
      "\n",
      "n steps mine 140\n",
      "\n",
      "video 41 comparison\n",
      "features gt (151, 1024)\n",
      "features mine (152, 1024)\n",
      "\n",
      "gtscore gt (151,)\n",
      "gtscore mine (152,)\n",
      "\n",
      "video name mine b'v61'\n",
      "user summary mine (5, 2275)\n",
      "\n",
      "n frames gt 2264\n",
      "n frames mine 2275\n",
      "\n",
      "change points gt (13, 2)\n",
      "change points mine (16, 2)\n",
      "\n",
      "n frame per seg gt (13,)\n",
      "n frame per seg mine (16,)\n",
      "\n",
      "picks gt (151,)\n",
      "picks mine (152,)\n",
      "\n",
      "n steps mine 152\n",
      "\n",
      "video 42 comparison\n",
      "features gt (174, 1024)\n",
      "features mine (175, 1024)\n",
      "\n",
      "gtscore gt (174,)\n",
      "gtscore mine (175,)\n",
      "\n",
      "video name mine b'v62'\n",
      "user summary mine (5, 2617)\n",
      "\n",
      "n frames gt 2609\n",
      "n frames mine 2617\n",
      "\n",
      "change points gt (7, 2)\n",
      "change points mine (18, 2)\n",
      "\n",
      "n frame per seg gt (7,)\n",
      "n frame per seg mine (18,)\n",
      "\n",
      "picks gt (174,)\n",
      "picks mine (175,)\n",
      "\n",
      "n steps mine 175\n",
      "\n",
      "video 43 comparison\n",
      "features gt (153, 1024)\n",
      "features mine (154, 1024)\n",
      "\n",
      "gtscore gt (153,)\n",
      "gtscore mine (154,)\n",
      "\n",
      "video name mine b'v63'\n",
      "user summary mine (5, 2308)\n",
      "\n",
      "n frames gt 2294\n",
      "n frames mine 2308\n",
      "\n",
      "change points gt (14, 2)\n",
      "change points mine (16, 2)\n",
      "\n",
      "n frame per seg gt (14,)\n",
      "n frame per seg mine (16,)\n",
      "\n",
      "picks gt (153,)\n",
      "picks mine (154,)\n",
      "\n",
      "n steps mine 154\n",
      "\n",
      "video 44 comparison\n",
      "features gt (353, 1024)\n",
      "features mine (354, 1024)\n",
      "\n",
      "gtscore gt (353,)\n",
      "gtscore mine (354,)\n",
      "\n",
      "video name mine b'v64'\n",
      "user summary mine (5, 5308)\n",
      "\n",
      "n frames gt 5294\n",
      "n frames mine 5308\n",
      "\n",
      "change points gt (30, 2)\n",
      "change points mine (36, 2)\n",
      "\n",
      "n frame per seg gt (30,)\n",
      "n frame per seg mine (36,)\n",
      "\n",
      "picks gt (353,)\n",
      "picks mine (354,)\n",
      "\n",
      "n steps mine 354\n",
      "\n",
      "video 45 comparison\n",
      "features gt (182, 1024)\n",
      "features mine (183, 1024)\n",
      "\n",
      "gtscore gt (182,)\n",
      "gtscore mine (183,)\n",
      "\n",
      "video name mine b'v65'\n",
      "user summary mine (5, 2740)\n",
      "\n",
      "n frames gt 2729\n",
      "n frames mine 2740\n",
      "\n",
      "change points gt (14, 2)\n",
      "change points mine (19, 2)\n",
      "\n",
      "n frame per seg gt (14,)\n",
      "n frame per seg mine (19,)\n",
      "\n",
      "picks gt (182,)\n",
      "picks mine (183,)\n",
      "\n",
      "n steps mine 183\n",
      "\n",
      "video 46 comparison\n",
      "features gt (145, 1024)\n",
      "features mine (146, 1024)\n",
      "\n",
      "gtscore gt (145,)\n",
      "gtscore mine (146,)\n",
      "\n",
      "video name mine b'v66'\n",
      "user summary mine (5, 2185)\n",
      "\n",
      "n frames gt 2174\n",
      "n frames mine 2185\n",
      "\n",
      "change points gt (9, 2)\n",
      "change points mine (15, 2)\n",
      "\n",
      "n frame per seg gt (9,)\n",
      "n frame per seg mine (15,)\n",
      "\n",
      "picks gt (145,)\n",
      "picks mine (146,)\n",
      "\n",
      "n steps mine 146\n",
      "\n",
      "video 47 comparison\n",
      "features gt (181, 1024)\n",
      "features mine (182, 1024)\n",
      "\n",
      "gtscore gt (181,)\n",
      "gtscore mine (182,)\n",
      "\n",
      "video name mine b'v67'\n",
      "user summary mine (5, 2722)\n",
      "\n",
      "n frames gt 2714\n",
      "n frames mine 2722\n",
      "\n",
      "change points gt (10, 2)\n",
      "change points mine (19, 2)\n",
      "\n",
      "n frame per seg gt (10,)\n",
      "n frame per seg mine (19,)\n",
      "\n",
      "picks gt (181,)\n",
      "picks mine (182,)\n",
      "\n",
      "n steps mine 182\n",
      "\n",
      "video 48 comparison\n",
      "features gt (129, 1024)\n",
      "features mine (130, 1024)\n",
      "\n",
      "gtscore gt (129,)\n",
      "gtscore mine (130,)\n",
      "\n",
      "video name mine b'v68'\n",
      "user summary mine (5, 1948)\n",
      "\n",
      "n frames gt 1934\n",
      "n frames mine 1948\n",
      "\n",
      "change points gt (5, 2)\n",
      "change points mine (13, 2)\n",
      "\n",
      "n frame per seg gt (5,)\n",
      "n frame per seg mine (13,)\n",
      "\n",
      "picks gt (129,)\n",
      "picks mine (130,)\n",
      "\n",
      "n steps mine 130\n",
      "\n",
      "video 49 comparison\n",
      "features gt (241, 1024)\n",
      "features mine (242, 1024)\n",
      "\n",
      "gtscore gt (241,)\n",
      "gtscore mine (242,)\n",
      "\n",
      "video name mine b'v69'\n",
      "user summary mine (5, 3616)\n",
      "\n",
      "n frames gt 3614\n",
      "n frames mine 3616\n",
      "\n",
      "change points gt (14, 2)\n",
      "change points mine (25, 2)\n",
      "\n",
      "n frame per seg gt (14,)\n",
      "n frame per seg mine (25,)\n",
      "\n",
      "picks gt (241,)\n",
      "picks mine (242,)\n",
      "\n",
      "n steps mine 242\n",
      "\n",
      "video 50 comparison\n",
      "features gt (93, 1024)\n",
      "features mine (94, 1024)\n",
      "\n",
      "gtscore gt (93,)\n",
      "gtscore mine (94,)\n",
      "\n",
      "video name mine b'v70'\n",
      "user summary mine (5, 1405)\n",
      "\n",
      "n frames gt 1394\n",
      "n frames mine 1405\n",
      "\n",
      "change points gt (4, 2)\n",
      "change points mine (10, 2)\n",
      "\n",
      "n frame per seg gt (4,)\n",
      "n frame per seg mine (10,)\n",
      "\n",
      "picks gt (93,)\n",
      "picks mine (94,)\n",
      "\n",
      "n steps mine 94\n",
      "\n"
     ]
    }
   ],
   "source": [
    "for i in range(0,50):\n",
    "    video_gt = data_all_ovp[\"video_\" + str(i+1)]\n",
    "    video_mine = data_all_ovp_mine[\"video_\" + str(i+1)]\n",
    "    \n",
    "    perfect = True\n",
    "    \n",
    "    print(f'video {i+1} comparison')\n",
    "    if video_gt['features'][...].shape != video_mine['features'][...].shape:\n",
    "        perfect = False\n",
    "        print(\"features gt\", video_gt['features'][...].shape)\n",
    "        print(\"features mine\", video_mine['features'][...].shape)\n",
    "        print()\n",
    "        \n",
    "    if video_gt['gtscore'][...].shape != video_mine['gtscore'][...].shape:\n",
    "        perfect = False\n",
    "        print(\"gtscore gt\", video_gt['gtscore'][...].shape)\n",
    "        print(\"gtscore mine\", video_mine['gtscore'][...].shape)\n",
    "        print()\n",
    "        \n",
    "#     print(\"video name gt\", video_gt['video_name'][...])\n",
    "    print(\"video name mine\", video_mine['video_name'][...])\n",
    "    \n",
    "#     if video_gt['user_summary'][...].shape != video_mine['user_summary'][...].shape:\n",
    "#         perfect = False\n",
    "#     print(\"user summary gt\", video_gt['user_summary'][...].shape)\n",
    "    print(\"user summary mine\", video_mine['user_summary'][...].shape)\n",
    "    print()\n",
    "        \n",
    "    if video_gt['n_frames'][...] != video_mine['n_frames'][...]:\n",
    "        perfect = False\n",
    "        print(\"n frames gt\", video_gt['n_frames'][...])\n",
    "        print(\"n frames mine\", video_mine['n_frames'][...])\n",
    "        print()\n",
    "    if video_gt['change_points'][...].shape != video_mine['change_points'][...].shape:  \n",
    "        perfect = False\n",
    "        print(\"change points gt\", video_gt['change_points'][...].shape)\n",
    "        print(\"change points mine\", video_mine['change_points'][...].shape)\n",
    "        print()\n",
    "        \n",
    "    if video_gt['n_frame_per_seg'][...].shape != video_mine['n_frame_per_seg'][...].shape: \n",
    "        perfect = False\n",
    "        print(\"n frame per seg gt\", video_gt['n_frame_per_seg'][...].shape)\n",
    "        print(\"n frame per seg mine\", video_mine['n_frame_per_seg'][...].shape)\n",
    "        print()\n",
    "    \n",
    "    if video_gt['picks'][...].shape != video_mine['picks'][...].shape:\n",
    "        perfect = False\n",
    "        print(\"picks gt\", video_gt['picks'][...].shape)\n",
    "        print(\"picks mine\", video_mine['picks'][...].shape)\n",
    "        print()\n",
    "        \n",
    "#     if video_gt['n_steps'][...] != video_mine['n_steps'][...]:\n",
    "#         perfect = False\n",
    "#     print(\"n steps gt\", video_gt['n_steps'][...])\n",
    "    print(\"n steps mine\", video_mine['n_steps'][...])\n",
    "        \n",
    "    if perfect: \n",
    "        print(\"Everything is perfect\")\n",
    "    print()"
   ]
  },
  {
   "cell_type": "code",
   "execution_count": 14,
   "metadata": {},
   "outputs": [],
   "source": [
    "# data_all_ovp.close()"
   ]
  },
  {
   "cell_type": "markdown",
   "metadata": {},
   "source": [
    "# Evaluating a random video"
   ]
  },
  {
   "cell_type": "code",
   "execution_count": 15,
   "metadata": {},
   "outputs": [
    {
     "data": {
      "text/plain": [
       "50"
      ]
     },
     "execution_count": 15,
     "metadata": {},
     "output_type": "execute_result"
    }
   ],
   "source": [
    "len(list(data_all_ovp.keys()))"
   ]
  },
  {
   "cell_type": "code",
   "execution_count": 16,
   "metadata": {},
   "outputs": [],
   "source": [
    "#video 1\n",
    "i = 5\n",
    "video_gt = data_all_ovp[\"video_\" + str(i+1)]\n",
    "video_mine = data_all_ovp_mine[\"video_\" + str(i+1)]"
   ]
  },
  {
   "cell_type": "markdown",
   "metadata": {},
   "source": [
    "### Nombre"
   ]
  },
  {
   "cell_type": "code",
   "execution_count": 17,
   "metadata": {},
   "outputs": [
    {
     "name": "stdout",
     "output_type": "stream",
     "text": [
      "video name gt b'v26'\n",
      "video name mine b'v26'\n",
      "\n"
     ]
    }
   ],
   "source": [
    "print(\"video name gt\", video_gt['video_name'][...])\n",
    "print(\"video name mine\", video_mine['video_name'][...])\n",
    "print()\n"
   ]
  },
  {
   "cell_type": "markdown",
   "metadata": {},
   "source": [
    "### Features"
   ]
  },
  {
   "cell_type": "code",
   "execution_count": 18,
   "metadata": {},
   "outputs": [
    {
     "name": "stdout",
     "output_type": "stream",
     "text": [
      "features gt (417, 1024)\n"
     ]
    },
    {
     "data": {
      "text/plain": [
       "array([[0.        , 0.00063744, 0.0004239 , ..., 0.        , 0.        ,\n",
       "        0.00119737],\n",
       "       [0.        , 0.00017055, 0.00361269, ..., 0.        , 0.        ,\n",
       "        0.        ],\n",
       "       [0.        , 0.00559055, 0.00706795, ..., 0.        , 0.        ,\n",
       "        0.        ],\n",
       "       ...,\n",
       "       [0.00646132, 0.00604367, 0.00408943, ..., 0.04038517, 0.        ,\n",
       "        0.        ],\n",
       "       [0.00095778, 0.00344445, 0.00019028, ..., 0.02632885, 0.        ,\n",
       "        0.        ],\n",
       "       [0.00230708, 0.01052201, 0.        , ..., 0.02598344, 0.00062544,\n",
       "        0.        ]])"
      ]
     },
     "execution_count": 18,
     "metadata": {},
     "output_type": "execute_result"
    }
   ],
   "source": [
    "print(\"features gt\", video_gt['features'][...].shape)\n",
    "video_gt['features'][...]"
   ]
  },
  {
   "cell_type": "code",
   "execution_count": 19,
   "metadata": {},
   "outputs": [
    {
     "name": "stdout",
     "output_type": "stream",
     "text": [
      "features mine (418, 1024)\n"
     ]
    },
    {
     "data": {
      "text/plain": [
       "array([[0.72340703, 0.        , 0.7195577 , ..., 0.02046127, 0.5676815 ,\n",
       "        0.05152322],\n",
       "       [0.47969568, 0.07899202, 0.7742692 , ..., 0.15734763, 0.56180304,\n",
       "        0.22742522],\n",
       "       [0.5817164 , 0.10730603, 0.46078554, ..., 0.3456199 , 0.29357395,\n",
       "        0.36285648],\n",
       "       ...,\n",
       "       [0.30914876, 1.6056086 , 0.55164814, ..., 0.06912694, 0.37902352,\n",
       "        0.13202588],\n",
       "       [0.22690551, 1.5329564 , 0.5399338 , ..., 0.01661837, 0.24845196,\n",
       "        0.30952746],\n",
       "       [0.23797946, 1.1459279 , 0.6015128 , ..., 0.11645585, 0.5221332 ,\n",
       "        0.41808724]], dtype=float32)"
      ]
     },
     "execution_count": 19,
     "metadata": {},
     "output_type": "execute_result"
    }
   ],
   "source": [
    "print(\"features mine\", video_mine['features'][...].shape)\n",
    "video_mine['features'][...]"
   ]
  },
  {
   "cell_type": "code",
   "execution_count": 21,
   "metadata": {},
   "outputs": [],
   "source": []
  },
  {
   "cell_type": "code",
   "execution_count": 28,
   "metadata": {},
   "outputs": [
    {
     "name": "stdout",
     "output_type": "stream",
     "text": [
      "True\n",
      "True\n",
      "True\n",
      "True\n",
      "True\n"
     ]
    }
   ],
   "source": [
    "import numpy as np\n",
    "print(np.all(video_mine['features_rgb'][...]==video_gt['features_rgb'][...]))\n",
    "print(np.all(video_mine['features_flow'][...]==video_gt['features_flow'][...]))\n",
    "print(np.all(video_mine['features_rn'][...]==video_gt['features_rn'][...]))\n",
    "print(np.all(video_mine['features_iv3'][...]==video_gt['features_iv3'][...]))\n",
    "print(np.all(video_mine['features_3D'][...]==video_gt['features_3D'][...]))"
   ]
  },
  {
   "cell_type": "code",
   "execution_count": null,
   "metadata": {},
   "outputs": [],
   "source": []
  },
  {
   "cell_type": "markdown",
   "metadata": {},
   "source": [
    "### GTScore"
   ]
  },
  {
   "cell_type": "code",
   "execution_count": 14,
   "metadata": {},
   "outputs": [
    {
     "name": "stdout",
     "output_type": "stream",
     "text": [
      "gtscore gt (417,)\n"
     ]
    },
    {
     "data": {
      "text/plain": [
       "array([0., 0., 1., 1., 1., 1., 0., 0., 0., 0., 0., 0., 0., 0., 1., 1., 1.,\n",
       "       0., 0., 0., 0., 0., 0., 0., 0., 0., 0., 0., 0., 0., 0., 0., 0., 0.,\n",
       "       0., 0., 0., 0., 0., 0., 1., 1., 1., 1., 1., 0., 0., 0., 0., 0., 0.,\n",
       "       0., 0., 0., 0., 0., 0., 0., 0., 0., 0., 0., 0., 0., 0., 0., 0., 0.,\n",
       "       0., 0., 0., 0., 0., 0., 0., 0., 0., 0., 0., 0., 0., 0., 0., 0., 0.,\n",
       "       0., 0., 0., 0., 0., 0., 0., 0., 0., 0., 0., 0., 0., 0., 0., 0., 0.,\n",
       "       0., 0., 0., 0., 0., 0., 0., 0., 0., 0., 0., 0., 0., 0., 0., 0., 1.,\n",
       "       1., 1., 1., 1., 1., 1., 1., 1., 1., 1., 1., 1., 1., 1., 1., 1., 0.,\n",
       "       0., 0., 0., 0., 0., 0., 0., 0., 0., 0., 0., 0., 0., 0., 0., 0., 0.,\n",
       "       0., 0., 0., 0., 1., 1., 1., 1., 1., 1., 1., 0., 0., 0., 0., 0., 0.,\n",
       "       0., 0., 0., 0., 0., 0., 0., 0., 0., 0., 0., 0., 0., 0., 0., 1., 1.,\n",
       "       1., 1., 1., 0., 0., 0., 0., 0., 0., 0., 0., 0., 0., 1., 1., 1., 1.,\n",
       "       1., 1., 1., 1., 1., 1., 1., 1., 1., 1., 1., 1., 0., 0., 0., 0., 0.,\n",
       "       0., 0., 0., 0., 1., 1., 1., 1., 1., 0., 0., 0., 0., 0., 0., 0., 1.,\n",
       "       1., 1., 0., 0., 0., 0., 0., 0., 1., 1., 1., 1., 1., 1., 1., 1., 1.,\n",
       "       0., 0., 0., 0., 0., 0., 0., 0., 0., 0., 0., 0., 0., 0., 0., 0., 0.,\n",
       "       0., 0., 0., 0., 1., 1., 1., 1., 0., 0., 0., 0., 0., 0., 0., 0., 0.,\n",
       "       0., 0., 0., 0., 0., 0., 0., 0., 0., 0., 0., 0., 0., 0., 0., 0., 1.,\n",
       "       1., 1., 1., 1., 1., 0., 0., 0., 0., 0., 1., 1., 1., 1., 0., 0., 0.,\n",
       "       0., 0., 0., 0., 0., 0., 0., 0., 0., 1., 1., 1., 1., 1., 1., 0., 0.,\n",
       "       0., 0., 0., 0., 1., 1., 1., 1., 1., 1., 1., 1., 0., 0., 0., 0., 0.,\n",
       "       0., 0., 0., 0., 0., 0., 0., 0., 0., 0., 0., 0., 0., 0., 1., 1., 1.,\n",
       "       1., 1., 0., 0., 0., 0., 0., 0., 0., 0., 0., 1., 1., 1., 1., 0., 0.,\n",
       "       0., 0., 0., 0., 0., 0., 0., 0., 0., 0., 0., 0., 0., 0., 0., 0., 0.,\n",
       "       0., 0., 0., 0., 1., 1., 1., 1., 1.])"
      ]
     },
     "execution_count": 14,
     "metadata": {},
     "output_type": "execute_result"
    }
   ],
   "source": [
    "print(\"gtscore gt\", video_gt['gtscore'][...].shape)\n",
    "video_gt['gtscore'][...]"
   ]
  },
  {
   "cell_type": "code",
   "execution_count": 18,
   "metadata": {},
   "outputs": [
    {
     "data": {
      "text/plain": [
       "116.0"
      ]
     },
     "execution_count": 18,
     "metadata": {},
     "output_type": "execute_result"
    }
   ],
   "source": [
    "video_gt['gtscore'][...].sum()"
   ]
  },
  {
   "cell_type": "code",
   "execution_count": 20,
   "metadata": {},
   "outputs": [],
   "source": [
    "import numpy as np"
   ]
  },
  {
   "cell_type": "code",
   "execution_count": 21,
   "metadata": {},
   "outputs": [
    {
     "data": {
      "text/plain": [
       "304"
      ]
     },
     "execution_count": 21,
     "metadata": {},
     "output_type": "execute_result"
    }
   ],
   "source": [
    "np.where(video_mine['gtscore'][...]>0,1,0).sum()"
   ]
  },
  {
   "cell_type": "code",
   "execution_count": 15,
   "metadata": {},
   "outputs": [
    {
     "name": "stdout",
     "output_type": "stream",
     "text": [
      "gtscore mine (418,)\n"
     ]
    },
    {
     "data": {
      "text/plain": [
       "array([0.60000002, 0.60000002, 0.60000002, 0.60000002, 0.60000002,\n",
       "       0.60000002, 0.60000002, 0.60000002, 0.60000002, 0.60000002,\n",
       "       0.2       , 0.2       , 0.2       , 0.2       , 0.2       ,\n",
       "       0.2       , 0.2       , 0.2       , 0.2       , 0.2       ,\n",
       "       0.2       , 0.2       , 0.2       , 0.        , 0.        ,\n",
       "       0.        , 0.        , 0.        , 0.        , 0.        ,\n",
       "       0.        , 0.        , 0.        , 0.        , 0.        ,\n",
       "       0.        , 0.        , 0.        , 0.        , 0.        ,\n",
       "       0.        , 0.60000002, 0.60000002, 0.60000002, 0.60000002,\n",
       "       0.60000002, 0.60000002, 0.60000002, 0.60000002, 0.60000002,\n",
       "       0.60000002, 0.60000002, 0.60000002, 0.60000002, 0.60000002,\n",
       "       0.60000002, 0.60000002, 0.        , 0.        , 0.        ,\n",
       "       0.        , 0.        , 0.40000001, 0.40000001, 0.40000001,\n",
       "       0.40000001, 0.40000001, 0.40000001, 0.2       , 0.2       ,\n",
       "       0.2       , 0.2       , 0.2       , 0.2       , 0.        ,\n",
       "       0.        , 0.        , 0.        , 0.        , 0.        ,\n",
       "       0.        , 0.        , 0.        , 0.        , 0.        ,\n",
       "       0.        , 0.        , 0.        , 0.        , 0.        ,\n",
       "       0.        , 0.        , 0.        , 0.        , 0.        ,\n",
       "       0.        , 0.        , 0.        , 0.        , 0.        ,\n",
       "       0.        , 0.        , 0.        , 0.        , 0.        ,\n",
       "       0.        , 0.        , 0.        , 0.        , 0.        ,\n",
       "       0.        , 0.        , 0.        , 0.        , 0.        ,\n",
       "       0.        , 0.        , 0.2       , 0.2       , 0.2       ,\n",
       "       0.2       , 0.2       , 0.60000002, 0.60000002, 0.60000002,\n",
       "       0.60000002, 0.60000002, 0.60000002, 0.60000002, 0.60000002,\n",
       "       1.        , 1.        , 1.        , 1.        , 1.        ,\n",
       "       1.        , 1.        , 1.        , 1.        , 1.        ,\n",
       "       1.        , 1.        , 1.        , 1.        , 1.        ,\n",
       "       0.40000001, 0.40000001, 0.40000001, 0.40000001, 0.40000001,\n",
       "       0.40000001, 0.40000001, 0.40000001, 0.80000001, 0.80000001,\n",
       "       0.80000001, 0.80000001, 0.80000001, 0.80000001, 0.80000001,\n",
       "       0.80000001, 0.80000001, 0.80000001, 0.80000001, 0.80000001,\n",
       "       0.2       , 0.2       , 0.2       , 0.2       , 0.2       ,\n",
       "       0.2       , 0.2       , 0.2       , 0.2       , 0.2       ,\n",
       "       0.2       , 0.2       , 0.2       , 0.        , 0.        ,\n",
       "       0.        , 0.        , 0.        , 0.        , 0.        ,\n",
       "       0.        , 0.80000001, 0.80000001, 0.80000001, 0.80000001,\n",
       "       0.80000001, 0.80000001, 0.80000001, 0.80000001, 0.80000001,\n",
       "       0.80000001, 0.80000001, 0.80000001, 0.80000001, 0.80000001,\n",
       "       0.80000001, 0.80000001, 0.80000001, 0.80000001, 0.80000001,\n",
       "       0.80000001, 0.80000001, 0.80000001, 0.80000001, 0.80000001,\n",
       "       0.80000001, 0.80000001, 0.80000001, 0.80000001, 0.80000001,\n",
       "       0.80000001, 0.80000001, 0.80000001, 0.80000001, 0.2       ,\n",
       "       0.2       , 0.2       , 0.2       , 0.2       , 0.2       ,\n",
       "       0.2       , 0.60000002, 0.60000002, 0.60000002, 0.60000002,\n",
       "       0.60000002, 0.60000002, 0.60000002, 0.60000002, 0.60000002,\n",
       "       0.60000002, 0.60000002, 0.60000002, 0.60000002, 0.60000002,\n",
       "       0.60000002, 0.2       , 0.2       , 0.2       , 0.2       ,\n",
       "       0.2       , 0.        , 0.        , 0.        , 0.        ,\n",
       "       0.        , 0.        , 0.        , 0.        , 0.        ,\n",
       "       0.        , 0.        , 0.        , 1.        , 1.        ,\n",
       "       1.        , 1.        , 1.        , 1.        , 1.        ,\n",
       "       1.        , 1.        , 1.        , 1.        , 1.        ,\n",
       "       1.        , 1.        , 0.        , 0.        , 0.        ,\n",
       "       0.        , 0.        , 0.        , 0.        , 0.        ,\n",
       "       0.        , 0.        , 0.        , 0.        , 0.        ,\n",
       "       0.80000001, 0.80000001, 0.80000001, 0.80000001, 0.80000001,\n",
       "       0.80000001, 0.80000001, 0.2       , 0.2       , 0.2       ,\n",
       "       0.2       , 0.2       , 0.2       , 0.2       , 0.2       ,\n",
       "       0.60000002, 0.60000002, 0.60000002, 0.60000002, 0.60000002,\n",
       "       0.60000002, 0.60000002, 0.60000002, 0.60000002, 0.60000002,\n",
       "       0.60000002, 0.60000002, 0.2       , 0.2       , 0.2       ,\n",
       "       0.2       , 0.2       , 0.2       , 0.2       , 0.2       ,\n",
       "       0.2       , 0.60000002, 0.60000002, 0.60000002, 0.60000002,\n",
       "       0.60000002, 0.60000002, 0.60000002, 0.60000002, 0.60000002,\n",
       "       0.60000002, 0.60000002, 0.60000002, 0.60000002, 0.60000002,\n",
       "       0.60000002, 0.60000002, 0.60000002, 0.60000002, 0.60000002,\n",
       "       0.60000002, 0.40000001, 0.40000001, 0.40000001, 0.40000001,\n",
       "       0.60000002, 0.60000002, 0.60000002, 0.60000002, 0.60000002,\n",
       "       0.60000002, 0.60000002, 0.40000001, 0.40000001, 0.40000001,\n",
       "       0.40000001, 0.40000001, 0.40000001, 0.40000001, 0.40000001,\n",
       "       0.40000001, 0.40000001, 0.40000001, 0.40000001, 0.40000001,\n",
       "       0.40000001, 0.40000001, 0.40000001, 0.40000001, 0.40000001,\n",
       "       0.40000001, 0.60000002, 0.60000002, 0.60000002, 0.60000002,\n",
       "       0.60000002, 0.        , 0.        , 0.        , 0.        ,\n",
       "       0.        , 0.        , 0.        , 0.60000002, 0.60000002,\n",
       "       0.60000002, 0.60000002, 0.60000002, 0.60000002, 0.60000002,\n",
       "       0.        , 0.        , 0.        , 0.        , 0.        ,\n",
       "       0.        , 0.        , 0.2       , 0.2       , 0.2       ,\n",
       "       0.2       , 0.2       , 0.2       , 0.2       , 0.40000001,\n",
       "       0.40000001, 0.40000001, 0.40000001, 0.        , 0.60000002,\n",
       "       0.60000002, 0.60000002, 0.60000002, 0.60000002, 0.60000002,\n",
       "       0.60000002, 0.60000002, 0.60000002])"
      ]
     },
     "execution_count": 15,
     "metadata": {},
     "output_type": "execute_result"
    }
   ],
   "source": [
    "print(\"gtscore mine\", video_mine['gtscore'][...].shape)\n",
    "video_mine['gtscore'][...]"
   ]
  },
  {
   "cell_type": "markdown",
   "metadata": {},
   "source": [
    "### User summary"
   ]
  },
  {
   "cell_type": "code",
   "execution_count": 29,
   "metadata": {},
   "outputs": [
    {
     "name": "stdout",
     "output_type": "stream",
     "text": [
      "user summary gt (5, 6268)\n"
     ]
    },
    {
     "data": {
      "text/plain": [
       "array([[0., 0., 0., ..., 0., 0., 0.],\n",
       "       [1., 1., 1., ..., 1., 1., 1.],\n",
       "       [1., 1., 1., ..., 0., 0., 0.],\n",
       "       [0., 0., 0., ..., 1., 1., 1.],\n",
       "       [1., 1., 1., ..., 1., 1., 1.]], dtype=float32)"
      ]
     },
     "execution_count": 29,
     "metadata": {},
     "output_type": "execute_result"
    }
   ],
   "source": [
    "print(\"user summary gt\", video_gt['user_summary'][...].shape)\n",
    "video_gt['user_summary'][...]"
   ]
  },
  {
   "cell_type": "code",
   "execution_count": 17,
   "metadata": {},
   "outputs": [
    {
     "name": "stdout",
     "output_type": "stream",
     "text": [
      "user summary mine (5, 6268)\n"
     ]
    },
    {
     "data": {
      "text/plain": [
       "array([[0., 0., 0., ..., 0., 0., 0.],\n",
       "       [1., 1., 1., ..., 1., 1., 1.],\n",
       "       [1., 1., 1., ..., 0., 0., 0.],\n",
       "       [0., 0., 0., ..., 1., 1., 1.],\n",
       "       [1., 1., 1., ..., 1., 1., 1.]])"
      ]
     },
     "execution_count": 17,
     "metadata": {},
     "output_type": "execute_result"
    }
   ],
   "source": [
    "print(\"user summary mine\", video_mine['user_summary'][...].shape)\n",
    "video_mine['user_summary'][...]"
   ]
  },
  {
   "cell_type": "markdown",
   "metadata": {},
   "source": [
    "### N frames"
   ]
  },
  {
   "cell_type": "code",
   "execution_count": 20,
   "metadata": {},
   "outputs": [
    {
     "name": "stdout",
     "output_type": "stream",
     "text": [
      "n frames gt 6254\n"
     ]
    }
   ],
   "source": [
    "print(\"n frames gt\", video_gt['n_frames'][...])"
   ]
  },
  {
   "cell_type": "code",
   "execution_count": 21,
   "metadata": {},
   "outputs": [
    {
     "name": "stdout",
     "output_type": "stream",
     "text": [
      "n frames mine 6268\n"
     ]
    }
   ],
   "source": [
    "print(\"n frames mine\", video_mine['n_frames'][...])"
   ]
  },
  {
   "cell_type": "markdown",
   "metadata": {},
   "source": [
    "### Change points"
   ]
  },
  {
   "cell_type": "code",
   "execution_count": 22,
   "metadata": {},
   "outputs": [
    {
     "name": "stdout",
     "output_type": "stream",
     "text": [
      "change points gt (34, 2)\n"
     ]
    },
    {
     "data": {
      "text/plain": [
       "array([[   0,  149],\n",
       "       [ 150,  329],\n",
       "       [ 330,  524],\n",
       "       [ 525,  854],\n",
       "       [ 855, 1004],\n",
       "       [1005, 1259],\n",
       "       [1260, 1739],\n",
       "       [1740, 1814],\n",
       "       [1815, 1934],\n",
       "       [1935, 2144],\n",
       "       [2145, 2279],\n",
       "       [2280, 2459],\n",
       "       [2460, 2654],\n",
       "       [2655, 2774],\n",
       "       [2775, 2909],\n",
       "       [2910, 3119],\n",
       "       [3120, 3374],\n",
       "       [3375, 3524],\n",
       "       [3525, 3674],\n",
       "       [3675, 4064],\n",
       "       [4065, 4274],\n",
       "       [4275, 4499],\n",
       "       [4500, 4664],\n",
       "       [4665, 4784],\n",
       "       [4785, 4934],\n",
       "       [4935, 5084],\n",
       "       [5085, 5159],\n",
       "       [5160, 5264],\n",
       "       [5265, 5504],\n",
       "       [5505, 5639],\n",
       "       [5640, 5834],\n",
       "       [5835, 5954],\n",
       "       [5955, 6119],\n",
       "       [6120, 6253]])"
      ]
     },
     "execution_count": 22,
     "metadata": {},
     "output_type": "execute_result"
    }
   ],
   "source": [
    "print(\"change points gt\", video_gt['change_points'][...].shape)\n",
    "video_gt['change_points'][...]"
   ]
  },
  {
   "cell_type": "code",
   "execution_count": 23,
   "metadata": {},
   "outputs": [
    {
     "name": "stdout",
     "output_type": "stream",
     "text": [
      "change points mine (42, 2)\n"
     ]
    },
    {
     "data": {
      "text/plain": [
       "array([[   0,  149],\n",
       "       [ 150,  344],\n",
       "       [ 345,  614],\n",
       "       [ 615,  854],\n",
       "       [ 855, 1019],\n",
       "       [1020, 1109],\n",
       "       [1110, 1274],\n",
       "       [1275, 1754],\n",
       "       [1755, 1829],\n",
       "       [1830, 1949],\n",
       "       [1950, 2174],\n",
       "       [2175, 2294],\n",
       "       [2295, 2474],\n",
       "       [2475, 2669],\n",
       "       [2670, 2789],\n",
       "       [2790, 2924],\n",
       "       [2925, 3134],\n",
       "       [3135, 3284],\n",
       "       [3285, 3389],\n",
       "       [3390, 3539],\n",
       "       [3540, 3614],\n",
       "       [3615, 3689],\n",
       "       [3690, 3869],\n",
       "       [3870, 4079],\n",
       "       [4080, 4169],\n",
       "       [4170, 4274],\n",
       "       [4275, 4379],\n",
       "       [4380, 4499],\n",
       "       [4500, 4679],\n",
       "       [4680, 4814],\n",
       "       [4815, 4949],\n",
       "       [4950, 5084],\n",
       "       [5085, 5174],\n",
       "       [5175, 5279],\n",
       "       [5280, 5384],\n",
       "       [5385, 5564],\n",
       "       [5565, 5654],\n",
       "       [5655, 5849],\n",
       "       [5850, 5954],\n",
       "       [5955, 6059],\n",
       "       [6060, 6134],\n",
       "       [6135, 6267]])"
      ]
     },
     "execution_count": 23,
     "metadata": {},
     "output_type": "execute_result"
    }
   ],
   "source": [
    "print(\"change points mine\", video_mine['change_points'][...].shape)\n",
    "video_mine['change_points'][...]"
   ]
  },
  {
   "cell_type": "markdown",
   "metadata": {},
   "source": [
    "### N frames por segmenot"
   ]
  },
  {
   "cell_type": "code",
   "execution_count": 24,
   "metadata": {},
   "outputs": [
    {
     "name": "stdout",
     "output_type": "stream",
     "text": [
      "n frame per seg gt (34,)\n"
     ]
    },
    {
     "data": {
      "text/plain": [
       "array([150, 180, 195, 330, 150, 255, 480,  75, 120, 210, 135, 180, 195,\n",
       "       120, 135, 210, 255, 150, 150, 390, 210, 225, 165, 120, 150, 150,\n",
       "        75, 105, 240, 135, 195, 120, 165, 134])"
      ]
     },
     "execution_count": 24,
     "metadata": {},
     "output_type": "execute_result"
    }
   ],
   "source": [
    "print(\"n frame per seg gt\", video_gt['n_frame_per_seg'][...].shape)\n",
    "video_gt['n_frame_per_seg'][...]"
   ]
  },
  {
   "cell_type": "code",
   "execution_count": 25,
   "metadata": {},
   "outputs": [
    {
     "name": "stdout",
     "output_type": "stream",
     "text": [
      "n frame per seg mine (42,)\n"
     ]
    },
    {
     "data": {
      "text/plain": [
       "array([150, 195, 270, 240, 165,  90, 165, 480,  75, 120, 225, 120, 180,\n",
       "       195, 120, 135, 210, 150, 105, 150,  75,  75, 180, 210,  90, 105,\n",
       "       105, 120, 180, 135, 135, 135,  90, 105, 105, 180,  90, 195, 105,\n",
       "       105,  75, 133])"
      ]
     },
     "execution_count": 25,
     "metadata": {},
     "output_type": "execute_result"
    }
   ],
   "source": [
    "print(\"n frame per seg mine\", video_mine['n_frame_per_seg'][...].shape)\n",
    "video_mine['n_frame_per_seg'][...]"
   ]
  },
  {
   "cell_type": "markdown",
   "metadata": {},
   "source": [
    "### Picks"
   ]
  },
  {
   "cell_type": "code",
   "execution_count": 26,
   "metadata": {},
   "outputs": [
    {
     "name": "stdout",
     "output_type": "stream",
     "text": [
      "picks gt (417,)\n"
     ]
    },
    {
     "data": {
      "text/plain": [
       "array([   0,   15,   30,   45,   60,   75,   90,  105,  120,  135,  150,\n",
       "        165,  180,  195,  210,  225,  240,  255,  270,  285,  300,  315,\n",
       "        330,  345,  360,  375,  390,  405,  420,  435,  450,  465,  480,\n",
       "        495,  510,  525,  540,  555,  570,  585,  600,  615,  630,  645,\n",
       "        660,  675,  690,  705,  720,  735,  750,  765,  780,  795,  810,\n",
       "        825,  840,  855,  870,  885,  900,  915,  930,  945,  960,  975,\n",
       "        990, 1005, 1020, 1035, 1050, 1065, 1080, 1095, 1110, 1125, 1140,\n",
       "       1155, 1170, 1185, 1200, 1215, 1230, 1245, 1260, 1275, 1290, 1305,\n",
       "       1320, 1335, 1350, 1365, 1380, 1395, 1410, 1425, 1440, 1455, 1470,\n",
       "       1485, 1500, 1515, 1530, 1545, 1560, 1575, 1590, 1605, 1620, 1635,\n",
       "       1650, 1665, 1680, 1695, 1710, 1725, 1740, 1755, 1770, 1785, 1800,\n",
       "       1815, 1830, 1845, 1860, 1875, 1890, 1905, 1920, 1935, 1950, 1965,\n",
       "       1980, 1995, 2010, 2025, 2040, 2055, 2070, 2085, 2100, 2115, 2130,\n",
       "       2145, 2160, 2175, 2190, 2205, 2220, 2235, 2250, 2265, 2280, 2295,\n",
       "       2310, 2325, 2340, 2355, 2370, 2385, 2400, 2415, 2430, 2445, 2460,\n",
       "       2475, 2490, 2505, 2520, 2535, 2550, 2565, 2580, 2595, 2610, 2625,\n",
       "       2640, 2655, 2670, 2685, 2700, 2715, 2730, 2745, 2760, 2775, 2790,\n",
       "       2805, 2820, 2835, 2850, 2865, 2880, 2895, 2910, 2925, 2940, 2955,\n",
       "       2970, 2985, 3000, 3015, 3030, 3045, 3060, 3075, 3090, 3105, 3120,\n",
       "       3135, 3150, 3165, 3180, 3195, 3210, 3225, 3240, 3255, 3270, 3285,\n",
       "       3300, 3315, 3330, 3345, 3360, 3375, 3390, 3405, 3420, 3435, 3450,\n",
       "       3465, 3480, 3495, 3510, 3525, 3540, 3555, 3570, 3585, 3600, 3615,\n",
       "       3630, 3645, 3660, 3675, 3690, 3705, 3720, 3735, 3750, 3765, 3780,\n",
       "       3795, 3810, 3825, 3840, 3855, 3870, 3885, 3900, 3915, 3930, 3945,\n",
       "       3960, 3975, 3990, 4005, 4020, 4035, 4050, 4065, 4080, 4095, 4110,\n",
       "       4125, 4140, 4155, 4170, 4185, 4200, 4215, 4230, 4245, 4260, 4275,\n",
       "       4290, 4305, 4320, 4335, 4350, 4365, 4380, 4395, 4410, 4425, 4440,\n",
       "       4455, 4470, 4485, 4500, 4515, 4530, 4545, 4560, 4575, 4590, 4605,\n",
       "       4620, 4635, 4650, 4665, 4680, 4695, 4710, 4725, 4740, 4755, 4770,\n",
       "       4785, 4800, 4815, 4830, 4845, 4860, 4875, 4890, 4905, 4920, 4935,\n",
       "       4950, 4965, 4980, 4995, 5010, 5025, 5040, 5055, 5070, 5085, 5100,\n",
       "       5115, 5130, 5145, 5160, 5175, 5190, 5205, 5220, 5235, 5250, 5265,\n",
       "       5280, 5295, 5310, 5325, 5340, 5355, 5370, 5385, 5400, 5415, 5430,\n",
       "       5445, 5460, 5475, 5490, 5505, 5520, 5535, 5550, 5565, 5580, 5595,\n",
       "       5610, 5625, 5640, 5655, 5670, 5685, 5700, 5715, 5730, 5745, 5760,\n",
       "       5775, 5790, 5805, 5820, 5835, 5850, 5865, 5880, 5895, 5910, 5925,\n",
       "       5940, 5955, 5970, 5985, 6000, 6015, 6030, 6045, 6060, 6075, 6090,\n",
       "       6105, 6120, 6135, 6150, 6165, 6180, 6195, 6210, 6225, 6240])"
      ]
     },
     "execution_count": 26,
     "metadata": {},
     "output_type": "execute_result"
    }
   ],
   "source": [
    "print(\"picks gt\", video_gt['picks'][...].shape)\n",
    "video_gt['picks'][...]"
   ]
  },
  {
   "cell_type": "code",
   "execution_count": 27,
   "metadata": {},
   "outputs": [
    {
     "name": "stdout",
     "output_type": "stream",
     "text": [
      "picks mine (418,)\n"
     ]
    },
    {
     "data": {
      "text/plain": [
       "array([   0,   15,   30,   45,   60,   75,   90,  105,  120,  135,  150,\n",
       "        165,  180,  195,  210,  225,  240,  255,  270,  285,  300,  315,\n",
       "        330,  345,  360,  375,  390,  405,  420,  435,  450,  465,  480,\n",
       "        495,  510,  525,  540,  555,  570,  585,  600,  615,  630,  645,\n",
       "        660,  675,  690,  705,  720,  735,  750,  765,  780,  795,  810,\n",
       "        825,  840,  855,  870,  885,  900,  915,  930,  945,  960,  975,\n",
       "        990, 1005, 1020, 1035, 1050, 1065, 1080, 1095, 1110, 1125, 1140,\n",
       "       1155, 1170, 1185, 1200, 1215, 1230, 1245, 1260, 1275, 1290, 1305,\n",
       "       1320, 1335, 1350, 1365, 1380, 1395, 1410, 1425, 1440, 1455, 1470,\n",
       "       1485, 1500, 1515, 1530, 1545, 1560, 1575, 1590, 1605, 1620, 1635,\n",
       "       1650, 1665, 1680, 1695, 1710, 1725, 1740, 1755, 1770, 1785, 1800,\n",
       "       1815, 1830, 1845, 1860, 1875, 1890, 1905, 1920, 1935, 1950, 1965,\n",
       "       1980, 1995, 2010, 2025, 2040, 2055, 2070, 2085, 2100, 2115, 2130,\n",
       "       2145, 2160, 2175, 2190, 2205, 2220, 2235, 2250, 2265, 2280, 2295,\n",
       "       2310, 2325, 2340, 2355, 2370, 2385, 2400, 2415, 2430, 2445, 2460,\n",
       "       2475, 2490, 2505, 2520, 2535, 2550, 2565, 2580, 2595, 2610, 2625,\n",
       "       2640, 2655, 2670, 2685, 2700, 2715, 2730, 2745, 2760, 2775, 2790,\n",
       "       2805, 2820, 2835, 2850, 2865, 2880, 2895, 2910, 2925, 2940, 2955,\n",
       "       2970, 2985, 3000, 3015, 3030, 3045, 3060, 3075, 3090, 3105, 3120,\n",
       "       3135, 3150, 3165, 3180, 3195, 3210, 3225, 3240, 3255, 3270, 3285,\n",
       "       3300, 3315, 3330, 3345, 3360, 3375, 3390, 3405, 3420, 3435, 3450,\n",
       "       3465, 3480, 3495, 3510, 3525, 3540, 3555, 3570, 3585, 3600, 3615,\n",
       "       3630, 3645, 3660, 3675, 3690, 3705, 3720, 3735, 3750, 3765, 3780,\n",
       "       3795, 3810, 3825, 3840, 3855, 3870, 3885, 3900, 3915, 3930, 3945,\n",
       "       3960, 3975, 3990, 4005, 4020, 4035, 4050, 4065, 4080, 4095, 4110,\n",
       "       4125, 4140, 4155, 4170, 4185, 4200, 4215, 4230, 4245, 4260, 4275,\n",
       "       4290, 4305, 4320, 4335, 4350, 4365, 4380, 4395, 4410, 4425, 4440,\n",
       "       4455, 4470, 4485, 4500, 4515, 4530, 4545, 4560, 4575, 4590, 4605,\n",
       "       4620, 4635, 4650, 4665, 4680, 4695, 4710, 4725, 4740, 4755, 4770,\n",
       "       4785, 4800, 4815, 4830, 4845, 4860, 4875, 4890, 4905, 4920, 4935,\n",
       "       4950, 4965, 4980, 4995, 5010, 5025, 5040, 5055, 5070, 5085, 5100,\n",
       "       5115, 5130, 5145, 5160, 5175, 5190, 5205, 5220, 5235, 5250, 5265,\n",
       "       5280, 5295, 5310, 5325, 5340, 5355, 5370, 5385, 5400, 5415, 5430,\n",
       "       5445, 5460, 5475, 5490, 5505, 5520, 5535, 5550, 5565, 5580, 5595,\n",
       "       5610, 5625, 5640, 5655, 5670, 5685, 5700, 5715, 5730, 5745, 5760,\n",
       "       5775, 5790, 5805, 5820, 5835, 5850, 5865, 5880, 5895, 5910, 5925,\n",
       "       5940, 5955, 5970, 5985, 6000, 6015, 6030, 6045, 6060, 6075, 6090,\n",
       "       6105, 6120, 6135, 6150, 6165, 6180, 6195, 6210, 6225, 6240, 6255])"
      ]
     },
     "execution_count": 27,
     "metadata": {},
     "output_type": "execute_result"
    }
   ],
   "source": [
    "print(\"picks mine\", video_mine['picks'][...].shape)\n",
    "video_mine['picks'][...]"
   ]
  },
  {
   "cell_type": "markdown",
   "metadata": {},
   "source": [
    "### Steps"
   ]
  },
  {
   "cell_type": "code",
   "execution_count": 28,
   "metadata": {},
   "outputs": [],
   "source": [
    "# print(\"n steps gt\", video_gt['n_steps'][...])\n",
    "# video_gt['n_steps'][...]"
   ]
  },
  {
   "cell_type": "code",
   "execution_count": 29,
   "metadata": {},
   "outputs": [
    {
     "name": "stdout",
     "output_type": "stream",
     "text": [
      "n steps mine 418\n"
     ]
    },
    {
     "data": {
      "text/plain": [
       "array(418)"
      ]
     },
     "execution_count": 29,
     "metadata": {},
     "output_type": "execute_result"
    }
   ],
   "source": [
    "print(\"n steps mine\", video_mine['n_steps'][...])\n",
    "video_mine['n_steps'][...]"
   ]
  },
  {
   "cell_type": "code",
   "execution_count": null,
   "metadata": {},
   "outputs": [],
   "source": []
  },
  {
   "cell_type": "markdown",
   "metadata": {},
   "source": [
    "### Features rn"
   ]
  },
  {
   "cell_type": "code",
   "execution_count": 30,
   "metadata": {},
   "outputs": [
    {
     "name": "stdout",
     "output_type": "stream",
     "text": [
      "features_rn (418, 2048)\n"
     ]
    },
    {
     "data": {
      "text/plain": [
       "array([[0.91701084, 0.37103629, 0.18371409, ..., 0.20647991, 0.4169102 ,\n",
       "        0.21549632],\n",
       "       [1.25150049, 0.56209326, 0.17832935, ..., 0.08810326, 0.29659665,\n",
       "        0.25123107],\n",
       "       [1.7953192 , 0.32618594, 0.04273757, ..., 0.0564817 , 0.75746965,\n",
       "        0.34218612],\n",
       "       ...,\n",
       "       [1.29171288, 0.59979737, 0.77721214, ..., 0.91315055, 1.55076754,\n",
       "        0.21494585],\n",
       "       [0.88447505, 0.16722341, 0.42877698, ..., 0.55294901, 1.66218162,\n",
       "        0.11878984],\n",
       "       [0.7686429 , 0.22929385, 0.39944509, ..., 0.56337053, 0.97576636,\n",
       "        0.09575848]])"
      ]
     },
     "execution_count": 30,
     "metadata": {},
     "output_type": "execute_result"
    }
   ],
   "source": [
    "print(\"features_rn\", video_mine['features_rn'][...].shape)\n",
    "video_mine['features_rn'][...]"
   ]
  },
  {
   "cell_type": "markdown",
   "metadata": {},
   "source": [
    "### Features iv3"
   ]
  },
  {
   "cell_type": "code",
   "execution_count": 31,
   "metadata": {},
   "outputs": [
    {
     "name": "stdout",
     "output_type": "stream",
     "text": [
      "features_iv3 (418, 2048)\n"
     ]
    },
    {
     "data": {
      "text/plain": [
       "array([[0.36381626, 0.41588911, 0.65189683, ..., 0.29057899, 1.54852009,\n",
       "        0.12888065],\n",
       "       [0.45208114, 0.36702779, 0.94460356, ..., 0.14587021, 0.53438622,\n",
       "        0.02822377],\n",
       "       [0.35142094, 0.25603133, 1.00757074, ..., 0.22188465, 1.07591128,\n",
       "        0.00353241],\n",
       "       ...,\n",
       "       [0.18119276, 0.09467727, 0.04094694, ..., 0.08011962, 0.26032543,\n",
       "        0.3326093 ],\n",
       "       [0.08665416, 0.11277606, 0.04814126, ..., 0.03089454, 0.28368255,\n",
       "        0.33611947],\n",
       "       [0.1090709 , 0.15836516, 0.05889504, ..., 0.02179396, 0.1423464 ,\n",
       "        0.36872318]])"
      ]
     },
     "execution_count": 31,
     "metadata": {},
     "output_type": "execute_result"
    }
   ],
   "source": [
    "print(\"features_iv3\", video_mine['features_iv3'][...].shape)\n",
    "video_mine['features_iv3'][...]"
   ]
  },
  {
   "cell_type": "markdown",
   "metadata": {},
   "source": [
    "### Features RGB"
   ]
  },
  {
   "cell_type": "code",
   "execution_count": 32,
   "metadata": {},
   "outputs": [
    {
     "name": "stdout",
     "output_type": "stream",
     "text": [
      "features_rgb (402, 1024)\n"
     ]
    },
    {
     "data": {
      "text/plain": [
       "array([[0.12040778, 0.08924994, 0.25639349, ..., 0.12150455, 0.422279  ,\n",
       "        0.        ],\n",
       "       [0.0742717 , 0.10037775, 0.65210903, ..., 0.20349845, 0.26093909,\n",
       "        0.        ],\n",
       "       [0.07004884, 0.16937833, 0.32442477, ..., 0.06053451, 0.10074295,\n",
       "        0.0020523 ],\n",
       "       ...,\n",
       "       [0.02957824, 0.28675556, 0.11072949, ..., 0.10791171, 0.18353108,\n",
       "        0.02141355],\n",
       "       [0.03091061, 0.24096464, 0.13950953, ..., 0.31590939, 0.09879748,\n",
       "        0.02429446],\n",
       "       [0.02267014, 0.44684321, 0.14413515, ..., 0.19736852, 0.08168415,\n",
       "        0.0130678 ]])"
      ]
     },
     "execution_count": 32,
     "metadata": {},
     "output_type": "execute_result"
    }
   ],
   "source": [
    "print(\"features_rgb\", video_mine['features_rgb'][...].shape)\n",
    "video_mine['features_rgb'][...]"
   ]
  },
  {
   "cell_type": "markdown",
   "metadata": {},
   "source": [
    "### Features flow"
   ]
  },
  {
   "cell_type": "code",
   "execution_count": 33,
   "metadata": {},
   "outputs": [
    {
     "name": "stdout",
     "output_type": "stream",
     "text": [
      "features_flow (401, 1024)\n"
     ]
    },
    {
     "data": {
      "text/plain": [
       "array([[0.00350306, 0.        , 0.19425483, ..., 0.        , 0.11394422,\n",
       "        0.00663556],\n",
       "       [0.00428692, 0.        , 0.16077322, ..., 0.        , 0.07616258,\n",
       "        0.02007624],\n",
       "       [0.00489576, 0.        , 0.14479241, ..., 0.        , 0.09149326,\n",
       "        0.00890846],\n",
       "       ...,\n",
       "       [0.00517061, 0.        , 0.13716257, ..., 0.        , 0.0511636 ,\n",
       "        0.        ],\n",
       "       [0.00899672, 0.        , 0.09445009, ..., 0.        , 0.04601432,\n",
       "        0.        ],\n",
       "       [0.0077873 , 0.        , 0.08104715, ..., 0.        , 0.04377815,\n",
       "        0.        ]])"
      ]
     },
     "execution_count": 33,
     "metadata": {},
     "output_type": "execute_result"
    }
   ],
   "source": [
    "print(\"features_flow\", video_mine['features_flow'][...].shape)\n",
    "video_mine['features_flow'][...]"
   ]
  },
  {
   "cell_type": "markdown",
   "metadata": {},
   "source": [
    "### Features 3D"
   ]
  },
  {
   "cell_type": "code",
   "execution_count": 34,
   "metadata": {},
   "outputs": [
    {
     "name": "stdout",
     "output_type": "stream",
     "text": [
      "features_3D (402, 2048)\n"
     ]
    },
    {
     "data": {
      "text/plain": [
       "array([[0.01141421, 0.71902668, 0.25896689, ..., 0.1422621 , 0.0861815 ,\n",
       "        0.00882405],\n",
       "       [0.02725962, 0.52138793, 0.30773759, ..., 0.25383136, 0.11571796,\n",
       "        0.00349379],\n",
       "       [0.02982524, 0.62953007, 0.32884738, ..., 0.30199018, 0.03786028,\n",
       "        0.0057897 ],\n",
       "       ...,\n",
       "       [0.48453256, 0.32303569, 0.09364371, ..., 0.40632352, 0.12540844,\n",
       "        0.23443155],\n",
       "       [0.41358986, 0.20823215, 0.05869264, ..., 0.62941879, 0.07164476,\n",
       "        0.24125667],\n",
       "       [0.56094712, 0.38486218, 0.05387338, ..., 0.57304704, 0.03873715,\n",
       "        0.22623166]])"
      ]
     },
     "execution_count": 34,
     "metadata": {},
     "output_type": "execute_result"
    }
   ],
   "source": [
    "print(\"features_3D\", video_mine['features_3D'][...].shape)\n",
    "video_mine['features_3D'][...]"
   ]
  },
  {
   "cell_type": "code",
   "execution_count": null,
   "metadata": {},
   "outputs": [],
   "source": []
  },
  {
   "cell_type": "code",
   "execution_count": null,
   "metadata": {},
   "outputs": [],
   "source": []
  },
  {
   "cell_type": "code",
   "execution_count": null,
   "metadata": {},
   "outputs": [],
   "source": []
  },
  {
   "cell_type": "code",
   "execution_count": null,
   "metadata": {},
   "outputs": [],
   "source": []
  },
  {
   "cell_type": "markdown",
   "metadata": {},
   "source": [
    "SumMe: video name is stored in video_i/video_name.\n",
    "TVSum: video1-50 corresponds to the same order in ydata-tvsum50.mat, which is the original matlab file provided by TVSum."
   ]
  },
  {
   "cell_type": "code",
   "execution_count": null,
   "metadata": {},
   "outputs": [],
   "source": [
    "segmentos de 4.5 seg en promedio"
   ]
  },
  {
   "cell_type": "code",
   "execution_count": 27,
   "metadata": {},
   "outputs": [
    {
     "data": {
      "text/plain": [
       "135.0"
      ]
     },
     "execution_count": 27,
     "metadata": {},
     "output_type": "execute_result"
    }
   ],
   "source": [
    "4.5*30"
   ]
  },
  {
   "cell_type": "code",
   "execution_count": null,
   "metadata": {},
   "outputs": [],
   "source": []
  },
  {
   "cell_type": "code",
   "execution_count": 30,
   "metadata": {},
   "outputs": [],
   "source": [
    "import numpy as np"
   ]
  },
  {
   "cell_type": "code",
   "execution_count": 31,
   "metadata": {},
   "outputs": [],
   "source": [
    "import os"
   ]
  },
  {
   "cell_type": "code",
   "execution_count": 32,
   "metadata": {},
   "outputs": [],
   "source": [
    "import cv2"
   ]
  },
  {
   "cell_type": "code",
   "execution_count": 33,
   "metadata": {},
   "outputs": [],
   "source": [
    "path_data = \"/data/shuaman/video_summarization/datasets/raw_datasets/VSUMM/UserSummary\""
   ]
  },
  {
   "cell_type": "code",
   "execution_count": 34,
   "metadata": {},
   "outputs": [],
   "source": [
    "name_video = \"v21\""
   ]
  },
  {
   "cell_type": "code",
   "execution_count": 35,
   "metadata": {},
   "outputs": [],
   "source": [
    "path_video = f\"/data/shuaman/video_summarization/datasets/raw_datasets/VSUMM/database/{name_video}.mpg\""
   ]
  },
  {
   "cell_type": "code",
   "execution_count": 36,
   "metadata": {},
   "outputs": [
    {
     "data": {
      "text/plain": [
       "'/data/shuaman/video_summarization/datasets/raw_datasets/VSUMM/database/v21.mpg'"
      ]
     },
     "execution_count": 36,
     "metadata": {},
     "output_type": "execute_result"
    }
   ],
   "source": [
    "path_video"
   ]
  },
  {
   "cell_type": "code",
   "execution_count": 37,
   "metadata": {},
   "outputs": [],
   "source": [
    "video_capture = cv2.VideoCapture(path_video)"
   ]
  },
  {
   "cell_type": "code",
   "execution_count": 38,
   "metadata": {},
   "outputs": [
    {
     "data": {
      "text/plain": [
       "29.97002997002997"
      ]
     },
     "execution_count": 38,
     "metadata": {},
     "output_type": "execute_result"
    }
   ],
   "source": [
    "fps = video_capture.get(cv2.CAP_PROP_FPS)\n",
    "fps"
   ]
  },
  {
   "cell_type": "code",
   "execution_count": null,
   "metadata": {},
   "outputs": [],
   "source": []
  },
  {
   "cell_type": "code",
   "execution_count": 39,
   "metadata": {},
   "outputs": [
    {
     "data": {
      "text/plain": [
       "['v60.mpg',\n",
       " 'v32.mpg',\n",
       " 'v45.mpg',\n",
       " 'v36.mpg',\n",
       " 'v34.mpg',\n",
       " 'v68.mpg',\n",
       " 'v28.mpg',\n",
       " 'v24.mpg',\n",
       " 'v22.mpg',\n",
       " 'v58.mpg',\n",
       " 'v30.mpg',\n",
       " 'v63.mpg',\n",
       " 'v52.mpg',\n",
       " 'v41.mpg',\n",
       " 'v23.mpg',\n",
       " 'v69.mpg',\n",
       " 'v35.mpg',\n",
       " 'v70.mpg',\n",
       " 'v59.mpg',\n",
       " 'v62.mpg',\n",
       " 'v55.mpg',\n",
       " 'v48.mpg',\n",
       " 'v57.mpg',\n",
       " 'v40.mpg',\n",
       " 'v29.mpg',\n",
       " 'v54.mpg',\n",
       " 'v44.mpg',\n",
       " 'v38.mpg',\n",
       " 'v47.mpg',\n",
       " 'v21.mpg',\n",
       " 'v33.mpg',\n",
       " 'v51.mpg',\n",
       " 'v27.mpg',\n",
       " 'v65.mpg',\n",
       " 'v49.mpg',\n",
       " 'v25.mpg',\n",
       " 'v56.mpg',\n",
       " 'v53.mpg',\n",
       " 'v26.mpg',\n",
       " 'v61.mpg',\n",
       " 'v37.mpg',\n",
       " 'v46.mpg',\n",
       " 'v67.mpg',\n",
       " 'v64.mpg',\n",
       " 'v43.mpg',\n",
       " 'v39.mpg',\n",
       " 'v42.mpg',\n",
       " 'v66.mpg',\n",
       " 'v50.mpg',\n",
       " 'v31.mpg']"
      ]
     },
     "execution_count": 39,
     "metadata": {},
     "output_type": "execute_result"
    }
   ],
   "source": [
    "os.listdir(\"/data/shuaman/video_summarization/datasets/raw_datasets/VSUMM/database/\")"
   ]
  },
  {
   "cell_type": "code",
   "execution_count": 40,
   "metadata": {},
   "outputs": [
    {
     "data": {
      "text/plain": [
       "['v65',\n",
       " 'v51',\n",
       " 'v43',\n",
       " 'v22',\n",
       " 'v58',\n",
       " 'v45',\n",
       " 'v32',\n",
       " 'v50',\n",
       " 'v61',\n",
       " 'v27',\n",
       " 'v29',\n",
       " 'v54',\n",
       " 'v63',\n",
       " 'v36',\n",
       " 'v37',\n",
       " 'v57',\n",
       " 'v41',\n",
       " 'v44',\n",
       " 'v30',\n",
       " 'v56',\n",
       " 'v38',\n",
       " 'v42',\n",
       " 'v70',\n",
       " 'v33',\n",
       " 'v52',\n",
       " 'v55',\n",
       " 'v64',\n",
       " 'v31',\n",
       " 'v21',\n",
       " 'v24',\n",
       " 'v62',\n",
       " 'v59',\n",
       " 'v40',\n",
       " 'v26',\n",
       " 'v69',\n",
       " 'v66',\n",
       " 'v25',\n",
       " 'v35',\n",
       " 'v60',\n",
       " 'v28',\n",
       " 'v53',\n",
       " 'v68',\n",
       " 'v48',\n",
       " 'v23',\n",
       " 'v49',\n",
       " 'v39',\n",
       " 'v34',\n",
       " 'v47',\n",
       " 'v67',\n",
       " 'v46']"
      ]
     },
     "execution_count": 40,
     "metadata": {},
     "output_type": "execute_result"
    }
   ],
   "source": [
    "[gtvideo for gtvideo in os.listdir(path_data) if os.path.isdir(os.path.join(path_data, gtvideo))]"
   ]
  },
  {
   "cell_type": "code",
   "execution_count": 41,
   "metadata": {},
   "outputs": [],
   "source": [
    "user_list = os.listdir(os.path.join(path_data, name_video))"
   ]
  },
  {
   "cell_type": "code",
   "execution_count": 42,
   "metadata": {},
   "outputs": [
    {
     "data": {
      "text/plain": [
       "['user1', 'user3', 'user5', 'user4', 'user2']"
      ]
     },
     "execution_count": 42,
     "metadata": {},
     "output_type": "execute_result"
    }
   ],
   "source": [
    "user_list"
   ]
  },
  {
   "cell_type": "code",
   "execution_count": 58,
   "metadata": {},
   "outputs": [
    {
     "name": "stdout",
     "output_type": "stream",
     "text": [
      "['Frame2521.jpeg', 'Frame841.jpeg', 'Frame421.jpeg', 'Frame931.jpeg', 'Frame2731.jpeg', 'Frame121.jpeg', 'Frame1081.jpeg', 'Frame2101.jpeg', 'Frame2041.jpeg', 'Frame721.jpeg', 'Frame301.jpeg']\n",
      "[ 121  301  421  721  841  931 1081 2041 2101 2521 2731]\n",
      "\n",
      "['Frame3060.jpeg', 'Frame780.jpeg', 'Frame961.jpeg', 'Frame2101.jpeg', 'Frame301.jpeg']\n",
      "[ 301  780  961 2101 3060]\n",
      "\n",
      "['Frame1321.jpeg', 'Frame841.jpeg', 'Frame631.jpeg', 'Frame961.jpeg', 'Frame2101.jpeg', 'Frame2671.jpeg', 'Frame1921.jpeg', 'Frame1771.jpeg', 'Frame2912.jpeg']\n",
      "[ 631  841  961 1321 1771 1921 2101 2671 2912]\n",
      "\n",
      "['Frame1350.jpeg', 'Frame1711.jpeg', 'Frame2731.jpeg', 'Frame1591.jpeg', 'Frame871.jpeg', 'Frame2041.jpeg', 'Frame721.jpeg', 'Frame301.jpeg', 'Frame3211.jpeg']\n",
      "[ 301  721  871 1350 1591 1711 2041 2731 3211]\n",
      "\n",
      "['Frame2011.jpeg', 'Frame3151.jpeg', 'Frame961.jpeg', 'Frame2101.jpeg', 'Frame571.jpeg']\n",
      "[ 571  961 2011 2101 3151]\n",
      "\n"
     ]
    }
   ],
   "source": [
    "user_summary = []\n",
    "for user_summ in np.sort(user_list):\n",
    "    print(os.listdir(os.path.join(path_data, name_video, user_summ)))\n",
    "    print(np.sort([int(frame.split('.')[0][5:]) for frame in os.listdir(os.path.join(path_data, name_video, user_summ))]))\n",
    "    print()\n",
    "    list_summ = [int(np.ceil(int(frame.split('.')[0][5:])*5.2)) for frame in os.listdir(os.path.join(path_data, name_video, user_summ))]\n",
    "    list_summ.sort()\n",
    "    user_summary.append(list_summ)"
   ]
  },
  {
   "cell_type": "code",
   "execution_count": 59,
   "metadata": {},
   "outputs": [
    {
     "data": {
      "text/plain": [
       "[[630, 1566, 2190, 3750, 4374, 4842, 5622, 10614, 10926, 13110, 14202],\n",
       " [1566, 4056, 4998, 10926, 15912],\n",
       " [3282, 4374, 4998, 6870, 9210, 9990, 10926, 13890, 15143],\n",
       " [1566, 3750, 4530, 7020, 8274, 8898, 10614, 14202, 16698],\n",
       " [2970, 4998, 10458, 10926, 16386]]"
      ]
     },
     "execution_count": 59,
     "metadata": {},
     "output_type": "execute_result"
    }
   ],
   "source": [
    "user_summary"
   ]
  },
  {
   "cell_type": "code",
   "execution_count": 49,
   "metadata": {},
   "outputs": [
    {
     "data": {
      "text/plain": [
       "[[121, 301, 421, 721, 841, 931, 1081, 2041, 2101, 2521, 2731],\n",
       " [301, 780, 961, 2101, 3060],\n",
       " [631, 841, 961, 1321, 1771, 1921, 2101, 2671, 2912],\n",
       " [301, 721, 871, 1350, 1591, 1711, 2041, 2731, 3211],\n",
       " [571, 961, 2011, 2101, 3151]]"
      ]
     },
     "execution_count": 49,
     "metadata": {},
     "output_type": "execute_result"
    }
   ],
   "source": [
    "user_summary"
   ]
  },
  {
   "cell_type": "code",
   "execution_count": null,
   "metadata": {},
   "outputs": [],
   "source": []
  },
  {
   "cell_type": "code",
   "execution_count": null,
   "metadata": {},
   "outputs": [],
   "source": []
  },
  {
   "cell_type": "code",
   "execution_count": null,
   "metadata": {},
   "outputs": [],
   "source": []
  },
  {
   "cell_type": "code",
   "execution_count": 106,
   "metadata": {},
   "outputs": [],
   "source": [
    "cp_dummy = video_gt['change_points'][...]"
   ]
  },
  {
   "cell_type": "code",
   "execution_count": 121,
   "metadata": {},
   "outputs": [],
   "source": [
    " new_gt_user = np.zeros(n_frames)"
   ]
  },
  {
   "cell_type": "code",
   "execution_count": 158,
   "metadata": {},
   "outputs": [
    {
     "data": {
      "text/plain": [
       "[array([ 75, 164]),\n",
       " array([255, 314]),\n",
       " array([360, 629]),\n",
       " array([630, 749]),\n",
       " array([750, 854]),\n",
       " array([855, 944]),\n",
       " array([ 945, 1094]),\n",
       " array([1980, 2069]),\n",
       " array([2070, 2204]),\n",
       " array([2460, 2534]),\n",
       " array([2715, 2759])]"
      ]
     },
     "execution_count": 158,
     "metadata": {},
     "output_type": "execute_result"
    }
   ],
   "source": [
    "segments = [segment for segment in cp_dummy for frame in user_summary[0] if (frame>=segment[0]) and (frame<=segment[1])]\n",
    "segments"
   ]
  },
  {
   "cell_type": "code",
   "execution_count": 159,
   "metadata": {},
   "outputs": [
    {
     "data": {
      "text/plain": [
       "75"
      ]
     },
     "execution_count": 159,
     "metadata": {},
     "output_type": "execute_result"
    }
   ],
   "source": [
    "segments[0][0]"
   ]
  },
  {
   "cell_type": "code",
   "execution_count": 129,
   "metadata": {},
   "outputs": [],
   "source": [
    "new_gt_user[segments[0][0]:segments[0][1]+1] = 1"
   ]
  },
  {
   "cell_type": "code",
   "execution_count": 130,
   "metadata": {},
   "outputs": [
    {
     "data": {
      "text/plain": [
       "array([1., 1., 1., ..., 0., 0., 0.])"
      ]
     },
     "execution_count": 130,
     "metadata": {},
     "output_type": "execute_result"
    }
   ],
   "source": [
    "new_gt_user[627:]"
   ]
  },
  {
   "cell_type": "code",
   "execution_count": 107,
   "metadata": {},
   "outputs": [
    {
     "data": {
      "text/plain": [
       "array([[   0,   74],\n",
       "       [  75,  164],\n",
       "       [ 165,  209],\n",
       "       [ 210,  254],\n",
       "       [ 255,  314],\n",
       "       [ 315,  359],\n",
       "       [ 360,  629],\n",
       "       [ 630,  749],\n",
       "       [ 750,  854],\n",
       "       [ 855,  944],\n",
       "       [ 945, 1094],\n",
       "       [1095, 1229],\n",
       "       [1230, 1379],\n",
       "       [1380, 1484],\n",
       "       [1485, 1529],\n",
       "       [1530, 1604],\n",
       "       [1605, 1679],\n",
       "       [1680, 1739],\n",
       "       [1740, 1844],\n",
       "       [1845, 1904],\n",
       "       [1905, 1979],\n",
       "       [1980, 2069],\n",
       "       [2070, 2204],\n",
       "       [2205, 2279],\n",
       "       [2280, 2369],\n",
       "       [2370, 2459],\n",
       "       [2460, 2534],\n",
       "       [2535, 2639],\n",
       "       [2640, 2714],\n",
       "       [2715, 2759],\n",
       "       [2760, 2834],\n",
       "       [2835, 2909],\n",
       "       [2910, 2984],\n",
       "       [2985, 3044],\n",
       "       [3045, 3224],\n",
       "       [3225, 3283]])"
      ]
     },
     "execution_count": 107,
     "metadata": {},
     "output_type": "execute_result"
    }
   ],
   "source": [
    "cp_dummy"
   ]
  },
  {
   "cell_type": "code",
   "execution_count": 108,
   "metadata": {},
   "outputs": [],
   "source": [
    "n_frames = 3284"
   ]
  },
  {
   "cell_type": "code",
   "execution_count": 161,
   "metadata": {},
   "outputs": [],
   "source": [
    "gt_video = []\n",
    "for user in user_summary:\n",
    "    new_gt_user = np.zeros(n_frames)\n",
    "    segments = [segment for segment in cp_dummy for frame in user if (frame>=segment[0]) and (frame<=segment[1])]\n",
    "    for segment in segments:\n",
    "        new_gt_user[int(segment[0]):int(segment[1]+1)] = 1\n",
    "    gt_video.append(new_gt_user)"
   ]
  },
  {
   "cell_type": "code",
   "execution_count": 166,
   "metadata": {},
   "outputs": [
    {
     "ename": "AttributeError",
     "evalue": "'list' object has no attribute 'shape'",
     "output_type": "error",
     "traceback": [
      "\u001b[0;31m---------------------------------------------------------------------------\u001b[0m",
      "\u001b[0;31mAttributeError\u001b[0m                            Traceback (most recent call last)",
      "\u001b[0;32m<ipython-input-166-2b3dd016f20d>\u001b[0m in \u001b[0;36m<module>\u001b[0;34m\u001b[0m\n\u001b[0;32m----> 1\u001b[0;31m \u001b[0mgt_video\u001b[0m\u001b[0;34m.\u001b[0m\u001b[0mshape\u001b[0m\u001b[0;34m\u001b[0m\u001b[0;34m\u001b[0m\u001b[0m\n\u001b[0m",
      "\u001b[0;31mAttributeError\u001b[0m: 'list' object has no attribute 'shape'"
     ]
    }
   ],
   "source": [
    "gt_video.shape"
   ]
  },
  {
   "cell_type": "code",
   "execution_count": 171,
   "metadata": {},
   "outputs": [
    {
     "data": {
      "text/plain": [
       "3284"
      ]
     },
     "execution_count": 171,
     "metadata": {},
     "output_type": "execute_result"
    }
   ],
   "source": [
    "np.array(gt_video).T.T.shape[1]"
   ]
  },
  {
   "cell_type": "code",
   "execution_count": 164,
   "metadata": {},
   "outputs": [
    {
     "data": {
      "text/plain": [
       "array([1., 1., 1., 1., 1., 1., 1., 1., 1., 1., 1., 1., 1., 1., 1., 0., 0.,\n",
       "       0., 0., 0., 0., 0., 0., 0., 0.])"
      ]
     },
     "execution_count": 164,
     "metadata": {},
     "output_type": "execute_result"
    }
   ],
   "source": [
    "np.array(gt_video)[0][2745:2770]"
   ]
  },
  {
   "cell_type": "code",
   "execution_count": 115,
   "metadata": {},
   "outputs": [
    {
     "data": {
      "text/plain": [
       "array([0., 0., 0., ..., 0., 0., 0.])"
      ]
     },
     "execution_count": 115,
     "metadata": {},
     "output_type": "execute_result"
    }
   ],
   "source": [
    "np.zeros(3284)"
   ]
  }
 ],
 "metadata": {
  "kernelspec": {
   "display_name": "vsm_kernel",
   "language": "python",
   "name": "vsm_kernel"
  },
  "language_info": {
   "codemirror_mode": {
    "name": "ipython",
    "version": 3
   },
   "file_extension": ".py",
   "mimetype": "text/x-python",
   "name": "python",
   "nbconvert_exporter": "python",
   "pygments_lexer": "ipython3",
   "version": "3.8.11"
  }
 },
 "nbformat": 4,
 "nbformat_minor": 4
}
