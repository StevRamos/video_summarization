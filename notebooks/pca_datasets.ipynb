{
 "cells": [
  {
   "cell_type": "code",
   "execution_count": 1,
   "metadata": {},
   "outputs": [],
   "source": [
    "import numpy as np"
   ]
  },
  {
   "cell_type": "code",
   "execution_count": 2,
   "metadata": {},
   "outputs": [],
   "source": [
    "import torch \n",
    "import h5py\n",
    "\n",
    "class VSMDataset(torch.utils.data.Dataset):\n",
    "    \"\"\"Video Summarizer Dataset\n",
    "        Datasets: TVSum, Summe, VSUMM, CoSum, Visiocity\n",
    "    \"\"\"\n",
    "\n",
    "    def __init__(self, hdfs_path, split=None, \n",
    "                 googlenet=False, \n",
    "                 resnext=False, \n",
    "                 inceptionv3=False,\n",
    "                 i3d_rgb=False,\n",
    "                 i3d_flow=False,\n",
    "                 resnet3d=False\n",
    "                ):\n",
    "        \"\"\"\n",
    "        Args:\n",
    "           hdfs_path (string): path of the hdfs processed data\n",
    "           split (dict): idxs of the train/test split \n",
    "        \"\"\"\n",
    "        videos_info = h5py.File(hdfs_path)\n",
    "        self.labels = {}\n",
    "        self.data = {}\n",
    "        \n",
    "        keys_to_avoid = ['gtscore', 'gtsummary', 'user_summary']\n",
    "        \n",
    "        if not googlenet:\n",
    "            keys_to_avoid.append('features')\n",
    "        if not resnext:\n",
    "            keys_to_avoid.append('features_rn')\n",
    "        if not inceptionv3:\n",
    "            keys_to_avoid.append('features_iv3')\n",
    "        if not i3d_rgb:\n",
    "            keys_to_avoid.append('features_rgb')\n",
    "        if not i3d_flow:\n",
    "            keys_to_avoid.append('features_flow')\n",
    "        if not resnet3d:\n",
    "            keys_to_avoid.append('features_3D')\n",
    "        \n",
    "        for it, video in enumerate(list(videos_info)):\n",
    "            self.labels[it] = dict((key, videos_info[video][key][...])for key in list(videos_info[video]) if key in ('gtscore', 'gtsummary', 'user_summary') )\n",
    "            self.data[it] = dict((key, videos_info[video][key][...])for key in list(videos_info[video]) if key not in keys_to_avoid )   \n",
    "            \n",
    "            if \"video_name\" in self.data[it].keys():\n",
    "                self.data[it][\"video_name\"] = str(self.data[it][\"video_name\"]) \n",
    "            \n",
    "        if split:\n",
    "            #TO-DO\n",
    "            pass\n",
    "        \n",
    "\n",
    "    def __len__(self):\n",
    "        return len(self.data)\n",
    "\n",
    "    def __getitem__(self, index):\n",
    "        X = self.data[index]\n",
    "        y = self.labels[index]        \n",
    "        return X, y\n",
    "    \n",
    "    def get_feature(self, index, feature):\n",
    "        X = self.data[index][feature]\n",
    "        return X\n",
    "\n",
    "def show_sample(idx, hdfs_path):\n",
    "\n",
    "    vsm_dataset = VSMDataset(hdfs_path=hdfs_path)\n",
    "    video_info, label = vsm_dataset[idx]\n",
    "\n",
    "    return video_info, label\n",
    "\n"
   ]
  },
  {
   "cell_type": "code",
   "execution_count": 3,
   "metadata": {},
   "outputs": [],
   "source": [
    "paths = [\n",
    "        \"/home/shuaman/video_sm/video_summarization/src/dataset_ovp_processed.h5\",\n",
    "        \"/home/shuaman/video_sm/video_summarization/src/dataset_summe_processed.h5\",\n",
    "        \"/home/shuaman/video_sm/video_summarization/src/dataset_tvsum_processed.h5\",\n",
    "        \"/home/shuaman/video_sm/video_summarization/src/dataset_youtube_processed.h5\",\n",
    "        \"/home/shuaman/video_sm/video_summarization/src/dataset_cosum_processed.h5\",\n",
    "        ]"
   ]
  },
  {
   "cell_type": "code",
   "execution_count": 4,
   "metadata": {},
   "outputs": [],
   "source": [
    "features_rn = []\n",
    "features_iv3 = []\n",
    "features_3D = []\n",
    "features= []\n",
    "features_rgb = []\n",
    "features_flow= []\n",
    "\n",
    "for feature in [\"features_rn\", \"features_iv3\", \"features_3D\", \"features\", \"features_rgb\", \"features_flow\"]:\n",
    "    for path in paths:\n",
    "        training_set = VSMDataset(path, googlenet=True, resnext=True, inceptionv3=True,\n",
    "                                 i3d_rgb=True, i3d_flow=True, resnet3d=True)\n",
    "\n",
    "        for i in range(len(training_set)):\n",
    "            feat = training_set.get_feature(i, feature)\n",
    "            \n",
    "            for nframe in range(len(feat)):        \n",
    "                if feature==\"features_rn\":\n",
    "                    features_rn.append(feat[nframe])\n",
    "                elif feature==\"features_iv3\":\n",
    "                    features_iv3.append(feat[nframe])\n",
    "                elif feature==\"features_3D\":\n",
    "                    features_3D.append(feat[nframe])\n",
    "                elif feature==\"features\":\n",
    "                    features.append(feat[nframe])\n",
    "                elif feature==\"features_rgb\":\n",
    "                    features_rgb.append(feat[nframe])\n",
    "                elif feature==\"features_flow\":\n",
    "                    features_flow.append(feat[nframe])\n",
    "                \n",
    "features_rn = np.array(features_rn)    \n",
    "features_iv3 = np.array(features_iv3)    \n",
    "features_3D = np.array(features_3D)    \n",
    "features = np.array(features)    \n",
    "features_rgb = np.array(features_rgb)    \n",
    "features_flow = np.array(features_flow)    "
   ]
  },
  {
   "cell_type": "code",
   "execution_count": 5,
   "metadata": {},
   "outputs": [
    {
     "data": {
      "text/plain": [
       "(70676, 1024)"
      ]
     },
     "execution_count": 5,
     "metadata": {},
     "output_type": "execute_result"
    }
   ],
   "source": [
    "features.shape"
   ]
  },
  {
   "cell_type": "code",
   "execution_count": 6,
   "metadata": {},
   "outputs": [
    {
     "data": {
      "text/plain": [
       "(54342, 1024)"
      ]
     },
     "execution_count": 6,
     "metadata": {},
     "output_type": "execute_result"
    }
   ],
   "source": [
    "features_rgb.shape"
   ]
  },
  {
   "cell_type": "code",
   "execution_count": 7,
   "metadata": {},
   "outputs": [
    {
     "data": {
      "text/plain": [
       "(54137, 1024)"
      ]
     },
     "execution_count": 7,
     "metadata": {},
     "output_type": "execute_result"
    }
   ],
   "source": [
    "features_flow.shape"
   ]
  },
  {
   "cell_type": "code",
   "execution_count": 8,
   "metadata": {},
   "outputs": [
    {
     "data": {
      "text/plain": [
       "(70676, 2048)"
      ]
     },
     "execution_count": 8,
     "metadata": {},
     "output_type": "execute_result"
    }
   ],
   "source": [
    "features_iv3.shape"
   ]
  },
  {
   "cell_type": "code",
   "execution_count": 9,
   "metadata": {},
   "outputs": [
    {
     "data": {
      "text/plain": [
       "(54342, 2048)"
      ]
     },
     "execution_count": 9,
     "metadata": {},
     "output_type": "execute_result"
    }
   ],
   "source": [
    "features_3D.shape"
   ]
  },
  {
   "cell_type": "code",
   "execution_count": 10,
   "metadata": {},
   "outputs": [
    {
     "data": {
      "text/plain": [
       "(70676, 2048)"
      ]
     },
     "execution_count": 10,
     "metadata": {},
     "output_type": "execute_result"
    }
   ],
   "source": [
    "features_rn.shape"
   ]
  },
  {
   "cell_type": "code",
   "execution_count": 11,
   "metadata": {},
   "outputs": [],
   "source": [
    "from sklearn.preprocessing import StandardScaler\n",
    "from sklearn.decomposition import PCA"
   ]
  },
  {
   "cell_type": "code",
   "execution_count": 13,
   "metadata": {},
   "outputs": [],
   "source": [
    "def fit_transform_data(descriptors_orig, n_components):\n",
    "    \"\"\"\n",
    "    descriptors_orig: descriptores directamente obtenidos del modelo\n",
    "    n_components: numero de componentes de pca\n",
    "    \"\"\"\n",
    "    normalizer = StandardScaler()\n",
    "    normalizer = normalizer.fit(descriptors_orig)\n",
    "    descriptors = normalizer.transform(descriptors_orig)\n",
    "    pca_transformer = PCA(n_components = n_components, random_state=0)\n",
    "    pca_transformer = pca_transformer.fit(descriptors)\n",
    "    descriptors = pca_transformer.transform(descriptors)\n",
    "    return descriptors, normalizer, pca_transformer"
   ]
  },
  {
   "cell_type": "code",
   "execution_count": 14,
   "metadata": {},
   "outputs": [],
   "source": [
    "features_iv3_pca, normalizer_iv3, pca_iv3 = fit_transform_data(descriptors_orig=features_iv3, n_components=1024)\n",
    "features_3D_pca, normalizer_3D, pca_3D = fit_transform_data(descriptors_orig=features_3D, n_components=1024)\n",
    "features_rn_pca, normalizer_rn, pca_rn = fit_transform_data(descriptors_orig=features_rn, n_components=1024)\n",
    "\n",
    "_, normalizer_googlenet, _ = fit_transform_data(descriptors_orig=features, n_components=1024)\n",
    "_, normalizer_rgb, _ = fit_transform_data(descriptors_orig=features_rgb, n_components=1024)\n",
    "_, normalizer_flow, _ = fit_transform_data(descriptors_orig=features_flow, n_components=1024)"
   ]
  },
  {
   "cell_type": "code",
   "execution_count": 15,
   "metadata": {},
   "outputs": [
    {
     "data": {
      "text/plain": [
       "(70676, 1024)"
      ]
     },
     "execution_count": 15,
     "metadata": {},
     "output_type": "execute_result"
    }
   ],
   "source": [
    "features_iv3_pca.shape"
   ]
  },
  {
   "cell_type": "code",
   "execution_count": 16,
   "metadata": {},
   "outputs": [
    {
     "data": {
      "text/plain": [
       "(54342, 1024)"
      ]
     },
     "execution_count": 16,
     "metadata": {},
     "output_type": "execute_result"
    }
   ],
   "source": [
    "features_3D_pca.shape"
   ]
  },
  {
   "cell_type": "code",
   "execution_count": 17,
   "metadata": {},
   "outputs": [
    {
     "data": {
      "text/plain": [
       "(70676, 1024)"
      ]
     },
     "execution_count": 17,
     "metadata": {},
     "output_type": "execute_result"
    }
   ],
   "source": [
    "features_rn_pca.shape"
   ]
  },
  {
   "cell_type": "code",
   "execution_count": 18,
   "metadata": {},
   "outputs": [
    {
     "data": {
      "text/plain": [
       "array([ 1.9938809 , -1.169457  , -4.483862  , ..., -0.12678224,\n",
       "       -0.59480363, -0.22077972], dtype=float32)"
      ]
     },
     "execution_count": 18,
     "metadata": {},
     "output_type": "execute_result"
    }
   ],
   "source": [
    "features_iv3_pca[-1]"
   ]
  },
  {
   "cell_type": "code",
   "execution_count": 19,
   "metadata": {},
   "outputs": [
    {
     "data": {
      "text/plain": [
       "array([ 1.9938809 , -1.169457  , -4.483862  , ..., -0.12678224,\n",
       "       -0.59480363, -0.22077972], dtype=float32)"
      ]
     },
     "execution_count": 19,
     "metadata": {},
     "output_type": "execute_result"
    }
   ],
   "source": [
    "pca_iv3.transform(normalizer_iv3.transform(features_iv3))[-1]"
   ]
  },
  {
   "cell_type": "code",
   "execution_count": 20,
   "metadata": {},
   "outputs": [],
   "source": [
    "import pickle"
   ]
  },
  {
   "cell_type": "code",
   "execution_count": 21,
   "metadata": {},
   "outputs": [],
   "source": [
    "transformations = {\n",
    "    \"normalizer_iv3\": normalizer_iv3,\n",
    "    \"pca_iv3\": pca_iv3,\n",
    "    \"normalizer_3D\": normalizer_3D,\n",
    "    \"pca_3D\": pca_3D,\n",
    "    \"normalizer_rn\": normalizer_rn,\n",
    "    \"pca_rn\": pca_rn,\n",
    "    \"normalizer_googlenet\": normalizer_googlenet,\n",
    "    \"normalizer_rgb\": normalizer_rgb,\n",
    "    \"normalizer_flow\": normalizer_flow\n",
    "}"
   ]
  },
  {
   "cell_type": "code",
   "execution_count": 23,
   "metadata": {},
   "outputs": [],
   "source": [
    "filename = \"transformations.pk\"\n",
    "\n",
    "pickle.dump(transformations, open(filename, 'wb'))"
   ]
  },
  {
   "cell_type": "code",
   "execution_count": null,
   "metadata": {},
   "outputs": [],
   "source": []
  }
 ],
 "metadata": {
  "kernelspec": {
   "display_name": "vsm_kernel",
   "language": "python",
   "name": "vsm_kernel"
  },
  "language_info": {
   "codemirror_mode": {
    "name": "ipython",
    "version": 3
   },
   "file_extension": ".py",
   "mimetype": "text/x-python",
   "name": "python",
   "nbconvert_exporter": "python",
   "pygments_lexer": "ipython3",
   "version": "3.8.11"
  }
 },
 "nbformat": 4,
 "nbformat_minor": 4
}
