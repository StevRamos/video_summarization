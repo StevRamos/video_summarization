{
 "cells": [
  {
   "cell_type": "code",
   "execution_count": 3,
   "metadata": {},
   "outputs": [],
   "source": [
    "import torch \n",
    "import h5py\n",
    "import torchvision.transforms as transforms\n",
    "import numpy as np\n",
    "\n",
    "def get_transform():\n",
    "    list_transforms = [\n",
    "        transforms.ToTensor(),\n",
    "    ]\n",
    "\n",
    "    return list_transforms\n",
    "\n",
    "\n",
    "class ToTensor(object):\n",
    "    \n",
    "    def __call__(self, sample):\n",
    "        video_info, label = sample\n",
    "        \n",
    "        transform = get_transform()\n",
    "        transform_video = transforms.Compose(transform)\n",
    "        \n",
    "        return np.array(video_info), np.array(label)\n",
    "\n",
    "\n",
    "class VSMDataset(torch.utils.data.Dataset):\n",
    "    \"\"\"Video Summarizer Dataset\n",
    "        Datasets: TVSum, Summe, VSUMM, CoSum, Visiocity\n",
    "    \"\"\"\n",
    "\n",
    "    def __init__(self, hdfs_path, split=None, transform=None):\n",
    "        \"\"\"\n",
    "        Args:\n",
    "           hdfs_path (string): path of the hdfs processed data\n",
    "           split (dict): idxs of the train/test split \n",
    "        \"\"\"\n",
    "        videos_info = h5py.File(hdfs_path)\n",
    "        self.labels = {}\n",
    "        self.data = {}\n",
    "        self.transform = transform\n",
    "        \n",
    "        for it, video in enumerate(list(videos_info)):\n",
    "            self.labels[it] = dict((key, videos_info[video][key][...])for key in list(videos_info[video]) if key in ('gtscore', 'gtsummary', 'user_summary') )\n",
    "            self.data[it] = dict((key, videos_info[video][key][...])for key in list(videos_info[video]) if key not in ('gtscore', 'gtsummary', 'user_summary') )   \n",
    "\n",
    "        if split:\n",
    "            #TO-DO\n",
    "            pass\n",
    "        \n",
    "        self.labels = dict(self.labels)\n",
    "        self.data = dict(self.data)\n",
    "\n",
    "    def __len__(self):\n",
    "        return len(self.data)\n",
    "\n",
    "    def __getitem__(self, index):\n",
    "        X = self.data[index]\n",
    "        y = self.labels[index]\n",
    "\n",
    "        #if self.transform:\n",
    "        #    X, y = self.transform((X, y))\n",
    "        \n",
    "        print(type(X))\n",
    "        print(type(y))\n",
    "        \n",
    "        return X, y\n",
    "\n",
    "def show_sample(idx, hdfs_path):\n",
    "\n",
    "    vsm_dataset = VSMDataset(hdfs_path=hdfs_path)\n",
    "    video_info, label = vsm_dataset[idx]\n",
    "\n",
    "    return video_info, label\n",
    "\n"
   ]
  },
  {
   "cell_type": "code",
   "execution_count": 4,
   "metadata": {},
   "outputs": [],
   "source": [
    "path_just_generated = \"/home/shuaman/video_sm/video_summarization/src/eccv16_dataset_summe_google_pool5.h5\""
   ]
  },
  {
   "cell_type": "code",
   "execution_count": 5,
   "metadata": {},
   "outputs": [],
   "source": [
    "path_data_preprocessd = \"/data/shuaman/video_summarization/datasets/object_features/eccv16_dataset_summe_google_pool5.h5\""
   ]
  },
  {
   "cell_type": "code",
   "execution_count": 6,
   "metadata": {},
   "outputs": [
    {
     "name": "stdout",
     "output_type": "stream",
     "text": [
      "<class 'dict'>\n",
      "<class 'dict'>\n"
     ]
    }
   ],
   "source": [
    "video_info, label = show_sample(24, path_data_preprocessd)"
   ]
  },
  {
   "cell_type": "code",
   "execution_count": 7,
   "metadata": {},
   "outputs": [
    {
     "data": {
      "text/plain": [
       "dict"
      ]
     },
     "execution_count": 7,
     "metadata": {},
     "output_type": "execute_result"
    }
   ],
   "source": [
    "type(label)"
   ]
  },
  {
   "cell_type": "code",
   "execution_count": 8,
   "metadata": {},
   "outputs": [],
   "source": [
    "training_set = VSMDataset(path_just_generated, transform=ToTensor())"
   ]
  },
  {
   "cell_type": "code",
   "execution_count": null,
   "metadata": {},
   "outputs": [],
   "source": [
    "len(training_set)"
   ]
  },
  {
   "cell_type": "code",
   "execution_count": null,
   "metadata": {},
   "outputs": [],
   "source": [
    "len(training_set.labels)"
   ]
  },
  {
   "cell_type": "code",
   "execution_count": null,
   "metadata": {},
   "outputs": [],
   "source": [
    "len(training_set.data)"
   ]
  },
  {
   "cell_type": "code",
   "execution_count": null,
   "metadata": {},
   "outputs": [],
   "source": [
    "params = {'batch_size': 1,\n",
    "          'num_workers': 2}\n",
    "max_epochs = 100"
   ]
  },
  {
   "cell_type": "code",
   "execution_count": null,
   "metadata": {},
   "outputs": [],
   "source": [
    "training_generator = torch.utils.data.DataLoader(training_set, **params)"
   ]
  },
  {
   "cell_type": "code",
   "execution_count": null,
   "metadata": {},
   "outputs": [],
   "source": [
    "for epoch in range(max_epochs):\n",
    "    for video_info, label in training_generator:\n",
    "        print(len(video_info))\n",
    "        print(len(label))\n",
    "        break\n",
    "    break"
   ]
  },
  {
   "cell_type": "code",
   "execution_count": null,
   "metadata": {},
   "outputs": [],
   "source": []
  },
  {
   "cell_type": "code",
   "execution_count": null,
   "metadata": {},
   "outputs": [],
   "source": []
  }
 ],
 "metadata": {
  "kernelspec": {
   "display_name": "vsm_kernel",
   "language": "python",
   "name": "vsm_kernel"
  },
  "language_info": {
   "codemirror_mode": {
    "name": "ipython",
    "version": 3
   },
   "file_extension": ".py",
   "mimetype": "text/x-python",
   "name": "python",
   "nbconvert_exporter": "python",
   "pygments_lexer": "ipython3",
   "version": "3.8.11"
  }
 },
 "nbformat": 4,
 "nbformat_minor": 4
}
