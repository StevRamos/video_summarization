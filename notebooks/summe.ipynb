{
 "cells": [
  {
   "cell_type": "code",
   "execution_count": 77,
   "metadata": {},
   "outputs": [
    {
     "name": "stdout",
     "output_type": "stream",
     "text": [
      "51\n"
     ]
    }
   ],
   "source": [
    "!pip3 freeze | wc -l"
   ]
  },
  {
   "cell_type": "code",
   "execution_count": 78,
   "metadata": {},
   "outputs": [],
   "source": [
    "import h5py"
   ]
  },
  {
   "cell_type": "code",
   "execution_count": 79,
   "metadata": {},
   "outputs": [],
   "source": [
    "import scipy.io"
   ]
  },
  {
   "cell_type": "code",
   "execution_count": 80,
   "metadata": {},
   "outputs": [],
   "source": [
    "import numpy as np"
   ]
  },
  {
   "cell_type": "code",
   "execution_count": 81,
   "metadata": {},
   "outputs": [],
   "source": [
    "path_just_generated = \"/home/shuaman/video_sm/video_summarization/src/eccv16_dataset_summe_google_pool5.h5\"\n",
    "# path_just_generated = \"/home/shuaman/video_sm/DSNet/src/custom_dataset.h5\""
   ]
  },
  {
   "cell_type": "code",
   "execution_count": 82,
   "metadata": {},
   "outputs": [],
   "source": [
    "#Air_Force_One_data = h5py.File(path_just_generated, 'r')['video_1']\n",
    "data_all_summe_mine = h5py.File(path_just_generated, 'r')"
   ]
  },
  {
   "cell_type": "code",
   "execution_count": 83,
   "metadata": {},
   "outputs": [],
   "source": [
    "#path_data_preprocessd = \"/data/shuaman/video_summarization/datasets/dsnet/datasets/eccv16_dataset_summe_google_pool5.h5\"\n",
    "path_data_preprocessd = \"/data/shuaman/video_summarization/datasets/object_features/eccv16_dataset_summe_google_pool5.h5\""
   ]
  },
  {
   "cell_type": "code",
   "execution_count": 84,
   "metadata": {},
   "outputs": [],
   "source": [
    "data_all_summe = h5py.File(path_data_preprocessd, 'r')"
   ]
  },
  {
   "cell_type": "code",
   "execution_count": 85,
   "metadata": {},
   "outputs": [],
   "source": [
    "# list(data_all_summe)"
   ]
  },
  {
   "cell_type": "code",
   "execution_count": 86,
   "metadata": {},
   "outputs": [
    {
     "name": "stdout",
     "output_type": "stream",
     "text": [
      "video 1 comparison\n",
      "video name gt b'Air_Force_One'\n",
      "video name mine b'Air_Force_One'\n",
      "Everything is perfect\n",
      "\n",
      "video 2 comparison\n",
      "video name gt b'Base jumping'\n",
      "video name mine b'Base jumping'\n",
      "Everything is perfect\n",
      "\n",
      "video 3 comparison\n",
      "video name gt b'Bearpark_climbing'\n",
      "video name mine b'Bearpark_climbing'\n",
      "Everything is perfect\n",
      "\n",
      "video 4 comparison\n",
      "video name gt b'Bike Polo'\n",
      "video name mine b'Bike Polo'\n",
      "Everything is perfect\n",
      "\n",
      "video 5 comparison\n",
      "video name gt b'Bus_in_Rock_Tunnel'\n",
      "video name mine b'Bus_in_Rock_Tunnel'\n",
      "Everything is perfect\n",
      "\n",
      "video 6 comparison\n",
      "video name gt b'Car_railcrossing'\n",
      "video name mine b'Car_railcrossing'\n",
      "Everything is perfect\n",
      "\n",
      "video 7 comparison\n",
      "video name gt b'Cockpit_Landing'\n",
      "video name mine b'Cockpit_Landing'\n",
      "Everything is perfect\n",
      "\n",
      "video 8 comparison\n",
      "video name gt b'Cooking'\n",
      "video name mine b'Cooking'\n",
      "Everything is perfect\n",
      "\n",
      "video 9 comparison\n",
      "video name gt b'Eiffel Tower'\n",
      "video name mine b'Eiffel Tower'\n",
      "Everything is perfect\n",
      "\n",
      "video 10 comparison\n",
      "video name gt b'Excavators river crossing'\n",
      "video name mine b'Excavators river crossing'\n",
      "Everything is perfect\n",
      "\n",
      "video 11 comparison\n",
      "video name gt b'Fire Domino'\n",
      "video name mine b'Fire Domino'\n",
      "Everything is perfect\n",
      "\n",
      "video 12 comparison\n",
      "video name gt b'Jumps'\n",
      "video name mine b'Jumps'\n",
      "Everything is perfect\n",
      "\n",
      "video 13 comparison\n",
      "video name gt b'Kids_playing_in_leaves'\n",
      "video name mine b'Kids_playing_in_leaves'\n",
      "Everything is perfect\n",
      "\n",
      "video 14 comparison\n",
      "video name gt b'Notre_Dame'\n",
      "video name mine b'Notre_Dame'\n",
      "Everything is perfect\n",
      "\n",
      "video 15 comparison\n",
      "video name gt b'Paintball'\n",
      "video name mine b'Paintball'\n",
      "Everything is perfect\n",
      "\n",
      "video 16 comparison\n",
      "video name gt b'Playing_on_water_slide'\n",
      "video name mine b'Playing_on_water_slide'\n",
      "Everything is perfect\n",
      "\n",
      "video 17 comparison\n",
      "video name gt b'Saving dolphines'\n",
      "video name mine b'Saving dolphines'\n",
      "Everything is perfect\n",
      "\n",
      "video 18 comparison\n",
      "video name gt b'Scuba'\n",
      "video name mine b'Scuba'\n",
      "Everything is perfect\n",
      "\n",
      "video 19 comparison\n",
      "video name gt b'St Maarten Landing'\n",
      "video name mine b'St Maarten Landing'\n",
      "Everything is perfect\n",
      "\n",
      "video 20 comparison\n",
      "video name gt b'Statue of Liberty'\n",
      "video name mine b'Statue of Liberty'\n",
      "Everything is perfect\n",
      "\n",
      "video 21 comparison\n",
      "video name gt b'Uncut_Evening_Flight'\n",
      "video name mine b'Uncut_Evening_Flight'\n",
      "Everything is perfect\n",
      "\n",
      "video 22 comparison\n",
      "video name gt b'Valparaiso_Downhill'\n",
      "video name mine b'Valparaiso_Downhill'\n",
      "Everything is perfect\n",
      "\n",
      "video 23 comparison\n",
      "video name gt b'car_over_camera'\n",
      "video name mine b'car_over_camera'\n",
      "Everything is perfect\n",
      "\n",
      "video 24 comparison\n",
      "video name gt b'paluma_jump'\n",
      "video name mine b'paluma_jump'\n",
      "Everything is perfect\n",
      "\n",
      "video 25 comparison\n",
      "video name gt b'playing_ball'\n",
      "video name mine b'playing_ball'\n",
      "Everything is perfect\n",
      "\n"
     ]
    }
   ],
   "source": [
    "for i in range(0,25):\n",
    "    video_gt = data_all_summe[\"video_\" + str(i+1)]\n",
    "    video_mine = data_all_summe_mine[\"video_\" + str(i+1)]\n",
    "    \n",
    "    perfect = True\n",
    "    \n",
    "    print(f'video {i+1} comparison')\n",
    "    if video_gt['features'][...].shape != video_mine['features'][...].shape:\n",
    "        perfect = False\n",
    "        print(\"features gt\", video_gt['features'][...].shape)\n",
    "        print(\"features mine\", video_mine['features'][...].shape)\n",
    "        print()\n",
    "        \n",
    "    if video_gt['gtscore'][...].shape != video_mine['gtscore'][...].shape:\n",
    "        perfect = False\n",
    "        print(\"gtscore gt\", video_gt['gtscore'][...].shape)\n",
    "        print(\"gtscore mine\", video_mine['gtscore'][...].shape)\n",
    "        print()\n",
    "        \n",
    "    print(\"video name gt\", video_gt['video_name'][...])\n",
    "    print(\"video name mine\", video_mine['video_name'][...])\n",
    "    \n",
    "    if video_gt['user_summary'][...].shape != video_mine['user_summary'][...].shape:\n",
    "        perfect = False\n",
    "        print(\"user summary gt\", video_gt['user_summary'][...].shape)\n",
    "        print(\"user summary mine\", video_mine['user_summary'][...].shape)\n",
    "        print()\n",
    "        \n",
    "    if video_gt['n_frames'][...] != video_mine['n_frames'][...]:\n",
    "        perfect = False\n",
    "        print(\"n frames gt\", video_gt['n_frames'][...])\n",
    "        print(\"n frames mine\", video_mine['n_frames'][...])\n",
    "        print()\n",
    "    if video_gt['change_points'][...].shape != video_mine['change_points'][...].shape:  \n",
    "        perfect = False\n",
    "        print(\"change points gt\", video_gt['change_points'][...].shape)\n",
    "        print(\"change points mine\", video_mine['change_points'][...].shape)\n",
    "        print()\n",
    "        \n",
    "    if video_gt['n_frame_per_seg'][...].shape != video_mine['n_frame_per_seg'][...].shape: \n",
    "        perfect = False\n",
    "        print(\"n frame per seg gt\", video_gt['n_frame_per_seg'][...].shape)\n",
    "        print(\"n frame per seg mine\", video_mine['n_frame_per_seg'][...].shape)\n",
    "        print()\n",
    "    \n",
    "    if video_gt['picks'][...].shape != video_mine['picks'][...].shape:\n",
    "        perfect = False\n",
    "        print(\"picks gt\", video_gt['picks'][...].shape)\n",
    "        print(\"picks mine\", video_mine['picks'][...].shape)\n",
    "        print()\n",
    "        \n",
    "    if video_gt['n_steps'][...] != video_mine['n_steps'][...]:\n",
    "        perfect = False\n",
    "        print(\"n steps gt\", video_gt['n_steps'][...])\n",
    "        print(\"n steps mine\", video_mine['n_steps'][...])\n",
    "        \n",
    "    if perfect: \n",
    "        print(\"Everything is perfect\")\n",
    "        print()"
   ]
  },
  {
   "cell_type": "code",
   "execution_count": null,
   "metadata": {},
   "outputs": [],
   "source": []
  },
  {
   "cell_type": "markdown",
   "metadata": {},
   "source": [
    "# Evaluating a random video"
   ]
  },
  {
   "cell_type": "code",
   "execution_count": 64,
   "metadata": {},
   "outputs": [],
   "source": [
    "#video 1\n",
    "i = 0\n",
    "video_gt = data_all_summe[\"video_\" + str(i+1)]\n",
    "video_mine = data_all_summe_mine[\"video_\" + str(i+1)]"
   ]
  },
  {
   "cell_type": "markdown",
   "metadata": {},
   "source": [
    "### Nombre"
   ]
  },
  {
   "cell_type": "code",
   "execution_count": 65,
   "metadata": {},
   "outputs": [
    {
     "name": "stdout",
     "output_type": "stream",
     "text": [
      "video name gt b'Air_Force_One'\n",
      "video name mine b'Air_Force_One'\n",
      "\n"
     ]
    }
   ],
   "source": [
    "    print(\"video name gt\", video_gt['video_name'][...])\n",
    "    print(\"video name mine\", video_mine['video_name'][...])\n",
    "    print()\n"
   ]
  },
  {
   "cell_type": "code",
   "execution_count": 76,
   "metadata": {},
   "outputs": [
    {
     "data": {
      "text/plain": [
       "\"b'Air_Force_One'dasdas\""
      ]
     },
     "execution_count": 76,
     "metadata": {},
     "output_type": "execute_result"
    }
   ],
   "source": [
    "str(video_mine['video_name'][...]) + \"dasdas\""
   ]
  },
  {
   "cell_type": "markdown",
   "metadata": {},
   "source": [
    "### Features"
   ]
  },
  {
   "cell_type": "code",
   "execution_count": 15,
   "metadata": {},
   "outputs": [
    {
     "name": "stdout",
     "output_type": "stream",
     "text": [
      "features gt (300, 1024)\n"
     ]
    },
    {
     "data": {
      "text/plain": [
       "array([[0.00000000e+00, 0.00000000e+00, 3.61840939e-04, ...,\n",
       "        1.02224345e-04, 2.28259116e-02, 0.00000000e+00],\n",
       "       [0.00000000e+00, 0.00000000e+00, 3.40301369e-04, ...,\n",
       "        3.51528870e-03, 4.94062938e-02, 0.00000000e+00],\n",
       "       [0.00000000e+00, 5.40758716e-04, 2.82520137e-04, ...,\n",
       "        4.78237853e-05, 2.36145183e-02, 0.00000000e+00],\n",
       "       ...,\n",
       "       [0.00000000e+00, 0.00000000e+00, 1.80268151e-04, ...,\n",
       "        3.99936456e-03, 2.72235880e-03, 0.00000000e+00],\n",
       "       [0.00000000e+00, 0.00000000e+00, 1.11069101e-04, ...,\n",
       "        1.36979891e-03, 1.36739679e-03, 0.00000000e+00],\n",
       "       [0.00000000e+00, 0.00000000e+00, 1.44374644e-04, ...,\n",
       "        2.81268102e-03, 8.94312747e-03, 0.00000000e+00]])"
      ]
     },
     "execution_count": 15,
     "metadata": {},
     "output_type": "execute_result"
    }
   ],
   "source": [
    "print(\"features gt\", video_gt['features'][...].shape)\n",
    "video_gt['features'][...]"
   ]
  },
  {
   "cell_type": "code",
   "execution_count": 16,
   "metadata": {},
   "outputs": [
    {
     "name": "stdout",
     "output_type": "stream",
     "text": [
      "features mine (300, 1024)\n"
     ]
    },
    {
     "data": {
      "text/plain": [
       "array([[0.60040271, 0.61960006, 0.10456449, ..., 0.37872282, 0.60464656,\n",
       "        0.41944176],\n",
       "       [0.65370411, 0.80703062, 0.10086088, ..., 0.27387536, 0.4955928 ,\n",
       "        0.38311753],\n",
       "       [0.62495708, 0.79068941, 0.15495808, ..., 0.38076609, 0.54797375,\n",
       "        0.44711748],\n",
       "       ...,\n",
       "       [0.32719967, 0.70716262, 0.08081598, ..., 0.39858565, 0.44998378,\n",
       "        0.51151562],\n",
       "       [0.39215091, 0.64381135, 0.08239483, ..., 0.33968228, 0.43223944,\n",
       "        0.55292088],\n",
       "       [0.34564772, 0.67439967, 0.09874789, ..., 0.47167143, 0.42363653,\n",
       "        0.55294669]])"
      ]
     },
     "execution_count": 16,
     "metadata": {},
     "output_type": "execute_result"
    }
   ],
   "source": [
    "print(\"features mine\", video_mine['features'][...].shape)\n",
    "video_mine['features'][...]"
   ]
  },
  {
   "cell_type": "markdown",
   "metadata": {},
   "source": [
    "### GTScore"
   ]
  },
  {
   "cell_type": "code",
   "execution_count": 17,
   "metadata": {},
   "outputs": [
    {
     "name": "stdout",
     "output_type": "stream",
     "text": [
      "gtscore gt (300,)\n"
     ]
    },
    {
     "data": {
      "text/plain": [
       "array([0.        , 0.        , 0.        , 0.        , 0.06666667,\n",
       "       0.06666667, 0.06666667, 0.06666667, 0.13333334, 0.13333334,\n",
       "       0.13333334, 0.13333334, 0.06666667, 0.06666667, 0.13333334,\n",
       "       0.06666667, 0.13333334, 0.13333334, 0.06666667, 0.2       ,\n",
       "       0.13333334, 0.13333334, 0.13333334, 0.06666667, 0.06666667,\n",
       "       0.        , 0.06666667, 0.06666667, 0.13333334, 0.06666667,\n",
       "       0.06666667, 0.06666667, 0.06666667, 0.        , 0.        ,\n",
       "       0.        , 0.        , 0.        , 0.        , 0.        ,\n",
       "       0.        , 0.        , 0.        , 0.        , 0.        ,\n",
       "       0.        , 0.        , 0.        , 0.        , 0.        ,\n",
       "       0.        , 0.06666667, 0.06666667, 0.13333334, 0.13333334,\n",
       "       0.06666667, 0.        , 0.06666667, 0.06666667, 0.06666667,\n",
       "       0.        , 0.        , 0.        , 0.        , 0.        ,\n",
       "       0.        , 0.        , 0.        , 0.        , 0.        ,\n",
       "       0.        , 0.        , 0.        , 0.        , 0.06666667,\n",
       "       0.06666667, 0.06666667, 0.13333334, 0.        , 0.        ,\n",
       "       0.        , 0.        , 0.        , 0.        , 0.06666667,\n",
       "       0.06666667, 0.06666667, 0.06666667, 0.2       , 0.13333334,\n",
       "       0.13333334, 0.06666667, 0.06666667, 0.13333334, 0.13333334,\n",
       "       0.26666668, 0.2       , 0.06666667, 0.13333334, 0.13333334,\n",
       "       0.13333334, 0.13333334, 0.06666667, 0.13333334, 0.2       ,\n",
       "       0.13333334, 0.13333334, 0.13333334, 0.13333334, 0.13333334,\n",
       "       0.13333334, 0.2       , 0.2       , 0.2       , 0.26666668,\n",
       "       0.2       , 0.2       , 0.2       , 0.26666668, 0.26666668,\n",
       "       0.26666668, 0.26666668, 0.46666667, 0.46666667, 0.46666667,\n",
       "       0.40000001, 0.40000001, 0.53333336, 0.73333335, 0.73333335,\n",
       "       0.80000001, 0.80000001, 0.73333335, 0.73333335, 0.66666669,\n",
       "       0.66666669, 0.66666669, 0.60000002, 0.53333336, 0.46666667,\n",
       "       0.46666667, 0.53333336, 0.53333336, 0.33333334, 0.2       ,\n",
       "       0.2       , 0.06666667, 0.        , 0.        , 0.06666667,\n",
       "       0.06666667, 0.06666667, 0.06666667, 0.06666667, 0.06666667,\n",
       "       0.06666667, 0.06666667, 0.06666667, 0.13333334, 0.13333334,\n",
       "       0.13333334, 0.06666667, 0.06666667, 0.        , 0.        ,\n",
       "       0.06666667, 0.06666667, 0.06666667, 0.06666667, 0.06666667,\n",
       "       0.06666667, 0.13333334, 0.13333334, 0.2       , 0.06666667,\n",
       "       0.06666667, 0.06666667, 0.06666667, 0.        , 0.        ,\n",
       "       0.        , 0.        , 0.        , 0.        , 0.        ,\n",
       "       0.        , 0.        , 0.06666667, 0.06666667, 0.06666667,\n",
       "       0.        , 0.        , 0.        , 0.        , 0.        ,\n",
       "       0.        , 0.        , 0.06666667, 0.06666667, 0.        ,\n",
       "       0.        , 0.06666667, 0.06666667, 0.06666667, 0.06666667,\n",
       "       0.13333334, 0.13333334, 0.06666667, 0.06666667, 0.06666667,\n",
       "       0.06666667, 0.06666667, 0.06666667, 0.06666667, 0.13333334,\n",
       "       0.13333334, 0.13333334, 0.13333334, 0.13333334, 0.06666667,\n",
       "       0.06666667, 0.06666667, 0.        , 0.        , 0.        ,\n",
       "       0.06666667, 0.06666667, 0.06666667, 0.06666667, 0.06666667,\n",
       "       0.06666667, 0.06666667, 0.        , 0.        , 0.        ,\n",
       "       0.        , 0.        , 0.        , 0.        , 0.        ,\n",
       "       0.        , 0.        , 0.        , 0.        , 0.        ,\n",
       "       0.        , 0.        , 0.        , 0.        , 0.        ,\n",
       "       0.        , 0.06666667, 0.06666667, 0.13333334, 0.13333334,\n",
       "       0.13333334, 0.13333334, 0.13333334, 0.13333334, 0.2       ,\n",
       "       0.26666668, 0.33333334, 0.40000001, 0.46666667, 0.40000001,\n",
       "       0.40000001, 0.53333336, 0.53333336, 0.60000002, 0.60000002,\n",
       "       0.60000002, 0.66666669, 0.60000002, 0.60000002, 0.53333336,\n",
       "       0.46666667, 0.53333336, 0.53333336, 0.53333336, 0.40000001,\n",
       "       0.33333334, 0.26666668, 0.26666668, 0.26666668, 0.26666668,\n",
       "       0.26666668, 0.2       , 0.2       , 0.2       , 0.2       ,\n",
       "       0.26666668, 0.2       , 0.13333334, 0.        , 0.        ,\n",
       "       0.        , 0.        , 0.        , 0.        , 0.        ])"
      ]
     },
     "execution_count": 17,
     "metadata": {},
     "output_type": "execute_result"
    }
   ],
   "source": [
    "print(\"gtscore gt\", video_gt['gtscore'][...].shape)\n",
    "video_gt['gtscore'][...]"
   ]
  },
  {
   "cell_type": "code",
   "execution_count": 18,
   "metadata": {},
   "outputs": [
    {
     "name": "stdout",
     "output_type": "stream",
     "text": [
      "gtscore mine (300,)\n"
     ]
    },
    {
     "data": {
      "text/plain": [
       "array([0.        , 0.        , 0.        , 0.        , 0.06666667,\n",
       "       0.06666667, 0.06666667, 0.06666667, 0.13333334, 0.13333334,\n",
       "       0.13333334, 0.13333334, 0.06666667, 0.06666667, 0.13333334,\n",
       "       0.06666667, 0.13333334, 0.13333334, 0.06666667, 0.2       ,\n",
       "       0.13333334, 0.13333334, 0.13333334, 0.06666667, 0.06666667,\n",
       "       0.        , 0.06666667, 0.06666667, 0.13333334, 0.06666667,\n",
       "       0.06666667, 0.06666667, 0.06666667, 0.        , 0.        ,\n",
       "       0.        , 0.        , 0.        , 0.        , 0.        ,\n",
       "       0.        , 0.        , 0.        , 0.        , 0.        ,\n",
       "       0.        , 0.        , 0.        , 0.        , 0.        ,\n",
       "       0.        , 0.06666667, 0.06666667, 0.2       , 0.2       ,\n",
       "       0.06666667, 0.        , 0.13333334, 0.13333334, 0.13333334,\n",
       "       0.        , 0.        , 0.        , 0.        , 0.        ,\n",
       "       0.        , 0.        , 0.        , 0.        , 0.        ,\n",
       "       0.        , 0.        , 0.        , 0.        , 0.13333334,\n",
       "       0.13333334, 0.13333334, 0.33333334, 0.        , 0.        ,\n",
       "       0.        , 0.        , 0.        , 0.        , 0.2       ,\n",
       "       0.2       , 0.2       , 0.2       , 0.66666669, 0.46666667,\n",
       "       0.33333334, 0.06666667, 0.06666667, 0.2       , 0.2       ,\n",
       "       0.53333336, 0.46666667, 0.13333334, 0.26666668, 0.26666668,\n",
       "       0.26666668, 0.26666668, 0.13333334, 0.46666667, 0.53333336,\n",
       "       0.40000001, 0.33333334, 0.33333334, 0.33333334, 0.33333334,\n",
       "       0.33333334, 0.60000002, 0.40000001, 0.40000001, 0.60000002,\n",
       "       0.33333334, 0.33333334, 0.33333334, 0.46666667, 0.46666667,\n",
       "       0.46666667, 0.46666667, 1.13333333, 1.13333333, 0.86666667,\n",
       "       0.80000001, 0.80000001, 1.26666665, 2.26666665, 2.26666665,\n",
       "       2.4000001 , 2.4000001 , 2.4000001 , 2.4000001 , 2.0666666 ,\n",
       "       2.0666666 , 1.73333335, 1.39999998, 1.20000005, 1.13333333,\n",
       "       1.13333333, 1.5333333 , 1.5333333 , 0.93333334, 0.40000001,\n",
       "       0.40000001, 0.13333334, 0.        , 0.        , 0.13333334,\n",
       "       0.13333334, 0.13333334, 0.13333334, 0.13333334, 0.13333334,\n",
       "       0.13333334, 0.13333334, 0.13333334, 0.40000001, 0.40000001,\n",
       "       0.40000001, 0.13333334, 0.13333334, 0.        , 0.        ,\n",
       "       0.2       , 0.2       , 0.2       , 0.2       , 0.2       ,\n",
       "       0.2       , 0.73333335, 0.73333335, 1.06666672, 0.53333336,\n",
       "       0.46666667, 0.46666667, 0.46666667, 0.        , 0.        ,\n",
       "       0.        , 0.        , 0.        , 0.        , 0.        ,\n",
       "       0.        , 0.        , 0.40000001, 0.40000001, 0.40000001,\n",
       "       0.        , 0.        , 0.        , 0.        , 0.        ,\n",
       "       0.        , 0.        , 0.60000002, 0.60000002, 0.        ,\n",
       "       0.        , 0.2       , 0.2       , 0.2       , 0.2       ,\n",
       "       0.60000002, 0.60000002, 0.2       , 0.2       , 0.26666668,\n",
       "       0.26666668, 0.26666668, 0.26666668, 0.26666668, 0.60000002,\n",
       "       0.60000002, 0.60000002, 0.33333334, 0.33333334, 0.06666667,\n",
       "       0.06666667, 0.06666667, 0.        , 0.        , 0.        ,\n",
       "       0.53333336, 0.53333336, 0.53333336, 0.53333336, 0.53333336,\n",
       "       0.53333336, 0.53333336, 0.        , 0.        , 0.        ,\n",
       "       0.        , 0.        , 0.        , 0.        , 0.        ,\n",
       "       0.        , 0.        , 0.        , 0.        , 0.        ,\n",
       "       0.        , 0.        , 0.        , 0.        , 0.        ,\n",
       "       0.        , 0.46666667, 0.46666667, 0.66666669, 0.66666669,\n",
       "       0.66666669, 0.66666669, 0.66666669, 0.66666669, 1.33333337,\n",
       "       1.4666667 , 1.79999995, 2.33333325, 2.5999999 , 1.93333328,\n",
       "       1.79999995, 2.26666665, 2.13333344, 2.33333325, 2.33333325,\n",
       "       2.33333325, 2.9333334 , 2.4666667 , 2.4666667 , 1.93333328,\n",
       "       1.4666667 , 2.20000005, 2.66666675, 2.9333334 , 2.20000005,\n",
       "       1.60000002, 1.39999998, 1.39999998, 1.86666667, 1.86666667,\n",
       "       1.86666667, 1.60000002, 2.0666666 , 2.0666666 , 2.0666666 ,\n",
       "       2.5999999 , 1.93333328, 1.20000005, 0.        , 0.        ,\n",
       "       0.        , 0.        , 0.        , 0.        , 0.        ])"
      ]
     },
     "execution_count": 18,
     "metadata": {},
     "output_type": "execute_result"
    }
   ],
   "source": [
    "print(\"gtscore mine\", video_mine['gtscore'][...].shape)\n",
    "video_mine['gtscore'][...]"
   ]
  },
  {
   "cell_type": "code",
   "execution_count": null,
   "metadata": {},
   "outputs": [],
   "source": []
  },
  {
   "cell_type": "code",
   "execution_count": null,
   "metadata": {},
   "outputs": [],
   "source": []
  },
  {
   "cell_type": "markdown",
   "metadata": {},
   "source": [
    "### User summary"
   ]
  },
  {
   "cell_type": "code",
   "execution_count": 19,
   "metadata": {},
   "outputs": [
    {
     "name": "stdout",
     "output_type": "stream",
     "text": [
      "user summary gt (15, 4494)\n"
     ]
    },
    {
     "data": {
      "text/plain": [
       "array([[0., 0., 0., ..., 0., 0., 0.],\n",
       "       [0., 0., 0., ..., 0., 0., 0.],\n",
       "       [0., 0., 0., ..., 0., 0., 0.],\n",
       "       ...,\n",
       "       [0., 0., 0., ..., 0., 0., 0.],\n",
       "       [0., 0., 0., ..., 0., 0., 0.],\n",
       "       [0., 0., 0., ..., 0., 0., 0.]])"
      ]
     },
     "execution_count": 19,
     "metadata": {},
     "output_type": "execute_result"
    }
   ],
   "source": [
    "print(\"user summary gt\", video_gt['user_summary'][...].shape)\n",
    "video_gt['user_summary'][...]"
   ]
  },
  {
   "cell_type": "code",
   "execution_count": 20,
   "metadata": {},
   "outputs": [
    {
     "name": "stdout",
     "output_type": "stream",
     "text": [
      "user summary mine (15, 4494)\n"
     ]
    },
    {
     "data": {
      "text/plain": [
       "array([[0., 0., 0., ..., 0., 0., 0.],\n",
       "       [0., 0., 0., ..., 0., 0., 0.],\n",
       "       [0., 0., 0., ..., 0., 0., 0.],\n",
       "       ...,\n",
       "       [0., 0., 0., ..., 0., 0., 0.],\n",
       "       [0., 0., 0., ..., 0., 0., 0.],\n",
       "       [0., 0., 0., ..., 0., 0., 0.]])"
      ]
     },
     "execution_count": 20,
     "metadata": {},
     "output_type": "execute_result"
    }
   ],
   "source": [
    "print(\"user summary mine\", video_mine['user_summary'][...].shape)\n",
    "video_mine['user_summary'][...]"
   ]
  },
  {
   "cell_type": "markdown",
   "metadata": {},
   "source": [
    "### N frames"
   ]
  },
  {
   "cell_type": "code",
   "execution_count": 21,
   "metadata": {},
   "outputs": [
    {
     "name": "stdout",
     "output_type": "stream",
     "text": [
      "n frames gt 4494\n"
     ]
    }
   ],
   "source": [
    "print(\"n frames gt\", video_gt['n_frames'][...])"
   ]
  },
  {
   "cell_type": "code",
   "execution_count": 22,
   "metadata": {},
   "outputs": [
    {
     "name": "stdout",
     "output_type": "stream",
     "text": [
      "n frames mine 4494\n"
     ]
    }
   ],
   "source": [
    "print(\"n frames mine\", video_mine['n_frames'][...])"
   ]
  },
  {
   "cell_type": "markdown",
   "metadata": {},
   "source": [
    "### Change points"
   ]
  },
  {
   "cell_type": "code",
   "execution_count": 23,
   "metadata": {},
   "outputs": [
    {
     "name": "stdout",
     "output_type": "stream",
     "text": [
      "change points gt (30, 2)\n"
     ]
    },
    {
     "data": {
      "text/plain": [
       "array([[   0,  244],\n",
       "       [ 245,  473],\n",
       "       [ 474,  827],\n",
       "       [ 828, 1081],\n",
       "       [1082, 1233],\n",
       "       [1234, 1438],\n",
       "       [1439, 1530],\n",
       "       [1531, 1642],\n",
       "       [1643, 1796],\n",
       "       [1797, 1973],\n",
       "       [1974, 1998],\n",
       "       [1999, 2110],\n",
       "       [2111, 2403],\n",
       "       [2404, 2539],\n",
       "       [2540, 2664],\n",
       "       [2665, 2908],\n",
       "       [2909, 3160],\n",
       "       [3161, 3370],\n",
       "       [3371, 3521],\n",
       "       [3522, 3649],\n",
       "       [3650, 3899],\n",
       "       [3900, 3940],\n",
       "       [3941, 3990],\n",
       "       [3991, 4034],\n",
       "       [4035, 4079],\n",
       "       [4080, 4138],\n",
       "       [4139, 4228],\n",
       "       [4229, 4285],\n",
       "       [4286, 4342],\n",
       "       [4343, 4493]])"
      ]
     },
     "execution_count": 23,
     "metadata": {},
     "output_type": "execute_result"
    }
   ],
   "source": [
    "print(\"change points gt\", video_gt['change_points'][...].shape)\n",
    "video_gt['change_points'][...]"
   ]
  },
  {
   "cell_type": "code",
   "execution_count": 24,
   "metadata": {},
   "outputs": [
    {
     "name": "stdout",
     "output_type": "stream",
     "text": [
      "change points mine (30, 2)\n"
     ]
    },
    {
     "data": {
      "text/plain": [
       "array([[   0,  389],\n",
       "       [ 390,  929],\n",
       "       [ 930, 1319],\n",
       "       [1320, 1559],\n",
       "       [1560, 1694],\n",
       "       [1695, 1904],\n",
       "       [1905, 2069],\n",
       "       [2070, 2234],\n",
       "       [2235, 2414],\n",
       "       [2415, 2654],\n",
       "       [2655, 2819],\n",
       "       [2820, 2984],\n",
       "       [2985, 3134],\n",
       "       [3135, 3239],\n",
       "       [3240, 3344],\n",
       "       [3345, 3419],\n",
       "       [3420, 3524],\n",
       "       [3525, 3659],\n",
       "       [3660, 3734],\n",
       "       [3735, 3854],\n",
       "       [3855, 3899],\n",
       "       [3900, 3944],\n",
       "       [3945, 3989],\n",
       "       [3990, 4034],\n",
       "       [4035, 4094],\n",
       "       [4095, 4154],\n",
       "       [4155, 4214],\n",
       "       [4215, 4259],\n",
       "       [4260, 4289],\n",
       "       [4290, 4493]])"
      ]
     },
     "execution_count": 24,
     "metadata": {},
     "output_type": "execute_result"
    }
   ],
   "source": [
    "print(\"change points mine\", video_mine['change_points'][...].shape)\n",
    "video_mine['change_points'][...]"
   ]
  },
  {
   "cell_type": "markdown",
   "metadata": {},
   "source": [
    "### N frames por segmenot"
   ]
  },
  {
   "cell_type": "code",
   "execution_count": 25,
   "metadata": {},
   "outputs": [
    {
     "name": "stdout",
     "output_type": "stream",
     "text": [
      "n frame per seg gt (30,)\n"
     ]
    },
    {
     "data": {
      "text/plain": [
       "array([245, 229, 354, 254, 152, 205,  92, 112, 154, 177,  25, 112, 293,\n",
       "       136, 125, 244, 252, 210, 151, 128, 250,  41,  50,  44,  45,  59,\n",
       "        90,  57,  57, 151])"
      ]
     },
     "execution_count": 25,
     "metadata": {},
     "output_type": "execute_result"
    }
   ],
   "source": [
    "print(\"n frame per seg gt\", video_gt['n_frame_per_seg'][...].shape)\n",
    "video_gt['n_frame_per_seg'][...]"
   ]
  },
  {
   "cell_type": "code",
   "execution_count": 26,
   "metadata": {},
   "outputs": [
    {
     "name": "stdout",
     "output_type": "stream",
     "text": [
      "n frame per seg mine (30,)\n"
     ]
    },
    {
     "data": {
      "text/plain": [
       "array([390, 540, 390, 240, 135, 210, 165, 165, 180, 240, 165, 165, 150,\n",
       "       105, 105,  75, 105, 135,  75, 120,  45,  45,  45,  45,  60,  60,\n",
       "        60,  45,  30, 204])"
      ]
     },
     "execution_count": 26,
     "metadata": {},
     "output_type": "execute_result"
    }
   ],
   "source": [
    "print(\"n frame per seg mine\", video_mine['n_frame_per_seg'][...].shape)\n",
    "video_mine['n_frame_per_seg'][...]"
   ]
  },
  {
   "cell_type": "markdown",
   "metadata": {},
   "source": [
    "### Picks"
   ]
  },
  {
   "cell_type": "code",
   "execution_count": 27,
   "metadata": {},
   "outputs": [
    {
     "name": "stdout",
     "output_type": "stream",
     "text": [
      "picks gt (300,)\n"
     ]
    },
    {
     "data": {
      "text/plain": [
       "array([   0,   15,   30,   45,   60,   75,   90,  105,  120,  135,  150,\n",
       "        165,  180,  195,  210,  225,  240,  255,  270,  285,  300,  315,\n",
       "        330,  345,  360,  375,  390,  405,  420,  435,  450,  465,  480,\n",
       "        495,  510,  525,  540,  555,  570,  585,  600,  615,  630,  645,\n",
       "        660,  675,  690,  705,  720,  735,  750,  765,  780,  795,  810,\n",
       "        825,  840,  855,  870,  885,  900,  915,  930,  945,  960,  975,\n",
       "        990, 1005, 1020, 1035, 1050, 1065, 1080, 1095, 1110, 1125, 1140,\n",
       "       1155, 1170, 1185, 1200, 1215, 1230, 1245, 1260, 1275, 1290, 1305,\n",
       "       1320, 1335, 1350, 1365, 1380, 1395, 1410, 1425, 1440, 1455, 1470,\n",
       "       1485, 1500, 1515, 1530, 1545, 1560, 1575, 1590, 1605, 1620, 1635,\n",
       "       1650, 1665, 1680, 1695, 1710, 1725, 1740, 1755, 1770, 1785, 1800,\n",
       "       1815, 1830, 1845, 1860, 1875, 1890, 1905, 1920, 1935, 1950, 1965,\n",
       "       1980, 1995, 2010, 2025, 2040, 2055, 2070, 2085, 2100, 2115, 2130,\n",
       "       2145, 2160, 2175, 2190, 2205, 2220, 2235, 2250, 2265, 2280, 2295,\n",
       "       2310, 2325, 2340, 2355, 2370, 2385, 2400, 2415, 2430, 2445, 2460,\n",
       "       2475, 2490, 2505, 2520, 2535, 2550, 2565, 2580, 2595, 2610, 2625,\n",
       "       2640, 2655, 2670, 2685, 2700, 2715, 2730, 2745, 2760, 2775, 2790,\n",
       "       2805, 2820, 2835, 2850, 2865, 2880, 2895, 2910, 2925, 2940, 2955,\n",
       "       2970, 2985, 3000, 3015, 3030, 3045, 3060, 3075, 3090, 3105, 3120,\n",
       "       3135, 3150, 3165, 3180, 3195, 3210, 3225, 3240, 3255, 3270, 3285,\n",
       "       3300, 3315, 3330, 3345, 3360, 3375, 3390, 3405, 3420, 3435, 3450,\n",
       "       3465, 3480, 3495, 3510, 3525, 3540, 3555, 3570, 3585, 3600, 3615,\n",
       "       3630, 3645, 3660, 3675, 3690, 3705, 3720, 3735, 3750, 3765, 3780,\n",
       "       3795, 3810, 3825, 3840, 3855, 3870, 3885, 3900, 3915, 3930, 3945,\n",
       "       3960, 3975, 3990, 4005, 4020, 4035, 4050, 4065, 4080, 4095, 4110,\n",
       "       4125, 4140, 4155, 4170, 4185, 4200, 4215, 4230, 4245, 4260, 4275,\n",
       "       4290, 4305, 4320, 4335, 4350, 4365, 4380, 4395, 4410, 4425, 4440,\n",
       "       4455, 4470, 4485])"
      ]
     },
     "execution_count": 27,
     "metadata": {},
     "output_type": "execute_result"
    }
   ],
   "source": [
    "print(\"picks gt\", video_gt['picks'][...].shape)\n",
    "video_gt['picks'][...]"
   ]
  },
  {
   "cell_type": "code",
   "execution_count": 28,
   "metadata": {},
   "outputs": [
    {
     "name": "stdout",
     "output_type": "stream",
     "text": [
      "picks mine (300,)\n"
     ]
    },
    {
     "data": {
      "text/plain": [
       "array([   0,   15,   30,   45,   60,   75,   90,  105,  120,  135,  150,\n",
       "        165,  180,  195,  210,  225,  240,  255,  270,  285,  300,  315,\n",
       "        330,  345,  360,  375,  390,  405,  420,  435,  450,  465,  480,\n",
       "        495,  510,  525,  540,  555,  570,  585,  600,  615,  630,  645,\n",
       "        660,  675,  690,  705,  720,  735,  750,  765,  780,  795,  810,\n",
       "        825,  840,  855,  870,  885,  900,  915,  930,  945,  960,  975,\n",
       "        990, 1005, 1020, 1035, 1050, 1065, 1080, 1095, 1110, 1125, 1140,\n",
       "       1155, 1170, 1185, 1200, 1215, 1230, 1245, 1260, 1275, 1290, 1305,\n",
       "       1320, 1335, 1350, 1365, 1380, 1395, 1410, 1425, 1440, 1455, 1470,\n",
       "       1485, 1500, 1515, 1530, 1545, 1560, 1575, 1590, 1605, 1620, 1635,\n",
       "       1650, 1665, 1680, 1695, 1710, 1725, 1740, 1755, 1770, 1785, 1800,\n",
       "       1815, 1830, 1845, 1860, 1875, 1890, 1905, 1920, 1935, 1950, 1965,\n",
       "       1980, 1995, 2010, 2025, 2040, 2055, 2070, 2085, 2100, 2115, 2130,\n",
       "       2145, 2160, 2175, 2190, 2205, 2220, 2235, 2250, 2265, 2280, 2295,\n",
       "       2310, 2325, 2340, 2355, 2370, 2385, 2400, 2415, 2430, 2445, 2460,\n",
       "       2475, 2490, 2505, 2520, 2535, 2550, 2565, 2580, 2595, 2610, 2625,\n",
       "       2640, 2655, 2670, 2685, 2700, 2715, 2730, 2745, 2760, 2775, 2790,\n",
       "       2805, 2820, 2835, 2850, 2865, 2880, 2895, 2910, 2925, 2940, 2955,\n",
       "       2970, 2985, 3000, 3015, 3030, 3045, 3060, 3075, 3090, 3105, 3120,\n",
       "       3135, 3150, 3165, 3180, 3195, 3210, 3225, 3240, 3255, 3270, 3285,\n",
       "       3300, 3315, 3330, 3345, 3360, 3375, 3390, 3405, 3420, 3435, 3450,\n",
       "       3465, 3480, 3495, 3510, 3525, 3540, 3555, 3570, 3585, 3600, 3615,\n",
       "       3630, 3645, 3660, 3675, 3690, 3705, 3720, 3735, 3750, 3765, 3780,\n",
       "       3795, 3810, 3825, 3840, 3855, 3870, 3885, 3900, 3915, 3930, 3945,\n",
       "       3960, 3975, 3990, 4005, 4020, 4035, 4050, 4065, 4080, 4095, 4110,\n",
       "       4125, 4140, 4155, 4170, 4185, 4200, 4215, 4230, 4245, 4260, 4275,\n",
       "       4290, 4305, 4320, 4335, 4350, 4365, 4380, 4395, 4410, 4425, 4440,\n",
       "       4455, 4470, 4485])"
      ]
     },
     "execution_count": 28,
     "metadata": {},
     "output_type": "execute_result"
    }
   ],
   "source": [
    "print(\"picks mine\", video_mine['picks'][...].shape)\n",
    "video_mine['picks'][...]"
   ]
  },
  {
   "cell_type": "markdown",
   "metadata": {},
   "source": [
    "### Steps"
   ]
  },
  {
   "cell_type": "code",
   "execution_count": 29,
   "metadata": {},
   "outputs": [
    {
     "name": "stdout",
     "output_type": "stream",
     "text": [
      "n steps gt 300\n"
     ]
    },
    {
     "data": {
      "text/plain": [
       "array(300)"
      ]
     },
     "execution_count": 29,
     "metadata": {},
     "output_type": "execute_result"
    }
   ],
   "source": [
    "print(\"n steps gt\", video_gt['n_steps'][...])\n",
    "video_gt['n_steps'][...]"
   ]
  },
  {
   "cell_type": "code",
   "execution_count": 30,
   "metadata": {},
   "outputs": [
    {
     "name": "stdout",
     "output_type": "stream",
     "text": [
      "n steps mine 300\n"
     ]
    },
    {
     "data": {
      "text/plain": [
       "array(300)"
      ]
     },
     "execution_count": 30,
     "metadata": {},
     "output_type": "execute_result"
    }
   ],
   "source": [
    "print(\"n steps mine\", video_mine['n_steps'][...])\n",
    "video_mine['n_steps'][...]"
   ]
  },
  {
   "cell_type": "code",
   "execution_count": null,
   "metadata": {},
   "outputs": [],
   "source": []
  },
  {
   "cell_type": "code",
   "execution_count": null,
   "metadata": {},
   "outputs": [],
   "source": []
  },
  {
   "cell_type": "code",
   "execution_count": 43,
   "metadata": {},
   "outputs": [],
   "source": [
    "import numpy as np"
   ]
  },
  {
   "cell_type": "markdown",
   "metadata": {},
   "source": [
    "SumMe: video name is stored in video_i/video_name.\n",
    "TVSum: video1-50 corresponds to the same order in ydata-tvsum50.mat, which is the original matlab file provided by TVSum."
   ]
  },
  {
   "cell_type": "code",
   "execution_count": 44,
   "metadata": {},
   "outputs": [],
   "source": [
    "path_data = \"/data/shuaman/video_summarization/datasets/raw_datasets/SumMe/GT/Air_Force_One.mat\""
   ]
  },
  {
   "cell_type": "code",
   "execution_count": 45,
   "metadata": {},
   "outputs": [],
   "source": [
    "mat = scipy.io.loadmat(path_data) "
   ]
  },
  {
   "cell_type": "code",
   "execution_count": 46,
   "metadata": {},
   "outputs": [
    {
     "data": {
      "text/plain": [
       "dict_keys(['__header__', '__version__', '__globals__', 'all_userIDs', 'segments', 'nFrames', 'video_duration', 'FPS', 'gt_score', 'user_score'])"
      ]
     },
     "execution_count": 46,
     "metadata": {},
     "output_type": "execute_result"
    }
   ],
   "source": [
    "#SumMe\n",
    "mat.keys()"
   ]
  },
  {
   "cell_type": "code",
   "execution_count": 47,
   "metadata": {},
   "outputs": [
    {
     "data": {
      "text/plain": [
       "array([[25]], dtype=uint8)"
      ]
     },
     "execution_count": 47,
     "metadata": {},
     "output_type": "execute_result"
    }
   ],
   "source": [
    "mat[\"FPS\"]"
   ]
  },
  {
   "cell_type": "code",
   "execution_count": 48,
   "metadata": {},
   "outputs": [
    {
     "data": {
      "text/plain": [
       "array([[25]], dtype=uint8)"
      ]
     },
     "execution_count": 48,
     "metadata": {},
     "output_type": "execute_result"
    }
   ],
   "source": [
    "mat[\"FPS\"]"
   ]
  },
  {
   "cell_type": "code",
   "execution_count": 49,
   "metadata": {},
   "outputs": [
    {
     "data": {
      "text/plain": [
       "array([[179.772]])"
      ]
     },
     "execution_count": 49,
     "metadata": {},
     "output_type": "execute_result"
    }
   ],
   "source": [
    "mat[\"video_duration\"]"
   ]
  },
  {
   "cell_type": "code",
   "execution_count": 57,
   "metadata": {},
   "outputs": [
    {
     "data": {
      "text/plain": [
       "0.8666666666666667"
      ]
     },
     "execution_count": 57,
     "metadata": {},
     "output_type": "execute_result"
    }
   ],
   "source": [
    "mat[\"gt_score\"].max()"
   ]
  },
  {
   "cell_type": "code",
   "execution_count": 70,
   "metadata": {},
   "outputs": [
    {
     "data": {
      "text/plain": [
       "(4494, 1)"
      ]
     },
     "execution_count": 70,
     "metadata": {},
     "output_type": "execute_result"
    }
   ],
   "source": [
    "#the averaged score\n",
    "mat[\"gt_score\"].shape"
   ]
  },
  {
   "cell_type": "code",
   "execution_count": 73,
   "metadata": {},
   "outputs": [
    {
     "data": {
      "text/plain": [
       "(4494, 15)"
      ]
     },
     "execution_count": 73,
     "metadata": {},
     "output_type": "execute_result"
    }
   ],
   "source": [
    "mat[\"user_score\"].shape"
   ]
  },
  {
   "cell_type": "code",
   "execution_count": 72,
   "metadata": {},
   "outputs": [
    {
     "data": {
      "text/plain": [
       "2.933333333333333"
      ]
     },
     "execution_count": 72,
     "metadata": {},
     "output_type": "execute_result"
    }
   ],
   "source": [
    "np.mean(mat[\"user_score\"], axis=1).max()"
   ]
  },
  {
   "cell_type": "code",
   "execution_count": 52,
   "metadata": {},
   "outputs": [],
   "source": [
    "goundt = mat[\"user_score\"].T"
   ]
  },
  {
   "cell_type": "code",
   "execution_count": 53,
   "metadata": {},
   "outputs": [
    {
     "data": {
      "text/plain": [
       "(15, 4494)"
      ]
     },
     "execution_count": 53,
     "metadata": {},
     "output_type": "execute_result"
    }
   ],
   "source": [
    "goundt.shape"
   ]
  },
  {
   "cell_type": "code",
   "execution_count": 56,
   "metadata": {},
   "outputs": [
    {
     "data": {
      "text/plain": [
       "(300,)"
      ]
     },
     "execution_count": 56,
     "metadata": {},
     "output_type": "execute_result"
    }
   ],
   "source": [
    "np.mean(goundt[:, ::15], axis=0).shape"
   ]
  },
  {
   "cell_type": "code",
   "execution_count": 661,
   "metadata": {},
   "outputs": [
    {
     "data": {
      "text/plain": [
       "2.75"
      ]
     },
     "execution_count": 661,
     "metadata": {},
     "output_type": "execute_result"
    }
   ],
   "source": [
    "((goundt - 0)/4).max()"
   ]
  },
  {
   "cell_type": "code",
   "execution_count": 662,
   "metadata": {},
   "outputs": [
    {
     "data": {
      "text/plain": [
       "2.933333333333333"
      ]
     },
     "execution_count": 662,
     "metadata": {},
     "output_type": "execute_result"
    }
   ],
   "source": [
    "np.mean(goundt[:,::15], axis=0).max()"
   ]
  },
  {
   "cell_type": "code",
   "execution_count": 663,
   "metadata": {},
   "outputs": [],
   "source": [
    "xd = np.mean(goundt[:,::15], axis=0)"
   ]
  },
  {
   "cell_type": "code",
   "execution_count": 664,
   "metadata": {},
   "outputs": [
    {
     "data": {
      "text/plain": [
       "1.0"
      ]
     },
     "execution_count": 664,
     "metadata": {},
     "output_type": "execute_result"
    }
   ],
   "source": [
    "((xd - xd.min()) / (xd.max()-xd.min())).max()\n"
   ]
  },
  {
   "cell_type": "code",
   "execution_count": 665,
   "metadata": {},
   "outputs": [
    {
     "data": {
      "text/plain": [
       "array([[4494]], dtype=uint16)"
      ]
     },
     "execution_count": 665,
     "metadata": {},
     "output_type": "execute_result"
    }
   ],
   "source": [
    "mat[\"nFrames\"]"
   ]
  },
  {
   "cell_type": "code",
   "execution_count": 666,
   "metadata": {},
   "outputs": [
    {
     "data": {
      "text/plain": [
       "(1, 15)"
      ]
     },
     "execution_count": 666,
     "metadata": {},
     "output_type": "execute_result"
    }
   ],
   "source": [
    "mat['segments'].shape"
   ]
  },
  {
   "cell_type": "code",
   "execution_count": 667,
   "metadata": {},
   "outputs": [],
   "source": [
    "# user_score = user_summary"
   ]
  },
  {
   "cell_type": "code",
   "execution_count": 40,
   "metadata": {},
   "outputs": [],
   "source": [
    "# nFrames = n_frames"
   ]
  },
  {
   "cell_type": "code",
   "execution_count": 73,
   "metadata": {},
   "outputs": [],
   "source": [
    "la = [1,2,3,4]"
   ]
  },
  {
   "cell_type": "code",
   "execution_count": 71,
   "metadata": {},
   "outputs": [],
   "source": [
    "lb = [\"a\",\"v\",\"c\",\"d\"]"
   ]
  },
  {
   "cell_type": "code",
   "execution_count": 81,
   "metadata": {},
   "outputs": [
    {
     "data": {
      "text/plain": [
       "<enumerate at 0x7f744c348e10>"
      ]
     },
     "execution_count": 81,
     "metadata": {},
     "output_type": "execute_result"
    }
   ],
   "source": [
    "enumerate((la, lb))"
   ]
  },
  {
   "cell_type": "code",
   "execution_count": 84,
   "metadata": {},
   "outputs": [
    {
     "name": "stdout",
     "output_type": "stream",
     "text": [
      "0 (1, 'a')\n",
      "1 (2, 'v')\n",
      "2 (3, 'c')\n",
      "3 (4, 'd')\n"
     ]
    }
   ],
   "source": [
    "for idx, a_b in enumerate(zip(la, lb)):\n",
    "    print(idx, a_b)"
   ]
  },
  {
   "cell_type": "code",
   "execution_count": null,
   "metadata": {},
   "outputs": [],
   "source": [
    "a = np.array([[1, 0],\n",
    "                 []\n",
    "              [0, 1]])"
   ]
  }
 ],
 "metadata": {
  "kernelspec": {
   "display_name": "vsm_kernel",
   "language": "python",
   "name": "vsm_kernel"
  },
  "language_info": {
   "codemirror_mode": {
    "name": "ipython",
    "version": 3
   },
   "file_extension": ".py",
   "mimetype": "text/x-python",
   "name": "python",
   "nbconvert_exporter": "python",
   "pygments_lexer": "ipython3",
   "version": "3.8.11"
  }
 },
 "nbformat": 4,
 "nbformat_minor": 4
}
