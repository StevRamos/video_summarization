{
 "cells": [
  {
   "cell_type": "code",
   "execution_count": 1,
   "metadata": {},
   "outputs": [],
   "source": [
    "import numpy as np"
   ]
  },
  {
   "cell_type": "code",
   "execution_count": 2,
   "metadata": {},
   "outputs": [],
   "source": [
    "import torch \n",
    "import h5py\n",
    "\n",
    "class VSMDataset(torch.utils.data.Dataset):\n",
    "    \"\"\"Video Summarizer Dataset\n",
    "        Datasets: TVSum, Summe, VSUMM, CoSum, Visiocity\n",
    "    \"\"\"\n",
    "\n",
    "    def __init__(self, hdfs_path, split=None, key_split=None,\n",
    "                 googlenet=False, \n",
    "                 resnext=False, \n",
    "                 inceptionv3=False,\n",
    "                 i3d_rgb=False,\n",
    "                 i3d_flow=False,\n",
    "                 resnet3d=False\n",
    "                ):\n",
    "        \"\"\"\n",
    "        Args:\n",
    "           hdfs_path (string): path of the hdfs processed data\n",
    "           split (dict): idxs of the train/test split \n",
    "        \"\"\"\n",
    "        if not isinstance(hdfs_path, list):\n",
    "            hdfs_paths = [hdfs_path]\n",
    "        else:\n",
    "            hdfs_paths = hdfs_path \n",
    "        \n",
    "        self.labels = {}\n",
    "        self.data = {}\n",
    "\n",
    "        keys_to_avoid = ['gtscore', 'gtsummary', 'user_summary']\n",
    "        \n",
    "        if not googlenet:\n",
    "            keys_to_avoid.append('features')\n",
    "        if not resnext:\n",
    "            keys_to_avoid.append('features_rn')\n",
    "        if not inceptionv3:\n",
    "            keys_to_avoid.append('features_iv3')\n",
    "        if not i3d_rgb:\n",
    "            keys_to_avoid.append('features_rgb')\n",
    "        if not i3d_flow:\n",
    "            keys_to_avoid.append('features_flow')\n",
    "        if not resnet3d:\n",
    "            keys_to_avoid.append('features_3D')        \n",
    "        \n",
    "        iterator_videos = 0\n",
    "        for path in hdfs_paths:\n",
    "            print(\"path\", path)\n",
    "            videos_info = h5py.File(path)  \n",
    "\n",
    "            videos_to_iterate = list(videos_info)\n",
    "            if split:\n",
    "                if len(hdfs_paths)==1:\n",
    "                    videos_to_iterate = [video for video in videos_to_iterate if video in split[key_split]]\n",
    "                else:\n",
    "                    if 'tvsum' in path:\n",
    "                        name_dataset = 'tvsum'\n",
    "                    elif 'summe' in path:\n",
    "                        name_dataset = 'summe'\n",
    "                    elif 'ovp' in path:\n",
    "                        name_dataset = 'ovp'\n",
    "                    elif 'youtube' in path:\n",
    "                        name_dataset = 'youtube'\n",
    "                    elif 'cosum' in path:\n",
    "                        name_dataset = 'cosum'\n",
    "                    elif 'mvs1k' in path:\n",
    "                        name_dataset = 'mvs1k'\n",
    "                    elif 'visiocity' in path:\n",
    "                        name_dataset = 'visiocity'\n",
    "                    else: \n",
    "                        print(\"This dataset is not available, you have to get one of the allowed names\")\n",
    "                        continue\n",
    "                    key_videos = [video.split('/')[-1] for video in split[key_split] if name_dataset in video]\n",
    "                    videos_to_iterate = [video for video in videos_to_iterate if video in key_videos]\n",
    "                    \n",
    "\n",
    "            for it, video in enumerate(videos_to_iterate):\n",
    "                self.labels[iterator_videos] = dict((key, videos_info[video][key][...])for key in list(videos_info[video]) if key in ('gtscore', 'gtsummary', 'user_summary') )\n",
    "                self.data[iterator_videos] = dict((key, videos_info[video][key][...])for key in list(videos_info[video]) if key not in keys_to_avoid )   \n",
    "\n",
    "                if \"video_name\" in self.data[it].keys():\n",
    "                    self.data[iterator_videos][\"video_name\"] = str(self.data[it][\"video_name\"]) \n",
    "                iterator_videos = iterator_videos + 1\n",
    "        \n",
    "    def __len__(self):\n",
    "        return len(self.data)\n",
    "\n",
    "    def __getitem__(self, index):\n",
    "        X = self.data[index]\n",
    "        y = self.labels[index]        \n",
    "        return X, y\n",
    "    \n",
    "    def get_feature(self, index, feature):\n",
    "        X = self.data[index][feature]\n",
    "        return X\n",
    "\n",
    "def show_sample(idx, hdfs_path):\n",
    "\n",
    "    vsm_dataset = VSMDataset(hdfs_path=hdfs_path)\n",
    "    video_info, label = vsm_dataset[idx]\n",
    "\n",
    "    return video_info, label\n",
    "\n"
   ]
  },
  {
   "cell_type": "code",
   "execution_count": 3,
   "metadata": {},
   "outputs": [],
   "source": [
    "paths = [\n",
    "        \"/data/shuaman/video_summarization/datasets/processed_datasets/dataset_ovp_processed.h5\",\n",
    "        \"/data/shuaman/video_summarization/datasets/processed_datasets/dataset_summe_processed.h5\",\n",
    "        \"/data/shuaman/video_summarization/datasets/processed_datasets/dataset_tvsum_processed.h5\",\n",
    "        \"/data/shuaman/video_summarization/datasets/processed_datasets/dataset_youtube_processed.h5\",\n",
    "        \"/data/shuaman/video_summarization/datasets/processed_datasets/dataset_cosum_processed.h5\",\n",
    "        ]"
   ]
  },
  {
   "cell_type": "code",
   "execution_count": 4,
   "metadata": {},
   "outputs": [
    {
     "name": "stdout",
     "output_type": "stream",
     "text": [
      "features_rn\n",
      "path /data/shuaman/video_summarization/datasets/processed_datasets/dataset_ovp_processed.h5\n",
      "path /data/shuaman/video_summarization/datasets/processed_datasets/dataset_summe_processed.h5\n",
      "path /data/shuaman/video_summarization/datasets/processed_datasets/dataset_tvsum_processed.h5\n",
      "path /data/shuaman/video_summarization/datasets/processed_datasets/dataset_youtube_processed.h5\n",
      "path /data/shuaman/video_summarization/datasets/processed_datasets/dataset_cosum_processed.h5\n",
      "features_iv3\n",
      "path /data/shuaman/video_summarization/datasets/processed_datasets/dataset_ovp_processed.h5\n",
      "path /data/shuaman/video_summarization/datasets/processed_datasets/dataset_summe_processed.h5\n",
      "path /data/shuaman/video_summarization/datasets/processed_datasets/dataset_tvsum_processed.h5\n",
      "path /data/shuaman/video_summarization/datasets/processed_datasets/dataset_youtube_processed.h5\n",
      "path /data/shuaman/video_summarization/datasets/processed_datasets/dataset_cosum_processed.h5\n",
      "features_3D\n",
      "path /data/shuaman/video_summarization/datasets/processed_datasets/dataset_ovp_processed.h5\n",
      "path /data/shuaman/video_summarization/datasets/processed_datasets/dataset_summe_processed.h5\n",
      "path /data/shuaman/video_summarization/datasets/processed_datasets/dataset_tvsum_processed.h5\n",
      "path /data/shuaman/video_summarization/datasets/processed_datasets/dataset_youtube_processed.h5\n",
      "path /data/shuaman/video_summarization/datasets/processed_datasets/dataset_cosum_processed.h5\n",
      "features\n",
      "path /data/shuaman/video_summarization/datasets/processed_datasets/dataset_ovp_processed.h5\n",
      "path /data/shuaman/video_summarization/datasets/processed_datasets/dataset_summe_processed.h5\n",
      "path /data/shuaman/video_summarization/datasets/processed_datasets/dataset_tvsum_processed.h5\n",
      "path /data/shuaman/video_summarization/datasets/processed_datasets/dataset_youtube_processed.h5\n",
      "path /data/shuaman/video_summarization/datasets/processed_datasets/dataset_cosum_processed.h5\n",
      "features_rgb\n",
      "path /data/shuaman/video_summarization/datasets/processed_datasets/dataset_ovp_processed.h5\n",
      "path /data/shuaman/video_summarization/datasets/processed_datasets/dataset_summe_processed.h5\n",
      "path /data/shuaman/video_summarization/datasets/processed_datasets/dataset_tvsum_processed.h5\n",
      "path /data/shuaman/video_summarization/datasets/processed_datasets/dataset_youtube_processed.h5\n",
      "path /data/shuaman/video_summarization/datasets/processed_datasets/dataset_cosum_processed.h5\n",
      "features_flow\n",
      "path /data/shuaman/video_summarization/datasets/processed_datasets/dataset_ovp_processed.h5\n",
      "path /data/shuaman/video_summarization/datasets/processed_datasets/dataset_summe_processed.h5\n",
      "path /data/shuaman/video_summarization/datasets/processed_datasets/dataset_tvsum_processed.h5\n",
      "path /data/shuaman/video_summarization/datasets/processed_datasets/dataset_youtube_processed.h5\n",
      "path /data/shuaman/video_summarization/datasets/processed_datasets/dataset_cosum_processed.h5\n"
     ]
    }
   ],
   "source": [
    "features_rn = []\n",
    "features_iv3 = []\n",
    "features_3D = []\n",
    "features= []\n",
    "features_rgb = []\n",
    "features_flow= []\n",
    "\n",
    "for feature in [\"features_rn\", \"features_iv3\", \"features_3D\", \"features\", \"features_rgb\", \"features_flow\"]:\n",
    "    print(feature)\n",
    "    for path in paths:\n",
    "        training_set = VSMDataset(path, googlenet=True, resnext=True, inceptionv3=True,\n",
    "                                 i3d_rgb=True, i3d_flow=True, resnet3d=True)\n",
    "\n",
    "        for i in range(len(training_set)):\n",
    "            feat = training_set.get_feature(i, feature)\n",
    "            \n",
    "            for nframe in range(len(feat)):        \n",
    "                if feature==\"features_rn\":\n",
    "                    features_rn.append(feat[nframe])\n",
    "                elif feature==\"features_iv3\":\n",
    "                    features_iv3.append(feat[nframe])\n",
    "                elif feature==\"features_3D\":\n",
    "                    features_3D.append(feat[nframe])\n",
    "                elif feature==\"features\":\n",
    "                    features.append(feat[nframe])\n",
    "                elif feature==\"features_rgb\":\n",
    "                    features_rgb.append(feat[nframe])\n",
    "                elif feature==\"features_flow\":\n",
    "                    features_flow.append(feat[nframe])\n",
    "                \n",
    "features_rn = np.array(features_rn)    \n",
    "features_iv3 = np.array(features_iv3)    \n",
    "features_3D = np.array(features_3D)    \n",
    "features = np.array(features)    \n",
    "features_rgb = np.array(features_rgb)    \n",
    "features_flow = np.array(features_flow)    "
   ]
  },
  {
   "cell_type": "code",
   "execution_count": 5,
   "metadata": {},
   "outputs": [
    {
     "data": {
      "text/plain": [
       "(69676, 1024)"
      ]
     },
     "execution_count": 5,
     "metadata": {},
     "output_type": "execute_result"
    }
   ],
   "source": [
    "features.shape"
   ]
  },
  {
   "cell_type": "code",
   "execution_count": 6,
   "metadata": {},
   "outputs": [
    {
     "data": {
      "text/plain": [
       "(53872, 1024)"
      ]
     },
     "execution_count": 6,
     "metadata": {},
     "output_type": "execute_result"
    }
   ],
   "source": [
    "features_rgb.shape"
   ]
  },
  {
   "cell_type": "code",
   "execution_count": 7,
   "metadata": {},
   "outputs": [
    {
     "data": {
      "text/plain": [
       "(53667, 1024)"
      ]
     },
     "execution_count": 7,
     "metadata": {},
     "output_type": "execute_result"
    }
   ],
   "source": [
    "features_flow.shape"
   ]
  },
  {
   "cell_type": "code",
   "execution_count": 8,
   "metadata": {},
   "outputs": [
    {
     "data": {
      "text/plain": [
       "(69676, 2048)"
      ]
     },
     "execution_count": 8,
     "metadata": {},
     "output_type": "execute_result"
    }
   ],
   "source": [
    "features_iv3.shape"
   ]
  },
  {
   "cell_type": "code",
   "execution_count": 9,
   "metadata": {},
   "outputs": [
    {
     "data": {
      "text/plain": [
       "(53872, 2048)"
      ]
     },
     "execution_count": 9,
     "metadata": {},
     "output_type": "execute_result"
    }
   ],
   "source": [
    "features_3D.shape"
   ]
  },
  {
   "cell_type": "code",
   "execution_count": 10,
   "metadata": {},
   "outputs": [
    {
     "data": {
      "text/plain": [
       "(69676, 2048)"
      ]
     },
     "execution_count": 10,
     "metadata": {},
     "output_type": "execute_result"
    }
   ],
   "source": [
    "features_rn.shape"
   ]
  },
  {
   "cell_type": "code",
   "execution_count": 11,
   "metadata": {},
   "outputs": [],
   "source": [
    "from sklearn.preprocessing import StandardScaler\n",
    "from sklearn.decomposition import PCA"
   ]
  },
  {
   "cell_type": "code",
   "execution_count": 12,
   "metadata": {},
   "outputs": [],
   "source": [
    "def fit_transform_data(descriptors_orig, n_components):\n",
    "    \"\"\"\n",
    "    descriptors_orig: descriptores directamente obtenidos del modelo\n",
    "    n_components: numero de componentes de pca\n",
    "    \"\"\"\n",
    "    normalizer = StandardScaler()\n",
    "    normalizer = normalizer.fit(descriptors_orig)\n",
    "    descriptors = normalizer.transform(descriptors_orig)\n",
    "    pca_transformer = PCA(n_components = n_components, random_state=0)\n",
    "    pca_transformer = pca_transformer.fit(descriptors)\n",
    "    descriptors = pca_transformer.transform(descriptors)\n",
    "    return descriptors, normalizer, pca_transformer"
   ]
  },
  {
   "cell_type": "code",
   "execution_count": 13,
   "metadata": {},
   "outputs": [],
   "source": [
    "features_iv3_pca, normalizer_iv3, pca_iv3 = fit_transform_data(descriptors_orig=features_iv3, n_components=1024)\n",
    "features_3D_pca, normalizer_3D, pca_3D = fit_transform_data(descriptors_orig=features_3D, n_components=1024)\n",
    "features_rn_pca, normalizer_rn, pca_rn = fit_transform_data(descriptors_orig=features_rn, n_components=1024)\n",
    "\n",
    "_, normalizer_googlenet, _ = fit_transform_data(descriptors_orig=features, n_components=1024)\n",
    "_, normalizer_rgb, _ = fit_transform_data(descriptors_orig=features_rgb, n_components=1024)\n",
    "_, normalizer_flow, _ = fit_transform_data(descriptors_orig=features_flow, n_components=1024)"
   ]
  },
  {
   "cell_type": "code",
   "execution_count": 14,
   "metadata": {},
   "outputs": [
    {
     "data": {
      "text/plain": [
       "(69676, 1024)"
      ]
     },
     "execution_count": 14,
     "metadata": {},
     "output_type": "execute_result"
    }
   ],
   "source": [
    "features_iv3_pca.shape"
   ]
  },
  {
   "cell_type": "code",
   "execution_count": 15,
   "metadata": {},
   "outputs": [
    {
     "data": {
      "text/plain": [
       "(53872, 1024)"
      ]
     },
     "execution_count": 15,
     "metadata": {},
     "output_type": "execute_result"
    }
   ],
   "source": [
    "features_3D_pca.shape"
   ]
  },
  {
   "cell_type": "code",
   "execution_count": 16,
   "metadata": {},
   "outputs": [
    {
     "data": {
      "text/plain": [
       "(69676, 1024)"
      ]
     },
     "execution_count": 16,
     "metadata": {},
     "output_type": "execute_result"
    }
   ],
   "source": [
    "features_rn_pca.shape"
   ]
  },
  {
   "cell_type": "code",
   "execution_count": 17,
   "metadata": {},
   "outputs": [
    {
     "data": {
      "text/plain": [
       "array([ 1.9903108 , -1.6945962 , -4.3987203 , ...,  0.037727  ,\n",
       "        0.30185947, -0.46105188], dtype=float32)"
      ]
     },
     "execution_count": 17,
     "metadata": {},
     "output_type": "execute_result"
    }
   ],
   "source": [
    "features_iv3_pca[-1]"
   ]
  },
  {
   "cell_type": "code",
   "execution_count": 27,
   "metadata": {},
   "outputs": [
    {
     "data": {
      "text/plain": [
       "array([0.25450397, 0.87497735, 0.15353899, ..., 0.07254376, 0.4455009 ,\n",
       "       1.1379489 ], dtype=float32)"
      ]
     },
     "execution_count": 27,
     "metadata": {},
     "output_type": "execute_result"
    }
   ],
   "source": []
  },
  {
   "cell_type": "code",
   "execution_count": 18,
   "metadata": {},
   "outputs": [
    {
     "data": {
      "text/plain": [
       "array([ 1.9903108 , -1.6945962 , -4.3987203 , ...,  0.037727  ,\n",
       "        0.30185947, -0.46105188], dtype=float32)"
      ]
     },
     "execution_count": 18,
     "metadata": {},
     "output_type": "execute_result"
    }
   ],
   "source": [
    "pca_iv3.transform(normalizer_iv3.transform(features_iv3))[-1]"
   ]
  },
  {
   "cell_type": "code",
   "execution_count": 22,
   "metadata": {},
   "outputs": [],
   "source": [
    "import pickle"
   ]
  },
  {
   "cell_type": "code",
   "execution_count": 20,
   "metadata": {},
   "outputs": [],
   "source": [
    "transformations = {\n",
    "    \"normalizer_iv3\": normalizer_iv3,\n",
    "    \"pca_iv3\": pca_iv3,\n",
    "    \"normalizer_3D\": normalizer_3D,\n",
    "    \"pca_3D\": pca_3D,\n",
    "    \"normalizer_rn\": normalizer_rn,\n",
    "    \"pca_rn\": pca_rn,\n",
    "    \"normalizer_googlenet\": normalizer_googlenet,\n",
    "    \"normalizer_rgb\": normalizer_rgb,\n",
    "    \"normalizer_flow\": normalizer_flow\n",
    "}"
   ]
  },
  {
   "cell_type": "code",
   "execution_count": 21,
   "metadata": {},
   "outputs": [],
   "source": [
    "filename = \"transformations.pk\"\n",
    "\n",
    "pickle.dump(transformations, open(filename, 'wb'))"
   ]
  },
  {
   "cell_type": "code",
   "execution_count": 23,
   "metadata": {},
   "outputs": [],
   "source": [
    "loaded_model = pickle.load(open(filename, 'rb'))"
   ]
  },
  {
   "cell_type": "code",
   "execution_count": 24,
   "metadata": {},
   "outputs": [
    {
     "data": {
      "text/plain": [
       "{'normalizer_iv3': StandardScaler(),\n",
       " 'pca_iv3': PCA(n_components=1024, random_state=0),\n",
       " 'normalizer_3D': StandardScaler(),\n",
       " 'pca_3D': PCA(n_components=1024, random_state=0),\n",
       " 'normalizer_rn': StandardScaler(),\n",
       " 'pca_rn': PCA(n_components=1024, random_state=0),\n",
       " 'normalizer_googlenet': StandardScaler(),\n",
       " 'normalizer_rgb': StandardScaler(),\n",
       " 'normalizer_flow': StandardScaler()}"
      ]
     },
     "execution_count": 24,
     "metadata": {},
     "output_type": "execute_result"
    }
   ],
   "source": [
    "loaded_model"
   ]
  },
  {
   "cell_type": "code",
   "execution_count": 29,
   "metadata": {},
   "outputs": [
    {
     "data": {
      "text/plain": [
       "(69676, 2048)"
      ]
     },
     "execution_count": 29,
     "metadata": {},
     "output_type": "execute_result"
    }
   ],
   "source": [
    "features_iv3.shape"
   ]
  },
  {
   "cell_type": "code",
   "execution_count": 32,
   "metadata": {},
   "outputs": [
    {
     "data": {
      "text/plain": [
       "(1, 2048)"
      ]
     },
     "execution_count": 32,
     "metadata": {},
     "output_type": "execute_result"
    }
   ],
   "source": [
    "features_iv3[-1].reshape(1,-1).shape"
   ]
  },
  {
   "cell_type": "code",
   "execution_count": 38,
   "metadata": {},
   "outputs": [
    {
     "data": {
      "text/plain": [
       "(69676, 2048)"
      ]
     },
     "execution_count": 38,
     "metadata": {},
     "output_type": "execute_result"
    }
   ],
   "source": [
    "features_iv3.shape"
   ]
  },
  {
   "cell_type": "code",
   "execution_count": 40,
   "metadata": {},
   "outputs": [
    {
     "data": {
      "text/plain": [
       "(69676, 1024)"
      ]
     },
     "execution_count": 40,
     "metadata": {},
     "output_type": "execute_result"
    }
   ],
   "source": [
    "loaded_model[\"pca_iv3\"].transform(loaded_model[\"normalizer_iv3\"].transform(features_iv3)).shape"
   ]
  },
  {
   "cell_type": "code",
   "execution_count": null,
   "metadata": {},
   "outputs": [],
   "source": []
  }
 ],
 "metadata": {
  "kernelspec": {
   "display_name": "vsm_kernel",
   "language": "python",
   "name": "vsm_kernel"
  },
  "language_info": {
   "codemirror_mode": {
    "name": "ipython",
    "version": 3
   },
   "file_extension": ".py",
   "mimetype": "text/x-python",
   "name": "python",
   "nbconvert_exporter": "python",
   "pygments_lexer": "ipython3",
   "version": "3.8.11"
  }
 },
 "nbformat": 4,
 "nbformat_minor": 4
}
